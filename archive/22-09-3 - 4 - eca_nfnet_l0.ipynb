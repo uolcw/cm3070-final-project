{
 "cells": [
  {
   "cell_type": "markdown",
   "id": "dffa863f-8872-4bf0-b498-2aaad36ba0a0",
   "metadata": {
    "pycharm": {
     "name": "#%% md\n"
    }
   },
   "source": [
    "# SETI Breakthrough Listen challenge solution based on pretrained ECA NFNet model\n",
    "\n",
    "An attempt to classify the SETI signals based on the Kaggle \"SETI Breakthrough Listen - E.T. Signal Search\" challenge:\n",
    "- https://www.kaggle.com/competitions/seti-breakthrough-listen\n",
    "\n",
    "This notebook uses a pretrained ECA NFNet model to classify the SETI image dataset:\n",
    "- https://rwightman.github.io/pytorch-image-models\n",
    "\n",
    "This is based on the the first place solution for the Kaggle competition:\n",
    "- https://www.kaggle.com/c/seti-breakthrough-listen/discussion/266385\n",
    "- https://www.kaggle.com/code/ligtfeather/eca-nfnet-sam-opt-mixup-k-folds-w-b"
   ]
  },
  {
   "cell_type": "markdown",
   "id": "0a05dd96-3644-4987-999e-9f20fe4e4a7f",
   "metadata": {
    "pycharm": {
     "name": "#%% md\n"
    }
   },
   "source": [
    "## Install Python Packages\n",
    "\n",
    "Install packagese required to run this notebook."
   ]
  },
  {
   "cell_type": "code",
   "execution_count": 4,
   "id": "15797265-4be7-4f48-8cbd-861d1b7b9696",
   "metadata": {
    "execution": {
     "iopub.execute_input": "2022-09-04T10:14:06.423636Z",
     "iopub.status.busy": "2022-09-04T10:14:06.423042Z",
     "iopub.status.idle": "2022-09-04T10:14:23.136305Z",
     "shell.execute_reply": "2022-09-04T10:14:23.135570Z",
     "shell.execute_reply.started": "2022-09-04T10:14:06.423611Z"
    },
    "pycharm": {
     "name": "#%%\n"
    }
   },
   "outputs": [
    {
     "name": "stdout",
     "output_type": "stream",
     "text": [
      "Collecting timm\n",
      "  Downloading timm-0.6.7-py3-none-any.whl (509 kB)\n",
      "\u001B[2K     \u001B[90m━━━━━━━━━━━━━━━━━━━━━━━━━━━━━━━━━━━━━━\u001B[0m \u001B[32m510.0/510.0 kB\u001B[0m \u001B[31m47.2 MB/s\u001B[0m eta \u001B[36m0:00:00\u001B[0m\n",
      "\u001B[?25hRequirement already satisfied: torch>=1.4 in /usr/local/lib/python3.9/dist-packages (from timm) (1.12.0+cu116)\n",
      "Requirement already satisfied: torchvision in /usr/local/lib/python3.9/dist-packages (from timm) (0.13.0+cu116)\n",
      "Requirement already satisfied: typing-extensions in /usr/local/lib/python3.9/dist-packages (from torch>=1.4->timm) (4.3.0)\n",
      "Requirement already satisfied: numpy in /usr/local/lib/python3.9/dist-packages (from torchvision->timm) (1.23.1)\n",
      "Requirement already satisfied: pillow!=8.3.*,>=5.3.0 in /usr/local/lib/python3.9/dist-packages (from torchvision->timm) (9.2.0)\n",
      "Requirement already satisfied: requests in /usr/local/lib/python3.9/dist-packages (from torchvision->timm) (2.28.1)\n",
      "Requirement already satisfied: certifi>=2017.4.17 in /usr/lib/python3/dist-packages (from requests->torchvision->timm) (2019.11.28)\n",
      "Requirement already satisfied: idna<4,>=2.5 in /usr/lib/python3/dist-packages (from requests->torchvision->timm) (2.8)\n",
      "Requirement already satisfied: urllib3<1.27,>=1.21.1 in /usr/local/lib/python3.9/dist-packages (from requests->torchvision->timm) (1.26.10)\n",
      "Requirement already satisfied: charset-normalizer<3,>=2 in /usr/local/lib/python3.9/dist-packages (from requests->torchvision->timm) (2.1.0)\n",
      "Installing collected packages: timm\n",
      "Successfully installed timm-0.6.7\n",
      "\u001B[33mWARNING: Running pip as the 'root' user can result in broken permissions and conflicting behaviour with the system package manager. It is recommended to use a virtual environment instead: https://pip.pypa.io/warnings/venv\u001B[0m\u001B[33m\n",
      "\u001B[0mCollecting albumentations\n",
      "  Downloading albumentations-1.2.1-py3-none-any.whl (116 kB)\n",
      "\u001B[2K     \u001B[90m━━━━━━━━━━━━━━━━━━━━━━━━━━━━━━━━━━━━━━\u001B[0m \u001B[32m116.7/116.7 kB\u001B[0m \u001B[31m20.1 MB/s\u001B[0m eta \u001B[36m0:00:00\u001B[0m\n",
      "\u001B[?25hRequirement already satisfied: scipy in /usr/local/lib/python3.9/dist-packages (from albumentations) (1.8.1)\n",
      "Collecting qudida>=0.0.4\n",
      "  Downloading qudida-0.0.4-py3-none-any.whl (3.5 kB)\n",
      "Requirement already satisfied: PyYAML in /usr/local/lib/python3.9/dist-packages (from albumentations) (5.4.1)\n",
      "Requirement already satisfied: numpy>=1.11.1 in /usr/local/lib/python3.9/dist-packages (from albumentations) (1.23.1)\n",
      "Requirement already satisfied: scikit-image>=0.16.1 in /usr/local/lib/python3.9/dist-packages (from albumentations) (0.19.3)\n",
      "Collecting opencv-python-headless>=4.1.1\n",
      "  Downloading opencv_python_headless-4.6.0.66-cp36-abi3-manylinux_2_17_x86_64.manylinux2014_x86_64.whl (48.3 MB)\n",
      "\u001B[2K     \u001B[90m━━━━━━━━━━━━━━━━━━━━━━━━━━━━━━━━━━━━━━━━\u001B[0m \u001B[32m48.3/48.3 MB\u001B[0m \u001B[31m43.3 MB/s\u001B[0m eta \u001B[36m0:00:00\u001B[0m00:01\u001B[0m00:01\u001B[0m\n",
      "\u001B[?25hRequirement already satisfied: typing-extensions in /usr/local/lib/python3.9/dist-packages (from qudida>=0.0.4->albumentations) (4.3.0)\n",
      "Requirement already satisfied: scikit-learn>=0.19.1 in /usr/local/lib/python3.9/dist-packages (from qudida>=0.0.4->albumentations) (1.1.1)\n",
      "Requirement already satisfied: pillow!=7.1.0,!=7.1.1,!=8.3.0,>=6.1.0 in /usr/local/lib/python3.9/dist-packages (from scikit-image>=0.16.1->albumentations) (9.2.0)\n",
      "Requirement already satisfied: imageio>=2.4.1 in /usr/local/lib/python3.9/dist-packages (from scikit-image>=0.16.1->albumentations) (2.19.3)\n",
      "Requirement already satisfied: tifffile>=2019.7.26 in /usr/local/lib/python3.9/dist-packages (from scikit-image>=0.16.1->albumentations) (2022.5.4)\n",
      "Requirement already satisfied: networkx>=2.2 in /usr/local/lib/python3.9/dist-packages (from scikit-image>=0.16.1->albumentations) (2.8.4)\n",
      "Requirement already satisfied: PyWavelets>=1.1.1 in /usr/local/lib/python3.9/dist-packages (from scikit-image>=0.16.1->albumentations) (1.3.0)\n",
      "Requirement already satisfied: packaging>=20.0 in /usr/local/lib/python3.9/dist-packages (from scikit-image>=0.16.1->albumentations) (21.3)\n",
      "Requirement already satisfied: pyparsing!=3.0.5,>=2.0.2 in /usr/local/lib/python3.9/dist-packages (from packaging>=20.0->scikit-image>=0.16.1->albumentations) (3.0.9)\n",
      "Requirement already satisfied: threadpoolctl>=2.0.0 in /usr/local/lib/python3.9/dist-packages (from scikit-learn>=0.19.1->qudida>=0.0.4->albumentations) (3.1.0)\n",
      "Requirement already satisfied: joblib>=1.0.0 in /usr/local/lib/python3.9/dist-packages (from scikit-learn>=0.19.1->qudida>=0.0.4->albumentations) (1.1.0)\n",
      "Installing collected packages: opencv-python-headless, qudida, albumentations\n",
      "Successfully installed albumentations-1.2.1 opencv-python-headless-4.6.0.66 qudida-0.0.4\n",
      "\u001B[33mWARNING: Running pip as the 'root' user can result in broken permissions and conflicting behaviour with the system package manager. It is recommended to use a virtual environment instead: https://pip.pypa.io/warnings/venv\u001B[0m\u001B[33m\n",
      "\u001B[0mCollecting torchsummary\n",
      "  Downloading torchsummary-1.5.1-py3-none-any.whl (2.8 kB)\n",
      "Installing collected packages: torchsummary\n",
      "Successfully installed torchsummary-1.5.1\n",
      "\u001B[33mWARNING: Running pip as the 'root' user can result in broken permissions and conflicting behaviour with the system package manager. It is recommended to use a virtual environment instead: https://pip.pypa.io/warnings/venv\u001B[0m\u001B[33m\n",
      "\u001B[0mCollecting AdamP\n",
      "  Downloading adamp-0.3.0.tar.gz (5.1 kB)\n",
      "  Preparing metadata (setup.py) ... \u001B[?25ldone\n",
      "\u001B[?25hBuilding wheels for collected packages: AdamP\n",
      "  Building wheel for AdamP (setup.py) ... \u001B[?25ldone\n",
      "\u001B[?25h  Created wheel for AdamP: filename=adamp-0.3.0-py3-none-any.whl size=5982 sha256=910cc4023878b96fb6c8a4c5e1202f67d7c0d8f0c06e2c85d0b02f91c7c76693\n",
      "  Stored in directory: /root/.cache/pip/wheels/b4/c9/9e/460d14f9b1d7eae27cc813b31373d578fcda1914ef1a19f2b7\n",
      "Successfully built AdamP\n",
      "Installing collected packages: AdamP\n",
      "Successfully installed AdamP-0.3.0\n",
      "\u001B[33mWARNING: Running pip as the 'root' user can result in broken permissions and conflicting behaviour with the system package manager. It is recommended to use a virtual environment instead: https://pip.pypa.io/warnings/venv\u001B[0m\u001B[33m\n",
      "\u001B[0mCollecting wandb\n",
      "  Downloading wandb-0.13.2-py2.py3-none-any.whl (1.8 MB)\n",
      "\u001B[2K     \u001B[90m━━━━━━━━━━━━━━━━━━━━━━━━━━━━━━━━━━━━━━━━\u001B[0m \u001B[32m1.8/1.8 MB\u001B[0m \u001B[31m82.9 MB/s\u001B[0m eta \u001B[36m0:00:00\u001B[0m\n",
      "\u001B[?25hRequirement already satisfied: Click!=8.0.0,>=7.0 in /usr/local/lib/python3.9/dist-packages (from wandb) (8.1.3)\n",
      "Collecting pathtools\n",
      "  Downloading pathtools-0.1.2.tar.gz (11 kB)\n",
      "  Preparing metadata (setup.py) ... \u001B[?25ldone\n",
      "\u001B[?25hCollecting promise<3,>=2.0\n",
      "  Downloading promise-2.3.tar.gz (19 kB)\n",
      "  Preparing metadata (setup.py) ... \u001B[?25ldone\n",
      "\u001B[?25hRequirement already satisfied: protobuf<4.0dev,>=3.12.0 in /usr/local/lib/python3.9/dist-packages (from wandb) (3.19.4)\n",
      "Requirement already satisfied: six>=1.13.0 in /usr/lib/python3/dist-packages (from wandb) (1.14.0)\n",
      "Collecting docker-pycreds>=0.4.0\n",
      "  Downloading docker_pycreds-0.4.0-py2.py3-none-any.whl (9.0 kB)\n",
      "Requirement already satisfied: PyYAML in /usr/local/lib/python3.9/dist-packages (from wandb) (5.4.1)\n",
      "Requirement already satisfied: setuptools in /usr/local/lib/python3.9/dist-packages (from wandb) (63.1.0)\n",
      "Requirement already satisfied: psutil>=5.0.0 in /usr/local/lib/python3.9/dist-packages (from wandb) (5.9.1)\n",
      "Collecting sentry-sdk>=1.0.0\n",
      "  Downloading sentry_sdk-1.9.7-py2.py3-none-any.whl (157 kB)\n",
      "\u001B[2K     \u001B[90m━━━━━━━━━━━━━━━━━━━━━━━━━━━━━━━━━━━━━━\u001B[0m \u001B[32m157.9/157.9 kB\u001B[0m \u001B[31m42.0 MB/s\u001B[0m eta \u001B[36m0:00:00\u001B[0m\n",
      "\u001B[?25hRequirement already satisfied: GitPython>=1.0.0 in /usr/local/lib/python3.9/dist-packages (from wandb) (3.1.27)\n",
      "Collecting setproctitle\n",
      "  Downloading setproctitle-1.3.2-cp39-cp39-manylinux_2_5_x86_64.manylinux1_x86_64.manylinux_2_17_x86_64.manylinux2014_x86_64.whl (30 kB)\n",
      "Collecting shortuuid>=0.5.0\n",
      "  Downloading shortuuid-1.0.9-py3-none-any.whl (9.4 kB)\n",
      "Requirement already satisfied: requests<3,>=2.0.0 in /usr/local/lib/python3.9/dist-packages (from wandb) (2.28.1)\n",
      "Requirement already satisfied: gitdb<5,>=4.0.1 in /usr/local/lib/python3.9/dist-packages (from GitPython>=1.0.0->wandb) (4.0.9)\n",
      "Requirement already satisfied: charset-normalizer<3,>=2 in /usr/local/lib/python3.9/dist-packages (from requests<3,>=2.0.0->wandb) (2.1.0)\n",
      "Requirement already satisfied: urllib3<1.27,>=1.21.1 in /usr/local/lib/python3.9/dist-packages (from requests<3,>=2.0.0->wandb) (1.26.10)\n",
      "Requirement already satisfied: idna<4,>=2.5 in /usr/lib/python3/dist-packages (from requests<3,>=2.0.0->wandb) (2.8)\n",
      "Requirement already satisfied: certifi>=2017.4.17 in /usr/lib/python3/dist-packages (from requests<3,>=2.0.0->wandb) (2019.11.28)\n",
      "Collecting urllib3<1.27,>=1.21.1\n",
      "  Downloading urllib3-1.26.12-py2.py3-none-any.whl (140 kB)\n",
      "\u001B[2K     \u001B[90m━━━━━━━━━━━━━━━━━━━━━━━━━━━━━━━━━━━━━━\u001B[0m \u001B[32m140.4/140.4 kB\u001B[0m \u001B[31m39.7 MB/s\u001B[0m eta \u001B[36m0:00:00\u001B[0m\n",
      "\u001B[?25hRequirement already satisfied: smmap<6,>=3.0.1 in /usr/local/lib/python3.9/dist-packages (from gitdb<5,>=4.0.1->GitPython>=1.0.0->wandb) (5.0.0)\n",
      "Building wheels for collected packages: promise, pathtools\n",
      "  Building wheel for promise (setup.py) ... \u001B[?25ldone\n",
      "\u001B[?25h  Created wheel for promise: filename=promise-2.3-py3-none-any.whl size=21486 sha256=18287871fdaa5f03b7a5469d10c476be820778aaa95ea332e881c41467912044\n",
      "  Stored in directory: /root/.cache/pip/wheels/e1/e8/83/ddea66100678d139b14bc87692ece57c6a2a937956d2532608\n",
      "  Building wheel for pathtools (setup.py) ... \u001B[?25ldone\n",
      "\u001B[?25h  Created wheel for pathtools: filename=pathtools-0.1.2-py3-none-any.whl size=8791 sha256=29426cb201d974ce1fce5524bced745ab685d780c4be0ea8987f5de69841907a\n",
      "  Stored in directory: /root/.cache/pip/wheels/b7/0a/67/ada2a22079218c75a88361c0782855cc72aebc4d18d0289d05\n",
      "Successfully built promise pathtools\n",
      "Installing collected packages: pathtools, urllib3, shortuuid, setproctitle, promise, docker-pycreds, sentry-sdk, wandb\n",
      "  Attempting uninstall: urllib3\n",
      "    Found existing installation: urllib3 1.26.10\n",
      "    Uninstalling urllib3-1.26.10:\n",
      "      Successfully uninstalled urllib3-1.26.10\n",
      "Successfully installed docker-pycreds-0.4.0 pathtools-0.1.2 promise-2.3 sentry-sdk-1.9.7 setproctitle-1.3.2 shortuuid-1.0.9 urllib3-1.26.12 wandb-0.13.2\n",
      "\u001B[33mWARNING: Running pip as the 'root' user can result in broken permissions and conflicting behaviour with the system package manager. It is recommended to use a virtual environment instead: https://pip.pypa.io/warnings/venv\u001B[0m\u001B[33m\n",
      "\u001B[0m"
     ]
    }
   ],
   "source": [
    "# Pretrained models\n",
    "!pip install timm\n",
    "\n",
    "# Image transformations\n",
    "\n",
    "!pip install albumentations\n",
    "\n",
    "# PyTorch configurated to run on GPU (CUDA)\n",
    "# !pip install torch==1.11.0+cu113 torchvision==0.12.0+cu113 torchaudio==0.11.0 --extra-index-url https://download.pytorch.org/whl/cu113\n",
    "\n",
    "# Evaluation metrics, such as accuracy\n",
    "!pip install torchsummary\n",
    "\n",
    "# Momentum based gradient descent optimizer\n",
    "!pip install AdamP\n",
    "\n",
    "# API for logging evaluation metrics to the cloud\n",
    "!pip install wandb"
   ]
  },
  {
   "cell_type": "markdown",
   "id": "cec584d4-4573-4863-a81e-49011311b805",
   "metadata": {
    "pycharm": {
     "name": "#%% md\n"
    }
   },
   "source": [
    "## Import Python Packages\n",
    "\n",
    "Import packages used in this notebook."
   ]
  },
  {
   "cell_type": "code",
   "execution_count": 5,
   "id": "25b60974-9c19-42ce-bd33-8f6a6539de7b",
   "metadata": {
    "execution": {
     "iopub.execute_input": "2022-09-04T10:14:28.569654Z",
     "iopub.status.busy": "2022-09-04T10:14:28.568942Z",
     "iopub.status.idle": "2022-09-04T10:14:30.379157Z",
     "shell.execute_reply": "2022-09-04T10:14:30.378467Z",
     "shell.execute_reply.started": "2022-09-04T10:14:28.569623Z"
    },
    "pycharm": {
     "name": "#%%\n"
    }
   },
   "outputs": [],
   "source": [
    "# Python utility packages\n",
    "import os\n",
    "import random\n",
    "from collections import defaultdict\n",
    "from datetime import datetime\n",
    "import zipfile\n",
    "from io import BytesIO\n",
    "\n",
    "# PyTorhc packages for building, running and evaluating models\n",
    "import torch\n",
    "import torch.nn as nn\n",
    "from torch.utils.data import Dataset, DataLoader, WeightedRandomSampler\n",
    "from torch.optim.lr_scheduler import CosineAnnealingLR\n",
    "from torchsummary import summary\n",
    "from torch.cuda.amp import GradScaler\n",
    "\n",
    "# Scikit learn utility packages\n",
    "from sklearn.decomposition import NMF # non-negative matrix factorisation\n",
    "from sklearn.metrics import roc_auc_score, classification_report, accuracy_score # evaluation metrics\n",
    "from sklearn.model_selection import StratifiedKFold # Used for k-Folds cross validation\n",
    "\n",
    "# OpenCV library used for image processing\n",
    "import cv2\n",
    "\n",
    "# Data and processing utility packages\n",
    "import numpy as np\n",
    "import pandas as pd\n",
    "\n",
    "# Collection of pretrained models\n",
    "import timm\n",
    "\n",
    "# Momentum based gradient descent optimiser\n",
    "from adamp import AdamP\n",
    "\n",
    "# Batch processing helper\n",
    "from tqdm import tqdm\n",
    "\n",
    "# Image transformation helpers\n",
    "import albumentations\n",
    "from albumentations.pytorch.transforms import ToTensorV2\n",
    "\n",
    "# Utility for logging metrics using a cloud based API\n",
    "import wandb\n",
    "\n",
    "# Graph plotting library\n",
    "from matplotlib import pyplot as plt"
   ]
  },
  {
   "cell_type": "markdown",
   "id": "47cbd64a-6f44-4163-b303-4872b062e0e9",
   "metadata": {
    "pycharm": {
     "name": "#%% md\n"
    }
   },
   "source": [
    "## Global Configuration\n",
    "\n",
    "Create a configuration object for important values used in the notebook.\n",
    "\n",
    "This makes them easy to track and tweak."
   ]
  },
  {
   "cell_type": "code",
   "execution_count": 6,
   "id": "f7fee657-5f4b-497a-8fe3-df9314d21334",
   "metadata": {
    "execution": {
     "iopub.execute_input": "2022-09-04T10:14:35.857498Z",
     "iopub.status.busy": "2022-09-04T10:14:35.856355Z",
     "iopub.status.idle": "2022-09-04T10:14:35.861762Z",
     "shell.execute_reply": "2022-09-04T10:14:35.861336Z",
     "shell.execute_reply.started": "2022-09-04T10:14:35.857429Z"
    },
    "pycharm": {
     "name": "#%%\n"
    }
   },
   "outputs": [],
   "source": [
    "# Configuration object for important parameters used in the notebook\n",
    "config = {\n",
    "    'num_workers': 4,\n",
    "    'model': 'eca_nfnet_l0',\n",
    "    'device': 'cuda',\n",
    "    'image_size': 224,\n",
    "    'input_channels': 1,\n",
    "    'output_features': 1,\n",
    "    'seed': 42,\n",
    "    'target_size': 1,\n",
    "    'T_max': 10,\n",
    "    'min_lr': 1e-6,\n",
    "    'lr': 1e-4,\n",
    "    'weight_decay': 1e-8,\n",
    "    'batch_size': 100,\n",
    "    'epochs': 300,\n",
    "    'num_folds': 3,    \n",
    "    'wandb_project': 'SETI - 300 epochs - transform - 2',\n",
    "    'wandb_run_name': 'eca_nfnet_l0'\n",
    "}"
   ]
  },
  {
   "cell_type": "markdown",
   "id": "d106938e-729e-48b8-9b19-d4e71c2da561",
   "metadata": {
    "pycharm": {
     "name": "#%% md\n"
    }
   },
   "source": [
    "## Random Seed Initialisation\n",
    "\n",
    "Set random seeds to fixed values so the notebook results are reproducable."
   ]
  },
  {
   "cell_type": "code",
   "execution_count": 7,
   "id": "2637fb5c-ea85-4019-8829-fdf83bcc6213",
   "metadata": {
    "execution": {
     "iopub.execute_input": "2022-09-04T10:14:38.198530Z",
     "iopub.status.busy": "2022-09-04T10:14:38.197858Z",
     "iopub.status.idle": "2022-09-04T10:14:38.203030Z",
     "shell.execute_reply": "2022-09-04T10:14:38.202584Z",
     "shell.execute_reply.started": "2022-09-04T10:14:38.198507Z"
    },
    "pycharm": {
     "name": "#%%\n"
    }
   },
   "outputs": [],
   "source": [
    "'''\n",
    "Sets seeds for randomness based functions.\n",
    "'''\n",
    "def set_seeds(seed=42):\n",
    "    random.seed(seed)\n",
    "    os.environ['PYTHONHASHSEED'] = str(seed)\n",
    "    np.random.seed(seed)\n",
    "    torch.manual_seed(seed)\n",
    "    torch.cuda.manual_seed(seed)\n",
    "    torch.backends.cudnn.deterministic = True\n",
    "\n",
    "\n",
    "    \n",
    "# Set the random seeds to a fixed value.    \n",
    "set_seeds(seed=config['seed'])"
   ]
  },
  {
   "cell_type": "markdown",
   "id": "4e7ab849-07f8-4129-86e5-cd32aeb0da38",
   "metadata": {
    "pycharm": {
     "name": "#%% md\n"
    }
   },
   "source": [
    "## Data Loading\n",
    "\n",
    "Load the SETI data samples into memory."
   ]
  },
  {
   "cell_type": "code",
   "execution_count": 8,
   "id": "2929a36e-cb44-4108-a30b-fb1553f148e4",
   "metadata": {
    "execution": {
     "iopub.execute_input": "2022-09-04T10:14:41.736891Z",
     "iopub.status.busy": "2022-09-04T10:14:41.736195Z",
     "iopub.status.idle": "2022-09-04T10:14:53.667685Z",
     "shell.execute_reply": "2022-09-04T10:14:53.667124Z",
     "shell.execute_reply.started": "2022-09-04T10:14:41.736889Z"
    },
    "pycharm": {
     "name": "#%%\n"
    }
   },
   "outputs": [],
   "source": [
    "'''\n",
    "Extract the data samples from a zip file and return in a dictionary object.\n",
    "'''\n",
    "def extract_zip(input_zip):\n",
    "    zip_file = zipfile.ZipFile(input_zip)\n",
    "\n",
    "    return {name: zip_file.read(name) for name in zip_file.namelist()}\n",
    "\n",
    "\n",
    "\n",
    "# Extract the data samples from a zip file.\n",
    "dataset = extract_zip('/datasets/dataset_2000/2000.zip')\n",
    "\n",
    "# Load the data samples labels.\n",
    "data_samples = np.load(BytesIO(dataset['2000/' + '2000_balanced_labels.npy']), allow_pickle=True)\n",
    "\n",
    "# Load the data samples labels in a dataframe for convenience.\n",
    "initial_data_df = pd.DataFrame(data_samples, columns=['id', 'target', 'image_filepath']).convert_dtypes()\n",
    "initial_data_df['target'] = initial_data_df['target'].astype('int')"
   ]
  },
  {
   "cell_type": "markdown",
   "id": "687499dc-63f4-460b-b0b6-a82f7af732df",
   "metadata": {
    "pycharm": {
     "name": "#%% md\n"
    }
   },
   "source": [
    "We can see that the data sample format include three fields:\n",
    "- `id`: Containing the unique ID for the sample\n",
    "- `target`: Indicates if the sample is positive (0) or negative (1)\n",
    "- `image_filepath`: The location of the file containing the sample image data"
   ]
  },
  {
   "cell_type": "code",
   "execution_count": 6,
   "id": "e7f8ad26-0de7-42c2-8684-c1958d015745",
   "metadata": {
    "execution": {
     "iopub.execute_input": "2022-09-03T22:29:33.549931Z",
     "iopub.status.busy": "2022-09-03T22:29:33.549702Z",
     "iopub.status.idle": "2022-09-03T22:29:33.558269Z",
     "shell.execute_reply": "2022-09-03T22:29:33.557766Z",
     "shell.execute_reply.started": "2022-09-03T22:29:33.549911Z"
    },
    "pycharm": {
     "name": "#%%\n"
    }
   },
   "outputs": [
    {
     "name": "stdout",
     "output_type": "stream",
     "text": [
      "<class 'pandas.core.frame.DataFrame'>\n",
      "RangeIndex: 2000 entries, 0 to 1999\n",
      "Data columns (total 3 columns):\n",
      " #   Column          Non-Null Count  Dtype \n",
      "---  ------          --------------  ----- \n",
      " 0   id              2000 non-null   string\n",
      " 1   target          2000 non-null   int64 \n",
      " 2   image_filepath  2000 non-null   string\n",
      "dtypes: int64(1), string(2)\n",
      "memory usage: 47.0 KB\n"
     ]
    }
   ],
   "source": [
    "initial_data_df.info()"
   ]
  },
  {
   "cell_type": "markdown",
   "id": "cb30f8d7-098a-4035-a6a4-ce4cad9df526",
   "metadata": {
    "pycharm": {
     "name": "#%% md\n"
    }
   },
   "source": [
    "Split the data with 70% for a training set and 30% for a test set:"
   ]
  },
  {
   "cell_type": "code",
   "execution_count": 9,
   "id": "1a7aee7e-c61c-4864-b44c-ead695da5486",
   "metadata": {
    "execution": {
     "iopub.execute_input": "2022-09-04T10:14:57.851604Z",
     "iopub.status.busy": "2022-09-04T10:14:57.850714Z",
     "iopub.status.idle": "2022-09-04T10:14:57.856961Z",
     "shell.execute_reply": "2022-09-04T10:14:57.856132Z",
     "shell.execute_reply.started": "2022-09-04T10:14:57.851576Z"
    },
    "pycharm": {
     "name": "#%%\n"
    }
   },
   "outputs": [],
   "source": [
    "data_split_mask = np.random.rand(len(initial_data_df)) < 0.7\n",
    "\n",
    "train_df = initial_data_df[data_split_mask]\n",
    "test_df = initial_data_df[~data_split_mask]"
   ]
  },
  {
   "cell_type": "markdown",
   "id": "249e10f3-524f-4606-a7d4-1d2604adf3c9",
   "metadata": {
    "pycharm": {
     "name": "#%% md\n"
    }
   },
   "source": [
    "## Image Processing Functions\n",
    "\n",
    "Helper functions for processing the sample images."
   ]
  },
  {
   "cell_type": "code",
   "execution_count": 10,
   "id": "8eb161e1",
   "metadata": {
    "collapsed": false,
    "execution": {
     "iopub.execute_input": "2022-09-04T10:15:02.520130Z",
     "iopub.status.busy": "2022-09-04T10:15:02.519587Z",
     "iopub.status.idle": "2022-09-04T10:15:02.526615Z",
     "shell.execute_reply": "2022-09-04T10:15:02.526132Z",
     "shell.execute_reply.started": "2022-09-04T10:15:02.520108Z"
    },
    "jupyter": {
     "outputs_hidden": false
    },
    "pycharm": {
     "name": "#%%\n"
    }
   },
   "outputs": [],
   "source": [
    "'''\n",
    "Resizes an image to the specified size.\n",
    "'''\n",
    "def resize_image(image):\n",
    "    return cv2.resize(image, dsize=(config['image_size'], config['image_size']), interpolation=cv2.INTER_CUBIC)\n",
    "\n",
    "\n",
    "\n",
    "'''\n",
    "Plots an image.\n",
    "'''\n",
    "def plot_image(image):\n",
    "    plt.figure(figsize = (20, 6))\n",
    "    plt.imshow(image, aspect='auto')\n",
    "    plt.show()\n",
    "\n",
    "\n",
    "    \n",
    "    \n",
    "'''\n",
    "Min-max normalises the image pixel values (between 0 and 1).\n",
    "'''\n",
    "def normalise_image(image):\n",
    "    image_min = image.min()\n",
    "    image_max = image.max()\n",
    "\n",
    "    return (image - image_min) / (image_max - image_min)\n",
    "\n",
    "\n",
    "\n",
    "'''\n",
    "Factorises an image into two matrices, and returns them.\n",
    "Used to help remove image background noise.\n",
    "'''\n",
    "def get_decomposition_matrices(image):\n",
    "    model = NMF(n_components=2, init='random', random_state=0)\n",
    "    W = model.fit_transform(image + 100) # add 100 to ensure no negative values\n",
    "    H = model.components_\n",
    "\n",
    "    return (W, H)\n",
    "\n",
    "\n",
    "\n",
    "'''\n",
    "Removes the background noise from a set of sample images.\n",
    "\n",
    "Based on: https://www.kaggle.com/competitions/seti-breakthrough-listen/discussion/245950\n",
    "'''\n",
    "def get_denoised_image(sample_images):\n",
    "    combined_on_images = None\n",
    "    combined_off_images = None\n",
    "    combined_denoised_image = None\n",
    "\n",
    "    for i in range(0, len(sample_images), 2):\n",
    "        on_target_image = sample_images[i] # Get on target image\n",
    "        off_target_image = sample_images[i+1] # Get off target image\n",
    "\n",
    "        on_W, on_H = get_decomposition_matrices(on_target_image) # Decompose on target images into factor matrices\n",
    "        off_W, off_H = get_decomposition_matrices(off_target_image) # Decomponse off target images into factor matrices\n",
    "        \n",
    "        # Get noise approximation by multiplying a factor matrix from each of the on target, and off target images.\n",
    "        # Then subtract the approximated noise from the on target images\n",
    "        denoised_image = normalise_image(on_target_image - np.matmul(on_W, off_H))\n",
    "\n",
    "        # Consolidate the on target, off target and denoised images.\n",
    "        combined_on_images = on_target_image if combined_on_images is None else combined_on_images + on_target_image\n",
    "        combined_off_images = off_target_image if combined_off_images is None else combined_off_images + off_target_image\n",
    "        combined_denoised_image = denoised_image if combined_denoised_image is None else combined_denoised_image + denoised_image\n",
    "\n",
    "    # Return the denoised image\n",
    "    return combined_denoised_image"
   ]
  },
  {
   "cell_type": "markdown",
   "id": "eb6fd666-528a-4ab7-976e-e32adbaf1050",
   "metadata": {
    "pycharm": {
     "name": "#%% md\n"
    }
   },
   "source": [
    "## Custom Dataset\n",
    "\n",
    "Create a custom dataset class.\n",
    "\n",
    "This is used by the model to interact with a data sample."
   ]
  },
  {
   "cell_type": "code",
   "execution_count": 11,
   "id": "e83f521d-c146-492a-afad-4b13fbf2ce8f",
   "metadata": {
    "execution": {
     "iopub.execute_input": "2022-09-04T10:17:19.357719Z",
     "iopub.status.busy": "2022-09-04T10:17:19.357221Z",
     "iopub.status.idle": "2022-09-04T10:17:19.364351Z",
     "shell.execute_reply": "2022-09-04T10:17:19.363699Z",
     "shell.execute_reply.started": "2022-09-04T10:17:19.357699Z"
    },
    "pycharm": {
     "name": "#%%\n"
    },
    "tags": []
   },
   "outputs": [],
   "source": [
    "class CustomDataset(Dataset):\n",
    "    def __init__(self, images_filepaths, targets, transform=None):\n",
    "        self.images_filepaths = images_filepaths\n",
    "        self.targets = targets\n",
    "        self.transform = transform\n",
    "\n",
    "    def __len__(self):\n",
    "        return len(self.images_filepaths)\n",
    "\n",
    "    def __getitem__(self, idx):\n",
    "        images_filepath = self.images_filepaths[idx]\n",
    "        images_filepath = images_filepath.replace('\\\\', '/')\n",
    "        file_name = os.path.basename(images_filepath)\n",
    "        images_filepath = '2000/' +  file_name\n",
    "        \n",
    "        images = np.load(BytesIO(dataset[images_filepath]), allow_pickle=True).astype(np.float32)\n",
    "        # images = np.load(images_filepath).astype(np.float32)\n",
    "        image = get_denoised_image(images)\n",
    "            \n",
    "        if self.transform is not None:\n",
    "            image = self.transform(image=image)['image']\n",
    "        else:\n",
    "            image = resize_image(image)\n",
    "            image = image[np.newaxis,:,:]\n",
    "            image = torch.from_numpy(image).float()\n",
    "        \n",
    "        label = torch.tensor(self.targets[idx]).float()\n",
    "\n",
    "        return image, label"
   ]
  },
  {
   "cell_type": "markdown",
   "id": "30f62240-81da-4110-b0b6-103ab07cf1e4",
   "metadata": {
    "pycharm": {
     "name": "#%% md\n"
    }
   },
   "source": [
    "## Image Augmentation\n",
    "\n",
    "Helper functions for transforming images.\n",
    "\n",
    "These can be used to help prevent overfitting on the available data samples."
   ]
  },
  {
   "cell_type": "code",
   "execution_count": 12,
   "id": "ce9cd0bf-9ce7-4159-b2ad-a757c8fe228a",
   "metadata": {
    "execution": {
     "iopub.execute_input": "2022-09-04T10:17:24.393301Z",
     "iopub.status.busy": "2022-09-04T10:17:24.392678Z",
     "iopub.status.idle": "2022-09-04T10:17:24.398425Z",
     "shell.execute_reply": "2022-09-04T10:17:24.397827Z",
     "shell.execute_reply.started": "2022-09-04T10:17:24.393277Z"
    },
    "pycharm": {
     "name": "#%%\n"
    }
   },
   "outputs": [],
   "source": [
    "'''\n",
    "Returns a set of image transformations using the albumentations library.\n",
    "'''\n",
    "def get_train_transforms():\n",
    "    return albumentations.Compose(\n",
    "        [\n",
    "            albumentations.Resize(config['image_size'], config['image_size']),\n",
    "            albumentations.HorizontalFlip(p=0.5),\n",
    "            albumentations.VerticalFlip(p=0.5),\n",
    "            albumentations.Rotate(limit=180, p=0.7),\n",
    "            albumentations.RandomBrightnessContrast(brightness_limit=0.6, p=0.5),\n",
    "            albumentations.CoarseDropout(max_holes=10, max_height=12, max_width=12, fill_value=0),\n",
    "            albumentations.ShiftScaleRotate(shift_limit=0.25, scale_limit=0.1, rotate_limit=0),\n",
    "            ToTensorV2(p=1.0),\n",
    "        ]\n",
    "    )\n",
    "\n",
    "\n",
    "\n",
    "\n",
    "'''\n",
    "Applies transformations for validation image data.\n",
    "\n",
    "This currently resizes the images.\n",
    "'''\n",
    "def get_valid_transforms():\n",
    "    return albumentations.Compose(\n",
    "        [\n",
    "            albumentations.Resize(config['image_size'],config['image_size']),\n",
    "            ToTensorV2(p=1.0)\n",
    "        ]\n",
    "    )\n",
    "\n",
    "\n",
    "\n",
    "'''\n",
    "Applies transformations for training image data.\n",
    "\n",
    "This currently resizes the images.\n",
    "'''\n",
    "def get_test_transforms():\n",
    "        return albumentations.Compose(\n",
    "            [\n",
    "                albumentations.Resize(config['image_size'], config['image_size']),\n",
    "                ToTensorV2(p=1.0)\n",
    "            ]\n",
    "        )"
   ]
  },
  {
   "cell_type": "markdown",
   "id": "94c665f4-ba86-4749-b576-dabcbbe81928",
   "metadata": {
    "pycharm": {
     "name": "#%% md\n"
    }
   },
   "source": [
    "## Mixup\n",
    "\n",
    "Mixup is an image augmentation technique that can also help prevent overfitting on the training data.\n",
    "\n",
    "This works by overlaying two images by applying a transparency effect to the one on top."
   ]
  },
  {
   "cell_type": "code",
   "execution_count": 13,
   "id": "681f3584-8f00-401b-9910-614f159e5f94",
   "metadata": {
    "execution": {
     "iopub.execute_input": "2022-09-04T10:17:30.294693Z",
     "iopub.status.busy": "2022-09-04T10:17:30.294404Z",
     "iopub.status.idle": "2022-09-04T10:17:30.300555Z",
     "shell.execute_reply": "2022-09-04T10:17:30.300007Z",
     "shell.execute_reply.started": "2022-09-04T10:17:30.294674Z"
    },
    "pycharm": {
     "name": "#%%\n"
    }
   },
   "outputs": [],
   "source": [
    "'''\n",
    "Given two images, x and y, use the alpha value to overlay them.\n",
    "'''\n",
    "def mixup(x, y, alpha=1.0, use_cuda=True):\n",
    "    if alpha > 0:\n",
    "        lam = np.random.beta(alpha, alpha)\n",
    "    else:\n",
    "        lam = 1\n",
    "\n",
    "    batch_size = x.size()[0]\n",
    "\n",
    "    if use_cuda:\n",
    "        index = torch.randperm(batch_size).cuda()\n",
    "    else:\n",
    "        index = torch.randperm(batch_size)\n",
    "\n",
    "    mixed_x = lam * x + (1 - lam) * x[index, :] # the composite image\n",
    "    y_a, y_b = y, y[index]\n",
    "\n",
    "    return mixed_x, y_a, y_b, lam\n",
    "\n",
    "\n",
    "\n",
    "\n",
    "'''\n",
    "Criterion to decide how much mixup to apply based on the sample prediction.\n",
    "\n",
    "This allows the model to have a higher representation of samples that\n",
    "it has a higher classification error on.\n",
    "'''\n",
    "def mixup_criterion(criterion, pred, y_a, y_b, lam):\n",
    "    return lam * criterion(pred, y_a) + (1 - lam) * criterion(pred, y_b)"
   ]
  },
  {
   "cell_type": "markdown",
   "id": "eb88ac7c-d4b8-4b8b-b6a6-87b2ddd3611c",
   "metadata": {
    "pycharm": {
     "name": "#%% md\n"
    }
   },
   "source": [
    "## Metric Monitoring\n",
    "\n",
    "Create utility class and function to track loss, accuracy and AUC ROC metrics.\n",
    "\n",
    "Used with the Weights and Biases web API."
   ]
  },
  {
   "cell_type": "code",
   "execution_count": 14,
   "id": "b95e56ac-7eb5-43cb-9173-af96513fb393",
   "metadata": {
    "execution": {
     "iopub.execute_input": "2022-09-04T10:17:36.221362Z",
     "iopub.status.busy": "2022-09-04T10:17:36.220577Z",
     "iopub.status.idle": "2022-09-04T10:17:36.227285Z",
     "shell.execute_reply": "2022-09-04T10:17:36.226492Z",
     "shell.execute_reply.started": "2022-09-04T10:17:36.221338Z"
    },
    "pycharm": {
     "name": "#%%\n"
    }
   },
   "outputs": [],
   "source": [
    "'''\n",
    "Class used by Weights and Biases web API for metric monitoring.\n",
    "'''\n",
    "class MetricMonitor:\n",
    "    def __init__(self, float_precision=3):\n",
    "        self.float_precision = float_precision\n",
    "        self.reset()\n",
    "\n",
    "    def reset(self):\n",
    "        self.metrics = defaultdict(lambda: {'val': 0, 'count': 0, 'avg': 0})\n",
    "\n",
    "    def update(self, metric_name, val):\n",
    "        metric = self.metrics[metric_name]\n",
    "\n",
    "        metric['val'] += val\n",
    "        metric['count'] += 1\n",
    "        metric['avg'] = metric['val'] / metric['count']\n",
    "\n",
    "    def __str__(self):\n",
    "        return \" | \".join(\n",
    "            [\n",
    "                '{metric_name}: {avg:.{float_precision}f}'.format(\n",
    "                    metric_name=metric_name, avg=metric['avg'],\n",
    "                    float_precision=self.float_precision\n",
    "                )\n",
    "                for (metric_name, metric) in self.metrics.items()\n",
    "            ]\n",
    "        )\n",
    "\n",
    "    \n",
    "\n",
    "'''\n",
    "Helper method for returning the ROC AUC score for a prediction.\n",
    "'''\n",
    "def get_roc_auc(output, target):\n",
    "    try:\n",
    "        y_pred = torch.sigmoid(output).cpu()\n",
    "        y_pred = y_pred.detach().numpy()\n",
    "        target = target.cpu()\n",
    "\n",
    "        return roc_auc_score(target, y_pred)\n",
    "    except:\n",
    "        return 0.5 # If an exception occurs, e.g. divide by zero, return a 0.5 score"
   ]
  },
  {
   "cell_type": "markdown",
   "id": "50022801-d8c5-4b8e-8c17-a247403a4154",
   "metadata": {
    "pycharm": {
     "name": "#%% md\n"
    }
   },
   "source": [
    "## Weight Random Sampler\n",
    "\n",
    "Returns a weighted sample from the training dataset.\n",
    "\n",
    "The weighting helps ensure an equal amount of negative and positive samples are returned when there is an unequal distribution."
   ]
  },
  {
   "cell_type": "code",
   "execution_count": 15,
   "id": "e0f0ca22-8222-46a8-b252-3db2932bf2ed",
   "metadata": {
    "execution": {
     "iopub.execute_input": "2022-09-04T10:17:43.217080Z",
     "iopub.status.busy": "2022-09-04T10:17:43.216160Z",
     "iopub.status.idle": "2022-09-04T10:17:43.221902Z",
     "shell.execute_reply": "2022-09-04T10:17:43.221073Z",
     "shell.execute_reply.started": "2022-09-04T10:17:43.217050Z"
    },
    "pycharm": {
     "name": "#%%\n"
    }
   },
   "outputs": [],
   "source": [
    "'''\n",
    "Return a sample from the training data.\n",
    "\n",
    "The sample selection is weighted so that there is an equal chance \n",
    "for a sample from each class being selected.\n",
    "'''\n",
    "def get_sampler(train_data):\n",
    "    class_counts = train_data['target'].value_counts().to_list()\n",
    "    num_samples = sum(class_counts)\n",
    "    labels = train_data['target'].to_list()\n",
    "\n",
    "    class_weights = [num_samples/class_counts[i] for i in range(len(class_counts))]\n",
    "    weights = [class_weights[labels[i]] for i in range(int(num_samples))]\n",
    "\n",
    "    return WeightedRandomSampler(torch.DoubleTensor(weights), int(num_samples))"
   ]
  },
  {
   "cell_type": "markdown",
   "id": "056abd0c-c12a-4a0a-8e73-c7b64aa6432e",
   "metadata": {
    "pycharm": {
     "name": "#%% md\n"
    }
   },
   "source": [
    "## Train and Validation Dataloaders\n",
    "\n",
    "Data loaders for the training and validation data.\n",
    "\n",
    "These are used during the model training and validation loop."
   ]
  },
  {
   "cell_type": "code",
   "execution_count": 16,
   "id": "9dd0ba19-0137-4913-bdb2-897ee0a6c52e",
   "metadata": {
    "execution": {
     "iopub.execute_input": "2022-09-04T10:17:52.343537Z",
     "iopub.status.busy": "2022-09-04T10:17:52.343011Z",
     "iopub.status.idle": "2022-09-04T10:17:52.348533Z",
     "shell.execute_reply": "2022-09-04T10:17:52.347918Z",
     "shell.execute_reply.started": "2022-09-04T10:17:52.343513Z"
    },
    "pycharm": {
     "name": "#%%\n"
    }
   },
   "outputs": [],
   "source": [
    "def get_loaders(train_data, valid_data, sampler):\n",
    "    training_set = CustomDataset(\n",
    "        images_filepaths=train_data['image_filepath'].values,\n",
    "        targets=train_data['target'].values,\n",
    "        transform=get_train_transforms()\n",
    "    )\n",
    "\n",
    "    validation_set = CustomDataset(\n",
    "        images_filepaths=valid_data['image_filepath'].values,\n",
    "        targets=valid_data['target'].values,\n",
    "        transform=get_valid_transforms()\n",
    "    )\n",
    "\n",
    "    train_loader = DataLoader(\n",
    "        training_set,\n",
    "        batch_size=config['batch_size'],\n",
    "        # shuffle=True,\n",
    "        # num_workers=config['num_workers'],\n",
    "        sampler = sampler,\n",
    "        pin_memory=True\n",
    "    )\n",
    "\n",
    "    valid_loader = DataLoader(\n",
    "        validation_set,\n",
    "        batch_size=config['batch_size'],\n",
    "        shuffle=False,\n",
    "        # num_workers=config['num_workers'],\n",
    "        pin_memory=True\n",
    "    )\n",
    "\n",
    "    return train_loader, valid_loader"
   ]
  },
  {
   "cell_type": "markdown",
   "id": "b7cdaabb-30cb-4687-8e2a-087c2c5bfc7a",
   "metadata": {
    "pycharm": {
     "name": "#%% md\n"
    }
   },
   "source": [
    "## Model\n",
    "\n",
    "The model that will be trained.\n",
    "\n",
    "This is based on a pretrained ECA NFNet model.\n",
    "\n",
    "The final layer is modified so the model outputs a binary classification."
   ]
  },
  {
   "cell_type": "code",
   "execution_count": 17,
   "id": "c5b8b8fd-0b0b-4b87-a6f8-fce978deaa74",
   "metadata": {
    "execution": {
     "iopub.execute_input": "2022-09-04T10:18:37.565094Z",
     "iopub.status.busy": "2022-09-04T10:18:37.564618Z",
     "iopub.status.idle": "2022-09-04T10:18:37.569216Z",
     "shell.execute_reply": "2022-09-04T10:18:37.568651Z",
     "shell.execute_reply.started": "2022-09-04T10:18:37.565076Z"
    },
    "pycharm": {
     "name": "#%%\n"
    }
   },
   "outputs": [],
   "source": [
    "'''\n",
    "The model that is used for training and classification.\n",
    "\n",
    "Based on a pretrained ECA NFNet model.\n",
    "'''\n",
    "class EcaNFNet(nn.Module):\n",
    "    def __init__(self, model_name=config['model'], output_features=config['output_features'],\n",
    "                 input_channels=config['input_channels'], pretrained=True):\n",
    "        super().__init__()\n",
    "        self.model = timm.create_model(model_name, pretrained=pretrained, in_chans=input_channels)\n",
    "\n",
    "        # Modify final layer to allow for a binary classification\n",
    "        n_features = self.model.head.fc.in_features\n",
    "        self.model.head.fc = nn.Linear(n_features, output_features, bias=True)\n",
    "    \n",
    "    def forward(self, x):\n",
    "        x = self.model(x)\n",
    "\n",
    "        return x"
   ]
  },
  {
   "cell_type": "markdown",
   "id": "0a4ee588-0a2d-45c7-b353-796cb34df1b8",
   "metadata": {
    "pycharm": {
     "name": "#%% md\n"
    }
   },
   "source": [
    "## Sharpness Aware Minimisation (SAM) Optimiser\n",
    "\n",
    "This techniques helps find regions in the loss landscape that have a uniformly low loss value.\n",
    "\n",
    "This helps avoid sharp dips in the loss value, which aids in model generalisation."
   ]
  },
  {
   "cell_type": "code",
   "execution_count": 18,
   "id": "eb18d413-022b-445b-bc56-ef8d84adb289",
   "metadata": {
    "execution": {
     "iopub.execute_input": "2022-09-04T10:18:50.534729Z",
     "iopub.status.busy": "2022-09-04T10:18:50.534304Z",
     "iopub.status.idle": "2022-09-04T10:18:50.544417Z",
     "shell.execute_reply": "2022-09-04T10:18:50.543718Z",
     "shell.execute_reply.started": "2022-09-04T10:18:50.534695Z"
    },
    "pycharm": {
     "name": "#%%\n"
    }
   },
   "outputs": [],
   "source": [
    "'''\n",
    "Class implementing a PyTorch optimiser using the SAM technique.\n",
    "\n",
    "Implementation from: https://github.com/layumi/AdaBoost_Seg/blob/master/sam.py\n",
    "'''\n",
    "class SAM(torch.optim.Optimizer):\n",
    "    def __init__(self, params, base_optimizer, rho=0.05, **kwargs):\n",
    "        assert rho >= 0.0, f\"Invalid rho, should be non-negative: {rho}\"\n",
    "\n",
    "        defaults = dict(rho=rho, **kwargs)\n",
    "        super(SAM, self).__init__(params, defaults)\n",
    "\n",
    "        self.base_optimizer = base_optimizer(self.param_groups, **kwargs)\n",
    "        self.param_groups = self.base_optimizer.param_groups\n",
    "\n",
    "    @torch.no_grad()\n",
    "    def first_step(self, zero_grad=False):\n",
    "        grad_norm = self._grad_norm()\n",
    "\n",
    "        for group in self.param_groups:\n",
    "            scale = group[\"rho\"] / (grad_norm + 1e-12)\n",
    "\n",
    "            for p in group[\"params\"]:\n",
    "                if p.grad is None: continue\n",
    "                e_w = p.grad * scale.to(p)\n",
    "                p.add_(e_w)  # climb to the local maximum \"w + e(w)\"\n",
    "                self.state[p][\"e_w\"] = e_w\n",
    "\n",
    "        self.base_optimizer.step()  # do the actual \"sharpness-aware\" update\n",
    "\n",
    "        if zero_grad: self.zero_grad()\n",
    "\n",
    "    @torch.no_grad()\n",
    "    def second_step(self, zero_grad=False):\n",
    "        for group in self.param_groups:\n",
    "            for p in group[\"params\"]:\n",
    "                if p.grad is None: continue\n",
    "                p.sub_(self.state[p][\"e_w\"])  # get back to \"w\" from \"w + e(w)\"\n",
    "\n",
    "        if zero_grad: self.zero_grad()\n",
    "\n",
    "    @torch.no_grad()\n",
    "    def step(self, closure=None):\n",
    "        assert closure is not None, \"Sharpness Aware Minimization requires closure, but it was not provided\"\n",
    "        closure = torch.enable_grad()(closure)  # the closure should do a full forward-backward pass\n",
    "\n",
    "        self.first_step(zero_grad=True)\n",
    "        closure()\n",
    "        self.second_step()\n",
    "\n",
    "    def _grad_norm(self):\n",
    "        shared_device = self.param_groups[0][\"params\"][0].device  # put everything on the same device, in case of model parallelism\n",
    "        norm = torch.norm(\n",
    "                    torch.stack([\n",
    "                        p.grad.norm(p=2).to(shared_device)\n",
    "                        for group in self.param_groups for p in group[\"params\"]\n",
    "                        if p.grad is not None\n",
    "                    ]),\n",
    "                    p=2\n",
    "               )\n",
    "        return norm"
   ]
  },
  {
   "cell_type": "markdown",
   "id": "45228b74-1e35-4363-b7f8-ce49d8945286",
   "metadata": {
    "pycharm": {
     "name": "#%% md\n"
    }
   },
   "source": [
    "## Network Initialisation\n",
    "\n",
    "Initialise model, loss criterion, optimiser and learning rate scheduler."
   ]
  },
  {
   "cell_type": "code",
   "execution_count": 19,
   "id": "94530cde-2cb0-420d-954f-251bf7115d96",
   "metadata": {
    "execution": {
     "iopub.execute_input": "2022-09-04T10:18:54.914081Z",
     "iopub.status.busy": "2022-09-04T10:18:54.913397Z",
     "iopub.status.idle": "2022-09-04T10:18:57.417337Z",
     "shell.execute_reply": "2022-09-04T10:18:57.416690Z",
     "shell.execute_reply.started": "2022-09-04T10:18:54.914053Z"
    },
    "pycharm": {
     "name": "#%%\n"
    }
   },
   "outputs": [
    {
     "name": "stderr",
     "output_type": "stream",
     "text": [
      "Downloading: \"https://github.com/rwightman/pytorch-image-models/releases/download/v0.1-weights/ecanfnet_l0_ra2-e3e9ac50.pth\" to /root/.cache/torch/hub/checkpoints/ecanfnet_l0_ra2-e3e9ac50.pth\n"
     ]
    }
   ],
   "source": [
    "# The model to train\n",
    "model = EcaNFNet()\n",
    "model = model.to(config['device'])\n",
    "\n",
    "# Loss criterion function for measuring loss\n",
    "criterion = nn.BCEWithLogitsLoss().to(config['device'])\n",
    "\n",
    "# Optimizer used for minimising loss during model training\n",
    "base_optimizer = AdamP\n",
    "optimizer = SAM(model.parameters(), base_optimizer, lr=config['lr'], weight_decay=config['weight_decay'])\n",
    "\n",
    "# Learning rate scheduler.\n",
    "# Starts from a high learning rate and steps down to a lower one.\n",
    "scheduler = CosineAnnealingLR(optimizer,\n",
    "                              T_max=config['T_max'],\n",
    "                              eta_min=config['min_lr'],\n",
    "                              last_epoch=-1)"
   ]
  },
  {
   "cell_type": "markdown",
   "id": "3108ee72-dba7-48ff-8eb2-2d6450ee611d",
   "metadata": {
    "pycharm": {
     "name": "#%% md\n"
    }
   },
   "source": [
    "A summary of the model is shown below.\n",
    "\n",
    "We can see that it contains 184 layers, most of which are 2D convolutional and SiLU activation pairs.\n",
    "\n",
    "There are a total of 21,808,125 model parameters."
   ]
  },
  {
   "cell_type": "code",
   "execution_count": 18,
   "id": "6c026217",
   "metadata": {
    "collapsed": false,
    "execution": {
     "iopub.execute_input": "2022-09-03T22:29:35.056466Z",
     "iopub.status.busy": "2022-09-03T22:29:35.056303Z",
     "iopub.status.idle": "2022-09-03T22:29:37.179908Z",
     "shell.execute_reply": "2022-09-03T22:29:37.179249Z",
     "shell.execute_reply.started": "2022-09-03T22:29:35.056451Z"
    },
    "jupyter": {
     "outputs_hidden": false
    },
    "pycharm": {
     "name": "#%%\n"
    }
   },
   "outputs": [
    {
     "name": "stdout",
     "output_type": "stream",
     "text": [
      "----------------------------------------------------------------\n",
      "        Layer (type)               Output Shape         Param #\n",
      "================================================================\n",
      "   ScaledStdConv2d-1         [-1, 16, 672, 112]             160\n",
      "              SiLU-2         [-1, 16, 672, 112]               0\n",
      "   ScaledStdConv2d-3         [-1, 32, 672, 112]           4,640\n",
      "              SiLU-4         [-1, 32, 672, 112]               0\n",
      "   ScaledStdConv2d-5         [-1, 64, 672, 112]          18,496\n",
      "              SiLU-6         [-1, 64, 672, 112]               0\n",
      "   ScaledStdConv2d-7         [-1, 128, 336, 56]          73,856\n",
      "              SiLU-8         [-1, 128, 336, 56]               0\n",
      "          Identity-9         [-1, 128, 336, 56]               0\n",
      "  ScaledStdConv2d-10         [-1, 256, 336, 56]          33,024\n",
      "    DownsampleAvg-11         [-1, 256, 336, 56]               0\n",
      "  ScaledStdConv2d-12          [-1, 64, 336, 56]           8,256\n",
      "             SiLU-13          [-1, 64, 336, 56]               0\n",
      "  ScaledStdConv2d-14          [-1, 64, 336, 56]          36,928\n",
      "             SiLU-15          [-1, 64, 336, 56]               0\n",
      "  ScaledStdConv2d-16          [-1, 64, 336, 56]          36,928\n",
      "             SiLU-17          [-1, 64, 336, 56]               0\n",
      "  ScaledStdConv2d-18         [-1, 256, 336, 56]          16,640\n",
      "           Conv1d-19               [-1, 1, 256]               5\n",
      "          Sigmoid-20               [-1, 1, 256]               0\n",
      "        EcaModule-21         [-1, 256, 336, 56]               0\n",
      "         Identity-22         [-1, 256, 336, 56]               0\n",
      "    NormFreeBlock-23         [-1, 256, 336, 56]               0\n",
      "             SiLU-24         [-1, 256, 336, 56]               0\n",
      "        AvgPool2d-25         [-1, 256, 168, 28]               0\n",
      "  ScaledStdConv2d-26         [-1, 512, 168, 28]         131,584\n",
      "    DownsampleAvg-27         [-1, 512, 168, 28]               0\n",
      "  ScaledStdConv2d-28         [-1, 128, 336, 56]          32,896\n",
      "             SiLU-29         [-1, 128, 336, 56]               0\n",
      "  ScaledStdConv2d-30         [-1, 128, 168, 28]          73,856\n",
      "             SiLU-31         [-1, 128, 168, 28]               0\n",
      "  ScaledStdConv2d-32         [-1, 128, 168, 28]          73,856\n",
      "             SiLU-33         [-1, 128, 168, 28]               0\n",
      "  ScaledStdConv2d-34         [-1, 512, 168, 28]          66,048\n",
      "           Conv1d-35               [-1, 1, 512]               5\n",
      "          Sigmoid-36               [-1, 1, 512]               0\n",
      "        EcaModule-37         [-1, 512, 168, 28]               0\n",
      "         Identity-38         [-1, 512, 168, 28]               0\n",
      "    NormFreeBlock-39         [-1, 512, 168, 28]               0\n",
      "             SiLU-40         [-1, 512, 168, 28]               0\n",
      "  ScaledStdConv2d-41         [-1, 128, 168, 28]          65,664\n",
      "             SiLU-42         [-1, 128, 168, 28]               0\n",
      "  ScaledStdConv2d-43         [-1, 128, 168, 28]          73,856\n",
      "             SiLU-44         [-1, 128, 168, 28]               0\n",
      "  ScaledStdConv2d-45         [-1, 128, 168, 28]          73,856\n",
      "             SiLU-46         [-1, 128, 168, 28]               0\n",
      "  ScaledStdConv2d-47         [-1, 512, 168, 28]          66,048\n",
      "           Conv1d-48               [-1, 1, 512]               5\n",
      "          Sigmoid-49               [-1, 1, 512]               0\n",
      "        EcaModule-50         [-1, 512, 168, 28]               0\n",
      "         Identity-51         [-1, 512, 168, 28]               0\n",
      "    NormFreeBlock-52         [-1, 512, 168, 28]               0\n",
      "             SiLU-53         [-1, 512, 168, 28]               0\n",
      "        AvgPool2d-54          [-1, 512, 84, 14]               0\n",
      "  ScaledStdConv2d-55         [-1, 1536, 84, 14]         787,968\n",
      "    DownsampleAvg-56         [-1, 1536, 84, 14]               0\n",
      "  ScaledStdConv2d-57         [-1, 384, 168, 28]         196,992\n",
      "             SiLU-58         [-1, 384, 168, 28]               0\n",
      "  ScaledStdConv2d-59          [-1, 384, 84, 14]         221,568\n",
      "             SiLU-60          [-1, 384, 84, 14]               0\n",
      "  ScaledStdConv2d-61          [-1, 384, 84, 14]         221,568\n",
      "             SiLU-62          [-1, 384, 84, 14]               0\n",
      "  ScaledStdConv2d-63         [-1, 1536, 84, 14]         591,360\n",
      "           Conv1d-64              [-1, 1, 1536]               5\n",
      "          Sigmoid-65              [-1, 1, 1536]               0\n",
      "        EcaModule-66         [-1, 1536, 84, 14]               0\n",
      "         Identity-67         [-1, 1536, 84, 14]               0\n",
      "    NormFreeBlock-68         [-1, 1536, 84, 14]               0\n",
      "             SiLU-69         [-1, 1536, 84, 14]               0\n",
      "  ScaledStdConv2d-70          [-1, 384, 84, 14]         590,208\n",
      "             SiLU-71          [-1, 384, 84, 14]               0\n",
      "  ScaledStdConv2d-72          [-1, 384, 84, 14]         221,568\n",
      "             SiLU-73          [-1, 384, 84, 14]               0\n",
      "  ScaledStdConv2d-74          [-1, 384, 84, 14]         221,568\n",
      "             SiLU-75          [-1, 384, 84, 14]               0\n",
      "  ScaledStdConv2d-76         [-1, 1536, 84, 14]         591,360\n",
      "           Conv1d-77              [-1, 1, 1536]               5\n",
      "          Sigmoid-78              [-1, 1, 1536]               0\n",
      "        EcaModule-79         [-1, 1536, 84, 14]               0\n",
      "         Identity-80         [-1, 1536, 84, 14]               0\n",
      "    NormFreeBlock-81         [-1, 1536, 84, 14]               0\n",
      "             SiLU-82         [-1, 1536, 84, 14]               0\n",
      "  ScaledStdConv2d-83          [-1, 384, 84, 14]         590,208\n",
      "             SiLU-84          [-1, 384, 84, 14]               0\n",
      "  ScaledStdConv2d-85          [-1, 384, 84, 14]         221,568\n",
      "             SiLU-86          [-1, 384, 84, 14]               0\n",
      "  ScaledStdConv2d-87          [-1, 384, 84, 14]         221,568\n",
      "             SiLU-88          [-1, 384, 84, 14]               0\n",
      "  ScaledStdConv2d-89         [-1, 1536, 84, 14]         591,360\n",
      "           Conv1d-90              [-1, 1, 1536]               5\n",
      "          Sigmoid-91              [-1, 1, 1536]               0\n",
      "        EcaModule-92         [-1, 1536, 84, 14]               0\n",
      "         Identity-93         [-1, 1536, 84, 14]               0\n",
      "    NormFreeBlock-94         [-1, 1536, 84, 14]               0\n",
      "             SiLU-95         [-1, 1536, 84, 14]               0\n",
      "  ScaledStdConv2d-96          [-1, 384, 84, 14]         590,208\n",
      "             SiLU-97          [-1, 384, 84, 14]               0\n",
      "  ScaledStdConv2d-98          [-1, 384, 84, 14]         221,568\n",
      "             SiLU-99          [-1, 384, 84, 14]               0\n",
      " ScaledStdConv2d-100          [-1, 384, 84, 14]         221,568\n",
      "            SiLU-101          [-1, 384, 84, 14]               0\n",
      " ScaledStdConv2d-102         [-1, 1536, 84, 14]         591,360\n",
      "          Conv1d-103              [-1, 1, 1536]               5\n",
      "         Sigmoid-104              [-1, 1, 1536]               0\n",
      "       EcaModule-105         [-1, 1536, 84, 14]               0\n",
      "        Identity-106         [-1, 1536, 84, 14]               0\n",
      "   NormFreeBlock-107         [-1, 1536, 84, 14]               0\n",
      "            SiLU-108         [-1, 1536, 84, 14]               0\n",
      " ScaledStdConv2d-109          [-1, 384, 84, 14]         590,208\n",
      "            SiLU-110          [-1, 384, 84, 14]               0\n",
      " ScaledStdConv2d-111          [-1, 384, 84, 14]         221,568\n",
      "            SiLU-112          [-1, 384, 84, 14]               0\n",
      " ScaledStdConv2d-113          [-1, 384, 84, 14]         221,568\n",
      "            SiLU-114          [-1, 384, 84, 14]               0\n",
      " ScaledStdConv2d-115         [-1, 1536, 84, 14]         591,360\n",
      "          Conv1d-116              [-1, 1, 1536]               5\n",
      "         Sigmoid-117              [-1, 1, 1536]               0\n",
      "       EcaModule-118         [-1, 1536, 84, 14]               0\n",
      "        Identity-119         [-1, 1536, 84, 14]               0\n",
      "   NormFreeBlock-120         [-1, 1536, 84, 14]               0\n",
      "            SiLU-121         [-1, 1536, 84, 14]               0\n",
      " ScaledStdConv2d-122          [-1, 384, 84, 14]         590,208\n",
      "            SiLU-123          [-1, 384, 84, 14]               0\n",
      " ScaledStdConv2d-124          [-1, 384, 84, 14]         221,568\n",
      "            SiLU-125          [-1, 384, 84, 14]               0\n",
      " ScaledStdConv2d-126          [-1, 384, 84, 14]         221,568\n",
      "            SiLU-127          [-1, 384, 84, 14]               0\n",
      " ScaledStdConv2d-128         [-1, 1536, 84, 14]         591,360\n",
      "          Conv1d-129              [-1, 1, 1536]               5\n",
      "         Sigmoid-130              [-1, 1, 1536]               0\n",
      "       EcaModule-131         [-1, 1536, 84, 14]               0\n",
      "        Identity-132         [-1, 1536, 84, 14]               0\n",
      "   NormFreeBlock-133         [-1, 1536, 84, 14]               0\n",
      "            SiLU-134         [-1, 1536, 84, 14]               0\n",
      "       AvgPool2d-135          [-1, 1536, 42, 7]               0\n",
      " ScaledStdConv2d-136          [-1, 1536, 42, 7]       2,360,832\n",
      "   DownsampleAvg-137          [-1, 1536, 42, 7]               0\n",
      " ScaledStdConv2d-138          [-1, 384, 84, 14]         590,208\n",
      "            SiLU-139          [-1, 384, 84, 14]               0\n",
      " ScaledStdConv2d-140           [-1, 384, 42, 7]         221,568\n",
      "            SiLU-141           [-1, 384, 42, 7]               0\n",
      " ScaledStdConv2d-142           [-1, 384, 42, 7]         221,568\n",
      "            SiLU-143           [-1, 384, 42, 7]               0\n",
      " ScaledStdConv2d-144          [-1, 1536, 42, 7]         591,360\n",
      "          Conv1d-145              [-1, 1, 1536]               5\n",
      "         Sigmoid-146              [-1, 1, 1536]               0\n",
      "       EcaModule-147          [-1, 1536, 42, 7]               0\n",
      "        Identity-148          [-1, 1536, 42, 7]               0\n",
      "   NormFreeBlock-149          [-1, 1536, 42, 7]               0\n",
      "            SiLU-150          [-1, 1536, 42, 7]               0\n",
      " ScaledStdConv2d-151           [-1, 384, 42, 7]         590,208\n",
      "            SiLU-152           [-1, 384, 42, 7]               0\n",
      " ScaledStdConv2d-153           [-1, 384, 42, 7]         221,568\n",
      "            SiLU-154           [-1, 384, 42, 7]               0\n",
      " ScaledStdConv2d-155           [-1, 384, 42, 7]         221,568\n",
      "            SiLU-156           [-1, 384, 42, 7]               0\n",
      " ScaledStdConv2d-157          [-1, 1536, 42, 7]         591,360\n",
      "          Conv1d-158              [-1, 1, 1536]               5\n",
      "         Sigmoid-159              [-1, 1, 1536]               0\n",
      "       EcaModule-160          [-1, 1536, 42, 7]               0\n",
      "        Identity-161          [-1, 1536, 42, 7]               0\n",
      "   NormFreeBlock-162          [-1, 1536, 42, 7]               0\n",
      "            SiLU-163          [-1, 1536, 42, 7]               0\n",
      " ScaledStdConv2d-164           [-1, 384, 42, 7]         590,208\n",
      "            SiLU-165           [-1, 384, 42, 7]               0\n",
      " ScaledStdConv2d-166           [-1, 384, 42, 7]         221,568\n",
      "            SiLU-167           [-1, 384, 42, 7]               0\n",
      " ScaledStdConv2d-168           [-1, 384, 42, 7]         221,568\n",
      "            SiLU-169           [-1, 384, 42, 7]               0\n",
      " ScaledStdConv2d-170          [-1, 1536, 42, 7]         591,360\n",
      "          Conv1d-171              [-1, 1, 1536]               5\n",
      "         Sigmoid-172              [-1, 1, 1536]               0\n",
      "       EcaModule-173          [-1, 1536, 42, 7]               0\n",
      "        Identity-174          [-1, 1536, 42, 7]               0\n",
      "   NormFreeBlock-175          [-1, 1536, 42, 7]               0\n",
      " ScaledStdConv2d-176          [-1, 2304, 42, 7]       3,541,248\n",
      "            SiLU-177          [-1, 2304, 42, 7]               0\n",
      "AdaptiveAvgPool2d-178           [-1, 2304, 1, 1]               0\n",
      "         Flatten-179                 [-1, 2304]               0\n",
      "SelectAdaptivePool2d-180                 [-1, 2304]               0\n",
      "          Linear-181                    [-1, 1]           2,305\n",
      "        Identity-182                    [-1, 1]               0\n",
      "  ClassifierHead-183                    [-1, 1]               0\n",
      "     NormFreeNet-184                    [-1, 1]               0\n",
      "================================================================\n",
      "Total params: 21,808,125\n",
      "Trainable params: 21,808,125\n",
      "Non-trainable params: 0\n",
      "----------------------------------------------------------------\n",
      "Input size (MB): 1.15\n",
      "Forward/backward pass size (MB): 1488.66\n",
      "Params size (MB): 83.19\n",
      "Estimated Total Size (MB): 1573.00\n",
      "----------------------------------------------------------------\n"
     ]
    }
   ],
   "source": [
    "summary(model.cuda(), (1, 1344, 224))"
   ]
  },
  {
   "cell_type": "markdown",
   "id": "3a990419-10dd-40c8-818c-0fb905afa752",
   "metadata": {
    "pycharm": {
     "name": "#%% md\n"
    }
   },
   "source": [
    "## Model Training Function\n",
    "\n",
    "The training function processes the training data in batches.\n",
    "\n",
    "It makes predictions and then applies back propogation to reduce the loss.\n",
    "\n",
    "The loss, accuracy and ROC AUC metrics are logged using the Weights and Biases wep API."
   ]
  },
  {
   "cell_type": "code",
   "execution_count": 19,
   "id": "1232dc01-767b-4047-9a46-3d12df5e50c4",
   "metadata": {
    "execution": {
     "iopub.execute_input": "2022-09-03T22:29:37.180923Z",
     "iopub.status.busy": "2022-09-03T22:29:37.180718Z",
     "iopub.status.idle": "2022-09-03T22:29:37.187222Z",
     "shell.execute_reply": "2022-09-03T22:29:37.186662Z",
     "shell.execute_reply.started": "2022-09-03T22:29:37.180907Z"
    },
    "pycharm": {
     "name": "#%%\n"
    }
   },
   "outputs": [],
   "source": [
    "'''\n",
    "Trains the model using training data batches\n",
    "'''\n",
    "def train(train_loader, model, criterion, optimizer, epoch, scheduler):\n",
    "    metric_monitor = MetricMonitor() # Create the W&B metric monitor\n",
    "    model.train() # Put the model in training mode so that weights can be updated\n",
    "    stream = tqdm(enumerate(train_loader), total=len(train_loader)) # Create a stream for processing the data in batches\n",
    "\n",
    "    # iterate over each batch\n",
    "    for i, (images, target) in stream:\n",
    "        images = images.to(config['device'])\n",
    "        target = target.to(config['device']).float().view(-1, 1) # place the images in landscape view\n",
    "        images, targets_a, targets_b, lam = mixup(images, target.view(-1, 1)) # get the images to classify\n",
    "\n",
    "        optimizer.zero_grad() # reset the loss optimizer by zeroing its gradients\n",
    "\n",
    "        output = model(images) # make predictions\n",
    "\n",
    "        # calculate prediction accuracy\n",
    "        accuracy = accuracy_score(target.cpu(), (output.cpu().detach().numpy() > 0), normalize=False)\n",
    "\n",
    "        # calculate prediciton loss\n",
    "        loss = mixup_criterion(criterion, output, targets_a, targets_b, lam)\n",
    "        \n",
    "        # perform back propogation to update model weights\n",
    "        loss.backward(retain_graph=True)\n",
    "\n",
    "        # step the loss optimizer and reset it\n",
    "        optimizer.first_step(zero_grad=False)\n",
    "        optimizer.zero_grad()\n",
    "        \n",
    "        # update the mixup criterion based on image classification\n",
    "        mixup_criterion(criterion, model(images), targets_a, targets_b, lam).backward()\n",
    "        optimizer.second_step(zero_grad=False)\n",
    "        \n",
    "        # calculate ROC AUC score\n",
    "        roc_auc = get_roc_auc(output, target)\n",
    "\n",
    "        # update metrics in the metric monitor\n",
    "        metric_monitor.update('Loss', loss.item())\n",
    "        metric_monitor.update('Accuracy', accuracy)\n",
    "        metric_monitor.update('ROC AUC', roc_auc)\n",
    "\n",
    "        # log the metric with the W & B web API\n",
    "        wandb.log({ 'Train Epoch': epoch, 'Train Loss': loss.item(), 'Train Accuracy': accuracy, 'Train ROC AUC': roc_auc })\n",
    "\n",
    "        # update stream description so progress can be printed to screen\n",
    "        stream.set_description(\n",
    "            'Epoch: {epoch}. Train. {metric_monitor}'\n",
    "            .format(epoch=epoch, metric_monitor=metric_monitor)\n",
    "        )\n",
    "\n",
    "    # update the learning rate scheduler\n",
    "    scheduler.step()"
   ]
  },
  {
   "cell_type": "markdown",
   "id": "b448120d-61ba-42ec-bee4-cc6429c2b1e2",
   "metadata": {
    "pycharm": {
     "name": "#%% md\n"
    }
   },
   "source": [
    "## Model Validation Function\n",
    "\n",
    "Used to measure the model performanc against the validation data set."
   ]
  },
  {
   "cell_type": "code",
   "execution_count": 20,
   "id": "733a89db-333d-4ff5-8ec7-97d7394ab8c2",
   "metadata": {
    "execution": {
     "iopub.execute_input": "2022-09-03T22:29:37.188150Z",
     "iopub.status.busy": "2022-09-03T22:29:37.187987Z",
     "iopub.status.idle": "2022-09-03T22:29:37.193935Z",
     "shell.execute_reply": "2022-09-03T22:29:37.193441Z",
     "shell.execute_reply.started": "2022-09-03T22:29:37.188137Z"
    },
    "pycharm": {
     "name": "#%%\n"
    }
   },
   "outputs": [],
   "source": [
    "'''\n",
    "Validation function measures model performance against the validation data set.\n",
    "\n",
    "Metrics are reported to W & B API.\n",
    "'''\n",
    "def validate(val_loader, model, criterion, epoch):\n",
    "    final_targets = []\n",
    "    final_outputs = []\n",
    "\n",
    "    metric_monitor = MetricMonitor()\n",
    "    model.eval() # place model in validation mode so that weights are not updated\n",
    "    stream = tqdm(enumerate(val_loader), total=len(val_loader))\n",
    "\n",
    "    with torch.no_grad():\n",
    "        for i, (images, target) in stream:\n",
    "            images = images.to(config['device'], non_blocking=True)\n",
    "            target = target.to(config['device'], non_blocking=True).float().view(-1, 1)\n",
    "\n",
    "            output = model(images) # make predictions\n",
    "\n",
    "            # calculate metrics\n",
    "            loss = criterion(output, target)\n",
    "            accuracy = accuracy_score(target.cpu(), (output.cpu().detach().numpy() > 0), normalize=False)\n",
    "            roc_auc = get_roc_auc(output, target)\n",
    "\n",
    "            # update metric monitor with metrics\n",
    "            metric_monitor.update('Loss', loss.item())\n",
    "            metric_monitor.update('Accuracy', accuracy)\n",
    "            metric_monitor.update('ROC AUC', roc_auc)\n",
    "\n",
    "            # report metrics to W & B API\n",
    "            wandb.log(\n",
    "                { 'Validation Epoch': epoch, 'Validation Loss': loss.item(), 'Validation Accuracy': accuracy, 'Validation ROC AUC': roc_auc }\n",
    "            )\n",
    "\n",
    "            stream.set_description(\n",
    "                'Epoch: {epoch}. Validation. {metric_monitor}'\n",
    "                .format(epoch=epoch, metric_monitor=metric_monitor)\n",
    "            )\n",
    "            \n",
    "            # keep track of predictions and targets to allow further examination\n",
    "            targets = target.detach().cpu().numpy().tolist()\n",
    "            outputs = output.detach().cpu().numpy().tolist()\n",
    "            \n",
    "            final_targets.extend(targets)\n",
    "            final_outputs.extend(outputs)\n",
    "\n",
    "    return final_outputs, final_targets"
   ]
  },
  {
   "cell_type": "markdown",
   "id": "7eda64f1-a9d2-4b6a-8cbd-2f61420d0dcb",
   "metadata": {
    "pycharm": {
     "name": "#%% md\n"
    }
   },
   "source": [
    "Create a directory to keep the best performing model state, so it can be reused in the future."
   ]
  },
  {
   "cell_type": "code",
   "execution_count": 21,
   "id": "51688b9f",
   "metadata": {
    "collapsed": false,
    "execution": {
     "iopub.execute_input": "2022-09-03T22:29:37.194615Z",
     "iopub.status.busy": "2022-09-03T22:29:37.194471Z",
     "iopub.status.idle": "2022-09-03T22:29:37.199284Z",
     "shell.execute_reply": "2022-09-03T22:29:37.198554Z",
     "shell.execute_reply.started": "2022-09-03T22:29:37.194602Z"
    },
    "jupyter": {
     "outputs_hidden": false
    },
    "pycharm": {
     "name": "#%%\n"
    }
   },
   "outputs": [],
   "source": [
    "# name the directory with the current timestamp\n",
    "current_datetime = datetime.now().strftime(\"%y-%m-%d_%H-%M-%S\")\n",
    "models_dir = os.path.join('models', current_datetime)\n",
    "\n",
    "os.mkdir(models_dir)"
   ]
  },
  {
   "cell_type": "markdown",
   "id": "ef58605b",
   "metadata": {
    "pycharm": {
     "name": "#%% md\n"
    }
   },
   "source": [
    "## Training and Validation Loop\n",
    "\n",
    "This loop uses k-folds cross validation to segment the training data and uses the segments in different permutations for training \n",
    "and validation. Allowing the data to be used for more training cycles.\n",
    "\n",
    "It both trains and validates the model for each fold.\n",
    "\n",
    "\n",
    "The best performin model and metrics are stored for future reference."
   ]
  },
  {
   "cell_type": "code",
   "execution_count": 22,
   "id": "89801c18-46c5-475f-a58e-eddeee0e7ea2",
   "metadata": {
    "execution": {
     "iopub.execute_input": "2022-09-03T22:29:37.200051Z",
     "iopub.status.busy": "2022-09-03T22:29:37.199908Z",
     "iopub.status.idle": "2022-09-04T03:26:05.933219Z",
     "shell.execute_reply": "2022-09-04T03:26:05.930436Z",
     "shell.execute_reply.started": "2022-09-03T22:29:37.200039Z"
    },
    "pycharm": {
     "name": "#%%\n"
    }
   },
   "outputs": [
    {
     "name": "stderr",
     "output_type": "stream",
     "text": [
      "\u001B[34m\u001B[1mwandb\u001B[0m: Logging into wandb.ai. (Learn how to deploy a W&B server locally: https://wandb.me/wandb-server)\n",
      "\u001B[34m\u001B[1mwandb\u001B[0m: You can find your API key in your browser here: https://wandb.ai/authorize\n",
      "\u001B[34m\u001B[1mwandb\u001B[0m: Paste an API key from your profile and hit enter, or press ctrl+c to quit:"
     ]
    },
    {
     "name": "stdin",
     "output_type": "stream",
     "text": [
      "  ········································\n"
     ]
    },
    {
     "name": "stderr",
     "output_type": "stream",
     "text": [
      "\u001B[34m\u001B[1mwandb\u001B[0m: Appending key for api.wandb.ai to your netrc file: /root/.netrc\n"
     ]
    },
    {
     "data": {
      "text/html": [
       "Tracking run with wandb version 0.13.2"
      ],
      "text/plain": [
       "<IPython.core.display.HTML object>"
      ]
     },
     "metadata": {},
     "output_type": "display_data"
    },
    {
     "data": {
      "text/html": [
       "Run data is saved locally in <code>/notebooks/wandb/run-20220903_223031-3jeaghgr</code>"
      ],
      "text/plain": [
       "<IPython.core.display.HTML object>"
      ]
     },
     "metadata": {},
     "output_type": "display_data"
    },
    {
     "data": {
      "text/html": [
       "Syncing run <strong><a href=\"https://wandb.ai/mllm3/SETI%20-%20300%20epochs%20-%20transform%20-%202/runs/3jeaghgr\" target=\"_blank\">eca_nfnet_l0</a></strong> to <a href=\"https://wandb.ai/mllm3/SETI%20-%20300%20epochs%20-%20transform%20-%202\" target=\"_blank\">Weights & Biases</a> (<a href=\"https://wandb.me/run\" target=\"_blank\">docs</a>)<br/>"
      ],
      "text/plain": [
       "<IPython.core.display.HTML object>"
      ]
     },
     "metadata": {},
     "output_type": "display_data"
    },
    {
     "name": "stdout",
     "output_type": "stream",
     "text": [
      "======================================== Fold: 0 ========================================\n"
     ]
    },
    {
     "name": "stderr",
     "output_type": "stream",
     "text": [
      "Epoch: 1. Train. Loss: 0.696 | Accuracy: 47.300 | ROC AUC: 0.507: 100%|██████████| 10/10 [00:18<00:00,  1.88s/it]\n",
      "/usr/local/lib/python3.9/dist-packages/torch/optim/lr_scheduler.py:131: UserWarning: Detected call of `lr_scheduler.step()` before `optimizer.step()`. In PyTorch 1.1.0 and later, you should call them in the opposite order: `optimizer.step()` before `lr_scheduler.step()`.  Failure to do this will result in PyTorch skipping the first value of the learning rate schedule. See more details at https://pytorch.org/docs/stable/optim.html#how-to-adjust-learning-rate\n",
      "  warnings.warn(\"Detected call of `lr_scheduler.step()` before `optimizer.step()`. \"\n",
      "Epoch: 1. Validation. Loss: 0.695 | Accuracy: 46.800 | ROC AUC: 0.481: 100%|██████████| 5/5 [00:06<00:00,  1.21s/it]\n",
      "Epoch: 2. Train. Loss: 0.691 | Accuracy: 50.900 | ROC AUC: 0.510: 100%|██████████| 10/10 [00:17<00:00,  1.76s/it]\n",
      "Epoch: 2. Validation. Loss: 0.701 | Accuracy: 46.200 | ROC AUC: 0.487: 100%|██████████| 5/5 [00:06<00:00,  1.20s/it]\n",
      "Epoch: 3. Train. Loss: 0.694 | Accuracy: 47.900 | ROC AUC: 0.510: 100%|██████████| 10/10 [00:17<00:00,  1.77s/it]\n",
      "Epoch: 3. Validation. Loss: 0.693 | Accuracy: 48.400 | ROC AUC: 0.510: 100%|██████████| 5/5 [00:06<00:00,  1.20s/it]\n",
      "Epoch: 4. Train. Loss: 0.693 | Accuracy: 46.700 | ROC AUC: 0.521: 100%|██████████| 10/10 [00:17<00:00,  1.76s/it]\n",
      "Epoch: 4. Validation. Loss: 0.694 | Accuracy: 48.800 | ROC AUC: 0.511: 100%|██████████| 5/5 [00:06<00:00,  1.20s/it]\n",
      "Epoch: 5. Train. Loss: 0.693 | Accuracy: 47.100 | ROC AUC: 0.518: 100%|██████████| 10/10 [00:17<00:00,  1.76s/it]\n",
      "Epoch: 5. Validation. Loss: 0.695 | Accuracy: 48.800 | ROC AUC: 0.513: 100%|██████████| 5/5 [00:05<00:00,  1.20s/it]\n",
      "Epoch: 6. Train. Loss: 0.693 | Accuracy: 48.300 | ROC AUC: 0.529: 100%|██████████| 10/10 [00:17<00:00,  1.77s/it]\n",
      "Epoch: 6. Validation. Loss: 0.694 | Accuracy: 49.600 | ROC AUC: 0.510: 100%|██████████| 5/5 [00:06<00:00,  1.21s/it]\n",
      "Epoch: 7. Train. Loss: 0.693 | Accuracy: 46.200 | ROC AUC: 0.509: 100%|██████████| 10/10 [00:17<00:00,  1.76s/it]\n",
      "Epoch: 7. Validation. Loss: 0.694 | Accuracy: 49.600 | ROC AUC: 0.506: 100%|██████████| 5/5 [00:05<00:00,  1.20s/it]\n",
      "Epoch: 8. Train. Loss: 0.692 | Accuracy: 47.600 | ROC AUC: 0.515: 100%|██████████| 10/10 [00:17<00:00,  1.76s/it]\n",
      "Epoch: 8. Validation. Loss: 0.695 | Accuracy: 48.200 | ROC AUC: 0.504: 100%|██████████| 5/5 [00:05<00:00,  1.19s/it]\n",
      "Epoch: 9. Train. Loss: 0.691 | Accuracy: 46.200 | ROC AUC: 0.510: 100%|██████████| 10/10 [00:17<00:00,  1.77s/it]\n",
      "Epoch: 9. Validation. Loss: 0.697 | Accuracy: 48.000 | ROC AUC: 0.501: 100%|██████████| 5/5 [00:06<00:00,  1.20s/it]\n",
      "Epoch: 10. Train. Loss: 0.693 | Accuracy: 47.200 | ROC AUC: 0.507: 100%|██████████| 10/10 [00:17<00:00,  1.78s/it]\n",
      "Epoch: 10. Validation. Loss: 0.697 | Accuracy: 48.000 | ROC AUC: 0.500: 100%|██████████| 5/5 [00:06<00:00,  1.20s/it]\n",
      "Epoch: 11. Train. Loss: 0.693 | Accuracy: 49.700 | ROC AUC: 0.528: 100%|██████████| 10/10 [00:17<00:00,  1.77s/it]\n",
      "Epoch: 11. Validation. Loss: 0.697 | Accuracy: 48.000 | ROC AUC: 0.501: 100%|██████████| 5/5 [00:06<00:00,  1.20s/it]\n",
      "Epoch: 12. Train. Loss: 0.693 | Accuracy: 46.800 | ROC AUC: 0.511: 100%|██████████| 10/10 [00:17<00:00,  1.76s/it]\n",
      "Epoch: 12. Validation. Loss: 0.696 | Accuracy: 48.000 | ROC AUC: 0.501: 100%|██████████| 5/5 [00:05<00:00,  1.19s/it]\n",
      "Epoch: 13. Train. Loss: 0.692 | Accuracy: 46.800 | ROC AUC: 0.494: 100%|██████████| 10/10 [00:17<00:00,  1.77s/it]\n",
      "Epoch: 13. Validation. Loss: 0.696 | Accuracy: 48.200 | ROC AUC: 0.499: 100%|██████████| 5/5 [00:05<00:00,  1.18s/it]\n",
      "Epoch: 14. Train. Loss: 0.691 | Accuracy: 48.200 | ROC AUC: 0.521: 100%|██████████| 10/10 [00:17<00:00,  1.78s/it]\n",
      "Epoch: 14. Validation. Loss: 0.695 | Accuracy: 45.600 | ROC AUC: 0.496: 100%|██████████| 5/5 [00:05<00:00,  1.20s/it]\n",
      "Epoch: 15. Train. Loss: 0.689 | Accuracy: 47.000 | ROC AUC: 0.514: 100%|██████████| 10/10 [00:17<00:00,  1.77s/it]\n",
      "Epoch: 15. Validation. Loss: 0.694 | Accuracy: 47.400 | ROC AUC: 0.500: 100%|██████████| 5/5 [00:06<00:00,  1.21s/it]\n",
      "Epoch: 16. Train. Loss: 0.689 | Accuracy: 47.500 | ROC AUC: 0.513: 100%|██████████| 10/10 [00:17<00:00,  1.77s/it]\n",
      "Epoch: 16. Validation. Loss: 0.694 | Accuracy: 48.400 | ROC AUC: 0.503: 100%|██████████| 5/5 [00:05<00:00,  1.19s/it]\n",
      "Epoch: 17. Train. Loss: 0.692 | Accuracy: 46.200 | ROC AUC: 0.486: 100%|██████████| 10/10 [00:17<00:00,  1.76s/it]\n",
      "Epoch: 17. Validation. Loss: 0.700 | Accuracy: 54.200 | ROC AUC: 0.511: 100%|██████████| 5/5 [00:05<00:00,  1.20s/it]\n",
      "Epoch: 18. Train. Loss: 0.685 | Accuracy: 49.600 | ROC AUC: 0.555: 100%|██████████| 10/10 [00:17<00:00,  1.76s/it]\n",
      "Epoch: 18. Validation. Loss: 0.670 | Accuracy: 54.200 | ROC AUC: 0.522: 100%|██████████| 5/5 [00:05<00:00,  1.19s/it]\n",
      "Epoch: 19. Train. Loss: 0.690 | Accuracy: 48.600 | ROC AUC: 0.550: 100%|██████████| 10/10 [00:17<00:00,  1.78s/it]\n",
      "Epoch: 19. Validation. Loss: 0.693 | Accuracy: 50.600 | ROC AUC: 0.513: 100%|██████████| 5/5 [00:06<00:00,  1.22s/it]\n",
      "Epoch: 20. Train. Loss: 0.692 | Accuracy: 46.300 | ROC AUC: 0.488: 100%|██████████| 10/10 [00:17<00:00,  1.77s/it]\n",
      "Epoch: 20. Validation. Loss: 0.697 | Accuracy: 48.600 | ROC AUC: 0.508: 100%|██████████| 5/5 [00:06<00:00,  1.23s/it]\n",
      "Epoch: 21. Train. Loss: 0.689 | Accuracy: 47.000 | ROC AUC: 0.530: 100%|██████████| 10/10 [00:17<00:00,  1.78s/it]\n",
      "Epoch: 21. Validation. Loss: 0.705 | Accuracy: 47.800 | ROC AUC: 0.514: 100%|██████████| 5/5 [00:06<00:00,  1.21s/it]\n",
      "Epoch: 22. Train. Loss: 0.688 | Accuracy: 49.900 | ROC AUC: 0.551: 100%|██████████| 10/10 [00:17<00:00,  1.78s/it]\n",
      "Epoch: 22. Validation. Loss: 0.717 | Accuracy: 48.800 | ROC AUC: 0.514: 100%|██████████| 5/5 [00:06<00:00,  1.20s/it]\n",
      "Epoch: 23. Train. Loss: 0.693 | Accuracy: 49.800 | ROC AUC: 0.529: 100%|██████████| 10/10 [00:17<00:00,  1.79s/it]\n",
      "Epoch: 23. Validation. Loss: 0.693 | Accuracy: 46.000 | ROC AUC: 0.524: 100%|██████████| 5/5 [00:06<00:00,  1.21s/it]\n",
      "Epoch: 24. Train. Loss: 0.692 | Accuracy: 45.700 | ROC AUC: 0.507: 100%|██████████| 10/10 [00:17<00:00,  1.77s/it]\n",
      "Epoch: 24. Validation. Loss: 0.686 | Accuracy: 52.800 | ROC AUC: 0.532: 100%|██████████| 5/5 [00:06<00:00,  1.21s/it]\n",
      "Epoch: 25. Train. Loss: 0.689 | Accuracy: 48.400 | ROC AUC: 0.522: 100%|██████████| 10/10 [00:17<00:00,  1.77s/it]\n",
      "Epoch: 25. Validation. Loss: 0.683 | Accuracy: 49.000 | ROC AUC: 0.538: 100%|██████████| 5/5 [00:06<00:00,  1.23s/it]\n",
      "Epoch: 26. Train. Loss: 0.691 | Accuracy: 49.000 | ROC AUC: 0.530: 100%|██████████| 10/10 [00:17<00:00,  1.80s/it]\n",
      "Epoch: 26. Validation. Loss: 0.683 | Accuracy: 49.200 | ROC AUC: 0.525: 100%|██████████| 5/5 [00:06<00:00,  1.21s/it]\n",
      "Epoch: 27. Train. Loss: 0.689 | Accuracy: 46.900 | ROC AUC: 0.515: 100%|██████████| 10/10 [00:17<00:00,  1.77s/it]\n",
      "Epoch: 27. Validation. Loss: 0.680 | Accuracy: 48.000 | ROC AUC: 0.525: 100%|██████████| 5/5 [00:05<00:00,  1.20s/it]\n",
      "Epoch: 28. Train. Loss: 0.686 | Accuracy: 50.000 | ROC AUC: 0.539: 100%|██████████| 10/10 [00:17<00:00,  1.77s/it]\n",
      "Epoch: 28. Validation. Loss: 0.678 | Accuracy: 47.200 | ROC AUC: 0.529: 100%|██████████| 5/5 [00:05<00:00,  1.19s/it]\n",
      "Epoch: 29. Train. Loss: 0.686 | Accuracy: 50.500 | ROC AUC: 0.531: 100%|██████████| 10/10 [00:17<00:00,  1.79s/it]\n",
      "Epoch: 29. Validation. Loss: 0.679 | Accuracy: 47.400 | ROC AUC: 0.528: 100%|██████████| 5/5 [00:06<00:00,  1.22s/it]\n",
      "Epoch: 30. Train. Loss: 0.693 | Accuracy: 44.100 | ROC AUC: 0.547: 100%|██████████| 10/10 [00:17<00:00,  1.78s/it]\n",
      "Epoch: 30. Validation. Loss: 0.677 | Accuracy: 48.000 | ROC AUC: 0.528: 100%|██████████| 5/5 [00:06<00:00,  1.20s/it]\n",
      "Epoch: 31. Train. Loss: 0.691 | Accuracy: 47.200 | ROC AUC: 0.551: 100%|██████████| 10/10 [00:17<00:00,  1.80s/it]\n",
      "Epoch: 31. Validation. Loss: 0.676 | Accuracy: 47.800 | ROC AUC: 0.529: 100%|██████████| 5/5 [00:06<00:00,  1.22s/it]\n",
      "Epoch: 32. Train. Loss: 0.684 | Accuracy: 49.300 | ROC AUC: 0.564: 100%|██████████| 10/10 [00:17<00:00,  1.80s/it]\n",
      "Epoch: 32. Validation. Loss: 0.675 | Accuracy: 47.600 | ROC AUC: 0.530: 100%|██████████| 5/5 [00:06<00:00,  1.22s/it]\n",
      "Epoch: 33. Train. Loss: 0.682 | Accuracy: 50.300 | ROC AUC: 0.567: 100%|██████████| 10/10 [00:17<00:00,  1.77s/it]\n",
      "Epoch: 33. Validation. Loss: 0.675 | Accuracy: 48.600 | ROC AUC: 0.529: 100%|██████████| 5/5 [00:05<00:00,  1.20s/it]\n",
      "Epoch: 34. Train. Loss: 0.686 | Accuracy: 50.200 | ROC AUC: 0.531: 100%|██████████| 10/10 [00:17<00:00,  1.78s/it]\n",
      "Epoch: 34. Validation. Loss: 0.673 | Accuracy: 48.200 | ROC AUC: 0.527: 100%|██████████| 5/5 [00:05<00:00,  1.20s/it]\n",
      "Epoch: 35. Train. Loss: 0.682 | Accuracy: 47.800 | ROC AUC: 0.522: 100%|██████████| 10/10 [00:17<00:00,  1.76s/it]\n",
      "Epoch: 35. Validation. Loss: 0.674 | Accuracy: 52.800 | ROC AUC: 0.526: 100%|██████████| 5/5 [00:06<00:00,  1.21s/it]\n",
      "Epoch: 36. Train. Loss: 0.682 | Accuracy: 50.300 | ROC AUC: 0.551: 100%|██████████| 10/10 [00:17<00:00,  1.78s/it]\n",
      "Epoch: 36. Validation. Loss: 0.669 | Accuracy: 54.400 | ROC AUC: 0.523: 100%|██████████| 5/5 [00:06<00:00,  1.20s/it]\n",
      "Epoch: 37. Train. Loss: 0.680 | Accuracy: 50.300 | ROC AUC: 0.544: 100%|██████████| 10/10 [00:17<00:00,  1.78s/it]\n",
      "Epoch: 37. Validation. Loss: 0.660 | Accuracy: 54.000 | ROC AUC: 0.533: 100%|██████████| 5/5 [00:05<00:00,  1.20s/it]\n",
      "Epoch: 38. Train. Loss: 0.691 | Accuracy: 49.700 | ROC AUC: 0.561: 100%|██████████| 10/10 [00:17<00:00,  1.76s/it]\n",
      "Epoch: 38. Validation. Loss: 0.698 | Accuracy: 50.600 | ROC AUC: 0.508: 100%|██████████| 5/5 [00:06<00:00,  1.22s/it]\n",
      "Epoch: 39. Train. Loss: 0.691 | Accuracy: 46.000 | ROC AUC: 0.499: 100%|██████████| 10/10 [00:17<00:00,  1.77s/it]\n",
      "Epoch: 39. Validation. Loss: 0.691 | Accuracy: 49.000 | ROC AUC: 0.493: 100%|██████████| 5/5 [00:05<00:00,  1.20s/it]\n",
      "Epoch: 40. Train. Loss: 0.692 | Accuracy: 48.700 | ROC AUC: 0.521: 100%|██████████| 10/10 [00:17<00:00,  1.77s/it]\n",
      "Epoch: 40. Validation. Loss: 0.686 | Accuracy: 52.400 | ROC AUC: 0.496: 100%|██████████| 5/5 [00:06<00:00,  1.22s/it]\n",
      "Epoch: 41. Train. Loss: 0.693 | Accuracy: 46.000 | ROC AUC: 0.509: 100%|██████████| 10/10 [00:17<00:00,  1.78s/it]\n",
      "Epoch: 41. Validation. Loss: 0.688 | Accuracy: 52.600 | ROC AUC: 0.508: 100%|██████████| 5/5 [00:05<00:00,  1.20s/it]\n",
      "Epoch: 42. Train. Loss: 0.686 | Accuracy: 49.500 | ROC AUC: 0.554: 100%|██████████| 10/10 [00:17<00:00,  1.80s/it]\n",
      "Epoch: 42. Validation. Loss: 0.689 | Accuracy: 48.800 | ROC AUC: 0.517: 100%|██████████| 5/5 [00:06<00:00,  1.23s/it]\n",
      "Epoch: 43. Train. Loss: 0.689 | Accuracy: 47.500 | ROC AUC: 0.567: 100%|██████████| 10/10 [00:17<00:00,  1.79s/it]\n",
      "Epoch: 43. Validation. Loss: 0.683 | Accuracy: 49.800 | ROC AUC: 0.515: 100%|██████████| 5/5 [00:06<00:00,  1.20s/it]\n",
      "Epoch: 44. Train. Loss: 0.682 | Accuracy: 49.400 | ROC AUC: 0.537: 100%|██████████| 10/10 [00:17<00:00,  1.77s/it]\n",
      "Epoch: 44. Validation. Loss: 0.694 | Accuracy: 49.400 | ROC AUC: 0.504: 100%|██████████| 5/5 [00:05<00:00,  1.19s/it]\n",
      "Epoch: 45. Train. Loss: 0.680 | Accuracy: 50.300 | ROC AUC: 0.575: 100%|██████████| 10/10 [00:17<00:00,  1.76s/it]\n",
      "Epoch: 45. Validation. Loss: 0.672 | Accuracy: 51.000 | ROC AUC: 0.520: 100%|██████████| 5/5 [00:05<00:00,  1.19s/it]\n",
      "Epoch: 46. Train. Loss: 0.680 | Accuracy: 52.600 | ROC AUC: 0.594: 100%|██████████| 10/10 [00:17<00:00,  1.76s/it]\n",
      "Epoch: 46. Validation. Loss: 0.684 | Accuracy: 54.200 | ROC AUC: 0.509: 100%|██████████| 5/5 [00:05<00:00,  1.19s/it]\n",
      "Epoch: 47. Train. Loss: 0.682 | Accuracy: 48.800 | ROC AUC: 0.549: 100%|██████████| 10/10 [00:17<00:00,  1.76s/it]\n",
      "Epoch: 47. Validation. Loss: 0.666 | Accuracy: 52.800 | ROC AUC: 0.519: 100%|██████████| 5/5 [00:05<00:00,  1.20s/it]\n",
      "Epoch: 48. Train. Loss: 0.680 | Accuracy: 50.000 | ROC AUC: 0.542: 100%|██████████| 10/10 [00:17<00:00,  1.78s/it]\n",
      "Epoch: 48. Validation. Loss: 0.664 | Accuracy: 50.200 | ROC AUC: 0.521: 100%|██████████| 5/5 [00:06<00:00,  1.21s/it]\n",
      "Epoch: 49. Train. Loss: 0.668 | Accuracy: 52.300 | ROC AUC: 0.577: 100%|██████████| 10/10 [00:17<00:00,  1.77s/it]\n",
      "Epoch: 49. Validation. Loss: 0.659 | Accuracy: 51.400 | ROC AUC: 0.525: 100%|██████████| 5/5 [00:06<00:00,  1.21s/it]\n",
      "Epoch: 50. Train. Loss: 0.681 | Accuracy: 51.200 | ROC AUC: 0.577: 100%|██████████| 10/10 [00:17<00:00,  1.76s/it]\n",
      "Epoch: 50. Validation. Loss: 0.660 | Accuracy: 51.800 | ROC AUC: 0.524: 100%|██████████| 5/5 [00:06<00:00,  1.21s/it]\n",
      "Epoch: 51. Train. Loss: 0.687 | Accuracy: 51.500 | ROC AUC: 0.564: 100%|██████████| 10/10 [00:17<00:00,  1.79s/it]\n",
      "Epoch: 51. Validation. Loss: 0.660 | Accuracy: 51.800 | ROC AUC: 0.523: 100%|██████████| 5/5 [00:05<00:00,  1.19s/it]\n",
      "Epoch: 52. Train. Loss: 0.675 | Accuracy: 53.100 | ROC AUC: 0.593: 100%|██████████| 10/10 [00:17<00:00,  1.77s/it]\n",
      "Epoch: 52. Validation. Loss: 0.659 | Accuracy: 52.600 | ROC AUC: 0.523: 100%|██████████| 5/5 [00:06<00:00,  1.21s/it]\n",
      "Epoch: 53. Train. Loss: 0.682 | Accuracy: 52.500 | ROC AUC: 0.577: 100%|██████████| 10/10 [00:17<00:00,  1.77s/it]\n",
      "Epoch: 53. Validation. Loss: 0.660 | Accuracy: 53.800 | ROC AUC: 0.523: 100%|██████████| 5/5 [00:06<00:00,  1.20s/it]\n",
      "Epoch: 54. Train. Loss: 0.663 | Accuracy: 53.700 | ROC AUC: 0.605: 100%|██████████| 10/10 [00:17<00:00,  1.77s/it]\n",
      "Epoch: 54. Validation. Loss: 0.658 | Accuracy: 52.400 | ROC AUC: 0.528: 100%|██████████| 5/5 [00:05<00:00,  1.20s/it]\n",
      "Epoch: 55. Train. Loss: 0.679 | Accuracy: 50.600 | ROC AUC: 0.569: 100%|██████████| 10/10 [00:17<00:00,  1.77s/it]\n",
      "Epoch: 55. Validation. Loss: 0.664 | Accuracy: 52.400 | ROC AUC: 0.530: 100%|██████████| 5/5 [00:05<00:00,  1.20s/it]\n",
      "Epoch: 56. Train. Loss: 0.672 | Accuracy: 52.600 | ROC AUC: 0.561: 100%|██████████| 10/10 [00:17<00:00,  1.77s/it]\n",
      "Epoch: 56. Validation. Loss: 0.725 | Accuracy: 53.000 | ROC AUC: 0.512: 100%|██████████| 5/5 [00:05<00:00,  1.20s/it]\n",
      "Epoch: 57. Train. Loss: 0.678 | Accuracy: 51.300 | ROC AUC: 0.553: 100%|██████████| 10/10 [00:17<00:00,  1.78s/it]\n",
      "Epoch: 57. Validation. Loss: 0.653 | Accuracy: 52.400 | ROC AUC: 0.536: 100%|██████████| 5/5 [00:06<00:00,  1.21s/it]\n",
      "Epoch: 58. Train. Loss: 0.676 | Accuracy: 50.300 | ROC AUC: 0.585: 100%|██████████| 10/10 [00:17<00:00,  1.78s/it]\n",
      "Epoch: 58. Validation. Loss: 0.658 | Accuracy: 57.000 | ROC AUC: 0.533: 100%|██████████| 5/5 [00:06<00:00,  1.20s/it]\n",
      "Epoch: 59. Train. Loss: 0.683 | Accuracy: 51.300 | ROC AUC: 0.560: 100%|██████████| 10/10 [00:17<00:00,  1.78s/it]\n",
      "Epoch: 59. Validation. Loss: 0.653 | Accuracy: 56.600 | ROC AUC: 0.534: 100%|██████████| 5/5 [00:06<00:00,  1.21s/it]\n",
      "Epoch: 60. Train. Loss: 0.680 | Accuracy: 51.600 | ROC AUC: 0.582: 100%|██████████| 10/10 [00:17<00:00,  1.79s/it]\n",
      "Epoch: 60. Validation. Loss: 0.655 | Accuracy: 57.800 | ROC AUC: 0.531: 100%|██████████| 5/5 [00:06<00:00,  1.23s/it]\n",
      "Epoch: 61. Train. Loss: 0.671 | Accuracy: 53.700 | ROC AUC: 0.611: 100%|██████████| 10/10 [00:17<00:00,  1.77s/it]\n",
      "Epoch: 61. Validation. Loss: 0.676 | Accuracy: 55.400 | ROC AUC: 0.527: 100%|██████████| 5/5 [00:06<00:00,  1.21s/it]\n",
      "Epoch: 62. Train. Loss: 0.669 | Accuracy: 51.400 | ROC AUC: 0.596: 100%|██████████| 10/10 [00:17<00:00,  1.78s/it]\n",
      "Epoch: 62. Validation. Loss: 0.709 | Accuracy: 49.400 | ROC AUC: 0.523: 100%|██████████| 5/5 [00:06<00:00,  1.20s/it]\n",
      "Epoch: 63. Train. Loss: 0.674 | Accuracy: 50.300 | ROC AUC: 0.573: 100%|██████████| 10/10 [00:17<00:00,  1.76s/it]\n",
      "Epoch: 63. Validation. Loss: 0.685 | Accuracy: 52.800 | ROC AUC: 0.531: 100%|██████████| 5/5 [00:05<00:00,  1.19s/it]\n",
      "Epoch: 64. Train. Loss: 0.672 | Accuracy: 51.300 | ROC AUC: 0.602: 100%|██████████| 10/10 [00:17<00:00,  1.77s/it]\n",
      "Epoch: 64. Validation. Loss: 0.664 | Accuracy: 55.800 | ROC AUC: 0.534: 100%|██████████| 5/5 [00:05<00:00,  1.19s/it]\n",
      "Epoch: 65. Train. Loss: 0.673 | Accuracy: 50.500 | ROC AUC: 0.573: 100%|██████████| 10/10 [00:17<00:00,  1.78s/it]\n",
      "Epoch: 65. Validation. Loss: 0.675 | Accuracy: 53.400 | ROC AUC: 0.521: 100%|██████████| 5/5 [00:06<00:00,  1.20s/it]\n",
      "Epoch: 66. Train. Loss: 0.678 | Accuracy: 52.800 | ROC AUC: 0.588: 100%|██████████| 10/10 [00:17<00:00,  1.77s/it]\n",
      "Epoch: 66. Validation. Loss: 0.705 | Accuracy: 51.200 | ROC AUC: 0.511: 100%|██████████| 5/5 [00:06<00:00,  1.21s/it]\n",
      "Epoch: 67. Train. Loss: 0.678 | Accuracy: 48.000 | ROC AUC: 0.544: 100%|██████████| 10/10 [00:17<00:00,  1.78s/it]\n",
      "Epoch: 67. Validation. Loss: 0.693 | Accuracy: 52.600 | ROC AUC: 0.518: 100%|██████████| 5/5 [00:06<00:00,  1.23s/it]\n",
      "Epoch: 68. Train. Loss: 0.684 | Accuracy: 51.500 | ROC AUC: 0.580: 100%|██████████| 10/10 [00:17<00:00,  1.78s/it]\n",
      "Epoch: 68. Validation. Loss: 0.685 | Accuracy: 53.800 | ROC AUC: 0.520: 100%|██████████| 5/5 [00:06<00:00,  1.24s/it]\n",
      "Epoch: 69. Train. Loss: 0.669 | Accuracy: 54.900 | ROC AUC: 0.616: 100%|██████████| 10/10 [00:17<00:00,  1.79s/it]\n",
      "Epoch: 69. Validation. Loss: 0.682 | Accuracy: 53.000 | ROC AUC: 0.523: 100%|██████████| 5/5 [00:05<00:00,  1.19s/it]\n",
      "Epoch: 70. Train. Loss: 0.658 | Accuracy: 50.800 | ROC AUC: 0.564: 100%|██████████| 10/10 [00:17<00:00,  1.77s/it]\n",
      "Epoch: 70. Validation. Loss: 0.681 | Accuracy: 53.400 | ROC AUC: 0.524: 100%|██████████| 5/5 [00:06<00:00,  1.21s/it]\n",
      "Epoch: 71. Train. Loss: 0.664 | Accuracy: 47.300 | ROC AUC: 0.576: 100%|██████████| 10/10 [00:17<00:00,  1.76s/it]\n",
      "Epoch: 71. Validation. Loss: 0.680 | Accuracy: 53.200 | ROC AUC: 0.524: 100%|██████████| 5/5 [00:05<00:00,  1.19s/it]\n",
      "Epoch: 72. Train. Loss: 0.667 | Accuracy: 53.300 | ROC AUC: 0.605: 100%|██████████| 10/10 [00:17<00:00,  1.76s/it]\n",
      "Epoch: 72. Validation. Loss: 0.680 | Accuracy: 53.800 | ROC AUC: 0.525: 100%|██████████| 5/5 [00:05<00:00,  1.20s/it]\n",
      "Epoch: 73. Train. Loss: 0.663 | Accuracy: 54.200 | ROC AUC: 0.600: 100%|██████████| 10/10 [00:17<00:00,  1.78s/it]\n",
      "Epoch: 73. Validation. Loss: 0.679 | Accuracy: 54.000 | ROC AUC: 0.526: 100%|██████████| 5/5 [00:05<00:00,  1.19s/it]\n",
      "Epoch: 74. Train. Loss: 0.670 | Accuracy: 51.900 | ROC AUC: 0.572: 100%|██████████| 10/10 [00:17<00:00,  1.78s/it]\n",
      "Epoch: 74. Validation. Loss: 0.673 | Accuracy: 54.000 | ROC AUC: 0.527: 100%|██████████| 5/5 [00:06<00:00,  1.22s/it]\n",
      "Epoch: 75. Train. Loss: 0.662 | Accuracy: 53.700 | ROC AUC: 0.591: 100%|██████████| 10/10 [00:17<00:00,  1.78s/it]\n",
      "Epoch: 75. Validation. Loss: 0.664 | Accuracy: 54.000 | ROC AUC: 0.530: 100%|██████████| 5/5 [00:05<00:00,  1.19s/it]\n",
      "Epoch: 76. Train. Loss: 0.650 | Accuracy: 51.300 | ROC AUC: 0.585: 100%|██████████| 10/10 [00:17<00:00,  1.77s/it]\n",
      "Epoch: 76. Validation. Loss: 0.678 | Accuracy: 53.000 | ROC AUC: 0.524: 100%|██████████| 5/5 [00:05<00:00,  1.19s/it]\n",
      "Epoch: 77. Train. Loss: 0.667 | Accuracy: 52.000 | ROC AUC: 0.599: 100%|██████████| 10/10 [00:17<00:00,  1.76s/it]\n",
      "Epoch: 77. Validation. Loss: 0.714 | Accuracy: 51.200 | ROC AUC: 0.519: 100%|██████████| 5/5 [00:05<00:00,  1.20s/it]\n",
      "Epoch: 78. Train. Loss: 0.662 | Accuracy: 55.500 | ROC AUC: 0.635: 100%|██████████| 10/10 [00:17<00:00,  1.79s/it]\n",
      "Epoch: 78. Validation. Loss: 0.704 | Accuracy: 51.200 | ROC AUC: 0.530: 100%|██████████| 5/5 [00:06<00:00,  1.22s/it]\n",
      "Epoch: 79. Train. Loss: 0.663 | Accuracy: 53.100 | ROC AUC: 0.589: 100%|██████████| 10/10 [00:17<00:00,  1.77s/it]\n",
      "Epoch: 79. Validation. Loss: 0.677 | Accuracy: 51.600 | ROC AUC: 0.523: 100%|██████████| 5/5 [00:06<00:00,  1.21s/it]\n",
      "Epoch: 80. Train. Loss: 0.670 | Accuracy: 53.100 | ROC AUC: 0.620: 100%|██████████| 10/10 [00:17<00:00,  1.77s/it]\n",
      "Epoch: 80. Validation. Loss: 0.668 | Accuracy: 53.200 | ROC AUC: 0.521: 100%|██████████| 5/5 [00:06<00:00,  1.20s/it]\n",
      "Epoch: 81. Train. Loss: 0.670 | Accuracy: 52.300 | ROC AUC: 0.585: 100%|██████████| 10/10 [00:17<00:00,  1.77s/it]\n",
      "Epoch: 81. Validation. Loss: 0.718 | Accuracy: 55.200 | ROC AUC: 0.529: 100%|██████████| 5/5 [00:06<00:00,  1.20s/it]\n",
      "Epoch: 82. Train. Loss: 0.661 | Accuracy: 52.000 | ROC AUC: 0.576: 100%|██████████| 10/10 [00:17<00:00,  1.79s/it]\n",
      "Epoch: 82. Validation. Loss: 0.661 | Accuracy: 58.800 | ROC AUC: 0.527: 100%|██████████| 5/5 [00:06<00:00,  1.21s/it]\n",
      "Epoch: 83. Train. Loss: 0.670 | Accuracy: 50.600 | ROC AUC: 0.580: 100%|██████████| 10/10 [00:17<00:00,  1.77s/it]\n",
      "Epoch: 83. Validation. Loss: 0.662 | Accuracy: 58.200 | ROC AUC: 0.533: 100%|██████████| 5/5 [00:05<00:00,  1.19s/it]\n",
      "Epoch: 84. Train. Loss: 0.673 | Accuracy: 50.800 | ROC AUC: 0.565: 100%|██████████| 10/10 [00:17<00:00,  1.78s/it]\n",
      "Epoch: 84. Validation. Loss: 0.661 | Accuracy: 52.600 | ROC AUC: 0.523: 100%|██████████| 5/5 [00:06<00:00,  1.22s/it]\n",
      "Epoch: 85. Train. Loss: 0.667 | Accuracy: 53.500 | ROC AUC: 0.611: 100%|██████████| 10/10 [00:17<00:00,  1.77s/it]\n",
      "Epoch: 85. Validation. Loss: 0.673 | Accuracy: 55.600 | ROC AUC: 0.525: 100%|██████████| 5/5 [00:06<00:00,  1.22s/it]\n",
      "Epoch: 86. Train. Loss: 0.657 | Accuracy: 53.400 | ROC AUC: 0.602: 100%|██████████| 10/10 [00:17<00:00,  1.78s/it]\n",
      "Epoch: 86. Validation. Loss: 0.684 | Accuracy: 57.800 | ROC AUC: 0.523: 100%|██████████| 5/5 [00:06<00:00,  1.20s/it]\n",
      "Epoch: 87. Train. Loss: 0.659 | Accuracy: 56.700 | ROC AUC: 0.616: 100%|██████████| 10/10 [00:17<00:00,  1.79s/it]\n",
      "Epoch: 87. Validation. Loss: 0.677 | Accuracy: 58.600 | ROC AUC: 0.528: 100%|██████████| 5/5 [00:06<00:00,  1.21s/it]\n",
      "Epoch: 88. Train. Loss: 0.652 | Accuracy: 50.700 | ROC AUC: 0.560: 100%|██████████| 10/10 [00:17<00:00,  1.79s/it]\n",
      "Epoch: 88. Validation. Loss: 0.663 | Accuracy: 57.400 | ROC AUC: 0.524: 100%|██████████| 5/5 [00:06<00:00,  1.21s/it]\n",
      "Epoch: 89. Train. Loss: 0.645 | Accuracy: 53.200 | ROC AUC: 0.627: 100%|██████████| 10/10 [00:17<00:00,  1.78s/it]\n",
      "Epoch: 89. Validation. Loss: 0.671 | Accuracy: 56.600 | ROC AUC: 0.522: 100%|██████████| 5/5 [00:06<00:00,  1.21s/it]\n",
      "Epoch: 90. Train. Loss: 0.664 | Accuracy: 54.400 | ROC AUC: 0.602: 100%|██████████| 10/10 [00:17<00:00,  1.76s/it]\n",
      "Epoch: 90. Validation. Loss: 0.677 | Accuracy: 56.200 | ROC AUC: 0.524: 100%|██████████| 5/5 [00:06<00:00,  1.23s/it]\n",
      "Epoch: 91. Train. Loss: 0.645 | Accuracy: 55.100 | ROC AUC: 0.631: 100%|██████████| 10/10 [00:17<00:00,  1.79s/it]\n",
      "Epoch: 91. Validation. Loss: 0.677 | Accuracy: 55.800 | ROC AUC: 0.524: 100%|██████████| 5/5 [00:06<00:00,  1.22s/it]\n",
      "Epoch: 92. Train. Loss: 0.648 | Accuracy: 53.700 | ROC AUC: 0.596: 100%|██████████| 10/10 [00:17<00:00,  1.77s/it]\n",
      "Epoch: 92. Validation. Loss: 0.675 | Accuracy: 56.600 | ROC AUC: 0.523: 100%|██████████| 5/5 [00:06<00:00,  1.21s/it]\n",
      "Epoch: 93. Train. Loss: 0.656 | Accuracy: 54.600 | ROC AUC: 0.617: 100%|██████████| 10/10 [00:17<00:00,  1.76s/it]\n",
      "Epoch: 93. Validation. Loss: 0.675 | Accuracy: 57.200 | ROC AUC: 0.524: 100%|██████████| 5/5 [00:06<00:00,  1.21s/it]\n",
      "Epoch: 94. Train. Loss: 0.658 | Accuracy: 52.500 | ROC AUC: 0.621: 100%|██████████| 10/10 [00:17<00:00,  1.77s/it]\n",
      "Epoch: 94. Validation. Loss: 0.693 | Accuracy: 55.800 | ROC AUC: 0.522: 100%|██████████| 5/5 [00:06<00:00,  1.21s/it]\n",
      "Epoch: 95. Train. Loss: 0.646 | Accuracy: 55.300 | ROC AUC: 0.611: 100%|██████████| 10/10 [00:17<00:00,  1.77s/it]\n",
      "Epoch: 95. Validation. Loss: 0.690 | Accuracy: 55.200 | ROC AUC: 0.523: 100%|██████████| 5/5 [00:06<00:00,  1.20s/it]\n",
      "Epoch: 96. Train. Loss: 0.624 | Accuracy: 55.500 | ROC AUC: 0.630: 100%|██████████| 10/10 [00:17<00:00,  1.77s/it]\n",
      "Epoch: 96. Validation. Loss: 0.699 | Accuracy: 54.800 | ROC AUC: 0.521: 100%|██████████| 5/5 [00:05<00:00,  1.18s/it]\n",
      "Epoch: 97. Train. Loss: 0.657 | Accuracy: 55.700 | ROC AUC: 0.642: 100%|██████████| 10/10 [00:17<00:00,  1.79s/it]\n",
      "Epoch: 97. Validation. Loss: 0.707 | Accuracy: 52.800 | ROC AUC: 0.520: 100%|██████████| 5/5 [00:06<00:00,  1.20s/it]\n",
      "Epoch: 98. Train. Loss: 0.634 | Accuracy: 51.600 | ROC AUC: 0.602: 100%|██████████| 10/10 [00:17<00:00,  1.78s/it]\n",
      "Epoch: 98. Validation. Loss: 0.728 | Accuracy: 53.400 | ROC AUC: 0.518: 100%|██████████| 5/5 [00:06<00:00,  1.23s/it]\n",
      "Epoch: 99. Train. Loss: 0.646 | Accuracy: 55.300 | ROC AUC: 0.631: 100%|██████████| 10/10 [00:17<00:00,  1.79s/it]\n",
      "Epoch: 99. Validation. Loss: 0.675 | Accuracy: 55.400 | ROC AUC: 0.527: 100%|██████████| 5/5 [00:06<00:00,  1.21s/it]\n",
      "Epoch: 100. Train. Loss: 0.637 | Accuracy: 57.000 | ROC AUC: 0.662: 100%|██████████| 10/10 [00:17<00:00,  1.78s/it]\n",
      "Epoch: 100. Validation. Loss: 0.699 | Accuracy: 51.000 | ROC AUC: 0.525: 100%|██████████| 5/5 [00:06<00:00,  1.21s/it]\n",
      "Epoch: 101. Train. Loss: 0.648 | Accuracy: 53.900 | ROC AUC: 0.628: 100%|██████████| 10/10 [00:17<00:00,  1.77s/it]\n",
      "Epoch: 101. Validation. Loss: 0.715 | Accuracy: 51.000 | ROC AUC: 0.508: 100%|██████████| 5/5 [00:06<00:00,  1.22s/it]\n",
      "Epoch: 102. Train. Loss: 0.646 | Accuracy: 51.900 | ROC AUC: 0.624: 100%|██████████| 10/10 [00:17<00:00,  1.77s/it]\n",
      "Epoch: 102. Validation. Loss: 0.763 | Accuracy: 51.200 | ROC AUC: 0.507: 100%|██████████| 5/5 [00:05<00:00,  1.20s/it]\n",
      "Epoch: 103. Train. Loss: 0.668 | Accuracy: 53.400 | ROC AUC: 0.605: 100%|██████████| 10/10 [00:17<00:00,  1.77s/it]\n",
      "Epoch: 103. Validation. Loss: 0.711 | Accuracy: 53.200 | ROC AUC: 0.509: 100%|██████████| 5/5 [00:06<00:00,  1.21s/it]\n",
      "Epoch: 104. Train. Loss: 0.655 | Accuracy: 52.400 | ROC AUC: 0.590: 100%|██████████| 10/10 [00:17<00:00,  1.78s/it]\n",
      "Epoch: 104. Validation. Loss: 0.703 | Accuracy: 54.200 | ROC AUC: 0.518: 100%|██████████| 5/5 [00:05<00:00,  1.20s/it]\n",
      "Epoch: 105. Train. Loss: 0.641 | Accuracy: 54.300 | ROC AUC: 0.627: 100%|██████████| 10/10 [00:17<00:00,  1.78s/it]\n",
      "Epoch: 105. Validation. Loss: 0.713 | Accuracy: 56.400 | ROC AUC: 0.529: 100%|██████████| 5/5 [00:06<00:00,  1.21s/it]\n",
      "Epoch: 106. Train. Loss: 0.637 | Accuracy: 53.300 | ROC AUC: 0.609: 100%|██████████| 10/10 [00:17<00:00,  1.78s/it]\n",
      "Epoch: 106. Validation. Loss: 0.706 | Accuracy: 56.600 | ROC AUC: 0.525: 100%|██████████| 5/5 [00:06<00:00,  1.21s/it]\n",
      "Epoch: 107. Train. Loss: 0.639 | Accuracy: 55.800 | ROC AUC: 0.659: 100%|██████████| 10/10 [00:17<00:00,  1.77s/it]\n",
      "Epoch: 107. Validation. Loss: 0.728 | Accuracy: 56.600 | ROC AUC: 0.515: 100%|██████████| 5/5 [00:05<00:00,  1.19s/it]\n",
      "Epoch: 108. Train. Loss: 0.650 | Accuracy: 54.800 | ROC AUC: 0.617: 100%|██████████| 10/10 [00:17<00:00,  1.77s/it]\n",
      "Epoch: 108. Validation. Loss: 0.742 | Accuracy: 56.200 | ROC AUC: 0.512: 100%|██████████| 5/5 [00:06<00:00,  1.22s/it]\n",
      "Epoch: 109. Train. Loss: 0.639 | Accuracy: 52.600 | ROC AUC: 0.584: 100%|██████████| 10/10 [00:17<00:00,  1.78s/it]\n",
      "Epoch: 109. Validation. Loss: 0.734 | Accuracy: 55.200 | ROC AUC: 0.513: 100%|██████████| 5/5 [00:06<00:00,  1.21s/it]\n",
      "Epoch: 110. Train. Loss: 0.616 | Accuracy: 58.300 | ROC AUC: 0.653: 100%|██████████| 10/10 [00:17<00:00,  1.79s/it]\n",
      "Epoch: 110. Validation. Loss: 0.733 | Accuracy: 55.000 | ROC AUC: 0.514: 100%|██████████| 5/5 [00:06<00:00,  1.21s/it]\n",
      "Epoch: 111. Train. Loss: 0.624 | Accuracy: 50.500 | ROC AUC: 0.551: 100%|██████████| 10/10 [00:17<00:00,  1.77s/it]\n",
      "Epoch: 111. Validation. Loss: 0.732 | Accuracy: 55.200 | ROC AUC: 0.514: 100%|██████████| 5/5 [00:06<00:00,  1.22s/it]\n",
      "Epoch: 112. Train. Loss: 0.627 | Accuracy: 53.100 | ROC AUC: 0.623: 100%|██████████| 10/10 [00:17<00:00,  1.76s/it]\n",
      "Epoch: 112. Validation. Loss: 0.727 | Accuracy: 55.400 | ROC AUC: 0.515: 100%|██████████| 5/5 [00:05<00:00,  1.20s/it]\n",
      "Epoch: 113. Train. Loss: 0.596 | Accuracy: 56.600 | ROC AUC: 0.681: 100%|██████████| 10/10 [00:17<00:00,  1.77s/it]\n",
      "Epoch: 113. Validation. Loss: 0.722 | Accuracy: 56.000 | ROC AUC: 0.518: 100%|██████████| 5/5 [00:05<00:00,  1.19s/it]\n",
      "Epoch: 114. Train. Loss: 0.620 | Accuracy: 60.300 | ROC AUC: 0.687: 100%|██████████| 10/10 [00:17<00:00,  1.78s/it]\n",
      "Epoch: 114. Validation. Loss: 0.732 | Accuracy: 57.000 | ROC AUC: 0.518: 100%|██████████| 5/5 [00:06<00:00,  1.21s/it]\n",
      "Epoch: 115. Train. Loss: 0.614 | Accuracy: 56.900 | ROC AUC: 0.642: 100%|██████████| 10/10 [00:17<00:00,  1.80s/it]\n",
      "Epoch: 115. Validation. Loss: 0.754 | Accuracy: 53.400 | ROC AUC: 0.513: 100%|██████████| 5/5 [00:06<00:00,  1.21s/it]\n",
      "Epoch: 116. Train. Loss: 0.612 | Accuracy: 54.400 | ROC AUC: 0.638: 100%|██████████| 10/10 [00:17<00:00,  1.79s/it]\n",
      "Epoch: 116. Validation. Loss: 0.785 | Accuracy: 52.400 | ROC AUC: 0.513: 100%|██████████| 5/5 [00:06<00:00,  1.23s/it]\n",
      "Epoch: 117. Train. Loss: 0.605 | Accuracy: 57.300 | ROC AUC: 0.645: 100%|██████████| 10/10 [00:17<00:00,  1.78s/it]\n",
      "Epoch: 117. Validation. Loss: 0.743 | Accuracy: 54.800 | ROC AUC: 0.523: 100%|██████████| 5/5 [00:05<00:00,  1.19s/it]\n",
      "Epoch: 118. Train. Loss: 0.632 | Accuracy: 57.600 | ROC AUC: 0.660: 100%|██████████| 10/10 [00:17<00:00,  1.77s/it]\n",
      "Epoch: 118. Validation. Loss: 0.709 | Accuracy: 55.800 | ROC AUC: 0.516: 100%|██████████| 5/5 [00:05<00:00,  1.19s/it]\n",
      "Epoch: 119. Train. Loss: 0.641 | Accuracy: 56.800 | ROC AUC: 0.654: 100%|██████████| 10/10 [00:17<00:00,  1.78s/it]\n",
      "Epoch: 119. Validation. Loss: 0.721 | Accuracy: 52.200 | ROC AUC: 0.510: 100%|██████████| 5/5 [00:06<00:00,  1.23s/it]\n",
      "Epoch: 120. Train. Loss: 0.634 | Accuracy: 56.700 | ROC AUC: 0.659: 100%|██████████| 10/10 [00:17<00:00,  1.77s/it]\n",
      "Epoch: 120. Validation. Loss: 0.724 | Accuracy: 54.600 | ROC AUC: 0.511: 100%|██████████| 5/5 [00:06<00:00,  1.21s/it]\n",
      "Epoch: 121. Train. Loss: 0.633 | Accuracy: 53.900 | ROC AUC: 0.622: 100%|██████████| 10/10 [00:17<00:00,  1.77s/it]\n",
      "Epoch: 121. Validation. Loss: 0.745 | Accuracy: 54.400 | ROC AUC: 0.505: 100%|██████████| 5/5 [00:06<00:00,  1.22s/it]\n",
      "Epoch: 122. Train. Loss: 0.642 | Accuracy: 53.200 | ROC AUC: 0.623: 100%|██████████| 10/10 [00:17<00:00,  1.78s/it]\n",
      "Epoch: 122. Validation. Loss: 0.717 | Accuracy: 55.200 | ROC AUC: 0.509: 100%|██████████| 5/5 [00:06<00:00,  1.21s/it]\n",
      "Epoch: 123. Train. Loss: 0.644 | Accuracy: 55.300 | ROC AUC: 0.628: 100%|██████████| 10/10 [00:17<00:00,  1.77s/it]\n",
      "Epoch: 123. Validation. Loss: 0.727 | Accuracy: 55.000 | ROC AUC: 0.510: 100%|██████████| 5/5 [00:05<00:00,  1.20s/it]\n",
      "Epoch: 124. Train. Loss: 0.641 | Accuracy: 55.100 | ROC AUC: 0.648: 100%|██████████| 10/10 [00:17<00:00,  1.77s/it]\n",
      "Epoch: 124. Validation. Loss: 0.751 | Accuracy: 54.400 | ROC AUC: 0.513: 100%|██████████| 5/5 [00:06<00:00,  1.21s/it]\n",
      "Epoch: 125. Train. Loss: 0.625 | Accuracy: 58.300 | ROC AUC: 0.685: 100%|██████████| 10/10 [00:17<00:00,  1.77s/it]\n",
      "Epoch: 125. Validation. Loss: 0.726 | Accuracy: 53.400 | ROC AUC: 0.514: 100%|██████████| 5/5 [00:06<00:00,  1.21s/it]\n",
      "Epoch: 126. Train. Loss: 0.612 | Accuracy: 58.000 | ROC AUC: 0.700: 100%|██████████| 10/10 [00:17<00:00,  1.78s/it]\n",
      "Epoch: 126. Validation. Loss: 0.747 | Accuracy: 54.200 | ROC AUC: 0.519: 100%|██████████| 5/5 [00:06<00:00,  1.21s/it]\n",
      "Epoch: 127. Train. Loss: 0.619 | Accuracy: 57.000 | ROC AUC: 0.672: 100%|██████████| 10/10 [00:17<00:00,  1.77s/it]\n",
      "Epoch: 127. Validation. Loss: 0.746 | Accuracy: 54.200 | ROC AUC: 0.519: 100%|██████████| 5/5 [00:05<00:00,  1.19s/it]\n",
      "Epoch: 128. Train. Loss: 0.619 | Accuracy: 57.500 | ROC AUC: 0.664: 100%|██████████| 10/10 [00:17<00:00,  1.77s/it]\n",
      "Epoch: 128. Validation. Loss: 0.725 | Accuracy: 54.800 | ROC AUC: 0.518: 100%|██████████| 5/5 [00:06<00:00,  1.21s/it]\n",
      "Epoch: 129. Train. Loss: 0.608 | Accuracy: 61.500 | ROC AUC: 0.732: 100%|██████████| 10/10 [00:17<00:00,  1.78s/it]\n",
      "Epoch: 129. Validation. Loss: 0.724 | Accuracy: 54.200 | ROC AUC: 0.519: 100%|██████████| 5/5 [00:05<00:00,  1.19s/it]\n",
      "Epoch: 130. Train. Loss: 0.595 | Accuracy: 58.500 | ROC AUC: 0.678: 100%|██████████| 10/10 [00:17<00:00,  1.76s/it]\n",
      "Epoch: 130. Validation. Loss: 0.729 | Accuracy: 54.000 | ROC AUC: 0.519: 100%|██████████| 5/5 [00:05<00:00,  1.19s/it]\n",
      "Epoch: 131. Train. Loss: 0.624 | Accuracy: 59.600 | ROC AUC: 0.679: 100%|██████████| 10/10 [00:17<00:00,  1.76s/it]\n",
      "Epoch: 131. Validation. Loss: 0.730 | Accuracy: 54.600 | ROC AUC: 0.518: 100%|██████████| 5/5 [00:05<00:00,  1.19s/it]\n",
      "Epoch: 132. Train. Loss: 0.623 | Accuracy: 57.000 | ROC AUC: 0.654: 100%|██████████| 10/10 [00:17<00:00,  1.79s/it]\n",
      "Epoch: 132. Validation. Loss: 0.733 | Accuracy: 54.400 | ROC AUC: 0.518: 100%|██████████| 5/5 [00:06<00:00,  1.21s/it]\n",
      "Epoch: 133. Train. Loss: 0.600 | Accuracy: 52.800 | ROC AUC: 0.591: 100%|██████████| 10/10 [00:17<00:00,  1.77s/it]\n",
      "Epoch: 133. Validation. Loss: 0.745 | Accuracy: 55.600 | ROC AUC: 0.519: 100%|██████████| 5/5 [00:05<00:00,  1.20s/it]\n",
      "Epoch: 134. Train. Loss: 0.607 | Accuracy: 60.300 | ROC AUC: 0.694: 100%|██████████| 10/10 [00:17<00:00,  1.76s/it]\n",
      "Epoch: 134. Validation. Loss: 0.766 | Accuracy: 52.800 | ROC AUC: 0.514: 100%|██████████| 5/5 [00:06<00:00,  1.21s/it]\n",
      "Epoch: 135. Train. Loss: 0.607 | Accuracy: 52.400 | ROC AUC: 0.570: 100%|██████████| 10/10 [00:17<00:00,  1.78s/it]\n",
      "Epoch: 135. Validation. Loss: 0.742 | Accuracy: 50.200 | ROC AUC: 0.513: 100%|██████████| 5/5 [00:06<00:00,  1.22s/it]\n",
      "Epoch: 136. Train. Loss: 0.639 | Accuracy: 56.300 | ROC AUC: 0.638: 100%|██████████| 10/10 [00:17<00:00,  1.78s/it]\n",
      "Epoch: 136. Validation. Loss: 0.718 | Accuracy: 54.800 | ROC AUC: 0.509: 100%|██████████| 5/5 [00:05<00:00,  1.19s/it]\n",
      "Epoch: 137. Train. Loss: 0.608 | Accuracy: 60.700 | ROC AUC: 0.735: 100%|██████████| 10/10 [00:17<00:00,  1.76s/it]\n",
      "Epoch: 137. Validation. Loss: 0.771 | Accuracy: 56.800 | ROC AUC: 0.509: 100%|██████████| 5/5 [00:06<00:00,  1.21s/it]\n",
      "Epoch: 138. Train. Loss: 0.627 | Accuracy: 55.600 | ROC AUC: 0.617: 100%|██████████| 10/10 [00:17<00:00,  1.77s/it]\n",
      "Epoch: 138. Validation. Loss: 0.787 | Accuracy: 52.400 | ROC AUC: 0.512: 100%|██████████| 5/5 [00:06<00:00,  1.21s/it]\n",
      "Epoch: 139. Train. Loss: 0.635 | Accuracy: 54.100 | ROC AUC: 0.641: 100%|██████████| 10/10 [00:17<00:00,  1.78s/it]\n",
      "Epoch: 139. Validation. Loss: 0.741 | Accuracy: 54.200 | ROC AUC: 0.519: 100%|██████████| 5/5 [00:05<00:00,  1.19s/it]\n",
      "Epoch: 140. Train. Loss: 0.635 | Accuracy: 58.500 | ROC AUC: 0.666: 100%|██████████| 10/10 [00:17<00:00,  1.77s/it]\n",
      "Epoch: 140. Validation. Loss: 0.730 | Accuracy: 51.600 | ROC AUC: 0.523: 100%|██████████| 5/5 [00:05<00:00,  1.18s/it]\n",
      "Epoch: 141. Train. Loss: 0.627 | Accuracy: 54.600 | ROC AUC: 0.632: 100%|██████████| 10/10 [00:17<00:00,  1.77s/it]\n",
      "Epoch: 141. Validation. Loss: 0.745 | Accuracy: 52.600 | ROC AUC: 0.517: 100%|██████████| 5/5 [00:05<00:00,  1.20s/it]\n",
      "Epoch: 142. Train. Loss: 0.633 | Accuracy: 56.400 | ROC AUC: 0.665: 100%|██████████| 10/10 [00:17<00:00,  1.77s/it]\n",
      "Epoch: 142. Validation. Loss: 0.726 | Accuracy: 54.200 | ROC AUC: 0.521: 100%|██████████| 5/5 [00:06<00:00,  1.22s/it]\n",
      "Epoch: 143. Train. Loss: 0.596 | Accuracy: 54.500 | ROC AUC: 0.626: 100%|██████████| 10/10 [00:17<00:00,  1.78s/it]\n",
      "Epoch: 143. Validation. Loss: 0.786 | Accuracy: 55.400 | ROC AUC: 0.520: 100%|██████████| 5/5 [00:05<00:00,  1.19s/it]\n",
      "Epoch: 144. Train. Loss: 0.633 | Accuracy: 55.400 | ROC AUC: 0.654: 100%|██████████| 10/10 [00:17<00:00,  1.77s/it]\n",
      "Epoch: 144. Validation. Loss: 0.766 | Accuracy: 51.400 | ROC AUC: 0.512: 100%|██████████| 5/5 [00:06<00:00,  1.24s/it]\n",
      "Epoch: 145. Train. Loss: 0.607 | Accuracy: 53.400 | ROC AUC: 0.609: 100%|██████████| 10/10 [00:17<00:00,  1.77s/it]\n",
      "Epoch: 145. Validation. Loss: 0.804 | Accuracy: 52.400 | ROC AUC: 0.512: 100%|██████████| 5/5 [00:06<00:00,  1.22s/it]\n",
      "Epoch: 146. Train. Loss: 0.577 | Accuracy: 54.800 | ROC AUC: 0.641: 100%|██████████| 10/10 [00:17<00:00,  1.76s/it]\n",
      "Epoch: 146. Validation. Loss: 0.805 | Accuracy: 53.800 | ROC AUC: 0.506: 100%|██████████| 5/5 [00:05<00:00,  1.19s/it]\n",
      "Epoch: 147. Train. Loss: 0.611 | Accuracy: 53.000 | ROC AUC: 0.614: 100%|██████████| 10/10 [00:17<00:00,  1.78s/it]\n",
      "Epoch: 147. Validation. Loss: 0.770 | Accuracy: 52.800 | ROC AUC: 0.509: 100%|██████████| 5/5 [00:06<00:00,  1.20s/it]\n",
      "Epoch: 148. Train. Loss: 0.572 | Accuracy: 60.900 | ROC AUC: 0.712: 100%|██████████| 10/10 [00:17<00:00,  1.77s/it]\n",
      "Epoch: 148. Validation. Loss: 0.763 | Accuracy: 54.600 | ROC AUC: 0.514: 100%|██████████| 5/5 [00:05<00:00,  1.20s/it]\n",
      "Epoch: 149. Train. Loss: 0.594 | Accuracy: 57.200 | ROC AUC: 0.654: 100%|██████████| 10/10 [00:17<00:00,  1.77s/it]\n",
      "Epoch: 149. Validation. Loss: 0.769 | Accuracy: 53.800 | ROC AUC: 0.516: 100%|██████████| 5/5 [00:06<00:00,  1.21s/it]\n",
      "Epoch: 150. Train. Loss: 0.561 | Accuracy: 56.800 | ROC AUC: 0.645: 100%|██████████| 10/10 [00:17<00:00,  1.77s/it]\n",
      "Epoch: 150. Validation. Loss: 0.773 | Accuracy: 53.600 | ROC AUC: 0.515: 100%|██████████| 5/5 [00:05<00:00,  1.20s/it]\n",
      "Epoch: 151. Train. Loss: 0.595 | Accuracy: 56.400 | ROC AUC: 0.640: 100%|██████████| 10/10 [00:17<00:00,  1.76s/it]\n",
      "Epoch: 151. Validation. Loss: 0.773 | Accuracy: 53.400 | ROC AUC: 0.515: 100%|██████████| 5/5 [00:05<00:00,  1.19s/it]\n",
      "Epoch: 152. Train. Loss: 0.595 | Accuracy: 61.600 | ROC AUC: 0.745: 100%|██████████| 10/10 [00:17<00:00,  1.78s/it]\n",
      "Epoch: 152. Validation. Loss: 0.774 | Accuracy: 53.800 | ROC AUC: 0.516: 100%|██████████| 5/5 [00:06<00:00,  1.23s/it]\n",
      "Epoch: 153. Train. Loss: 0.606 | Accuracy: 60.100 | ROC AUC: 0.715: 100%|██████████| 10/10 [00:17<00:00,  1.77s/it]\n",
      "Epoch: 153. Validation. Loss: 0.777 | Accuracy: 54.800 | ROC AUC: 0.515: 100%|██████████| 5/5 [00:05<00:00,  1.20s/it]\n",
      "Epoch: 154. Train. Loss: 0.597 | Accuracy: 58.500 | ROC AUC: 0.707: 100%|██████████| 10/10 [00:17<00:00,  1.77s/it]\n",
      "Epoch: 154. Validation. Loss: 0.809 | Accuracy: 52.200 | ROC AUC: 0.511: 100%|██████████| 5/5 [00:06<00:00,  1.21s/it]\n",
      "Epoch: 155. Train. Loss: 0.600 | Accuracy: 57.900 | ROC AUC: 0.679: 100%|██████████| 10/10 [00:17<00:00,  1.77s/it]\n",
      "Epoch: 155. Validation. Loss: 0.815 | Accuracy: 50.800 | ROC AUC: 0.511: 100%|██████████| 5/5 [00:06<00:00,  1.20s/it]\n",
      "Epoch: 156. Train. Loss: 0.604 | Accuracy: 58.700 | ROC AUC: 0.677: 100%|██████████| 10/10 [00:17<00:00,  1.77s/it]\n",
      "Epoch: 156. Validation. Loss: 0.768 | Accuracy: 54.200 | ROC AUC: 0.525: 100%|██████████| 5/5 [00:05<00:00,  1.19s/it]\n",
      "Epoch: 157. Train. Loss: 0.608 | Accuracy: 60.800 | ROC AUC: 0.719: 100%|██████████| 10/10 [00:17<00:00,  1.77s/it]\n",
      "Epoch: 157. Validation. Loss: 0.758 | Accuracy: 52.200 | ROC AUC: 0.522: 100%|██████████| 5/5 [00:05<00:00,  1.20s/it]\n",
      "Epoch: 158. Train. Loss: 0.622 | Accuracy: 58.700 | ROC AUC: 0.683: 100%|██████████| 10/10 [00:17<00:00,  1.76s/it]\n",
      "Epoch: 158. Validation. Loss: 0.760 | Accuracy: 53.400 | ROC AUC: 0.519: 100%|██████████| 5/5 [00:05<00:00,  1.19s/it]\n",
      "Epoch: 159. Train. Loss: 0.624 | Accuracy: 55.200 | ROC AUC: 0.639: 100%|██████████| 10/10 [00:17<00:00,  1.77s/it]\n",
      "Epoch: 159. Validation. Loss: 0.741 | Accuracy: 52.800 | ROC AUC: 0.527: 100%|██████████| 5/5 [00:06<00:00,  1.21s/it]\n",
      "Epoch: 160. Train. Loss: 0.572 | Accuracy: 57.700 | ROC AUC: 0.638: 100%|██████████| 10/10 [00:17<00:00,  1.77s/it]\n",
      "Epoch: 160. Validation. Loss: 0.846 | Accuracy: 51.800 | ROC AUC: 0.511: 100%|██████████| 5/5 [00:05<00:00,  1.19s/it]\n",
      "Epoch: 161. Train. Loss: 0.603 | Accuracy: 55.700 | ROC AUC: 0.641: 100%|██████████| 10/10 [00:17<00:00,  1.77s/it]\n",
      "Epoch: 161. Validation. Loss: 0.754 | Accuracy: 53.000 | ROC AUC: 0.518: 100%|██████████| 5/5 [00:05<00:00,  1.19s/it]\n",
      "Epoch: 162. Train. Loss: 0.615 | Accuracy: 56.800 | ROC AUC: 0.633: 100%|██████████| 10/10 [00:17<00:00,  1.76s/it]\n",
      "Epoch: 162. Validation. Loss: 0.756 | Accuracy: 51.800 | ROC AUC: 0.515: 100%|██████████| 5/5 [00:06<00:00,  1.24s/it]\n",
      "Epoch: 163. Train. Loss: 0.644 | Accuracy: 54.100 | ROC AUC: 0.631: 100%|██████████| 10/10 [00:17<00:00,  1.77s/it]\n",
      "Epoch: 163. Validation. Loss: 0.752 | Accuracy: 53.000 | ROC AUC: 0.516: 100%|██████████| 5/5 [00:06<00:00,  1.21s/it]\n",
      "Epoch: 164. Train. Loss: 0.619 | Accuracy: 58.100 | ROC AUC: 0.685: 100%|██████████| 10/10 [00:17<00:00,  1.77s/it]\n",
      "Epoch: 164. Validation. Loss: 0.759 | Accuracy: 56.600 | ROC AUC: 0.522: 100%|██████████| 5/5 [00:06<00:00,  1.21s/it]\n",
      "Epoch: 165. Train. Loss: 0.581 | Accuracy: 57.200 | ROC AUC: 0.656: 100%|██████████| 10/10 [00:17<00:00,  1.76s/it]\n",
      "Epoch: 165. Validation. Loss: 0.745 | Accuracy: 53.200 | ROC AUC: 0.527: 100%|██████████| 5/5 [00:06<00:00,  1.20s/it]\n",
      "Epoch: 166. Train. Loss: 0.608 | Accuracy: 56.900 | ROC AUC: 0.648: 100%|██████████| 10/10 [00:17<00:00,  1.77s/it]\n",
      "Epoch: 166. Validation. Loss: 0.779 | Accuracy: 55.000 | ROC AUC: 0.521: 100%|██████████| 5/5 [00:05<00:00,  1.18s/it]\n",
      "Epoch: 167. Train. Loss: 0.592 | Accuracy: 56.700 | ROC AUC: 0.652: 100%|██████████| 10/10 [00:17<00:00,  1.77s/it]\n",
      "Epoch: 167. Validation. Loss: 0.782 | Accuracy: 54.000 | ROC AUC: 0.521: 100%|██████████| 5/5 [00:06<00:00,  1.20s/it]\n",
      "Epoch: 168. Train. Loss: 0.596 | Accuracy: 62.000 | ROC AUC: 0.735: 100%|██████████| 10/10 [00:17<00:00,  1.77s/it]\n",
      "Epoch: 168. Validation. Loss: 0.790 | Accuracy: 54.200 | ROC AUC: 0.521: 100%|██████████| 5/5 [00:06<00:00,  1.22s/it]\n",
      "Epoch: 169. Train. Loss: 0.575 | Accuracy: 60.600 | ROC AUC: 0.693: 100%|██████████| 10/10 [00:17<00:00,  1.78s/it]\n",
      "Epoch: 169. Validation. Loss: 0.793 | Accuracy: 53.600 | ROC AUC: 0.521: 100%|██████████| 5/5 [00:06<00:00,  1.22s/it]\n",
      "Epoch: 170. Train. Loss: 0.602 | Accuracy: 59.400 | ROC AUC: 0.695: 100%|██████████| 10/10 [00:17<00:00,  1.77s/it]\n",
      "Epoch: 170. Validation. Loss: 0.792 | Accuracy: 53.800 | ROC AUC: 0.521: 100%|██████████| 5/5 [00:06<00:00,  1.20s/it]\n",
      "Epoch: 171. Train. Loss: 0.572 | Accuracy: 57.800 | ROC AUC: 0.666: 100%|██████████| 10/10 [00:17<00:00,  1.76s/it]\n",
      "Epoch: 171. Validation. Loss: 0.792 | Accuracy: 54.000 | ROC AUC: 0.521: 100%|██████████| 5/5 [00:06<00:00,  1.22s/it]\n",
      "Epoch: 172. Train. Loss: 0.595 | Accuracy: 59.900 | ROC AUC: 0.646: 100%|██████████| 10/10 [00:17<00:00,  1.78s/it]\n",
      "Epoch: 172. Validation. Loss: 0.793 | Accuracy: 54.000 | ROC AUC: 0.521: 100%|██████████| 5/5 [00:05<00:00,  1.19s/it]\n",
      "Epoch: 173. Train. Loss: 0.594 | Accuracy: 54.900 | ROC AUC: 0.667: 100%|██████████| 10/10 [00:17<00:00,  1.76s/it]\n",
      "Epoch: 173. Validation. Loss: 0.792 | Accuracy: 53.600 | ROC AUC: 0.521: 100%|██████████| 5/5 [00:05<00:00,  1.19s/it]\n",
      "Epoch: 174. Train. Loss: 0.600 | Accuracy: 54.600 | ROC AUC: 0.618: 100%|██████████| 10/10 [00:17<00:00,  1.76s/it]\n",
      "Epoch: 174. Validation. Loss: 0.793 | Accuracy: 52.400 | ROC AUC: 0.521: 100%|██████████| 5/5 [00:05<00:00,  1.20s/it]\n",
      "Epoch: 175. Train. Loss: 0.598 | Accuracy: 61.100 | ROC AUC: 0.743: 100%|██████████| 10/10 [00:17<00:00,  1.79s/it]\n",
      "Epoch: 175. Validation. Loss: 0.767 | Accuracy: 54.000 | ROC AUC: 0.525: 100%|██████████| 5/5 [00:06<00:00,  1.23s/it]\n",
      "Epoch: 176. Train. Loss: 0.535 | Accuracy: 61.200 | ROC AUC: 0.713: 100%|██████████| 10/10 [00:17<00:00,  1.77s/it]\n",
      "Epoch: 176. Validation. Loss: 0.807 | Accuracy: 54.800 | ROC AUC: 0.524: 100%|██████████| 5/5 [00:05<00:00,  1.20s/it]\n",
      "Epoch: 177. Train. Loss: 0.580 | Accuracy: 58.600 | ROC AUC: 0.672: 100%|██████████| 10/10 [00:17<00:00,  1.77s/it]\n",
      "Epoch: 177. Validation. Loss: 0.852 | Accuracy: 53.000 | ROC AUC: 0.519: 100%|██████████| 5/5 [00:06<00:00,  1.23s/it]\n",
      "Epoch: 178. Train. Loss: 0.584 | Accuracy: 54.900 | ROC AUC: 0.633: 100%|██████████| 10/10 [00:17<00:00,  1.77s/it]\n",
      "Epoch: 178. Validation. Loss: 0.767 | Accuracy: 53.200 | ROC AUC: 0.521: 100%|██████████| 5/5 [00:05<00:00,  1.19s/it]\n",
      "Epoch: 179. Train. Loss: 0.606 | Accuracy: 59.500 | ROC AUC: 0.661: 100%|██████████| 10/10 [00:17<00:00,  1.77s/it]\n",
      "Epoch: 179. Validation. Loss: 0.767 | Accuracy: 54.600 | ROC AUC: 0.521: 100%|██████████| 5/5 [00:05<00:00,  1.20s/it]\n",
      "Epoch: 180. Train. Loss: 0.585 | Accuracy: 57.700 | ROC AUC: 0.689: 100%|██████████| 10/10 [00:17<00:00,  1.78s/it]\n",
      "Epoch: 180. Validation. Loss: 0.773 | Accuracy: 56.400 | ROC AUC: 0.525: 100%|██████████| 5/5 [00:05<00:00,  1.19s/it]\n",
      "Epoch: 181. Train. Loss: 0.606 | Accuracy: 57.800 | ROC AUC: 0.653: 100%|██████████| 10/10 [00:17<00:00,  1.76s/it]\n",
      "Epoch: 181. Validation. Loss: 0.786 | Accuracy: 55.200 | ROC AUC: 0.528: 100%|██████████| 5/5 [00:05<00:00,  1.19s/it]\n",
      "Epoch: 182. Train. Loss: 0.599 | Accuracy: 59.200 | ROC AUC: 0.671: 100%|██████████| 10/10 [00:17<00:00,  1.76s/it]\n",
      "Epoch: 182. Validation. Loss: 0.801 | Accuracy: 52.000 | ROC AUC: 0.512: 100%|██████████| 5/5 [00:05<00:00,  1.19s/it]\n",
      "Epoch: 183. Train. Loss: 0.646 | Accuracy: 57.700 | ROC AUC: 0.667: 100%|██████████| 10/10 [00:17<00:00,  1.76s/it]\n",
      "Epoch: 183. Validation. Loss: 0.728 | Accuracy: 54.600 | ROC AUC: 0.522: 100%|██████████| 5/5 [00:06<00:00,  1.23s/it]\n",
      "Epoch: 184. Train. Loss: 0.562 | Accuracy: 61.300 | ROC AUC: 0.686: 100%|██████████| 10/10 [00:17<00:00,  1.79s/it]\n",
      "Epoch: 184. Validation. Loss: 0.756 | Accuracy: 55.800 | ROC AUC: 0.529: 100%|██████████| 5/5 [00:05<00:00,  1.20s/it]\n",
      "Epoch: 185. Train. Loss: 0.604 | Accuracy: 60.000 | ROC AUC: 0.691: 100%|██████████| 10/10 [00:17<00:00,  1.76s/it]\n",
      "Epoch: 185. Validation. Loss: 0.762 | Accuracy: 56.400 | ROC AUC: 0.526: 100%|██████████| 5/5 [00:06<00:00,  1.21s/it]\n",
      "Epoch: 186. Train. Loss: 0.589 | Accuracy: 61.600 | ROC AUC: 0.714: 100%|██████████| 10/10 [00:17<00:00,  1.77s/it]\n",
      "Epoch: 186. Validation. Loss: 0.742 | Accuracy: 57.600 | ROC AUC: 0.524: 100%|██████████| 5/5 [00:06<00:00,  1.21s/it]\n",
      "Epoch: 187. Train. Loss: 0.580 | Accuracy: 61.800 | ROC AUC: 0.704: 100%|██████████| 10/10 [00:17<00:00,  1.77s/it]\n",
      "Epoch: 187. Validation. Loss: 0.750 | Accuracy: 57.600 | ROC AUC: 0.521: 100%|██████████| 5/5 [00:05<00:00,  1.19s/it]\n",
      "Epoch: 188. Train. Loss: 0.546 | Accuracy: 57.500 | ROC AUC: 0.635: 100%|██████████| 10/10 [00:17<00:00,  1.77s/it]\n",
      "Epoch: 188. Validation. Loss: 0.757 | Accuracy: 56.600 | ROC AUC: 0.517: 100%|██████████| 5/5 [00:06<00:00,  1.20s/it]\n",
      "Epoch: 189. Train. Loss: 0.569 | Accuracy: 60.200 | ROC AUC: 0.717: 100%|██████████| 10/10 [00:17<00:00,  1.78s/it]\n",
      "Epoch: 189. Validation. Loss: 0.769 | Accuracy: 55.800 | ROC AUC: 0.518: 100%|██████████| 5/5 [00:06<00:00,  1.21s/it]\n",
      "Epoch: 190. Train. Loss: 0.594 | Accuracy: 60.400 | ROC AUC: 0.704: 100%|██████████| 10/10 [00:17<00:00,  1.77s/it]\n",
      "Epoch: 190. Validation. Loss: 0.769 | Accuracy: 55.800 | ROC AUC: 0.519: 100%|██████████| 5/5 [00:05<00:00,  1.20s/it]\n",
      "Epoch: 191. Train. Loss: 0.578 | Accuracy: 61.100 | ROC AUC: 0.708: 100%|██████████| 10/10 [00:17<00:00,  1.77s/it]\n",
      "Epoch: 191. Validation. Loss: 0.768 | Accuracy: 56.600 | ROC AUC: 0.519: 100%|██████████| 5/5 [00:06<00:00,  1.21s/it]\n",
      "Epoch: 192. Train. Loss: 0.566 | Accuracy: 55.800 | ROC AUC: 0.615: 100%|██████████| 10/10 [00:17<00:00,  1.77s/it]\n",
      "Epoch: 192. Validation. Loss: 0.766 | Accuracy: 57.200 | ROC AUC: 0.520: 100%|██████████| 5/5 [00:06<00:00,  1.21s/it]\n",
      "Epoch: 193. Train. Loss: 0.570 | Accuracy: 64.000 | ROC AUC: 0.769: 100%|██████████| 10/10 [00:17<00:00,  1.78s/it]\n",
      "Epoch: 193. Validation. Loss: 0.767 | Accuracy: 55.800 | ROC AUC: 0.522: 100%|██████████| 5/5 [00:06<00:00,  1.21s/it]\n",
      "Epoch: 194. Train. Loss: 0.609 | Accuracy: 56.600 | ROC AUC: 0.625: 100%|██████████| 10/10 [00:17<00:00,  1.79s/it]\n",
      "Epoch: 194. Validation. Loss: 0.765 | Accuracy: 56.000 | ROC AUC: 0.523: 100%|██████████| 5/5 [00:05<00:00,  1.20s/it]\n",
      "Epoch: 195. Train. Loss: 0.550 | Accuracy: 60.100 | ROC AUC: 0.710: 100%|██████████| 10/10 [00:17<00:00,  1.77s/it]\n",
      "Epoch: 195. Validation. Loss: 0.765 | Accuracy: 54.800 | ROC AUC: 0.518: 100%|██████████| 5/5 [00:06<00:00,  1.21s/it]\n",
      "Epoch: 196. Train. Loss: 0.578 | Accuracy: 63.500 | ROC AUC: 0.786: 100%|██████████| 10/10 [00:17<00:00,  1.78s/it]\n",
      "Epoch: 196. Validation. Loss: 0.790 | Accuracy: 53.400 | ROC AUC: 0.517: 100%|██████████| 5/5 [00:06<00:00,  1.21s/it]\n",
      "Epoch: 197. Train. Loss: 0.587 | Accuracy: 60.900 | ROC AUC: 0.690: 100%|██████████| 10/10 [00:17<00:00,  1.79s/it]\n",
      "Epoch: 197. Validation. Loss: 0.809 | Accuracy: 52.000 | ROC AUC: 0.516: 100%|██████████| 5/5 [00:05<00:00,  1.19s/it]\n",
      "Epoch: 198. Train. Loss: 0.579 | Accuracy: 60.200 | ROC AUC: 0.664: 100%|██████████| 10/10 [00:17<00:00,  1.77s/it]\n",
      "Epoch: 198. Validation. Loss: 0.800 | Accuracy: 55.200 | ROC AUC: 0.517: 100%|██████████| 5/5 [00:06<00:00,  1.25s/it]\n",
      "Epoch: 199. Train. Loss: 0.582 | Accuracy: 55.600 | ROC AUC: 0.611: 100%|██████████| 10/10 [00:17<00:00,  1.77s/it]\n",
      "Epoch: 199. Validation. Loss: 0.791 | Accuracy: 54.600 | ROC AUC: 0.510: 100%|██████████| 5/5 [00:05<00:00,  1.19s/it]\n",
      "Epoch: 200. Train. Loss: 0.577 | Accuracy: 54.300 | ROC AUC: 0.635: 100%|██████████| 10/10 [00:17<00:00,  1.78s/it]\n",
      "Epoch: 200. Validation. Loss: 0.782 | Accuracy: 55.800 | ROC AUC: 0.520: 100%|██████████| 5/5 [00:06<00:00,  1.21s/it]\n",
      "Epoch: 201. Train. Loss: 0.576 | Accuracy: 58.600 | ROC AUC: 0.690: 100%|██████████| 10/10 [00:17<00:00,  1.77s/it]\n",
      "Epoch: 201. Validation. Loss: 0.785 | Accuracy: 52.400 | ROC AUC: 0.514: 100%|██████████| 5/5 [00:06<00:00,  1.22s/it]\n",
      "Epoch: 202. Train. Loss: 0.549 | Accuracy: 58.400 | ROC AUC: 0.695: 100%|██████████| 10/10 [00:17<00:00,  1.77s/it]\n",
      "Epoch: 202. Validation. Loss: 0.852 | Accuracy: 54.400 | ROC AUC: 0.520: 100%|██████████| 5/5 [00:06<00:00,  1.21s/it]\n",
      "Epoch: 203. Train. Loss: 0.573 | Accuracy: 63.800 | ROC AUC: 0.758: 100%|██████████| 10/10 [00:17<00:00,  1.76s/it]\n",
      "Epoch: 203. Validation. Loss: 0.862 | Accuracy: 51.000 | ROC AUC: 0.502: 100%|██████████| 5/5 [00:06<00:00,  1.21s/it]\n",
      "Epoch: 204. Train. Loss: 0.596 | Accuracy: 59.100 | ROC AUC: 0.701: 100%|██████████| 10/10 [00:17<00:00,  1.78s/it]\n",
      "Epoch: 204. Validation. Loss: 0.777 | Accuracy: 56.200 | ROC AUC: 0.518: 100%|██████████| 5/5 [00:06<00:00,  1.22s/it]\n",
      "Epoch: 205. Train. Loss: 0.570 | Accuracy: 56.700 | ROC AUC: 0.672: 100%|██████████| 10/10 [00:17<00:00,  1.77s/it]\n",
      "Epoch: 205. Validation. Loss: 0.769 | Accuracy: 52.600 | ROC AUC: 0.516: 100%|██████████| 5/5 [00:06<00:00,  1.21s/it]\n",
      "Epoch: 206. Train. Loss: 0.570 | Accuracy: 61.700 | ROC AUC: 0.725: 100%|██████████| 10/10 [00:17<00:00,  1.77s/it]\n",
      "Epoch: 206. Validation. Loss: 0.787 | Accuracy: 53.800 | ROC AUC: 0.513: 100%|██████████| 5/5 [00:06<00:00,  1.22s/it]\n",
      "Epoch: 207. Train. Loss: 0.589 | Accuracy: 56.800 | ROC AUC: 0.650: 100%|██████████| 10/10 [00:17<00:00,  1.77s/it]\n",
      "Epoch: 207. Validation. Loss: 0.795 | Accuracy: 55.400 | ROC AUC: 0.511: 100%|██████████| 5/5 [00:06<00:00,  1.21s/it]\n",
      "Epoch: 208. Train. Loss: 0.555 | Accuracy: 58.800 | ROC AUC: 0.665: 100%|██████████| 10/10 [00:17<00:00,  1.76s/it]\n",
      "Epoch: 208. Validation. Loss: 0.812 | Accuracy: 56.200 | ROC AUC: 0.513: 100%|██████████| 5/5 [00:06<00:00,  1.20s/it]\n",
      "Epoch: 209. Train. Loss: 0.584 | Accuracy: 64.200 | ROC AUC: 0.744: 100%|██████████| 10/10 [00:17<00:00,  1.76s/it]\n",
      "Epoch: 209. Validation. Loss: 0.818 | Accuracy: 55.800 | ROC AUC: 0.514: 100%|██████████| 5/5 [00:05<00:00,  1.20s/it]\n",
      "Epoch: 210. Train. Loss: 0.550 | Accuracy: 60.900 | ROC AUC: 0.716: 100%|██████████| 10/10 [00:17<00:00,  1.75s/it]\n",
      "Epoch: 210. Validation. Loss: 0.818 | Accuracy: 55.400 | ROC AUC: 0.514: 100%|██████████| 5/5 [00:06<00:00,  1.21s/it]\n",
      "Epoch: 211. Train. Loss: 0.567 | Accuracy: 60.400 | ROC AUC: 0.700: 100%|██████████| 10/10 [00:17<00:00,  1.77s/it]\n",
      "Epoch: 211. Validation. Loss: 0.817 | Accuracy: 55.400 | ROC AUC: 0.513: 100%|██████████| 5/5 [00:06<00:00,  1.22s/it]\n",
      "Epoch: 212. Train. Loss: 0.573 | Accuracy: 60.700 | ROC AUC: 0.714: 100%|██████████| 10/10 [00:17<00:00,  1.76s/it]\n",
      "Epoch: 212. Validation. Loss: 0.814 | Accuracy: 55.200 | ROC AUC: 0.513: 100%|██████████| 5/5 [00:06<00:00,  1.21s/it]\n",
      "Epoch: 213. Train. Loss: 0.556 | Accuracy: 60.300 | ROC AUC: 0.688: 100%|██████████| 10/10 [00:17<00:00,  1.77s/it]\n",
      "Epoch: 213. Validation. Loss: 0.816 | Accuracy: 54.200 | ROC AUC: 0.512: 100%|██████████| 5/5 [00:06<00:00,  1.21s/it]\n",
      "Epoch: 214. Train. Loss: 0.544 | Accuracy: 56.400 | ROC AUC: 0.630: 100%|██████████| 10/10 [00:17<00:00,  1.79s/it]\n",
      "Epoch: 214. Validation. Loss: 0.816 | Accuracy: 55.000 | ROC AUC: 0.515: 100%|██████████| 5/5 [00:06<00:00,  1.21s/it]\n",
      "Epoch: 215. Train. Loss: 0.586 | Accuracy: 59.300 | ROC AUC: 0.684: 100%|██████████| 10/10 [00:17<00:00,  1.79s/it]\n",
      "Epoch: 215. Validation. Loss: 0.790 | Accuracy: 55.000 | ROC AUC: 0.520: 100%|██████████| 5/5 [00:06<00:00,  1.23s/it]\n",
      "Epoch: 216. Train. Loss: 0.583 | Accuracy: 59.600 | ROC AUC: 0.655: 100%|██████████| 10/10 [00:17<00:00,  1.77s/it]\n",
      "Epoch: 216. Validation. Loss: 0.779 | Accuracy: 55.000 | ROC AUC: 0.517: 100%|██████████| 5/5 [00:06<00:00,  1.20s/it]\n",
      "Epoch: 217. Train. Loss: 0.555 | Accuracy: 61.900 | ROC AUC: 0.743: 100%|██████████| 10/10 [00:17<00:00,  1.77s/it]\n",
      "Epoch: 217. Validation. Loss: 0.783 | Accuracy: 56.800 | ROC AUC: 0.520: 100%|██████████| 5/5 [00:05<00:00,  1.20s/it]\n",
      "Epoch: 218. Train. Loss: 0.561 | Accuracy: 60.700 | ROC AUC: 0.687: 100%|██████████| 10/10 [00:17<00:00,  1.76s/it]\n",
      "Epoch: 218. Validation. Loss: 0.841 | Accuracy: 53.600 | ROC AUC: 0.510: 100%|██████████| 5/5 [00:05<00:00,  1.19s/it]\n",
      "Epoch: 219. Train. Loss: 0.564 | Accuracy: 59.000 | ROC AUC: 0.682: 100%|██████████| 10/10 [00:17<00:00,  1.76s/it]\n",
      "Epoch: 219. Validation. Loss: 0.818 | Accuracy: 55.400 | ROC AUC: 0.512: 100%|██████████| 5/5 [00:05<00:00,  1.19s/it]\n",
      "Epoch: 220. Train. Loss: 0.607 | Accuracy: 61.000 | ROC AUC: 0.710: 100%|██████████| 10/10 [00:17<00:00,  1.78s/it]\n",
      "Epoch: 220. Validation. Loss: 0.767 | Accuracy: 55.800 | ROC AUC: 0.517: 100%|██████████| 5/5 [00:05<00:00,  1.20s/it]\n",
      "Epoch: 221. Train. Loss: 0.547 | Accuracy: 59.800 | ROC AUC: 0.680: 100%|██████████| 10/10 [00:17<00:00,  1.79s/it]\n",
      "Epoch: 221. Validation. Loss: 0.865 | Accuracy: 55.200 | ROC AUC: 0.518: 100%|██████████| 5/5 [00:05<00:00,  1.19s/it]\n",
      "Epoch: 222. Train. Loss: 0.576 | Accuracy: 58.100 | ROC AUC: 0.679: 100%|██████████| 10/10 [00:17<00:00,  1.76s/it]\n",
      "Epoch: 222. Validation. Loss: 0.909 | Accuracy: 52.600 | ROC AUC: 0.506: 100%|██████████| 5/5 [00:05<00:00,  1.19s/it]\n",
      "Epoch: 223. Train. Loss: 0.534 | Accuracy: 60.200 | ROC AUC: 0.696: 100%|██████████| 10/10 [00:17<00:00,  1.77s/it]\n",
      "Epoch: 223. Validation. Loss: 0.874 | Accuracy: 51.800 | ROC AUC: 0.511: 100%|██████████| 5/5 [00:05<00:00,  1.19s/it]\n",
      "Epoch: 224. Train. Loss: 0.558 | Accuracy: 63.700 | ROC AUC: 0.750: 100%|██████████| 10/10 [00:17<00:00,  1.77s/it]\n",
      "Epoch: 224. Validation. Loss: 0.830 | Accuracy: 53.400 | ROC AUC: 0.522: 100%|██████████| 5/5 [00:05<00:00,  1.19s/it]\n",
      "Epoch: 225. Train. Loss: 0.561 | Accuracy: 60.400 | ROC AUC: 0.678: 100%|██████████| 10/10 [00:17<00:00,  1.77s/it]\n",
      "Epoch: 225. Validation. Loss: 0.841 | Accuracy: 51.600 | ROC AUC: 0.517: 100%|██████████| 5/5 [00:05<00:00,  1.19s/it]\n",
      "Epoch: 226. Train. Loss: 0.548 | Accuracy: 59.400 | ROC AUC: 0.688: 100%|██████████| 10/10 [00:17<00:00,  1.78s/it]\n",
      "Epoch: 226. Validation. Loss: 0.814 | Accuracy: 53.400 | ROC AUC: 0.520: 100%|██████████| 5/5 [00:06<00:00,  1.21s/it]\n",
      "Epoch: 227. Train. Loss: 0.547 | Accuracy: 60.100 | ROC AUC: 0.703: 100%|██████████| 10/10 [00:17<00:00,  1.76s/it]\n",
      "Epoch: 227. Validation. Loss: 0.813 | Accuracy: 52.800 | ROC AUC: 0.523: 100%|██████████| 5/5 [00:06<00:00,  1.21s/it]\n",
      "Epoch: 228. Train. Loss: 0.561 | Accuracy: 60.000 | ROC AUC: 0.676: 100%|██████████| 10/10 [00:17<00:00,  1.78s/it]\n",
      "Epoch: 228. Validation. Loss: 0.810 | Accuracy: 51.800 | ROC AUC: 0.523: 100%|██████████| 5/5 [00:06<00:00,  1.21s/it]\n",
      "Epoch: 229. Train. Loss: 0.556 | Accuracy: 63.600 | ROC AUC: 0.756: 100%|██████████| 10/10 [00:17<00:00,  1.77s/it]\n",
      "Epoch: 229. Validation. Loss: 0.808 | Accuracy: 52.600 | ROC AUC: 0.521: 100%|██████████| 5/5 [00:05<00:00,  1.19s/it]\n",
      "Epoch: 230. Train. Loss: 0.525 | Accuracy: 60.000 | ROC AUC: 0.696: 100%|██████████| 10/10 [00:17<00:00,  1.79s/it]\n",
      "Epoch: 230. Validation. Loss: 0.811 | Accuracy: 52.800 | ROC AUC: 0.521: 100%|██████████| 5/5 [00:05<00:00,  1.20s/it]\n",
      "Epoch: 231. Train. Loss: 0.561 | Accuracy: 62.400 | ROC AUC: 0.688: 100%|██████████| 10/10 [00:17<00:00,  1.78s/it]\n",
      "Epoch: 231. Validation. Loss: 0.811 | Accuracy: 52.600 | ROC AUC: 0.521: 100%|██████████| 5/5 [00:06<00:00,  1.20s/it]\n",
      "Epoch: 232. Train. Loss: 0.552 | Accuracy: 57.400 | ROC AUC: 0.621: 100%|██████████| 10/10 [00:17<00:00,  1.77s/it]\n",
      "Epoch: 232. Validation. Loss: 0.814 | Accuracy: 52.400 | ROC AUC: 0.522: 100%|██████████| 5/5 [00:05<00:00,  1.19s/it]\n",
      "Epoch: 233. Train. Loss: 0.528 | Accuracy: 58.700 | ROC AUC: 0.654: 100%|██████████| 10/10 [00:17<00:00,  1.77s/it]\n",
      "Epoch: 233. Validation. Loss: 0.826 | Accuracy: 53.800 | ROC AUC: 0.521: 100%|██████████| 5/5 [00:06<00:00,  1.20s/it]\n",
      "Epoch: 234. Train. Loss: 0.557 | Accuracy: 60.800 | ROC AUC: 0.674: 100%|██████████| 10/10 [00:17<00:00,  1.77s/it]\n",
      "Epoch: 234. Validation. Loss: 0.844 | Accuracy: 51.800 | ROC AUC: 0.517: 100%|██████████| 5/5 [00:05<00:00,  1.19s/it]\n",
      "Epoch: 235. Train. Loss: 0.566 | Accuracy: 61.300 | ROC AUC: 0.700: 100%|██████████| 10/10 [00:17<00:00,  1.77s/it]\n",
      "Epoch: 235. Validation. Loss: 0.833 | Accuracy: 51.600 | ROC AUC: 0.520: 100%|██████████| 5/5 [00:05<00:00,  1.19s/it]\n",
      "Epoch: 236. Train. Loss: 0.556 | Accuracy: 66.100 | ROC AUC: 0.776: 100%|██████████| 10/10 [00:17<00:00,  1.76s/it]\n",
      "Epoch: 236. Validation. Loss: 0.833 | Accuracy: 52.600 | ROC AUC: 0.520: 100%|██████████| 5/5 [00:05<00:00,  1.19s/it]\n",
      "Epoch: 237. Train. Loss: 0.538 | Accuracy: 66.200 | ROC AUC: 0.811: 100%|██████████| 10/10 [00:17<00:00,  1.78s/it]\n",
      "Epoch: 237. Validation. Loss: 0.835 | Accuracy: 52.200 | ROC AUC: 0.522: 100%|██████████| 5/5 [00:05<00:00,  1.20s/it]\n",
      "Epoch: 238. Train. Loss: 0.553 | Accuracy: 56.100 | ROC AUC: 0.616: 100%|██████████| 10/10 [00:17<00:00,  1.78s/it]\n",
      "Epoch: 238. Validation. Loss: 0.868 | Accuracy: 53.400 | ROC AUC: 0.517: 100%|██████████| 5/5 [00:06<00:00,  1.21s/it]\n",
      "Epoch: 239. Train. Loss: 0.559 | Accuracy: 54.300 | ROC AUC: 0.597: 100%|██████████| 10/10 [00:17<00:00,  1.78s/it]\n",
      "Epoch: 239. Validation. Loss: 0.806 | Accuracy: 53.400 | ROC AUC: 0.522: 100%|██████████| 5/5 [00:06<00:00,  1.21s/it]\n",
      "Epoch: 240. Train. Loss: 0.556 | Accuracy: 60.600 | ROC AUC: 0.692: 100%|██████████| 10/10 [00:17<00:00,  1.76s/it]\n",
      "Epoch: 240. Validation. Loss: 0.847 | Accuracy: 52.800 | ROC AUC: 0.523: 100%|██████████| 5/5 [00:05<00:00,  1.19s/it]\n",
      "Epoch: 241. Train. Loss: 0.541 | Accuracy: 59.900 | ROC AUC: 0.696: 100%|██████████| 10/10 [00:17<00:00,  1.77s/it]\n",
      "Epoch: 241. Validation. Loss: 0.873 | Accuracy: 53.000 | ROC AUC: 0.521: 100%|██████████| 5/5 [00:06<00:00,  1.20s/it]\n",
      "Epoch: 242. Train. Loss: 0.544 | Accuracy: 57.900 | ROC AUC: 0.668: 100%|██████████| 10/10 [00:17<00:00,  1.78s/it]\n",
      "Epoch: 242. Validation. Loss: 0.915 | Accuracy: 51.200 | ROC AUC: 0.507: 100%|██████████| 5/5 [00:05<00:00,  1.19s/it]\n",
      "Epoch: 243. Train. Loss: 0.568 | Accuracy: 59.700 | ROC AUC: 0.712: 100%|██████████| 10/10 [00:17<00:00,  1.79s/it]\n",
      "Epoch: 243. Validation. Loss: 0.844 | Accuracy: 55.600 | ROC AUC: 0.519: 100%|██████████| 5/5 [00:06<00:00,  1.20s/it]\n",
      "Epoch: 244. Train. Loss: 0.591 | Accuracy: 58.100 | ROC AUC: 0.684: 100%|██████████| 10/10 [00:17<00:00,  1.77s/it]\n",
      "Epoch: 244. Validation. Loss: 0.778 | Accuracy: 55.200 | ROC AUC: 0.518: 100%|██████████| 5/5 [00:06<00:00,  1.22s/it]\n",
      "Epoch: 245. Train. Loss: 0.598 | Accuracy: 56.000 | ROC AUC: 0.626: 100%|██████████| 10/10 [00:17<00:00,  1.77s/it]\n",
      "Epoch: 245. Validation. Loss: 0.833 | Accuracy: 53.200 | ROC AUC: 0.506: 100%|██████████| 5/5 [00:05<00:00,  1.19s/it]\n",
      "Epoch: 246. Train. Loss: 0.559 | Accuracy: 56.800 | ROC AUC: 0.621: 100%|██████████| 10/10 [00:17<00:00,  1.78s/it]\n",
      "Epoch: 246. Validation. Loss: 0.817 | Accuracy: 52.400 | ROC AUC: 0.509: 100%|██████████| 5/5 [00:05<00:00,  1.20s/it]\n",
      "Epoch: 247. Train. Loss: 0.575 | Accuracy: 63.100 | ROC AUC: 0.746: 100%|██████████| 10/10 [00:17<00:00,  1.78s/it]\n",
      "Epoch: 247. Validation. Loss: 0.811 | Accuracy: 54.000 | ROC AUC: 0.511: 100%|██████████| 5/5 [00:05<00:00,  1.19s/it]\n",
      "Epoch: 248. Train. Loss: 0.555 | Accuracy: 61.000 | ROC AUC: 0.708: 100%|██████████| 10/10 [00:17<00:00,  1.78s/it]\n",
      "Epoch: 248. Validation. Loss: 0.815 | Accuracy: 55.000 | ROC AUC: 0.509: 100%|██████████| 5/5 [00:06<00:00,  1.21s/it]\n",
      "Epoch: 249. Train. Loss: 0.559 | Accuracy: 63.200 | ROC AUC: 0.710: 100%|██████████| 10/10 [00:17<00:00,  1.77s/it]\n",
      "Epoch: 249. Validation. Loss: 0.816 | Accuracy: 54.800 | ROC AUC: 0.508: 100%|██████████| 5/5 [00:06<00:00,  1.23s/it]\n",
      "Epoch: 250. Train. Loss: 0.521 | Accuracy: 64.000 | ROC AUC: 0.779: 100%|██████████| 10/10 [00:17<00:00,  1.76s/it]\n",
      "Epoch: 250. Validation. Loss: 0.819 | Accuracy: 54.400 | ROC AUC: 0.507: 100%|██████████| 5/5 [00:05<00:00,  1.19s/it]\n",
      "Epoch: 251. Train. Loss: 0.522 | Accuracy: 63.800 | ROC AUC: 0.715: 100%|██████████| 10/10 [00:17<00:00,  1.76s/it]\n",
      "Epoch: 251. Validation. Loss: 0.819 | Accuracy: 54.600 | ROC AUC: 0.508: 100%|██████████| 5/5 [00:05<00:00,  1.20s/it]\n",
      "Epoch: 252. Train. Loss: 0.551 | Accuracy: 59.600 | ROC AUC: 0.683: 100%|██████████| 10/10 [00:17<00:00,  1.78s/it]\n",
      "Epoch: 252. Validation. Loss: 0.823 | Accuracy: 54.400 | ROC AUC: 0.507: 100%|██████████| 5/5 [00:06<00:00,  1.20s/it]\n",
      "Epoch: 253. Train. Loss: 0.543 | Accuracy: 67.500 | ROC AUC: 0.773: 100%|██████████| 10/10 [00:17<00:00,  1.78s/it]\n",
      "Epoch: 253. Validation. Loss: 0.829 | Accuracy: 53.000 | ROC AUC: 0.507: 100%|██████████| 5/5 [00:06<00:00,  1.20s/it]\n",
      "Epoch: 254. Train. Loss: 0.560 | Accuracy: 63.700 | ROC AUC: 0.766: 100%|██████████| 10/10 [00:17<00:00,  1.76s/it]\n",
      "Epoch: 254. Validation. Loss: 0.831 | Accuracy: 53.800 | ROC AUC: 0.510: 100%|██████████| 5/5 [00:05<00:00,  1.19s/it]\n",
      "Epoch: 255. Train. Loss: 0.537 | Accuracy: 52.900 | ROC AUC: 0.607: 100%|██████████| 10/10 [00:17<00:00,  1.76s/it]\n",
      "Epoch: 255. Validation. Loss: 0.834 | Accuracy: 56.600 | ROC AUC: 0.510: 100%|██████████| 5/5 [00:05<00:00,  1.19s/it]\n",
      "Epoch: 256. Train. Loss: 0.544 | Accuracy: 64.300 | ROC AUC: 0.750: 100%|██████████| 10/10 [00:17<00:00,  1.77s/it]\n",
      "Epoch: 256. Validation. Loss: 0.852 | Accuracy: 55.200 | ROC AUC: 0.510: 100%|██████████| 5/5 [00:06<00:00,  1.21s/it]\n",
      "Epoch: 257. Train. Loss: 0.550 | Accuracy: 60.800 | ROC AUC: 0.707: 100%|██████████| 10/10 [00:17<00:00,  1.75s/it]\n",
      "Epoch: 257. Validation. Loss: 0.841 | Accuracy: 52.600 | ROC AUC: 0.509: 100%|██████████| 5/5 [00:05<00:00,  1.20s/it]\n",
      "Epoch: 258. Train. Loss: 0.559 | Accuracy: 63.300 | ROC AUC: 0.735: 100%|██████████| 10/10 [00:17<00:00,  1.77s/it]\n",
      "Epoch: 258. Validation. Loss: 0.792 | Accuracy: 54.600 | ROC AUC: 0.527: 100%|██████████| 5/5 [00:06<00:00,  1.20s/it]\n",
      "Epoch: 259. Train. Loss: 0.600 | Accuracy: 59.800 | ROC AUC: 0.672: 100%|██████████| 10/10 [00:17<00:00,  1.79s/it]\n",
      "Epoch: 259. Validation. Loss: 0.770 | Accuracy: 54.200 | ROC AUC: 0.514: 100%|██████████| 5/5 [00:06<00:00,  1.21s/it]\n",
      "Epoch: 260. Train. Loss: 0.564 | Accuracy: 58.400 | ROC AUC: 0.673: 100%|██████████| 10/10 [00:17<00:00,  1.77s/it]\n",
      "Epoch: 260. Validation. Loss: 0.823 | Accuracy: 55.200 | ROC AUC: 0.512: 100%|██████████| 5/5 [00:05<00:00,  1.19s/it]\n",
      "Epoch: 261. Train. Loss: 0.554 | Accuracy: 57.200 | ROC AUC: 0.650: 100%|██████████| 10/10 [00:17<00:00,  1.77s/it]\n",
      "Epoch: 261. Validation. Loss: 0.882 | Accuracy: 54.200 | ROC AUC: 0.514: 100%|██████████| 5/5 [00:05<00:00,  1.19s/it]\n",
      "Epoch: 262. Train. Loss: 0.531 | Accuracy: 61.900 | ROC AUC: 0.717: 100%|██████████| 10/10 [00:17<00:00,  1.78s/it]\n",
      "Epoch: 262. Validation. Loss: 0.882 | Accuracy: 54.800 | ROC AUC: 0.513: 100%|██████████| 5/5 [00:05<00:00,  1.19s/it]\n",
      "Epoch: 263. Train. Loss: 0.591 | Accuracy: 63.100 | ROC AUC: 0.726: 100%|██████████| 10/10 [00:17<00:00,  1.76s/it]\n",
      "Epoch: 263. Validation. Loss: 0.851 | Accuracy: 53.800 | ROC AUC: 0.508: 100%|██████████| 5/5 [00:05<00:00,  1.19s/it]\n",
      "Epoch: 264. Train. Loss: 0.578 | Accuracy: 57.000 | ROC AUC: 0.629: 100%|██████████| 10/10 [00:17<00:00,  1.77s/it]\n",
      "Epoch: 264. Validation. Loss: 0.811 | Accuracy: 55.400 | ROC AUC: 0.514: 100%|██████████| 5/5 [00:05<00:00,  1.20s/it]\n",
      "Epoch: 265. Train. Loss: 0.596 | Accuracy: 64.300 | ROC AUC: 0.749: 100%|██████████| 10/10 [00:17<00:00,  1.76s/it]\n",
      "Epoch: 265. Validation. Loss: 0.787 | Accuracy: 54.000 | ROC AUC: 0.509: 100%|██████████| 5/5 [00:05<00:00,  1.19s/it]\n",
      "Epoch: 266. Train. Loss: 0.496 | Accuracy: 57.800 | ROC AUC: 0.638: 100%|██████████| 10/10 [00:17<00:00,  1.76s/it]\n",
      "Epoch: 266. Validation. Loss: 0.841 | Accuracy: 55.200 | ROC AUC: 0.522: 100%|██████████| 5/5 [00:05<00:00,  1.20s/it]\n",
      "Epoch: 267. Train. Loss: 0.534 | Accuracy: 65.800 | ROC AUC: 0.758: 100%|██████████| 10/10 [00:17<00:00,  1.76s/it]\n",
      "Epoch: 267. Validation. Loss: 0.843 | Accuracy: 55.800 | ROC AUC: 0.519: 100%|██████████| 5/5 [00:05<00:00,  1.19s/it]\n",
      "Epoch: 268. Train. Loss: 0.568 | Accuracy: 63.600 | ROC AUC: 0.730: 100%|██████████| 10/10 [00:17<00:00,  1.77s/it]\n",
      "Epoch: 268. Validation. Loss: 0.822 | Accuracy: 57.000 | ROC AUC: 0.519: 100%|██████████| 5/5 [00:06<00:00,  1.22s/it]\n",
      "Epoch: 269. Train. Loss: 0.569 | Accuracy: 61.900 | ROC AUC: 0.719: 100%|██████████| 10/10 [00:17<00:00,  1.78s/it]\n",
      "Epoch: 269. Validation. Loss: 0.816 | Accuracy: 57.600 | ROC AUC: 0.521: 100%|██████████| 5/5 [00:06<00:00,  1.21s/it]\n",
      "Epoch: 270. Train. Loss: 0.518 | Accuracy: 67.500 | ROC AUC: 0.795: 100%|██████████| 10/10 [00:17<00:00,  1.77s/it]\n",
      "Epoch: 270. Validation. Loss: 0.816 | Accuracy: 57.400 | ROC AUC: 0.520: 100%|██████████| 5/5 [00:05<00:00,  1.20s/it]\n",
      "Epoch: 271. Train. Loss: 0.538 | Accuracy: 66.900 | ROC AUC: 0.770: 100%|██████████| 10/10 [00:17<00:00,  1.78s/it]\n",
      "Epoch: 271. Validation. Loss: 0.816 | Accuracy: 57.400 | ROC AUC: 0.520: 100%|██████████| 5/5 [00:06<00:00,  1.24s/it]\n",
      "Epoch: 272. Train. Loss: 0.544 | Accuracy: 61.200 | ROC AUC: 0.681: 100%|██████████| 10/10 [00:17<00:00,  1.80s/it]\n",
      "Epoch: 272. Validation. Loss: 0.817 | Accuracy: 57.200 | ROC AUC: 0.520: 100%|██████████| 5/5 [00:06<00:00,  1.21s/it]\n",
      "Epoch: 273. Train. Loss: 0.546 | Accuracy: 67.300 | ROC AUC: 0.767: 100%|██████████| 10/10 [00:17<00:00,  1.77s/it]\n",
      "Epoch: 273. Validation. Loss: 0.820 | Accuracy: 55.800 | ROC AUC: 0.519: 100%|██████████| 5/5 [00:06<00:00,  1.21s/it]\n",
      "Epoch: 274. Train. Loss: 0.524 | Accuracy: 62.800 | ROC AUC: 0.696: 100%|██████████| 10/10 [00:17<00:00,  1.79s/it]\n",
      "Epoch: 274. Validation. Loss: 0.841 | Accuracy: 55.600 | ROC AUC: 0.520: 100%|██████████| 5/5 [00:06<00:00,  1.22s/it]\n",
      "Epoch: 275. Train. Loss: 0.591 | Accuracy: 63.300 | ROC AUC: 0.747: 100%|██████████| 10/10 [00:17<00:00,  1.76s/it]\n",
      "Epoch: 275. Validation. Loss: 0.836 | Accuracy: 55.200 | ROC AUC: 0.518: 100%|██████████| 5/5 [00:05<00:00,  1.19s/it]\n",
      "Epoch: 276. Train. Loss: 0.556 | Accuracy: 61.900 | ROC AUC: 0.745: 100%|██████████| 10/10 [00:17<00:00,  1.77s/it]\n",
      "Epoch: 276. Validation. Loss: 0.823 | Accuracy: 52.600 | ROC AUC: 0.520: 100%|██████████| 5/5 [00:05<00:00,  1.19s/it]\n",
      "Epoch: 277. Train. Loss: 0.529 | Accuracy: 61.200 | ROC AUC: 0.687: 100%|██████████| 10/10 [00:17<00:00,  1.77s/it]\n",
      "Epoch: 277. Validation. Loss: 0.842 | Accuracy: 55.200 | ROC AUC: 0.520: 100%|██████████| 5/5 [00:06<00:00,  1.20s/it]\n",
      "Epoch: 278. Train. Loss: 0.510 | Accuracy: 64.100 | ROC AUC: 0.748: 100%|██████████| 10/10 [00:17<00:00,  1.78s/it]\n",
      "Epoch: 278. Validation. Loss: 0.938 | Accuracy: 53.400 | ROC AUC: 0.514: 100%|██████████| 5/5 [00:05<00:00,  1.20s/it]\n",
      "Epoch: 279. Train. Loss: 0.552 | Accuracy: 61.800 | ROC AUC: 0.709: 100%|██████████| 10/10 [00:17<00:00,  1.77s/it]\n",
      "Epoch: 279. Validation. Loss: 0.868 | Accuracy: 52.600 | ROC AUC: 0.520: 100%|██████████| 5/5 [00:06<00:00,  1.21s/it]\n",
      "Epoch: 280. Train. Loss: 0.548 | Accuracy: 63.700 | ROC AUC: 0.723: 100%|██████████| 10/10 [00:17<00:00,  1.78s/it]\n",
      "Epoch: 280. Validation. Loss: 0.844 | Accuracy: 55.800 | ROC AUC: 0.517: 100%|██████████| 5/5 [00:05<00:00,  1.20s/it]\n",
      "Epoch: 281. Train. Loss: 0.541 | Accuracy: 56.800 | ROC AUC: 0.664: 100%|██████████| 10/10 [00:17<00:00,  1.76s/it]\n",
      "Epoch: 281. Validation. Loss: 0.835 | Accuracy: 54.800 | ROC AUC: 0.520: 100%|██████████| 5/5 [00:06<00:00,  1.20s/it]\n",
      "Epoch: 282. Train. Loss: 0.476 | Accuracy: 67.400 | ROC AUC: 0.802: 100%|██████████| 10/10 [00:17<00:00,  1.77s/it]\n",
      "Epoch: 282. Validation. Loss: 0.950 | Accuracy: 57.000 | ROC AUC: 0.520: 100%|██████████| 5/5 [00:06<00:00,  1.21s/it]\n",
      "Epoch: 283. Train. Loss: 0.579 | Accuracy: 61.100 | ROC AUC: 0.713: 100%|██████████| 10/10 [00:17<00:00,  1.77s/it]\n",
      "Epoch: 283. Validation. Loss: 0.775 | Accuracy: 51.600 | ROC AUC: 0.519: 100%|██████████| 5/5 [00:05<00:00,  1.19s/it]\n",
      "Epoch: 284. Train. Loss: 0.548 | Accuracy: 57.000 | ROC AUC: 0.636: 100%|██████████| 10/10 [00:17<00:00,  1.76s/it]\n",
      "Epoch: 284. Validation. Loss: 0.842 | Accuracy: 53.800 | ROC AUC: 0.513: 100%|██████████| 5/5 [00:06<00:00,  1.20s/it]\n",
      "Epoch: 285. Train. Loss: 0.543 | Accuracy: 59.500 | ROC AUC: 0.684: 100%|██████████| 10/10 [00:17<00:00,  1.78s/it]\n",
      "Epoch: 285. Validation. Loss: 0.913 | Accuracy: 53.000 | ROC AUC: 0.508: 100%|██████████| 5/5 [00:05<00:00,  1.19s/it]\n",
      "Epoch: 286. Train. Loss: 0.545 | Accuracy: 66.400 | ROC AUC: 0.783: 100%|██████████| 10/10 [00:17<00:00,  1.77s/it]\n",
      "Epoch: 286. Validation. Loss: 0.910 | Accuracy: 53.200 | ROC AUC: 0.510: 100%|██████████| 5/5 [00:05<00:00,  1.19s/it]\n",
      "Epoch: 287. Train. Loss: 0.551 | Accuracy: 64.000 | ROC AUC: 0.715: 100%|██████████| 10/10 [00:17<00:00,  1.76s/it]\n",
      "Epoch: 287. Validation. Loss: 0.882 | Accuracy: 54.000 | ROC AUC: 0.506: 100%|██████████| 5/5 [00:05<00:00,  1.19s/it]\n",
      "Epoch: 288. Train. Loss: 0.557 | Accuracy: 59.300 | ROC AUC: 0.691: 100%|██████████| 10/10 [00:17<00:00,  1.76s/it]\n",
      "Epoch: 288. Validation. Loss: 0.855 | Accuracy: 54.600 | ROC AUC: 0.508: 100%|██████████| 5/5 [00:06<00:00,  1.20s/it]\n",
      "Epoch: 289. Train. Loss: 0.582 | Accuracy: 55.000 | ROC AUC: 0.607: 100%|██████████| 10/10 [00:17<00:00,  1.76s/it]\n",
      "Epoch: 289. Validation. Loss: 0.844 | Accuracy: 54.400 | ROC AUC: 0.509: 100%|██████████| 5/5 [00:05<00:00,  1.20s/it]\n",
      "Epoch: 290. Train. Loss: 0.521 | Accuracy: 62.900 | ROC AUC: 0.712: 100%|██████████| 10/10 [00:17<00:00,  1.79s/it]\n",
      "Epoch: 290. Validation. Loss: 0.845 | Accuracy: 54.200 | ROC AUC: 0.508: 100%|██████████| 5/5 [00:06<00:00,  1.22s/it]\n",
      "Epoch: 291. Train. Loss: 0.524 | Accuracy: 61.500 | ROC AUC: 0.711: 100%|██████████| 10/10 [00:17<00:00,  1.78s/it]\n",
      "Epoch: 291. Validation. Loss: 0.846 | Accuracy: 54.200 | ROC AUC: 0.508: 100%|██████████| 5/5 [00:05<00:00,  1.19s/it]\n",
      "Epoch: 292. Train. Loss: 0.551 | Accuracy: 58.200 | ROC AUC: 0.633: 100%|██████████| 10/10 [00:17<00:00,  1.78s/it]\n",
      "Epoch: 292. Validation. Loss: 0.847 | Accuracy: 55.000 | ROC AUC: 0.508: 100%|██████████| 5/5 [00:06<00:00,  1.23s/it]\n",
      "Epoch: 293. Train. Loss: 0.529 | Accuracy: 61.300 | ROC AUC: 0.708: 100%|██████████| 10/10 [00:17<00:00,  1.76s/it]\n",
      "Epoch: 293. Validation. Loss: 0.849 | Accuracy: 54.200 | ROC AUC: 0.509: 100%|██████████| 5/5 [00:06<00:00,  1.20s/it]\n",
      "Epoch: 294. Train. Loss: 0.565 | Accuracy: 65.600 | ROC AUC: 0.747: 100%|██████████| 10/10 [00:17<00:00,  1.77s/it]\n",
      "Epoch: 294. Validation. Loss: 0.852 | Accuracy: 54.600 | ROC AUC: 0.510: 100%|██████████| 5/5 [00:05<00:00,  1.18s/it]\n",
      "Epoch: 295. Train. Loss: 0.514 | Accuracy: 66.500 | ROC AUC: 0.785: 100%|██████████| 10/10 [00:17<00:00,  1.76s/it]\n",
      "Epoch: 295. Validation. Loss: 0.873 | Accuracy: 54.000 | ROC AUC: 0.510: 100%|██████████| 5/5 [00:05<00:00,  1.19s/it]\n",
      "Epoch: 296. Train. Loss: 0.564 | Accuracy: 66.900 | ROC AUC: 0.812: 100%|██████████| 10/10 [00:17<00:00,  1.77s/it]\n",
      "Epoch: 296. Validation. Loss: 0.893 | Accuracy: 51.000 | ROC AUC: 0.508: 100%|██████████| 5/5 [00:06<00:00,  1.21s/it]\n",
      "Epoch: 297. Train. Loss: 0.544 | Accuracy: 59.900 | ROC AUC: 0.679: 100%|██████████| 10/10 [00:17<00:00,  1.77s/it]\n",
      "Epoch: 297. Validation. Loss: 0.837 | Accuracy: 53.800 | ROC AUC: 0.511: 100%|██████████| 5/5 [00:06<00:00,  1.21s/it]\n",
      "Epoch: 298. Train. Loss: 0.549 | Accuracy: 64.700 | ROC AUC: 0.750: 100%|██████████| 10/10 [00:17<00:00,  1.77s/it]\n",
      "Epoch: 298. Validation. Loss: 0.865 | Accuracy: 53.600 | ROC AUC: 0.510: 100%|██████████| 5/5 [00:05<00:00,  1.19s/it]\n",
      "Epoch: 299. Train. Loss: 0.528 | Accuracy: 66.900 | ROC AUC: 0.787: 100%|██████████| 10/10 [00:17<00:00,  1.79s/it]\n",
      "Epoch: 299. Validation. Loss: 0.888 | Accuracy: 56.000 | ROC AUC: 0.504: 100%|██████████| 5/5 [00:05<00:00,  1.19s/it]\n",
      "Epoch: 300. Train. Loss: 0.561 | Accuracy: 61.300 | ROC AUC: 0.720: 100%|██████████| 10/10 [00:17<00:00,  1.78s/it]\n",
      "Epoch: 300. Validation. Loss: 0.889 | Accuracy: 52.200 | ROC AUC: 0.506: 100%|██████████| 5/5 [00:06<00:00,  1.23s/it]\n"
     ]
    },
    {
     "name": "stdout",
     "output_type": "stream",
     "text": [
      "Best ROC-AUC in fold 0 was 0.6600\n",
      "Final ROC-AUC in fold 0 was 0.5570\n",
      "Best model name in fold 0 was eca_nfnet_l0_fold_0_epoch_60_roc_auc_0.66.pth\n"
     ]
    },
    {
     "data": {
      "text/html": [
       "Finishing last run (ID:3jeaghgr) before initializing another..."
      ],
      "text/plain": [
       "<IPython.core.display.HTML object>"
      ]
     },
     "metadata": {},
     "output_type": "display_data"
    },
    {
     "data": {
      "text/html": [
       "Waiting for W&B process to finish... <strong style=\"color:green\">(success).</strong>"
      ],
      "text/plain": [
       "<IPython.core.display.HTML object>"
      ]
     },
     "metadata": {},
     "output_type": "display_data"
    },
    {
     "data": {
      "application/vnd.jupyter.widget-view+json": {
       "model_id": "d664e2a973ee417b969f8b639dfb40f2",
       "version_major": 2,
       "version_minor": 0
      },
      "text/plain": [
       "VBox(children=(Label(value='0.001 MB of 0.001 MB uploaded (0.000 MB deduped)\\r'), FloatProgress(value=1.0, max…"
      ]
     },
     "metadata": {},
     "output_type": "display_data"
    },
    {
     "data": {
      "text/html": [
       "<style>\n",
       "    table.wandb td:nth-child(1) { padding: 0 10px; text-align: left ; width: auto;} td:nth-child(2) {text-align: left ; width: 100%}\n",
       "    .wandb-row { display: flex; flex-direction: row; flex-wrap: wrap; justify-content: flex-start; width: 100% }\n",
       "    .wandb-col { display: flex; flex-direction: column; flex-basis: 100%; flex: 1; padding: 10px; }\n",
       "    </style>\n",
       "<div class=\"wandb-row\"><div class=\"wandb-col\"><h3>Run history:</h3><br/><table class=\"wandb\"><tr><td>Train Accuracy</td><td>▄▄▂▅▁▄▁▅▅▄▅▆▄▆▅▆▆▅▅▂▇▂▅▂▅▆▅▇▇███▅▇█▇▂█▂█</td></tr><tr><td>Train Epoch</td><td>▁▁▁▂▂▂▂▂▂▃▃▃▃▃▃▄▄▄▄▄▅▅▅▅▅▅▆▆▆▆▆▇▇▇▇▇▇███</td></tr><tr><td>Train Loss</td><td>██▇████▇█▇▇▇▆▇█▆▆▅▇▆▅▃▆▃█▄▅▂▄▃▄▁▇▄▄▃▃▂▄▃</td></tr><tr><td>Train ROC AUC</td><td>▃▂▅▃▁▃▁▄▄▂▄▄▂▄▃▆▄▂▄▇▇▂▄▅▄▇▂█▇█▇█▄▇█▇▄██▇</td></tr><tr><td>Validation Accuracy</td><td>█▂▄▅▅▁▄▃▄▅▃▄▃▁▄▄▄▄▄▂▄▄▅▃▅▅▅▅▅▄▄▄▅▄▄▅▃▅▃▄</td></tr><tr><td>Validation Epoch</td><td>▁▁▁▂▂▂▂▂▂▃▃▃▃▃▃▄▄▄▄▄▅▅▅▅▅▅▆▆▆▆▆▇▇▇▇▇▇███</td></tr><tr><td>Validation Loss</td><td>▃▃▂▂▁▃▁▃▃▃▃▄▃█▄▄▄▄▄▄▅▂▃▅▃▃▅▃▃▇▄▇▃▆▃▅▄█▄▆</td></tr><tr><td>Validation ROC AUC</td><td>▁▁▁█▁▁▁▁▁▁▁▁▁▁▁▁▃▁▄▁▄▁▁▁▁▁▁▁▁▁▁▁▁▃▁▇▁▇▁▄</td></tr></table><br/></div><div class=\"wandb-col\"><h3>Run summary:</h3><br/><table class=\"wandb\"><tr><td>Train Accuracy</td><td>26</td></tr><tr><td>Train Epoch</td><td>300</td></tr><tr><td>Train Loss</td><td>0.47388</td></tr><tr><td>Train ROC AUC</td><td>0.88438</td></tr><tr><td>Validation Accuracy</td><td>38</td></tr><tr><td>Validation Epoch</td><td>300</td></tr><tr><td>Validation Loss</td><td>0.89182</td></tr><tr><td>Validation ROC AUC</td><td>0.5</td></tr></table><br/></div></div>"
      ],
      "text/plain": [
       "<IPython.core.display.HTML object>"
      ]
     },
     "metadata": {},
     "output_type": "display_data"
    },
    {
     "data": {
      "text/html": [
       "Synced <strong style=\"color:#cdcd00\">eca_nfnet_l0</strong>: <a href=\"https://wandb.ai/mllm3/SETI%20-%20300%20epochs%20-%20transform%20-%202/runs/3jeaghgr\" target=\"_blank\">https://wandb.ai/mllm3/SETI%20-%20300%20epochs%20-%20transform%20-%202/runs/3jeaghgr</a><br/>Synced 5 W&B file(s), 0 media file(s), 0 artifact file(s) and 0 other file(s)"
      ],
      "text/plain": [
       "<IPython.core.display.HTML object>"
      ]
     },
     "metadata": {},
     "output_type": "display_data"
    },
    {
     "data": {
      "text/html": [
       "Find logs at: <code>./wandb/run-20220903_223031-3jeaghgr/logs</code>"
      ],
      "text/plain": [
       "<IPython.core.display.HTML object>"
      ]
     },
     "metadata": {},
     "output_type": "display_data"
    },
    {
     "data": {
      "text/html": [
       "Successfully finished last run (ID:3jeaghgr). Initializing new run:<br/>"
      ],
      "text/plain": [
       "<IPython.core.display.HTML object>"
      ]
     },
     "metadata": {},
     "output_type": "display_data"
    },
    {
     "data": {
      "text/html": [
       "Tracking run with wandb version 0.13.2"
      ],
      "text/plain": [
       "<IPython.core.display.HTML object>"
      ]
     },
     "metadata": {},
     "output_type": "display_data"
    },
    {
     "data": {
      "text/html": [
       "Run data is saved locally in <code>/notebooks/wandb/run-20220904_002921-3mgm5aek</code>"
      ],
      "text/plain": [
       "<IPython.core.display.HTML object>"
      ]
     },
     "metadata": {},
     "output_type": "display_data"
    },
    {
     "data": {
      "text/html": [
       "Syncing run <strong><a href=\"https://wandb.ai/mllm3/SETI%20-%20300%20epochs%20-%20transform%20-%202/runs/3mgm5aek\" target=\"_blank\">eca_nfnet_l0</a></strong> to <a href=\"https://wandb.ai/mllm3/SETI%20-%20300%20epochs%20-%20transform%20-%202\" target=\"_blank\">Weights & Biases</a> (<a href=\"https://wandb.me/run\" target=\"_blank\">docs</a>)<br/>"
      ],
      "text/plain": [
       "<IPython.core.display.HTML object>"
      ]
     },
     "metadata": {},
     "output_type": "display_data"
    },
    {
     "name": "stdout",
     "output_type": "stream",
     "text": [
      "======================================== Fold: 1 ========================================\n"
     ]
    },
    {
     "name": "stderr",
     "output_type": "stream",
     "text": [
      "Epoch: 1. Train. Loss: 0.658 | Accuracy: 56.200 | ROC AUC: 0.649: 100%|██████████| 10/10 [00:17<00:00,  1.78s/it]\n",
      "Epoch: 1. Validation. Loss: 0.353 | Accuracy: 84.600 | ROC AUC: 0.597: 100%|██████████| 5/5 [00:06<00:00,  1.22s/it]\n",
      "Epoch: 2. Train. Loss: 0.661 | Accuracy: 52.900 | ROC AUC: 0.600: 100%|██████████| 10/10 [00:17<00:00,  1.77s/it]\n",
      "Epoch: 2. Validation. Loss: 0.418 | Accuracy: 82.400 | ROC AUC: 0.592: 100%|██████████| 5/5 [00:05<00:00,  1.19s/it]\n",
      "Epoch: 3. Train. Loss: 0.628 | Accuracy: 52.800 | ROC AUC: 0.607: 100%|██████████| 10/10 [00:17<00:00,  1.78s/it]\n",
      "Epoch: 3. Validation. Loss: 0.344 | Accuracy: 83.600 | ROC AUC: 0.590: 100%|██████████| 5/5 [00:05<00:00,  1.19s/it]\n",
      "Epoch: 4. Train. Loss: 0.632 | Accuracy: 59.100 | ROC AUC: 0.687: 100%|██████████| 10/10 [00:17<00:00,  1.77s/it]\n",
      "Epoch: 4. Validation. Loss: 0.315 | Accuracy: 84.200 | ROC AUC: 0.592: 100%|██████████| 5/5 [00:06<00:00,  1.21s/it]\n",
      "Epoch: 5. Train. Loss: 0.600 | Accuracy: 58.300 | ROC AUC: 0.679: 100%|██████████| 10/10 [00:17<00:00,  1.78s/it]\n",
      "Epoch: 5. Validation. Loss: 0.304 | Accuracy: 84.600 | ROC AUC: 0.594: 100%|██████████| 5/5 [00:06<00:00,  1.22s/it]\n",
      "Epoch: 6. Train. Loss: 0.624 | Accuracy: 56.600 | ROC AUC: 0.618: 100%|██████████| 10/10 [00:17<00:00,  1.78s/it]\n",
      "Epoch: 6. Validation. Loss: 0.320 | Accuracy: 83.800 | ROC AUC: 0.593: 100%|██████████| 5/5 [00:06<00:00,  1.21s/it]\n",
      "Epoch: 7. Train. Loss: 0.622 | Accuracy: 61.900 | ROC AUC: 0.704: 100%|██████████| 10/10 [00:17<00:00,  1.77s/it]\n",
      "Epoch: 7. Validation. Loss: 0.319 | Accuracy: 84.400 | ROC AUC: 0.593: 100%|██████████| 5/5 [00:06<00:00,  1.20s/it]\n",
      "Epoch: 8. Train. Loss: 0.610 | Accuracy: 58.900 | ROC AUC: 0.692: 100%|██████████| 10/10 [00:17<00:00,  1.78s/it]\n",
      "Epoch: 8. Validation. Loss: 0.319 | Accuracy: 84.800 | ROC AUC: 0.594: 100%|██████████| 5/5 [00:05<00:00,  1.19s/it]\n",
      "Epoch: 9. Train. Loss: 0.604 | Accuracy: 54.900 | ROC AUC: 0.623: 100%|██████████| 10/10 [00:17<00:00,  1.77s/it]\n",
      "Epoch: 9. Validation. Loss: 0.319 | Accuracy: 84.600 | ROC AUC: 0.594: 100%|██████████| 5/5 [00:05<00:00,  1.19s/it]\n",
      "Epoch: 10. Train. Loss: 0.608 | Accuracy: 56.400 | ROC AUC: 0.654: 100%|██████████| 10/10 [00:17<00:00,  1.78s/it]\n",
      "Epoch: 10. Validation. Loss: 0.313 | Accuracy: 84.600 | ROC AUC: 0.594: 100%|██████████| 5/5 [00:06<00:00,  1.20s/it]\n",
      "Epoch: 11. Train. Loss: 0.607 | Accuracy: 56.900 | ROC AUC: 0.634: 100%|██████████| 10/10 [00:17<00:00,  1.79s/it]\n",
      "Epoch: 11. Validation. Loss: 0.312 | Accuracy: 84.600 | ROC AUC: 0.594: 100%|██████████| 5/5 [00:06<00:00,  1.22s/it]\n",
      "Epoch: 12. Train. Loss: 0.629 | Accuracy: 58.700 | ROC AUC: 0.674: 100%|██████████| 10/10 [00:17<00:00,  1.79s/it]\n",
      "Epoch: 12. Validation. Loss: 0.309 | Accuracy: 84.600 | ROC AUC: 0.595: 100%|██████████| 5/5 [00:06<00:00,  1.20s/it]\n",
      "Epoch: 13. Train. Loss: 0.585 | Accuracy: 56.200 | ROC AUC: 0.650: 100%|██████████| 10/10 [00:17<00:00,  1.78s/it]\n",
      "Epoch: 13. Validation. Loss: 0.302 | Accuracy: 85.000 | ROC AUC: 0.595: 100%|██████████| 5/5 [00:06<00:00,  1.21s/it]\n",
      "Epoch: 14. Train. Loss: 0.561 | Accuracy: 57.700 | ROC AUC: 0.675: 100%|██████████| 10/10 [00:17<00:00,  1.79s/it]\n",
      "Epoch: 14. Validation. Loss: 0.281 | Accuracy: 85.600 | ROC AUC: 0.594: 100%|██████████| 5/5 [00:06<00:00,  1.21s/it]\n",
      "Epoch: 15. Train. Loss: 0.623 | Accuracy: 57.500 | ROC AUC: 0.654: 100%|██████████| 10/10 [00:17<00:00,  1.77s/it]\n",
      "Epoch: 15. Validation. Loss: 0.268 | Accuracy: 85.800 | ROC AUC: 0.594: 100%|██████████| 5/5 [00:06<00:00,  1.20s/it]\n",
      "Epoch: 16. Train. Loss: 0.586 | Accuracy: 53.900 | ROC AUC: 0.589: 100%|██████████| 10/10 [00:17<00:00,  1.78s/it]\n",
      "Epoch: 16. Validation. Loss: 0.255 | Accuracy: 86.600 | ROC AUC: 0.595: 100%|██████████| 5/5 [00:05<00:00,  1.20s/it]\n",
      "Epoch: 17. Train. Loss: 0.635 | Accuracy: 57.700 | ROC AUC: 0.648: 100%|██████████| 10/10 [00:17<00:00,  1.78s/it]\n",
      "Epoch: 17. Validation. Loss: 0.303 | Accuracy: 84.800 | ROC AUC: 0.593: 100%|██████████| 5/5 [00:06<00:00,  1.20s/it]\n",
      "Epoch: 18. Train. Loss: 0.620 | Accuracy: 61.500 | ROC AUC: 0.725: 100%|██████████| 10/10 [00:17<00:00,  1.78s/it]\n",
      "Epoch: 18. Validation. Loss: 0.321 | Accuracy: 85.600 | ROC AUC: 0.594: 100%|██████████| 5/5 [00:06<00:00,  1.21s/it]\n",
      "Epoch: 19. Train. Loss: 0.615 | Accuracy: 57.900 | ROC AUC: 0.671: 100%|██████████| 10/10 [00:17<00:00,  1.78s/it]\n",
      "Epoch: 19. Validation. Loss: 0.313 | Accuracy: 84.800 | ROC AUC: 0.595: 100%|██████████| 5/5 [00:05<00:00,  1.20s/it]\n",
      "Epoch: 20. Train. Loss: 0.592 | Accuracy: 53.600 | ROC AUC: 0.639: 100%|██████████| 10/10 [00:17<00:00,  1.77s/it]\n",
      "Epoch: 20. Validation. Loss: 0.328 | Accuracy: 83.800 | ROC AUC: 0.590: 100%|██████████| 5/5 [00:06<00:00,  1.21s/it]\n",
      "Epoch: 21. Train. Loss: 0.612 | Accuracy: 61.500 | ROC AUC: 0.712: 100%|██████████| 10/10 [00:17<00:00,  1.79s/it]\n",
      "Epoch: 21. Validation. Loss: 0.334 | Accuracy: 83.400 | ROC AUC: 0.591: 100%|██████████| 5/5 [00:06<00:00,  1.20s/it]\n",
      "Epoch: 22. Train. Loss: 0.579 | Accuracy: 55.800 | ROC AUC: 0.645: 100%|██████████| 10/10 [00:17<00:00,  1.78s/it]\n",
      "Epoch: 22. Validation. Loss: 0.301 | Accuracy: 84.000 | ROC AUC: 0.591: 100%|██████████| 5/5 [00:05<00:00,  1.19s/it]\n",
      "Epoch: 23. Train. Loss: 0.618 | Accuracy: 57.800 | ROC AUC: 0.652: 100%|██████████| 10/10 [00:17<00:00,  1.77s/it]\n",
      "Epoch: 23. Validation. Loss: 0.371 | Accuracy: 79.000 | ROC AUC: 0.590: 100%|██████████| 5/5 [00:05<00:00,  1.20s/it]\n",
      "Epoch: 24. Train. Loss: 0.615 | Accuracy: 58.300 | ROC AUC: 0.649: 100%|██████████| 10/10 [00:17<00:00,  1.77s/it]\n",
      "Epoch: 24. Validation. Loss: 0.340 | Accuracy: 82.200 | ROC AUC: 0.587: 100%|██████████| 5/5 [00:06<00:00,  1.20s/it]\n",
      "Epoch: 25. Train. Loss: 0.597 | Accuracy: 55.300 | ROC AUC: 0.601: 100%|██████████| 10/10 [00:17<00:00,  1.77s/it]\n",
      "Epoch: 25. Validation. Loss: 0.309 | Accuracy: 83.000 | ROC AUC: 0.590: 100%|██████████| 5/5 [00:06<00:00,  1.21s/it]\n",
      "Epoch: 26. Train. Loss: 0.610 | Accuracy: 57.400 | ROC AUC: 0.651: 100%|██████████| 10/10 [00:17<00:00,  1.78s/it]\n",
      "Epoch: 26. Validation. Loss: 0.297 | Accuracy: 83.800 | ROC AUC: 0.591: 100%|██████████| 5/5 [00:05<00:00,  1.20s/it]\n",
      "Epoch: 27. Train. Loss: 0.596 | Accuracy: 61.800 | ROC AUC: 0.719: 100%|██████████| 10/10 [00:17<00:00,  1.78s/it]\n",
      "Epoch: 27. Validation. Loss: 0.297 | Accuracy: 84.200 | ROC AUC: 0.592: 100%|██████████| 5/5 [00:05<00:00,  1.19s/it]\n",
      "Epoch: 28. Train. Loss: 0.592 | Accuracy: 59.300 | ROC AUC: 0.683: 100%|██████████| 10/10 [00:17<00:00,  1.77s/it]\n",
      "Epoch: 28. Validation. Loss: 0.295 | Accuracy: 84.600 | ROC AUC: 0.593: 100%|██████████| 5/5 [00:06<00:00,  1.20s/it]\n",
      "Epoch: 29. Train. Loss: 0.573 | Accuracy: 55.300 | ROC AUC: 0.614: 100%|██████████| 10/10 [00:17<00:00,  1.79s/it]\n",
      "Epoch: 29. Validation. Loss: 0.293 | Accuracy: 84.000 | ROC AUC: 0.592: 100%|██████████| 5/5 [00:05<00:00,  1.20s/it]\n",
      "Epoch: 30. Train. Loss: 0.548 | Accuracy: 51.800 | ROC AUC: 0.578: 100%|██████████| 10/10 [00:17<00:00,  1.80s/it]\n",
      "Epoch: 30. Validation. Loss: 0.291 | Accuracy: 84.000 | ROC AUC: 0.592: 100%|██████████| 5/5 [00:06<00:00,  1.24s/it]\n",
      "Epoch: 31. Train. Loss: 0.580 | Accuracy: 61.100 | ROC AUC: 0.698: 100%|██████████| 10/10 [00:17<00:00,  1.79s/it]\n",
      "Epoch: 31. Validation. Loss: 0.291 | Accuracy: 84.000 | ROC AUC: 0.592: 100%|██████████| 5/5 [00:06<00:00,  1.21s/it]\n",
      "Epoch: 32. Train. Loss: 0.564 | Accuracy: 59.400 | ROC AUC: 0.677: 100%|██████████| 10/10 [00:17<00:00,  1.78s/it]\n",
      "Epoch: 32. Validation. Loss: 0.288 | Accuracy: 84.000 | ROC AUC: 0.592: 100%|██████████| 5/5 [00:05<00:00,  1.18s/it]\n",
      "Epoch: 33. Train. Loss: 0.601 | Accuracy: 58.200 | ROC AUC: 0.662: 100%|██████████| 10/10 [00:17<00:00,  1.77s/it]\n",
      "Epoch: 33. Validation. Loss: 0.287 | Accuracy: 84.000 | ROC AUC: 0.593: 100%|██████████| 5/5 [00:06<00:00,  1.21s/it]\n",
      "Epoch: 34. Train. Loss: 0.603 | Accuracy: 60.300 | ROC AUC: 0.690: 100%|██████████| 10/10 [00:17<00:00,  1.76s/it]\n",
      "Epoch: 34. Validation. Loss: 0.292 | Accuracy: 83.400 | ROC AUC: 0.593: 100%|██████████| 5/5 [00:05<00:00,  1.19s/it]\n",
      "Epoch: 35. Train. Loss: 0.564 | Accuracy: 55.000 | ROC AUC: 0.608: 100%|██████████| 10/10 [00:17<00:00,  1.77s/it]\n",
      "Epoch: 35. Validation. Loss: 0.294 | Accuracy: 83.000 | ROC AUC: 0.592: 100%|██████████| 5/5 [00:06<00:00,  1.21s/it]\n",
      "Epoch: 36. Train. Loss: 0.556 | Accuracy: 63.500 | ROC AUC: 0.727: 100%|██████████| 10/10 [00:17<00:00,  1.77s/it]\n",
      "Epoch: 36. Validation. Loss: 0.328 | Accuracy: 80.400 | ROC AUC: 0.589: 100%|██████████| 5/5 [00:06<00:00,  1.20s/it]\n",
      "Epoch: 37. Train. Loss: 0.521 | Accuracy: 56.900 | ROC AUC: 0.635: 100%|██████████| 10/10 [00:17<00:00,  1.78s/it]\n",
      "Epoch: 37. Validation. Loss: 0.281 | Accuracy: 82.600 | ROC AUC: 0.588: 100%|██████████| 5/5 [00:06<00:00,  1.21s/it]\n",
      "Epoch: 38. Train. Loss: 0.544 | Accuracy: 54.200 | ROC AUC: 0.626: 100%|██████████| 10/10 [00:17<00:00,  1.76s/it]\n",
      "Epoch: 38. Validation. Loss: 0.309 | Accuracy: 80.200 | ROC AUC: 0.587: 100%|██████████| 5/5 [00:05<00:00,  1.20s/it]\n",
      "Epoch: 39. Train. Loss: 0.565 | Accuracy: 63.200 | ROC AUC: 0.744: 100%|██████████| 10/10 [00:17<00:00,  1.77s/it]\n",
      "Epoch: 39. Validation. Loss: 0.332 | Accuracy: 80.400 | ROC AUC: 0.585: 100%|██████████| 5/5 [00:05<00:00,  1.19s/it]\n",
      "Epoch: 40. Train. Loss: 0.569 | Accuracy: 61.800 | ROC AUC: 0.737: 100%|██████████| 10/10 [00:17<00:00,  1.78s/it]\n",
      "Epoch: 40. Validation. Loss: 0.323 | Accuracy: 81.600 | ROC AUC: 0.590: 100%|██████████| 5/5 [00:06<00:00,  1.21s/it]\n",
      "Epoch: 41. Train. Loss: 0.545 | Accuracy: 60.500 | ROC AUC: 0.717: 100%|██████████| 10/10 [00:17<00:00,  1.78s/it]\n",
      "Epoch: 41. Validation. Loss: 0.314 | Accuracy: 79.800 | ROC AUC: 0.589: 100%|██████████| 5/5 [00:06<00:00,  1.21s/it]\n",
      "Epoch: 42. Train. Loss: 0.595 | Accuracy: 56.300 | ROC AUC: 0.665: 100%|██████████| 10/10 [00:17<00:00,  1.77s/it]\n",
      "Epoch: 42. Validation. Loss: 0.341 | Accuracy: 80.400 | ROC AUC: 0.588: 100%|██████████| 5/5 [00:05<00:00,  1.20s/it]\n",
      "Epoch: 43. Train. Loss: 0.604 | Accuracy: 56.200 | ROC AUC: 0.623: 100%|██████████| 10/10 [00:17<00:00,  1.78s/it]\n",
      "Epoch: 43. Validation. Loss: 0.364 | Accuracy: 80.600 | ROC AUC: 0.585: 100%|██████████| 5/5 [00:06<00:00,  1.21s/it]\n",
      "Epoch: 44. Train. Loss: 0.598 | Accuracy: 64.500 | ROC AUC: 0.769: 100%|██████████| 10/10 [00:17<00:00,  1.77s/it]\n",
      "Epoch: 44. Validation. Loss: 0.358 | Accuracy: 80.000 | ROC AUC: 0.586: 100%|██████████| 5/5 [00:05<00:00,  1.20s/it]\n",
      "Epoch: 45. Train. Loss: 0.540 | Accuracy: 62.000 | ROC AUC: 0.709: 100%|██████████| 10/10 [00:17<00:00,  1.77s/it]\n",
      "Epoch: 45. Validation. Loss: 0.329 | Accuracy: 80.400 | ROC AUC: 0.588: 100%|██████████| 5/5 [00:06<00:00,  1.21s/it]\n",
      "Epoch: 46. Train. Loss: 0.539 | Accuracy: 57.600 | ROC AUC: 0.665: 100%|██████████| 10/10 [00:17<00:00,  1.80s/it]\n",
      "Epoch: 46. Validation. Loss: 0.328 | Accuracy: 79.800 | ROC AUC: 0.590: 100%|██████████| 5/5 [00:06<00:00,  1.22s/it]\n",
      "Epoch: 47. Train. Loss: 0.568 | Accuracy: 64.400 | ROC AUC: 0.798: 100%|██████████| 10/10 [00:17<00:00,  1.77s/it]\n",
      "Epoch: 47. Validation. Loss: 0.318 | Accuracy: 80.000 | ROC AUC: 0.592: 100%|██████████| 5/5 [00:06<00:00,  1.21s/it]\n",
      "Epoch: 48. Train. Loss: 0.584 | Accuracy: 60.000 | ROC AUC: 0.689: 100%|██████████| 10/10 [00:17<00:00,  1.79s/it]\n",
      "Epoch: 48. Validation. Loss: 0.319 | Accuracy: 80.400 | ROC AUC: 0.591: 100%|██████████| 5/5 [00:05<00:00,  1.19s/it]\n",
      "Epoch: 49. Train. Loss: 0.576 | Accuracy: 59.500 | ROC AUC: 0.678: 100%|██████████| 10/10 [00:17<00:00,  1.77s/it]\n",
      "Epoch: 49. Validation. Loss: 0.317 | Accuracy: 80.400 | ROC AUC: 0.590: 100%|██████████| 5/5 [00:06<00:00,  1.21s/it]\n",
      "Epoch: 50. Train. Loss: 0.548 | Accuracy: 58.400 | ROC AUC: 0.685: 100%|██████████| 10/10 [00:17<00:00,  1.77s/it]\n",
      "Epoch: 50. Validation. Loss: 0.316 | Accuracy: 80.400 | ROC AUC: 0.590: 100%|██████████| 5/5 [00:06<00:00,  1.20s/it]\n",
      "Epoch: 51. Train. Loss: 0.555 | Accuracy: 61.100 | ROC AUC: 0.708: 100%|██████████| 10/10 [00:17<00:00,  1.78s/it]\n",
      "Epoch: 51. Validation. Loss: 0.315 | Accuracy: 80.400 | ROC AUC: 0.590: 100%|██████████| 5/5 [00:06<00:00,  1.20s/it]\n",
      "Epoch: 52. Train. Loss: 0.551 | Accuracy: 59.900 | ROC AUC: 0.694: 100%|██████████| 10/10 [00:17<00:00,  1.77s/it]\n",
      "Epoch: 52. Validation. Loss: 0.313 | Accuracy: 80.400 | ROC AUC: 0.590: 100%|██████████| 5/5 [00:06<00:00,  1.21s/it]\n",
      "Epoch: 53. Train. Loss: 0.566 | Accuracy: 62.000 | ROC AUC: 0.734: 100%|██████████| 10/10 [00:17<00:00,  1.77s/it]\n",
      "Epoch: 53. Validation. Loss: 0.305 | Accuracy: 80.600 | ROC AUC: 0.590: 100%|██████████| 5/5 [00:05<00:00,  1.20s/it]\n",
      "Epoch: 54. Train. Loss: 0.529 | Accuracy: 64.400 | ROC AUC: 0.732: 100%|██████████| 10/10 [00:17<00:00,  1.77s/it]\n",
      "Epoch: 54. Validation. Loss: 0.287 | Accuracy: 81.400 | ROC AUC: 0.592: 100%|██████████| 5/5 [00:05<00:00,  1.20s/it]\n",
      "Epoch: 55. Train. Loss: 0.552 | Accuracy: 58.800 | ROC AUC: 0.675: 100%|██████████| 10/10 [00:17<00:00,  1.77s/it]\n",
      "Epoch: 55. Validation. Loss: 0.274 | Accuracy: 82.800 | ROC AUC: 0.590: 100%|██████████| 5/5 [00:05<00:00,  1.20s/it]\n",
      "Epoch: 56. Train. Loss: 0.573 | Accuracy: 62.700 | ROC AUC: 0.747: 100%|██████████| 10/10 [00:17<00:00,  1.77s/it]\n",
      "Epoch: 56. Validation. Loss: 0.311 | Accuracy: 81.000 | ROC AUC: 0.586: 100%|██████████| 5/5 [00:05<00:00,  1.20s/it]\n",
      "Epoch: 57. Train. Loss: 0.583 | Accuracy: 65.800 | ROC AUC: 0.773: 100%|██████████| 10/10 [00:17<00:00,  1.77s/it]\n",
      "Epoch: 57. Validation. Loss: 0.349 | Accuracy: 77.800 | ROC AUC: 0.583: 100%|██████████| 5/5 [00:05<00:00,  1.19s/it]\n",
      "Epoch: 58. Train. Loss: 0.553 | Accuracy: 57.600 | ROC AUC: 0.678: 100%|██████████| 10/10 [00:17<00:00,  1.77s/it]\n",
      "Epoch: 58. Validation. Loss: 0.329 | Accuracy: 80.600 | ROC AUC: 0.584: 100%|██████████| 5/5 [00:06<00:00,  1.20s/it]\n",
      "Epoch: 59. Train. Loss: 0.545 | Accuracy: 60.300 | ROC AUC: 0.713: 100%|██████████| 10/10 [00:17<00:00,  1.77s/it]\n",
      "Epoch: 59. Validation. Loss: 0.386 | Accuracy: 78.200 | ROC AUC: 0.581: 100%|██████████| 5/5 [00:05<00:00,  1.19s/it]\n",
      "Epoch: 60. Train. Loss: 0.583 | Accuracy: 56.200 | ROC AUC: 0.634: 100%|██████████| 10/10 [00:17<00:00,  1.77s/it]\n",
      "Epoch: 60. Validation. Loss: 0.368 | Accuracy: 77.600 | ROC AUC: 0.579: 100%|██████████| 5/5 [00:05<00:00,  1.19s/it]\n",
      "Epoch: 61. Train. Loss: 0.578 | Accuracy: 57.100 | ROC AUC: 0.644: 100%|██████████| 10/10 [00:17<00:00,  1.78s/it]\n",
      "Epoch: 61. Validation. Loss: 0.402 | Accuracy: 74.600 | ROC AUC: 0.578: 100%|██████████| 5/5 [00:05<00:00,  1.19s/it]\n",
      "Epoch: 62. Train. Loss: 0.547 | Accuracy: 57.000 | ROC AUC: 0.663: 100%|██████████| 10/10 [00:17<00:00,  1.77s/it]\n",
      "Epoch: 62. Validation. Loss: 0.431 | Accuracy: 73.800 | ROC AUC: 0.579: 100%|██████████| 5/5 [00:05<00:00,  1.19s/it]\n",
      "Epoch: 63. Train. Loss: 0.546 | Accuracy: 58.900 | ROC AUC: 0.656: 100%|██████████| 10/10 [00:17<00:00,  1.77s/it]\n",
      "Epoch: 63. Validation. Loss: 0.362 | Accuracy: 76.400 | ROC AUC: 0.580: 100%|██████████| 5/5 [00:05<00:00,  1.19s/it]\n",
      "Epoch: 64. Train. Loss: 0.604 | Accuracy: 60.100 | ROC AUC: 0.684: 100%|██████████| 10/10 [00:17<00:00,  1.79s/it]\n",
      "Epoch: 64. Validation. Loss: 0.357 | Accuracy: 78.600 | ROC AUC: 0.580: 100%|██████████| 5/5 [00:06<00:00,  1.21s/it]\n",
      "Epoch: 65. Train. Loss: 0.548 | Accuracy: 59.900 | ROC AUC: 0.701: 100%|██████████| 10/10 [00:17<00:00,  1.77s/it]\n",
      "Epoch: 65. Validation. Loss: 0.345 | Accuracy: 78.000 | ROC AUC: 0.583: 100%|██████████| 5/5 [00:05<00:00,  1.19s/it]\n",
      "Epoch: 66. Train. Loss: 0.563 | Accuracy: 59.400 | ROC AUC: 0.669: 100%|██████████| 10/10 [00:17<00:00,  1.78s/it]\n",
      "Epoch: 66. Validation. Loss: 0.354 | Accuracy: 76.800 | ROC AUC: 0.583: 100%|██████████| 5/5 [00:06<00:00,  1.22s/it]\n",
      "Epoch: 67. Train. Loss: 0.525 | Accuracy: 59.000 | ROC AUC: 0.648: 100%|██████████| 10/10 [00:17<00:00,  1.78s/it]\n",
      "Epoch: 67. Validation. Loss: 0.360 | Accuracy: 76.600 | ROC AUC: 0.582: 100%|██████████| 5/5 [00:06<00:00,  1.22s/it]\n",
      "Epoch: 68. Train. Loss: 0.534 | Accuracy: 59.500 | ROC AUC: 0.669: 100%|██████████| 10/10 [00:17<00:00,  1.80s/it]\n",
      "Epoch: 68. Validation. Loss: 0.357 | Accuracy: 75.800 | ROC AUC: 0.580: 100%|██████████| 5/5 [00:06<00:00,  1.22s/it]\n",
      "Epoch: 69. Train. Loss: 0.532 | Accuracy: 67.300 | ROC AUC: 0.792: 100%|██████████| 10/10 [00:17<00:00,  1.79s/it]\n",
      "Epoch: 69. Validation. Loss: 0.350 | Accuracy: 76.800 | ROC AUC: 0.581: 100%|██████████| 5/5 [00:06<00:00,  1.21s/it]\n",
      "Epoch: 70. Train. Loss: 0.533 | Accuracy: 64.400 | ROC AUC: 0.757: 100%|██████████| 10/10 [00:17<00:00,  1.78s/it]\n",
      "Epoch: 70. Validation. Loss: 0.349 | Accuracy: 77.200 | ROC AUC: 0.581: 100%|██████████| 5/5 [00:06<00:00,  1.22s/it]\n",
      "Epoch: 71. Train. Loss: 0.566 | Accuracy: 62.600 | ROC AUC: 0.694: 100%|██████████| 10/10 [00:17<00:00,  1.77s/it]\n",
      "Epoch: 71. Validation. Loss: 0.349 | Accuracy: 76.800 | ROC AUC: 0.581: 100%|██████████| 5/5 [00:06<00:00,  1.21s/it]\n",
      "Epoch: 72. Train. Loss: 0.551 | Accuracy: 60.700 | ROC AUC: 0.705: 100%|██████████| 10/10 [00:17<00:00,  1.80s/it]\n",
      "Epoch: 72. Validation. Loss: 0.350 | Accuracy: 76.600 | ROC AUC: 0.581: 100%|██████████| 5/5 [00:06<00:00,  1.22s/it]\n",
      "Epoch: 73. Train. Loss: 0.531 | Accuracy: 62.000 | ROC AUC: 0.727: 100%|██████████| 10/10 [00:17<00:00,  1.79s/it]\n",
      "Epoch: 73. Validation. Loss: 0.353 | Accuracy: 76.800 | ROC AUC: 0.581: 100%|██████████| 5/5 [00:05<00:00,  1.20s/it]\n",
      "Epoch: 74. Train. Loss: 0.488 | Accuracy: 64.900 | ROC AUC: 0.777: 100%|██████████| 10/10 [00:17<00:00,  1.78s/it]\n",
      "Epoch: 74. Validation. Loss: 0.332 | Accuracy: 78.000 | ROC AUC: 0.581: 100%|██████████| 5/5 [00:06<00:00,  1.23s/it]\n",
      "Epoch: 75. Train. Loss: 0.546 | Accuracy: 56.700 | ROC AUC: 0.643: 100%|██████████| 10/10 [00:17<00:00,  1.77s/it]\n",
      "Epoch: 75. Validation. Loss: 0.334 | Accuracy: 78.600 | ROC AUC: 0.580: 100%|██████████| 5/5 [00:06<00:00,  1.23s/it]\n",
      "Epoch: 76. Train. Loss: 0.537 | Accuracy: 61.900 | ROC AUC: 0.740: 100%|██████████| 10/10 [00:17<00:00,  1.78s/it]\n",
      "Epoch: 76. Validation. Loss: 0.330 | Accuracy: 80.000 | ROC AUC: 0.583: 100%|██████████| 5/5 [00:06<00:00,  1.22s/it]\n",
      "Epoch: 77. Train. Loss: 0.559 | Accuracy: 56.900 | ROC AUC: 0.651: 100%|██████████| 10/10 [00:17<00:00,  1.79s/it]\n",
      "Epoch: 77. Validation. Loss: 0.336 | Accuracy: 79.200 | ROC AUC: 0.582: 100%|██████████| 5/5 [00:06<00:00,  1.22s/it]\n",
      "Epoch: 78. Train. Loss: 0.551 | Accuracy: 64.900 | ROC AUC: 0.774: 100%|██████████| 10/10 [00:17<00:00,  1.77s/it]\n",
      "Epoch: 78. Validation. Loss: 0.316 | Accuracy: 78.800 | ROC AUC: 0.582: 100%|██████████| 5/5 [00:06<00:00,  1.20s/it]\n",
      "Epoch: 79. Train. Loss: 0.535 | Accuracy: 65.300 | ROC AUC: 0.774: 100%|██████████| 10/10 [00:17<00:00,  1.77s/it]\n",
      "Epoch: 79. Validation. Loss: 0.335 | Accuracy: 78.400 | ROC AUC: 0.585: 100%|██████████| 5/5 [00:06<00:00,  1.20s/it]\n",
      "Epoch: 80. Train. Loss: 0.535 | Accuracy: 64.600 | ROC AUC: 0.751: 100%|██████████| 10/10 [00:17<00:00,  1.78s/it]\n",
      "Epoch: 80. Validation. Loss: 0.386 | Accuracy: 75.200 | ROC AUC: 0.582: 100%|██████████| 5/5 [00:06<00:00,  1.20s/it]\n",
      "Epoch: 81. Train. Loss: 0.556 | Accuracy: 60.400 | ROC AUC: 0.699: 100%|██████████| 10/10 [00:17<00:00,  1.78s/it]\n",
      "Epoch: 81. Validation. Loss: 0.386 | Accuracy: 74.800 | ROC AUC: 0.580: 100%|██████████| 5/5 [00:06<00:00,  1.21s/it]\n",
      "Epoch: 82. Train. Loss: 0.559 | Accuracy: 60.300 | ROC AUC: 0.687: 100%|██████████| 10/10 [00:17<00:00,  1.77s/it]\n",
      "Epoch: 82. Validation. Loss: 0.391 | Accuracy: 75.000 | ROC AUC: 0.581: 100%|██████████| 5/5 [00:06<00:00,  1.21s/it]\n",
      "Epoch: 83. Train. Loss: 0.566 | Accuracy: 59.400 | ROC AUC: 0.674: 100%|██████████| 10/10 [00:17<00:00,  1.79s/it]\n",
      "Epoch: 83. Validation. Loss: 0.359 | Accuracy: 77.600 | ROC AUC: 0.584: 100%|██████████| 5/5 [00:05<00:00,  1.19s/it]\n",
      "Epoch: 84. Train. Loss: 0.533 | Accuracy: 59.300 | ROC AUC: 0.663: 100%|██████████| 10/10 [00:17<00:00,  1.76s/it]\n",
      "Epoch: 84. Validation. Loss: 0.370 | Accuracy: 76.600 | ROC AUC: 0.583: 100%|██████████| 5/5 [00:05<00:00,  1.19s/it]\n",
      "Epoch: 85. Train. Loss: 0.613 | Accuracy: 58.000 | ROC AUC: 0.647: 100%|██████████| 10/10 [00:17<00:00,  1.78s/it]\n",
      "Epoch: 85. Validation. Loss: 0.373 | Accuracy: 76.600 | ROC AUC: 0.583: 100%|██████████| 5/5 [00:06<00:00,  1.21s/it]\n",
      "Epoch: 86. Train. Loss: 0.488 | Accuracy: 64.300 | ROC AUC: 0.770: 100%|██████████| 10/10 [00:17<00:00,  1.78s/it]\n",
      "Epoch: 86. Validation. Loss: 0.356 | Accuracy: 77.200 | ROC AUC: 0.581: 100%|██████████| 5/5 [00:06<00:00,  1.21s/it]\n",
      "Epoch: 87. Train. Loss: 0.563 | Accuracy: 59.200 | ROC AUC: 0.658: 100%|██████████| 10/10 [00:17<00:00,  1.77s/it]\n",
      "Epoch: 87. Validation. Loss: 0.328 | Accuracy: 79.400 | ROC AUC: 0.583: 100%|██████████| 5/5 [00:05<00:00,  1.19s/it]\n",
      "Epoch: 88. Train. Loss: 0.519 | Accuracy: 62.200 | ROC AUC: 0.702: 100%|██████████| 10/10 [00:17<00:00,  1.76s/it]\n",
      "Epoch: 88. Validation. Loss: 0.324 | Accuracy: 79.200 | ROC AUC: 0.584: 100%|██████████| 5/5 [00:06<00:00,  1.21s/it]\n",
      "Epoch: 89. Train. Loss: 0.555 | Accuracy: 62.900 | ROC AUC: 0.726: 100%|██████████| 10/10 [00:17<00:00,  1.78s/it]\n",
      "Epoch: 89. Validation. Loss: 0.321 | Accuracy: 78.600 | ROC AUC: 0.584: 100%|██████████| 5/5 [00:06<00:00,  1.20s/it]\n",
      "Epoch: 90. Train. Loss: 0.516 | Accuracy: 66.900 | ROC AUC: 0.790: 100%|██████████| 10/10 [00:17<00:00,  1.76s/it]\n",
      "Epoch: 90. Validation. Loss: 0.320 | Accuracy: 78.800 | ROC AUC: 0.584: 100%|██████████| 5/5 [00:05<00:00,  1.20s/it]\n",
      "Epoch: 91. Train. Loss: 0.519 | Accuracy: 59.000 | ROC AUC: 0.691: 100%|██████████| 10/10 [00:17<00:00,  1.77s/it]\n",
      "Epoch: 91. Validation. Loss: 0.320 | Accuracy: 78.800 | ROC AUC: 0.584: 100%|██████████| 5/5 [00:05<00:00,  1.19s/it]\n",
      "Epoch: 92. Train. Loss: 0.556 | Accuracy: 56.100 | ROC AUC: 0.620: 100%|██████████| 10/10 [00:17<00:00,  1.79s/it]\n",
      "Epoch: 92. Validation. Loss: 0.318 | Accuracy: 79.600 | ROC AUC: 0.585: 100%|██████████| 5/5 [00:05<00:00,  1.19s/it]\n",
      "Epoch: 93. Train. Loss: 0.543 | Accuracy: 58.000 | ROC AUC: 0.649: 100%|██████████| 10/10 [00:17<00:00,  1.78s/it]\n",
      "Epoch: 93. Validation. Loss: 0.319 | Accuracy: 79.200 | ROC AUC: 0.585: 100%|██████████| 5/5 [00:06<00:00,  1.22s/it]\n",
      "Epoch: 94. Train. Loss: 0.506 | Accuracy: 64.500 | ROC AUC: 0.745: 100%|██████████| 10/10 [00:17<00:00,  1.77s/it]\n",
      "Epoch: 94. Validation. Loss: 0.331 | Accuracy: 78.400 | ROC AUC: 0.583: 100%|██████████| 5/5 [00:06<00:00,  1.20s/it]\n",
      "Epoch: 95. Train. Loss: 0.524 | Accuracy: 59.700 | ROC AUC: 0.679: 100%|██████████| 10/10 [00:17<00:00,  1.77s/it]\n",
      "Epoch: 95. Validation. Loss: 0.338 | Accuracy: 78.600 | ROC AUC: 0.582: 100%|██████████| 5/5 [00:05<00:00,  1.20s/it]\n",
      "Epoch: 96. Train. Loss: 0.558 | Accuracy: 60.000 | ROC AUC: 0.663: 100%|██████████| 10/10 [00:17<00:00,  1.77s/it]\n",
      "Epoch: 96. Validation. Loss: 0.386 | Accuracy: 75.600 | ROC AUC: 0.581: 100%|██████████| 5/5 [00:05<00:00,  1.19s/it]\n",
      "Epoch: 97. Train. Loss: 0.503 | Accuracy: 60.700 | ROC AUC: 0.701: 100%|██████████| 10/10 [00:17<00:00,  1.76s/it]\n",
      "Epoch: 97. Validation. Loss: 0.376 | Accuracy: 77.800 | ROC AUC: 0.578: 100%|██████████| 5/5 [00:05<00:00,  1.20s/it]\n",
      "Epoch: 98. Train. Loss: 0.536 | Accuracy: 57.300 | ROC AUC: 0.622: 100%|██████████| 10/10 [00:17<00:00,  1.78s/it]\n",
      "Epoch: 98. Validation. Loss: 0.414 | Accuracy: 75.400 | ROC AUC: 0.579: 100%|██████████| 5/5 [00:05<00:00,  1.19s/it]\n",
      "Epoch: 99. Train. Loss: 0.569 | Accuracy: 64.200 | ROC AUC: 0.746: 100%|██████████| 10/10 [00:17<00:00,  1.76s/it]\n",
      "Epoch: 99. Validation. Loss: 0.418 | Accuracy: 75.800 | ROC AUC: 0.579: 100%|██████████| 5/5 [00:06<00:00,  1.20s/it]\n",
      "Epoch: 100. Train. Loss: 0.547 | Accuracy: 58.300 | ROC AUC: 0.656: 100%|██████████| 10/10 [00:17<00:00,  1.77s/it]\n",
      "Epoch: 100. Validation. Loss: 0.377 | Accuracy: 75.800 | ROC AUC: 0.574: 100%|██████████| 5/5 [00:06<00:00,  1.21s/it]\n",
      "Epoch: 101. Train. Loss: 0.562 | Accuracy: 62.700 | ROC AUC: 0.728: 100%|██████████| 10/10 [00:17<00:00,  1.76s/it]\n",
      "Epoch: 101. Validation. Loss: 0.387 | Accuracy: 75.400 | ROC AUC: 0.576: 100%|██████████| 5/5 [00:05<00:00,  1.20s/it]\n",
      "Epoch: 102. Train. Loss: 0.531 | Accuracy: 65.200 | ROC AUC: 0.781: 100%|██████████| 10/10 [00:17<00:00,  1.77s/it]\n",
      "Epoch: 102. Validation. Loss: 0.396 | Accuracy: 76.400 | ROC AUC: 0.579: 100%|██████████| 5/5 [00:05<00:00,  1.19s/it]\n",
      "Epoch: 103. Train. Loss: 0.476 | Accuracy: 59.700 | ROC AUC: 0.661: 100%|██████████| 10/10 [00:17<00:00,  1.78s/it]\n",
      "Epoch: 103. Validation. Loss: 0.396 | Accuracy: 75.600 | ROC AUC: 0.577: 100%|██████████| 5/5 [00:06<00:00,  1.21s/it]\n",
      "Epoch: 104. Train. Loss: 0.539 | Accuracy: 58.500 | ROC AUC: 0.680: 100%|██████████| 10/10 [00:17<00:00,  1.77s/it]\n",
      "Epoch: 104. Validation. Loss: 0.463 | Accuracy: 71.000 | ROC AUC: 0.568: 100%|██████████| 5/5 [00:06<00:00,  1.21s/it]\n",
      "Epoch: 105. Train. Loss: 0.564 | Accuracy: 62.300 | ROC AUC: 0.696: 100%|██████████| 10/10 [00:17<00:00,  1.77s/it]\n",
      "Epoch: 105. Validation. Loss: 0.415 | Accuracy: 74.000 | ROC AUC: 0.576: 100%|██████████| 5/5 [00:06<00:00,  1.22s/it]\n",
      "Epoch: 106. Train. Loss: 0.561 | Accuracy: 66.200 | ROC AUC: 0.774: 100%|██████████| 10/10 [00:17<00:00,  1.77s/it]\n",
      "Epoch: 106. Validation. Loss: 0.402 | Accuracy: 75.600 | ROC AUC: 0.581: 100%|██████████| 5/5 [00:06<00:00,  1.21s/it]\n",
      "Epoch: 107. Train. Loss: 0.512 | Accuracy: 54.900 | ROC AUC: 0.599: 100%|██████████| 10/10 [00:17<00:00,  1.77s/it]\n",
      "Epoch: 107. Validation. Loss: 0.397 | Accuracy: 75.200 | ROC AUC: 0.581: 100%|██████████| 5/5 [00:06<00:00,  1.21s/it]\n",
      "Epoch: 108. Train. Loss: 0.568 | Accuracy: 61.700 | ROC AUC: 0.696: 100%|██████████| 10/10 [00:17<00:00,  1.77s/it]\n",
      "Epoch: 108. Validation. Loss: 0.397 | Accuracy: 75.200 | ROC AUC: 0.581: 100%|██████████| 5/5 [00:06<00:00,  1.22s/it]\n",
      "Epoch: 109. Train. Loss: 0.517 | Accuracy: 57.800 | ROC AUC: 0.658: 100%|██████████| 10/10 [00:17<00:00,  1.79s/it]\n",
      "Epoch: 109. Validation. Loss: 0.394 | Accuracy: 75.600 | ROC AUC: 0.583: 100%|██████████| 5/5 [00:05<00:00,  1.19s/it]\n",
      "Epoch: 110. Train. Loss: 0.573 | Accuracy: 65.000 | ROC AUC: 0.732: 100%|██████████| 10/10 [00:17<00:00,  1.78s/it]\n",
      "Epoch: 110. Validation. Loss: 0.393 | Accuracy: 76.000 | ROC AUC: 0.583: 100%|██████████| 5/5 [00:05<00:00,  1.19s/it]\n",
      "Epoch: 111. Train. Loss: 0.509 | Accuracy: 60.000 | ROC AUC: 0.670: 100%|██████████| 10/10 [00:17<00:00,  1.76s/it]\n",
      "Epoch: 111. Validation. Loss: 0.393 | Accuracy: 76.000 | ROC AUC: 0.583: 100%|██████████| 5/5 [00:05<00:00,  1.19s/it]\n",
      "Epoch: 112. Train. Loss: 0.519 | Accuracy: 63.700 | ROC AUC: 0.753: 100%|██████████| 10/10 [00:17<00:00,  1.76s/it]\n",
      "Epoch: 112. Validation. Loss: 0.389 | Accuracy: 76.200 | ROC AUC: 0.583: 100%|██████████| 5/5 [00:05<00:00,  1.20s/it]\n",
      "Epoch: 113. Train. Loss: 0.536 | Accuracy: 62.800 | ROC AUC: 0.690: 100%|██████████| 10/10 [00:17<00:00,  1.77s/it]\n",
      "Epoch: 113. Validation. Loss: 0.385 | Accuracy: 76.200 | ROC AUC: 0.583: 100%|██████████| 5/5 [00:05<00:00,  1.19s/it]\n",
      "Epoch: 114. Train. Loss: 0.572 | Accuracy: 64.300 | ROC AUC: 0.738: 100%|██████████| 10/10 [00:17<00:00,  1.77s/it]\n",
      "Epoch: 114. Validation. Loss: 0.385 | Accuracy: 76.200 | ROC AUC: 0.583: 100%|██████████| 5/5 [00:05<00:00,  1.20s/it]\n",
      "Epoch: 115. Train. Loss: 0.548 | Accuracy: 58.100 | ROC AUC: 0.641: 100%|██████████| 10/10 [00:17<00:00,  1.77s/it]\n",
      "Epoch: 115. Validation. Loss: 0.389 | Accuracy: 76.000 | ROC AUC: 0.583: 100%|██████████| 5/5 [00:06<00:00,  1.22s/it]\n",
      "Epoch: 116. Train. Loss: 0.524 | Accuracy: 61.300 | ROC AUC: 0.694: 100%|██████████| 10/10 [00:17<00:00,  1.77s/it]\n",
      "Epoch: 116. Validation. Loss: 0.373 | Accuracy: 76.000 | ROC AUC: 0.581: 100%|██████████| 5/5 [00:06<00:00,  1.21s/it]\n",
      "Epoch: 117. Train. Loss: 0.580 | Accuracy: 58.400 | ROC AUC: 0.648: 100%|██████████| 10/10 [00:17<00:00,  1.76s/it]\n",
      "Epoch: 117. Validation. Loss: 0.409 | Accuracy: 75.400 | ROC AUC: 0.577: 100%|██████████| 5/5 [00:06<00:00,  1.22s/it]\n",
      "Epoch: 118. Train. Loss: 0.536 | Accuracy: 62.400 | ROC AUC: 0.699: 100%|██████████| 10/10 [00:17<00:00,  1.78s/it]\n",
      "Epoch: 118. Validation. Loss: 0.428 | Accuracy: 74.200 | ROC AUC: 0.575: 100%|██████████| 5/5 [00:05<00:00,  1.18s/it]\n",
      "Epoch: 119. Train. Loss: 0.472 | Accuracy: 55.700 | ROC AUC: 0.609: 100%|██████████| 10/10 [00:17<00:00,  1.76s/it]\n",
      "Epoch: 119. Validation. Loss: 0.442 | Accuracy: 74.800 | ROC AUC: 0.576: 100%|██████████| 5/5 [00:05<00:00,  1.20s/it]\n",
      "Epoch: 120. Train. Loss: 0.557 | Accuracy: 59.700 | ROC AUC: 0.692: 100%|██████████| 10/10 [00:17<00:00,  1.77s/it]\n",
      "Epoch: 120. Validation. Loss: 0.462 | Accuracy: 72.000 | ROC AUC: 0.573: 100%|██████████| 5/5 [00:06<00:00,  1.20s/it]\n",
      "Epoch: 121. Train. Loss: 0.547 | Accuracy: 60.400 | ROC AUC: 0.705: 100%|██████████| 10/10 [00:17<00:00,  1.78s/it]\n",
      "Epoch: 121. Validation. Loss: 0.432 | Accuracy: 74.200 | ROC AUC: 0.576: 100%|██████████| 5/5 [00:05<00:00,  1.19s/it]\n",
      "Epoch: 122. Train. Loss: 0.518 | Accuracy: 60.300 | ROC AUC: 0.673: 100%|██████████| 10/10 [00:17<00:00,  1.78s/it]\n",
      "Epoch: 122. Validation. Loss: 0.448 | Accuracy: 72.200 | ROC AUC: 0.580: 100%|██████████| 5/5 [00:06<00:00,  1.20s/it]\n",
      "Epoch: 123. Train. Loss: 0.519 | Accuracy: 58.200 | ROC AUC: 0.658: 100%|██████████| 10/10 [00:17<00:00,  1.78s/it]\n",
      "Epoch: 123. Validation. Loss: 0.449 | Accuracy: 71.800 | ROC AUC: 0.575: 100%|██████████| 5/5 [00:05<00:00,  1.20s/it]\n",
      "Epoch: 124. Train. Loss: 0.494 | Accuracy: 65.300 | ROC AUC: 0.749: 100%|██████████| 10/10 [00:17<00:00,  1.78s/it]\n",
      "Epoch: 124. Validation. Loss: 0.479 | Accuracy: 72.200 | ROC AUC: 0.574: 100%|██████████| 5/5 [00:05<00:00,  1.19s/it]\n",
      "Epoch: 125. Train. Loss: 0.526 | Accuracy: 64.700 | ROC AUC: 0.734: 100%|██████████| 10/10 [00:17<00:00,  1.76s/it]\n",
      "Epoch: 125. Validation. Loss: 0.475 | Accuracy: 71.400 | ROC AUC: 0.575: 100%|██████████| 5/5 [00:05<00:00,  1.18s/it]\n",
      "Epoch: 126. Train. Loss: 0.524 | Accuracy: 64.500 | ROC AUC: 0.760: 100%|██████████| 10/10 [00:17<00:00,  1.77s/it]\n",
      "Epoch: 126. Validation. Loss: 0.435 | Accuracy: 73.400 | ROC AUC: 0.575: 100%|██████████| 5/5 [00:05<00:00,  1.19s/it]\n",
      "Epoch: 127. Train. Loss: 0.524 | Accuracy: 57.400 | ROC AUC: 0.654: 100%|██████████| 10/10 [00:17<00:00,  1.78s/it]\n",
      "Epoch: 127. Validation. Loss: 0.423 | Accuracy: 73.000 | ROC AUC: 0.576: 100%|██████████| 5/5 [00:05<00:00,  1.19s/it]\n",
      "Epoch: 128. Train. Loss: 0.550 | Accuracy: 68.300 | ROC AUC: 0.785: 100%|██████████| 10/10 [00:17<00:00,  1.78s/it]\n",
      "Epoch: 128. Validation. Loss: 0.423 | Accuracy: 73.200 | ROC AUC: 0.576: 100%|██████████| 5/5 [00:06<00:00,  1.22s/it]\n",
      "Epoch: 129. Train. Loss: 0.549 | Accuracy: 58.100 | ROC AUC: 0.633: 100%|██████████| 10/10 [00:17<00:00,  1.77s/it]\n",
      "Epoch: 129. Validation. Loss: 0.418 | Accuracy: 73.400 | ROC AUC: 0.576: 100%|██████████| 5/5 [00:06<00:00,  1.23s/it]\n",
      "Epoch: 130. Train. Loss: 0.501 | Accuracy: 58.000 | ROC AUC: 0.672: 100%|██████████| 10/10 [00:17<00:00,  1.77s/it]\n",
      "Epoch: 130. Validation. Loss: 0.416 | Accuracy: 74.000 | ROC AUC: 0.577: 100%|██████████| 5/5 [00:06<00:00,  1.21s/it]\n",
      "Epoch: 131. Train. Loss: 0.525 | Accuracy: 67.200 | ROC AUC: 0.797: 100%|██████████| 10/10 [00:17<00:00,  1.77s/it]\n",
      "Epoch: 131. Validation. Loss: 0.416 | Accuracy: 73.800 | ROC AUC: 0.577: 100%|██████████| 5/5 [00:05<00:00,  1.19s/it]\n",
      "Epoch: 132. Train. Loss: 0.533 | Accuracy: 59.000 | ROC AUC: 0.671: 100%|██████████| 10/10 [00:17<00:00,  1.77s/it]\n",
      "Epoch: 132. Validation. Loss: 0.417 | Accuracy: 73.800 | ROC AUC: 0.577: 100%|██████████| 5/5 [00:05<00:00,  1.20s/it]\n",
      "Epoch: 133. Train. Loss: 0.485 | Accuracy: 53.500 | ROC AUC: 0.557: 100%|██████████| 10/10 [00:17<00:00,  1.76s/it]\n",
      "Epoch: 133. Validation. Loss: 0.417 | Accuracy: 73.600 | ROC AUC: 0.578: 100%|██████████| 5/5 [00:05<00:00,  1.19s/it]\n",
      "Epoch: 134. Train. Loss: 0.510 | Accuracy: 60.800 | ROC AUC: 0.673: 100%|██████████| 10/10 [00:17<00:00,  1.76s/it]\n",
      "Epoch: 134. Validation. Loss: 0.414 | Accuracy: 74.200 | ROC AUC: 0.578: 100%|██████████| 5/5 [00:05<00:00,  1.19s/it]\n",
      "Epoch: 135. Train. Loss: 0.527 | Accuracy: 63.700 | ROC AUC: 0.733: 100%|██████████| 10/10 [00:17<00:00,  1.77s/it]\n",
      "Epoch: 135. Validation. Loss: 0.435 | Accuracy: 73.000 | ROC AUC: 0.577: 100%|██████████| 5/5 [00:05<00:00,  1.19s/it]\n",
      "Epoch: 136. Train. Loss: 0.548 | Accuracy: 66.500 | ROC AUC: 0.770: 100%|██████████| 10/10 [00:17<00:00,  1.78s/it]\n",
      "Epoch: 136. Validation. Loss: 0.415 | Accuracy: 74.800 | ROC AUC: 0.577: 100%|██████████| 5/5 [00:06<00:00,  1.22s/it]\n",
      "Epoch: 137. Train. Loss: 0.519 | Accuracy: 70.600 | ROC AUC: 0.825: 100%|██████████| 10/10 [00:17<00:00,  1.78s/it]\n",
      "Epoch: 137. Validation. Loss: 0.440 | Accuracy: 73.000 | ROC AUC: 0.575: 100%|██████████| 5/5 [00:05<00:00,  1.19s/it]\n",
      "Epoch: 138. Train. Loss: 0.549 | Accuracy: 64.200 | ROC AUC: 0.712: 100%|██████████| 10/10 [00:17<00:00,  1.77s/it]\n",
      "Epoch: 138. Validation. Loss: 0.411 | Accuracy: 75.000 | ROC AUC: 0.583: 100%|██████████| 5/5 [00:06<00:00,  1.22s/it]\n",
      "Epoch: 139. Train. Loss: 0.513 | Accuracy: 67.100 | ROC AUC: 0.757: 100%|██████████| 10/10 [00:17<00:00,  1.76s/it]\n",
      "Epoch: 139. Validation. Loss: 0.408 | Accuracy: 75.600 | ROC AUC: 0.580: 100%|██████████| 5/5 [00:06<00:00,  1.21s/it]\n",
      "Epoch: 140. Train. Loss: 0.541 | Accuracy: 65.000 | ROC AUC: 0.757: 100%|██████████| 10/10 [00:17<00:00,  1.76s/it]\n",
      "Epoch: 140. Validation. Loss: 0.507 | Accuracy: 73.200 | ROC AUC: 0.577: 100%|██████████| 5/5 [00:06<00:00,  1.20s/it]\n",
      "Epoch: 141. Train. Loss: 0.535 | Accuracy: 57.300 | ROC AUC: 0.616: 100%|██████████| 10/10 [00:17<00:00,  1.77s/it]\n",
      "Epoch: 141. Validation. Loss: 0.428 | Accuracy: 74.200 | ROC AUC: 0.572: 100%|██████████| 5/5 [00:06<00:00,  1.20s/it]\n",
      "Epoch: 142. Train. Loss: 0.516 | Accuracy: 61.900 | ROC AUC: 0.730: 100%|██████████| 10/10 [00:17<00:00,  1.76s/it]\n",
      "Epoch: 142. Validation. Loss: 0.413 | Accuracy: 74.200 | ROC AUC: 0.572: 100%|██████████| 5/5 [00:05<00:00,  1.20s/it]\n",
      "Epoch: 143. Train. Loss: 0.598 | Accuracy: 58.700 | ROC AUC: 0.675: 100%|██████████| 10/10 [00:17<00:00,  1.77s/it]\n",
      "Epoch: 143. Validation. Loss: 0.422 | Accuracy: 75.800 | ROC AUC: 0.571: 100%|██████████| 5/5 [00:06<00:00,  1.21s/it]\n",
      "Epoch: 144. Train. Loss: 0.544 | Accuracy: 62.600 | ROC AUC: 0.731: 100%|██████████| 10/10 [00:17<00:00,  1.78s/it]\n",
      "Epoch: 144. Validation. Loss: 0.403 | Accuracy: 74.600 | ROC AUC: 0.573: 100%|██████████| 5/5 [00:05<00:00,  1.19s/it]\n",
      "Epoch: 145. Train. Loss: 0.533 | Accuracy: 68.600 | ROC AUC: 0.789: 100%|██████████| 10/10 [00:17<00:00,  1.76s/it]\n",
      "Epoch: 145. Validation. Loss: 0.444 | Accuracy: 74.800 | ROC AUC: 0.573: 100%|██████████| 5/5 [00:05<00:00,  1.19s/it]\n",
      "Epoch: 146. Train. Loss: 0.525 | Accuracy: 62.800 | ROC AUC: 0.742: 100%|██████████| 10/10 [00:17<00:00,  1.79s/it]\n",
      "Epoch: 146. Validation. Loss: 0.432 | Accuracy: 73.600 | ROC AUC: 0.573: 100%|██████████| 5/5 [00:06<00:00,  1.20s/it]\n",
      "Epoch: 147. Train. Loss: 0.525 | Accuracy: 64.000 | ROC AUC: 0.733: 100%|██████████| 10/10 [00:17<00:00,  1.77s/it]\n",
      "Epoch: 147. Validation. Loss: 0.426 | Accuracy: 74.200 | ROC AUC: 0.572: 100%|██████████| 5/5 [00:05<00:00,  1.19s/it]\n",
      "Epoch: 148. Train. Loss: 0.560 | Accuracy: 61.000 | ROC AUC: 0.714: 100%|██████████| 10/10 [00:17<00:00,  1.78s/it]\n",
      "Epoch: 148. Validation. Loss: 0.433 | Accuracy: 73.600 | ROC AUC: 0.569: 100%|██████████| 5/5 [00:06<00:00,  1.21s/it]\n",
      "Epoch: 149. Train. Loss: 0.489 | Accuracy: 62.100 | ROC AUC: 0.692: 100%|██████████| 10/10 [00:17<00:00,  1.78s/it]\n",
      "Epoch: 149. Validation. Loss: 0.428 | Accuracy: 73.800 | ROC AUC: 0.570: 100%|██████████| 5/5 [00:06<00:00,  1.22s/it]\n",
      "Epoch: 150. Train. Loss: 0.515 | Accuracy: 67.900 | ROC AUC: 0.805: 100%|██████████| 10/10 [00:17<00:00,  1.78s/it]\n",
      "Epoch: 150. Validation. Loss: 0.421 | Accuracy: 73.800 | ROC AUC: 0.571: 100%|██████████| 5/5 [00:06<00:00,  1.20s/it]\n",
      "Epoch: 151. Train. Loss: 0.522 | Accuracy: 61.300 | ROC AUC: 0.687: 100%|██████████| 10/10 [00:17<00:00,  1.79s/it]\n",
      "Epoch: 151. Validation. Loss: 0.419 | Accuracy: 73.600 | ROC AUC: 0.571: 100%|██████████| 5/5 [00:06<00:00,  1.21s/it]\n",
      "Epoch: 152. Train. Loss: 0.496 | Accuracy: 66.600 | ROC AUC: 0.755: 100%|██████████| 10/10 [00:17<00:00,  1.77s/it]\n",
      "Epoch: 152. Validation. Loss: 0.416 | Accuracy: 74.000 | ROC AUC: 0.571: 100%|██████████| 5/5 [00:05<00:00,  1.19s/it]\n",
      "Epoch: 153. Train. Loss: 0.560 | Accuracy: 66.900 | ROC AUC: 0.763: 100%|██████████| 10/10 [00:17<00:00,  1.76s/it]\n",
      "Epoch: 153. Validation. Loss: 0.409 | Accuracy: 75.200 | ROC AUC: 0.572: 100%|██████████| 5/5 [00:05<00:00,  1.19s/it]\n",
      "Epoch: 154. Train. Loss: 0.481 | Accuracy: 67.300 | ROC AUC: 0.800: 100%|██████████| 10/10 [00:17<00:00,  1.78s/it]\n",
      "Epoch: 154. Validation. Loss: 0.408 | Accuracy: 75.000 | ROC AUC: 0.572: 100%|██████████| 5/5 [00:06<00:00,  1.20s/it]\n",
      "Epoch: 155. Train. Loss: 0.523 | Accuracy: 68.200 | ROC AUC: 0.806: 100%|██████████| 10/10 [00:17<00:00,  1.78s/it]\n",
      "Epoch: 155. Validation. Loss: 0.411 | Accuracy: 74.200 | ROC AUC: 0.574: 100%|██████████| 5/5 [00:06<00:00,  1.20s/it]\n",
      "Epoch: 156. Train. Loss: 0.496 | Accuracy: 73.400 | ROC AUC: 0.870: 100%|██████████| 10/10 [00:17<00:00,  1.76s/it]\n",
      "Epoch: 156. Validation. Loss: 0.421 | Accuracy: 73.600 | ROC AUC: 0.573: 100%|██████████| 5/5 [00:06<00:00,  1.21s/it]\n",
      "Epoch: 157. Train. Loss: 0.524 | Accuracy: 63.200 | ROC AUC: 0.702: 100%|██████████| 10/10 [00:17<00:00,  1.78s/it]\n",
      "Epoch: 157. Validation. Loss: 0.427 | Accuracy: 74.200 | ROC AUC: 0.570: 100%|██████████| 5/5 [00:06<00:00,  1.21s/it]\n",
      "Epoch: 158. Train. Loss: 0.489 | Accuracy: 61.200 | ROC AUC: 0.665: 100%|██████████| 10/10 [00:17<00:00,  1.78s/it]\n",
      "Epoch: 158. Validation. Loss: 0.453 | Accuracy: 72.800 | ROC AUC: 0.573: 100%|██████████| 5/5 [00:06<00:00,  1.22s/it]\n",
      "Epoch: 159. Train. Loss: 0.513 | Accuracy: 67.800 | ROC AUC: 0.776: 100%|██████████| 10/10 [00:17<00:00,  1.79s/it]\n",
      "Epoch: 159. Validation. Loss: 0.422 | Accuracy: 74.400 | ROC AUC: 0.571: 100%|██████████| 5/5 [00:06<00:00,  1.22s/it]\n",
      "Epoch: 160. Train. Loss: 0.527 | Accuracy: 66.800 | ROC AUC: 0.779: 100%|██████████| 10/10 [00:17<00:00,  1.78s/it]\n",
      "Epoch: 160. Validation. Loss: 0.409 | Accuracy: 74.600 | ROC AUC: 0.573: 100%|██████████| 5/5 [00:06<00:00,  1.20s/it]\n",
      "Epoch: 161. Train. Loss: 0.519 | Accuracy: 63.700 | ROC AUC: 0.719: 100%|██████████| 10/10 [00:17<00:00,  1.77s/it]\n",
      "Epoch: 161. Validation. Loss: 0.404 | Accuracy: 74.200 | ROC AUC: 0.571: 100%|██████████| 5/5 [00:06<00:00,  1.21s/it]\n",
      "Epoch: 162. Train. Loss: 0.477 | Accuracy: 65.600 | ROC AUC: 0.749: 100%|██████████| 10/10 [00:17<00:00,  1.76s/it]\n",
      "Epoch: 162. Validation. Loss: 0.434 | Accuracy: 75.200 | ROC AUC: 0.578: 100%|██████████| 5/5 [00:05<00:00,  1.19s/it]\n",
      "Epoch: 163. Train. Loss: 0.559 | Accuracy: 61.300 | ROC AUC: 0.689: 100%|██████████| 10/10 [00:17<00:00,  1.77s/it]\n",
      "Epoch: 163. Validation. Loss: 0.441 | Accuracy: 73.800 | ROC AUC: 0.573: 100%|██████████| 5/5 [00:06<00:00,  1.21s/it]\n",
      "Epoch: 164. Train. Loss: 0.519 | Accuracy: 60.800 | ROC AUC: 0.687: 100%|██████████| 10/10 [00:17<00:00,  1.77s/it]\n",
      "Epoch: 164. Validation. Loss: 0.429 | Accuracy: 75.800 | ROC AUC: 0.577: 100%|██████████| 5/5 [00:05<00:00,  1.18s/it]\n",
      "Epoch: 165. Train. Loss: 0.561 | Accuracy: 63.100 | ROC AUC: 0.708: 100%|██████████| 10/10 [00:17<00:00,  1.77s/it]\n",
      "Epoch: 165. Validation. Loss: 0.394 | Accuracy: 77.800 | ROC AUC: 0.576: 100%|██████████| 5/5 [00:05<00:00,  1.20s/it]\n",
      "Epoch: 166. Train. Loss: 0.551 | Accuracy: 58.800 | ROC AUC: 0.659: 100%|██████████| 10/10 [00:17<00:00,  1.76s/it]\n",
      "Epoch: 166. Validation. Loss: 0.418 | Accuracy: 75.200 | ROC AUC: 0.574: 100%|██████████| 5/5 [00:05<00:00,  1.19s/it]\n",
      "Epoch: 167. Train. Loss: 0.521 | Accuracy: 70.800 | ROC AUC: 0.852: 100%|██████████| 10/10 [00:17<00:00,  1.76s/it]\n",
      "Epoch: 167. Validation. Loss: 0.438 | Accuracy: 75.000 | ROC AUC: 0.573: 100%|██████████| 5/5 [00:05<00:00,  1.19s/it]\n",
      "Epoch: 168. Train. Loss: 0.475 | Accuracy: 60.200 | ROC AUC: 0.687: 100%|██████████| 10/10 [00:17<00:00,  1.76s/it]\n",
      "Epoch: 168. Validation. Loss: 0.444 | Accuracy: 75.400 | ROC AUC: 0.572: 100%|██████████| 5/5 [00:05<00:00,  1.19s/it]\n",
      "Epoch: 169. Train. Loss: 0.534 | Accuracy: 61.600 | ROC AUC: 0.727: 100%|██████████| 10/10 [00:17<00:00,  1.76s/it]\n",
      "Epoch: 169. Validation. Loss: 0.440 | Accuracy: 74.200 | ROC AUC: 0.572: 100%|██████████| 5/5 [00:05<00:00,  1.19s/it]\n",
      "Epoch: 170. Train. Loss: 0.464 | Accuracy: 65.000 | ROC AUC: 0.751: 100%|██████████| 10/10 [00:17<00:00,  1.76s/it]\n",
      "Epoch: 170. Validation. Loss: 0.439 | Accuracy: 74.200 | ROC AUC: 0.572: 100%|██████████| 5/5 [00:05<00:00,  1.19s/it]\n",
      "Epoch: 171. Train. Loss: 0.519 | Accuracy: 60.700 | ROC AUC: 0.678: 100%|██████████| 10/10 [00:17<00:00,  1.77s/it]\n",
      "Epoch: 171. Validation. Loss: 0.438 | Accuracy: 74.200 | ROC AUC: 0.572: 100%|██████████| 5/5 [00:06<00:00,  1.20s/it]\n",
      "Epoch: 172. Train. Loss: 0.478 | Accuracy: 69.100 | ROC AUC: 0.804: 100%|██████████| 10/10 [00:17<00:00,  1.77s/it]\n",
      "Epoch: 172. Validation. Loss: 0.437 | Accuracy: 74.600 | ROC AUC: 0.572: 100%|██████████| 5/5 [00:05<00:00,  1.19s/it]\n",
      "Epoch: 173. Train. Loss: 0.537 | Accuracy: 67.700 | ROC AUC: 0.802: 100%|██████████| 10/10 [00:17<00:00,  1.76s/it]\n",
      "Epoch: 173. Validation. Loss: 0.431 | Accuracy: 75.600 | ROC AUC: 0.573: 100%|██████████| 5/5 [00:05<00:00,  1.19s/it]\n",
      "Epoch: 174. Train. Loss: 0.541 | Accuracy: 61.300 | ROC AUC: 0.687: 100%|██████████| 10/10 [00:17<00:00,  1.76s/it]\n",
      "Epoch: 174. Validation. Loss: 0.426 | Accuracy: 75.600 | ROC AUC: 0.573: 100%|██████████| 5/5 [00:05<00:00,  1.19s/it]\n",
      "Epoch: 175. Train. Loss: 0.422 | Accuracy: 71.600 | ROC AUC: 0.801: 100%|██████████| 10/10 [00:17<00:00,  1.76s/it]\n",
      "Epoch: 175. Validation. Loss: 0.426 | Accuracy: 75.800 | ROC AUC: 0.576: 100%|██████████| 5/5 [00:05<00:00,  1.19s/it]\n",
      "Epoch: 176. Train. Loss: 0.490 | Accuracy: 66.100 | ROC AUC: 0.756: 100%|██████████| 10/10 [00:17<00:00,  1.78s/it]\n",
      "Epoch: 176. Validation. Loss: 0.433 | Accuracy: 75.200 | ROC AUC: 0.575: 100%|██████████| 5/5 [00:06<00:00,  1.20s/it]\n",
      "Epoch: 177. Train. Loss: 0.514 | Accuracy: 62.900 | ROC AUC: 0.746: 100%|██████████| 10/10 [00:17<00:00,  1.77s/it]\n",
      "Epoch: 177. Validation. Loss: 0.425 | Accuracy: 74.400 | ROC AUC: 0.576: 100%|██████████| 5/5 [00:05<00:00,  1.19s/it]\n",
      "Epoch: 178. Train. Loss: 0.496 | Accuracy: 69.100 | ROC AUC: 0.791: 100%|██████████| 10/10 [00:17<00:00,  1.77s/it]\n",
      "Epoch: 178. Validation. Loss: 0.404 | Accuracy: 76.200 | ROC AUC: 0.575: 100%|██████████| 5/5 [00:05<00:00,  1.19s/it]\n",
      "Epoch: 179. Train. Loss: 0.497 | Accuracy: 65.700 | ROC AUC: 0.775: 100%|██████████| 10/10 [00:17<00:00,  1.78s/it]\n",
      "Epoch: 179. Validation. Loss: 0.457 | Accuracy: 73.200 | ROC AUC: 0.570: 100%|██████████| 5/5 [00:06<00:00,  1.21s/it]\n",
      "Epoch: 180. Train. Loss: 0.549 | Accuracy: 60.700 | ROC AUC: 0.688: 100%|██████████| 10/10 [00:17<00:00,  1.77s/it]\n",
      "Epoch: 180. Validation. Loss: 0.454 | Accuracy: 73.200 | ROC AUC: 0.567: 100%|██████████| 5/5 [00:06<00:00,  1.21s/it]\n",
      "Epoch: 181. Train. Loss: 0.517 | Accuracy: 60.400 | ROC AUC: 0.669: 100%|██████████| 10/10 [00:17<00:00,  1.77s/it]\n",
      "Epoch: 181. Validation. Loss: 0.470 | Accuracy: 71.800 | ROC AUC: 0.572: 100%|██████████| 5/5 [00:05<00:00,  1.19s/it]\n",
      "Epoch: 182. Train. Loss: 0.559 | Accuracy: 60.500 | ROC AUC: 0.676: 100%|██████████| 10/10 [00:17<00:00,  1.77s/it]\n",
      "Epoch: 182. Validation. Loss: 0.466 | Accuracy: 71.000 | ROC AUC: 0.570: 100%|██████████| 5/5 [00:05<00:00,  1.20s/it]\n",
      "Epoch: 183. Train. Loss: 0.459 | Accuracy: 61.400 | ROC AUC: 0.722: 100%|██████████| 10/10 [00:17<00:00,  1.78s/it]\n",
      "Epoch: 183. Validation. Loss: 0.511 | Accuracy: 70.600 | ROC AUC: 0.564: 100%|██████████| 5/5 [00:05<00:00,  1.19s/it]\n",
      "Epoch: 184. Train. Loss: 0.556 | Accuracy: 67.400 | ROC AUC: 0.806: 100%|██████████| 10/10 [00:17<00:00,  1.78s/it]\n",
      "Epoch: 184. Validation. Loss: 0.488 | Accuracy: 70.600 | ROC AUC: 0.570: 100%|██████████| 5/5 [00:06<00:00,  1.20s/it]\n",
      "Epoch: 185. Train. Loss: 0.455 | Accuracy: 57.000 | ROC AUC: 0.655: 100%|██████████| 10/10 [00:17<00:00,  1.77s/it]\n",
      "Epoch: 185. Validation. Loss: 0.508 | Accuracy: 71.200 | ROC AUC: 0.568: 100%|██████████| 5/5 [00:05<00:00,  1.19s/it]\n",
      "Epoch: 186. Train. Loss: 0.479 | Accuracy: 63.500 | ROC AUC: 0.729: 100%|██████████| 10/10 [00:17<00:00,  1.78s/it]\n",
      "Epoch: 186. Validation. Loss: 0.459 | Accuracy: 72.600 | ROC AUC: 0.569: 100%|██████████| 5/5 [00:06<00:00,  1.21s/it]\n",
      "Epoch: 187. Train. Loss: 0.523 | Accuracy: 66.300 | ROC AUC: 0.814: 100%|██████████| 10/10 [00:17<00:00,  1.76s/it]\n",
      "Epoch: 187. Validation. Loss: 0.430 | Accuracy: 74.800 | ROC AUC: 0.574: 100%|██████████| 5/5 [00:06<00:00,  1.21s/it]\n",
      "Epoch: 188. Train. Loss: 0.475 | Accuracy: 70.500 | ROC AUC: 0.826: 100%|██████████| 10/10 [00:17<00:00,  1.77s/it]\n",
      "Epoch: 188. Validation. Loss: 0.420 | Accuracy: 75.200 | ROC AUC: 0.576: 100%|██████████| 5/5 [00:06<00:00,  1.21s/it]\n",
      "Epoch: 189. Train. Loss: 0.461 | Accuracy: 62.400 | ROC AUC: 0.727: 100%|██████████| 10/10 [00:17<00:00,  1.78s/it]\n",
      "Epoch: 189. Validation. Loss: 0.419 | Accuracy: 74.600 | ROC AUC: 0.577: 100%|██████████| 5/5 [00:05<00:00,  1.20s/it]\n",
      "Epoch: 190. Train. Loss: 0.437 | Accuracy: 64.100 | ROC AUC: 0.681: 100%|██████████| 10/10 [00:17<00:00,  1.78s/it]\n",
      "Epoch: 190. Validation. Loss: 0.419 | Accuracy: 75.000 | ROC AUC: 0.577: 100%|██████████| 5/5 [00:06<00:00,  1.21s/it]\n",
      "Epoch: 191. Train. Loss: 0.489 | Accuracy: 66.100 | ROC AUC: 0.781: 100%|██████████| 10/10 [00:17<00:00,  1.76s/it]\n",
      "Epoch: 191. Validation. Loss: 0.420 | Accuracy: 75.000 | ROC AUC: 0.577: 100%|██████████| 5/5 [00:05<00:00,  1.19s/it]\n",
      "Epoch: 192. Train. Loss: 0.537 | Accuracy: 60.600 | ROC AUC: 0.680: 100%|██████████| 10/10 [00:17<00:00,  1.77s/it]\n",
      "Epoch: 192. Validation. Loss: 0.419 | Accuracy: 74.800 | ROC AUC: 0.576: 100%|██████████| 5/5 [00:05<00:00,  1.19s/it]\n",
      "Epoch: 193. Train. Loss: 0.469 | Accuracy: 63.100 | ROC AUC: 0.735: 100%|██████████| 10/10 [00:17<00:00,  1.77s/it]\n",
      "Epoch: 193. Validation. Loss: 0.418 | Accuracy: 73.600 | ROC AUC: 0.575: 100%|██████████| 5/5 [00:05<00:00,  1.19s/it]\n",
      "Epoch: 194. Train. Loss: 0.437 | Accuracy: 56.700 | ROC AUC: 0.654: 100%|██████████| 10/10 [00:17<00:00,  1.76s/it]\n",
      "Epoch: 194. Validation. Loss: 0.429 | Accuracy: 73.200 | ROC AUC: 0.575: 100%|██████████| 5/5 [00:05<00:00,  1.19s/it]\n",
      "Epoch: 195. Train. Loss: 0.533 | Accuracy: 65.200 | ROC AUC: 0.774: 100%|██████████| 10/10 [00:17<00:00,  1.76s/it]\n",
      "Epoch: 195. Validation. Loss: 0.447 | Accuracy: 73.000 | ROC AUC: 0.576: 100%|██████████| 5/5 [00:05<00:00,  1.19s/it]\n",
      "Epoch: 196. Train. Loss: 0.532 | Accuracy: 69.500 | ROC AUC: 0.835: 100%|██████████| 10/10 [00:17<00:00,  1.77s/it]\n",
      "Epoch: 196. Validation. Loss: 0.445 | Accuracy: 73.800 | ROC AUC: 0.572: 100%|██████████| 5/5 [00:05<00:00,  1.19s/it]\n",
      "Epoch: 197. Train. Loss: 0.444 | Accuracy: 65.400 | ROC AUC: 0.759: 100%|██████████| 10/10 [00:17<00:00,  1.78s/it]\n",
      "Epoch: 197. Validation. Loss: 0.457 | Accuracy: 72.600 | ROC AUC: 0.571: 100%|██████████| 5/5 [00:06<00:00,  1.21s/it]\n",
      "Epoch: 198. Train. Loss: 0.506 | Accuracy: 64.100 | ROC AUC: 0.713: 100%|██████████| 10/10 [00:17<00:00,  1.77s/it]\n",
      "Epoch: 198. Validation. Loss: 0.473 | Accuracy: 73.000 | ROC AUC: 0.571: 100%|██████████| 5/5 [00:05<00:00,  1.19s/it]\n",
      "Epoch: 199. Train. Loss: 0.533 | Accuracy: 66.900 | ROC AUC: 0.752: 100%|██████████| 10/10 [00:17<00:00,  1.80s/it]\n",
      "Epoch: 199. Validation. Loss: 0.458 | Accuracy: 73.400 | ROC AUC: 0.571: 100%|██████████| 5/5 [00:05<00:00,  1.20s/it]\n",
      "Epoch: 200. Train. Loss: 0.495 | Accuracy: 62.300 | ROC AUC: 0.693: 100%|██████████| 10/10 [00:17<00:00,  1.78s/it]\n",
      "Epoch: 200. Validation. Loss: 0.507 | Accuracy: 71.200 | ROC AUC: 0.569: 100%|██████████| 5/5 [00:05<00:00,  1.19s/it]\n",
      "Epoch: 201. Train. Loss: 0.517 | Accuracy: 70.000 | ROC AUC: 0.828: 100%|██████████| 10/10 [00:17<00:00,  1.76s/it]\n",
      "Epoch: 201. Validation. Loss: 0.451 | Accuracy: 72.200 | ROC AUC: 0.571: 100%|██████████| 5/5 [00:05<00:00,  1.19s/it]\n",
      "Epoch: 202. Train. Loss: 0.573 | Accuracy: 62.700 | ROC AUC: 0.706: 100%|██████████| 10/10 [00:17<00:00,  1.77s/it]\n",
      "Epoch: 202. Validation. Loss: 0.447 | Accuracy: 71.800 | ROC AUC: 0.572: 100%|██████████| 5/5 [00:06<00:00,  1.21s/it]\n",
      "Epoch: 203. Train. Loss: 0.522 | Accuracy: 60.700 | ROC AUC: 0.655: 100%|██████████| 10/10 [00:17<00:00,  1.77s/it]\n",
      "Epoch: 203. Validation. Loss: 0.483 | Accuracy: 70.400 | ROC AUC: 0.573: 100%|██████████| 5/5 [00:05<00:00,  1.19s/it]\n",
      "Epoch: 204. Train. Loss: 0.461 | Accuracy: 66.600 | ROC AUC: 0.788: 100%|██████████| 10/10 [00:17<00:00,  1.77s/it]\n",
      "Epoch: 204. Validation. Loss: 0.469 | Accuracy: 72.000 | ROC AUC: 0.573: 100%|██████████| 5/5 [00:05<00:00,  1.20s/it]\n",
      "Epoch: 205. Train. Loss: 0.493 | Accuracy: 67.400 | ROC AUC: 0.776: 100%|██████████| 10/10 [00:17<00:00,  1.76s/it]\n",
      "Epoch: 205. Validation. Loss: 0.437 | Accuracy: 74.600 | ROC AUC: 0.571: 100%|██████████| 5/5 [00:05<00:00,  1.19s/it]\n",
      "Epoch: 206. Train. Loss: 0.487 | Accuracy: 64.200 | ROC AUC: 0.730: 100%|██████████| 10/10 [00:17<00:00,  1.79s/it]\n",
      "Epoch: 206. Validation. Loss: 0.501 | Accuracy: 70.800 | ROC AUC: 0.568: 100%|██████████| 5/5 [00:06<00:00,  1.22s/it]\n",
      "Epoch: 207. Train. Loss: 0.483 | Accuracy: 65.900 | ROC AUC: 0.784: 100%|██████████| 10/10 [00:17<00:00,  1.78s/it]\n",
      "Epoch: 207. Validation. Loss: 0.448 | Accuracy: 72.600 | ROC AUC: 0.572: 100%|██████████| 5/5 [00:06<00:00,  1.21s/it]\n",
      "Epoch: 208. Train. Loss: 0.464 | Accuracy: 63.500 | ROC AUC: 0.697: 100%|██████████| 10/10 [00:17<00:00,  1.77s/it]\n",
      "Epoch: 208. Validation. Loss: 0.453 | Accuracy: 73.800 | ROC AUC: 0.574: 100%|██████████| 5/5 [00:05<00:00,  1.19s/it]\n",
      "Epoch: 209. Train. Loss: 0.495 | Accuracy: 65.400 | ROC AUC: 0.756: 100%|██████████| 10/10 [00:17<00:00,  1.77s/it]\n",
      "Epoch: 209. Validation. Loss: 0.459 | Accuracy: 73.400 | ROC AUC: 0.574: 100%|██████████| 5/5 [00:06<00:00,  1.21s/it]\n",
      "Epoch: 210. Train. Loss: 0.521 | Accuracy: 63.900 | ROC AUC: 0.720: 100%|██████████| 10/10 [00:17<00:00,  1.78s/it]\n",
      "Epoch: 210. Validation. Loss: 0.462 | Accuracy: 73.200 | ROC AUC: 0.574: 100%|██████████| 5/5 [00:06<00:00,  1.21s/it]\n",
      "Epoch: 211. Train. Loss: 0.536 | Accuracy: 61.000 | ROC AUC: 0.706: 100%|██████████| 10/10 [00:17<00:00,  1.78s/it]\n",
      "Epoch: 211. Validation. Loss: 0.460 | Accuracy: 73.200 | ROC AUC: 0.574: 100%|██████████| 5/5 [00:06<00:00,  1.21s/it]\n",
      "Epoch: 212. Train. Loss: 0.507 | Accuracy: 69.800 | ROC AUC: 0.840: 100%|██████████| 10/10 [00:17<00:00,  1.79s/it]\n",
      "Epoch: 212. Validation. Loss: 0.455 | Accuracy: 73.200 | ROC AUC: 0.574: 100%|██████████| 5/5 [00:06<00:00,  1.22s/it]\n",
      "Epoch: 213. Train. Loss: 0.499 | Accuracy: 65.200 | ROC AUC: 0.710: 100%|██████████| 10/10 [00:17<00:00,  1.77s/it]\n",
      "Epoch: 213. Validation. Loss: 0.443 | Accuracy: 74.000 | ROC AUC: 0.574: 100%|██████████| 5/5 [00:05<00:00,  1.19s/it]\n",
      "Epoch: 214. Train. Loss: 0.549 | Accuracy: 61.000 | ROC AUC: 0.690: 100%|██████████| 10/10 [00:17<00:00,  1.77s/it]\n",
      "Epoch: 214. Validation. Loss: 0.446 | Accuracy: 75.000 | ROC AUC: 0.572: 100%|██████████| 5/5 [00:05<00:00,  1.20s/it]\n",
      "Epoch: 215. Train. Loss: 0.485 | Accuracy: 71.700 | ROC AUC: 0.851: 100%|██████████| 10/10 [00:17<00:00,  1.76s/it]\n",
      "Epoch: 215. Validation. Loss: 0.456 | Accuracy: 74.200 | ROC AUC: 0.569: 100%|██████████| 5/5 [00:05<00:00,  1.19s/it]\n",
      "Epoch: 216. Train. Loss: 0.574 | Accuracy: 64.200 | ROC AUC: 0.756: 100%|██████████| 10/10 [00:17<00:00,  1.77s/it]\n",
      "Epoch: 216. Validation. Loss: 0.476 | Accuracy: 73.000 | ROC AUC: 0.569: 100%|██████████| 5/5 [00:06<00:00,  1.21s/it]\n",
      "Epoch: 217. Train. Loss: 0.467 | Accuracy: 63.000 | ROC AUC: 0.709: 100%|██████████| 10/10 [00:17<00:00,  1.77s/it]\n",
      "Epoch: 217. Validation. Loss: 0.482 | Accuracy: 71.800 | ROC AUC: 0.563: 100%|██████████| 5/5 [00:05<00:00,  1.19s/it]\n",
      "Epoch: 218. Train. Loss: 0.508 | Accuracy: 64.800 | ROC AUC: 0.757: 100%|██████████| 10/10 [00:17<00:00,  1.77s/it]\n",
      "Epoch: 218. Validation. Loss: 0.517 | Accuracy: 70.200 | ROC AUC: 0.563: 100%|██████████| 5/5 [00:05<00:00,  1.19s/it]\n",
      "Epoch: 219. Train. Loss: 0.461 | Accuracy: 64.800 | ROC AUC: 0.740: 100%|██████████| 10/10 [00:17<00:00,  1.79s/it]\n",
      "Epoch: 219. Validation. Loss: 0.502 | Accuracy: 72.600 | ROC AUC: 0.563: 100%|██████████| 5/5 [00:06<00:00,  1.20s/it]\n",
      "Epoch: 220. Train. Loss: 0.538 | Accuracy: 61.200 | ROC AUC: 0.683: 100%|██████████| 10/10 [00:17<00:00,  1.78s/it]\n",
      "Epoch: 220. Validation. Loss: 0.463 | Accuracy: 73.400 | ROC AUC: 0.565: 100%|██████████| 5/5 [00:06<00:00,  1.20s/it]\n",
      "Epoch: 221. Train. Loss: 0.501 | Accuracy: 56.800 | ROC AUC: 0.620: 100%|██████████| 10/10 [00:17<00:00,  1.79s/it]\n",
      "Epoch: 221. Validation. Loss: 0.512 | Accuracy: 69.800 | ROC AUC: 0.563: 100%|██████████| 5/5 [00:05<00:00,  1.19s/it]\n",
      "Epoch: 222. Train. Loss: 0.523 | Accuracy: 62.700 | ROC AUC: 0.694: 100%|██████████| 10/10 [00:17<00:00,  1.79s/it]\n",
      "Epoch: 222. Validation. Loss: 0.513 | Accuracy: 69.400 | ROC AUC: 0.565: 100%|██████████| 5/5 [00:05<00:00,  1.20s/it]\n",
      "Epoch: 223. Train. Loss: 0.541 | Accuracy: 60.300 | ROC AUC: 0.671: 100%|██████████| 10/10 [00:17<00:00,  1.76s/it]\n",
      "Epoch: 223. Validation. Loss: 0.489 | Accuracy: 72.200 | ROC AUC: 0.566: 100%|██████████| 5/5 [00:05<00:00,  1.19s/it]\n",
      "Epoch: 224. Train. Loss: 0.511 | Accuracy: 71.800 | ROC AUC: 0.813: 100%|██████████| 10/10 [00:17<00:00,  1.77s/it]\n",
      "Epoch: 224. Validation. Loss: 0.512 | Accuracy: 71.600 | ROC AUC: 0.563: 100%|██████████| 5/5 [00:06<00:00,  1.22s/it]\n",
      "Epoch: 225. Train. Loss: 0.559 | Accuracy: 57.100 | ROC AUC: 0.629: 100%|██████████| 10/10 [00:17<00:00,  1.79s/it]\n",
      "Epoch: 225. Validation. Loss: 0.526 | Accuracy: 70.400 | ROC AUC: 0.569: 100%|██████████| 5/5 [00:05<00:00,  1.20s/it]\n",
      "Epoch: 226. Train. Loss: 0.498 | Accuracy: 68.700 | ROC AUC: 0.783: 100%|██████████| 10/10 [00:17<00:00,  1.77s/it]\n",
      "Epoch: 226. Validation. Loss: 0.516 | Accuracy: 70.600 | ROC AUC: 0.570: 100%|██████████| 5/5 [00:05<00:00,  1.20s/it]\n",
      "Epoch: 227. Train. Loss: 0.547 | Accuracy: 65.700 | ROC AUC: 0.755: 100%|██████████| 10/10 [00:17<00:00,  1.77s/it]\n",
      "Epoch: 227. Validation. Loss: 0.471 | Accuracy: 71.600 | ROC AUC: 0.569: 100%|██████████| 5/5 [00:06<00:00,  1.22s/it]\n",
      "Epoch: 228. Train. Loss: 0.492 | Accuracy: 65.700 | ROC AUC: 0.756: 100%|██████████| 10/10 [00:17<00:00,  1.77s/it]\n",
      "Epoch: 228. Validation. Loss: 0.474 | Accuracy: 72.600 | ROC AUC: 0.568: 100%|██████████| 5/5 [00:05<00:00,  1.20s/it]\n",
      "Epoch: 229. Train. Loss: 0.501 | Accuracy: 60.400 | ROC AUC: 0.663: 100%|██████████| 10/10 [00:17<00:00,  1.77s/it]\n",
      "Epoch: 229. Validation. Loss: 0.481 | Accuracy: 72.200 | ROC AUC: 0.568: 100%|██████████| 5/5 [00:05<00:00,  1.19s/it]\n",
      "Epoch: 230. Train. Loss: 0.470 | Accuracy: 65.600 | ROC AUC: 0.757: 100%|██████████| 10/10 [00:17<00:00,  1.76s/it]\n",
      "Epoch: 230. Validation. Loss: 0.481 | Accuracy: 72.000 | ROC AUC: 0.568: 100%|██████████| 5/5 [00:06<00:00,  1.20s/it]\n",
      "Epoch: 231. Train. Loss: 0.503 | Accuracy: 64.900 | ROC AUC: 0.761: 100%|██████████| 10/10 [00:17<00:00,  1.78s/it]\n",
      "Epoch: 231. Validation. Loss: 0.480 | Accuracy: 72.000 | ROC AUC: 0.568: 100%|██████████| 5/5 [00:06<00:00,  1.22s/it]\n",
      "Epoch: 232. Train. Loss: 0.467 | Accuracy: 58.500 | ROC AUC: 0.634: 100%|██████████| 10/10 [00:17<00:00,  1.78s/it]\n",
      "Epoch: 232. Validation. Loss: 0.477 | Accuracy: 72.200 | ROC AUC: 0.567: 100%|██████████| 5/5 [00:06<00:00,  1.21s/it]\n",
      "Epoch: 233. Train. Loss: 0.508 | Accuracy: 60.700 | ROC AUC: 0.700: 100%|██████████| 10/10 [00:17<00:00,  1.78s/it]\n",
      "Epoch: 233. Validation. Loss: 0.468 | Accuracy: 72.000 | ROC AUC: 0.568: 100%|██████████| 5/5 [00:05<00:00,  1.20s/it]\n",
      "Epoch: 234. Train. Loss: 0.497 | Accuracy: 57.200 | ROC AUC: 0.640: 100%|██████████| 10/10 [00:17<00:00,  1.78s/it]\n",
      "Epoch: 234. Validation. Loss: 0.461 | Accuracy: 73.200 | ROC AUC: 0.569: 100%|██████████| 5/5 [00:05<00:00,  1.19s/it]\n",
      "Epoch: 235. Train. Loss: 0.514 | Accuracy: 64.400 | ROC AUC: 0.716: 100%|██████████| 10/10 [00:17<00:00,  1.79s/it]\n",
      "Epoch: 235. Validation. Loss: 0.473 | Accuracy: 72.800 | ROC AUC: 0.569: 100%|██████████| 5/5 [00:05<00:00,  1.20s/it]\n",
      "Epoch: 236. Train. Loss: 0.469 | Accuracy: 65.000 | ROC AUC: 0.758: 100%|██████████| 10/10 [00:17<00:00,  1.78s/it]\n",
      "Epoch: 236. Validation. Loss: 0.485 | Accuracy: 73.200 | ROC AUC: 0.572: 100%|██████████| 5/5 [00:06<00:00,  1.20s/it]\n",
      "Epoch: 237. Train. Loss: 0.514 | Accuracy: 62.900 | ROC AUC: 0.731: 100%|██████████| 10/10 [00:17<00:00,  1.78s/it]\n",
      "Epoch: 237. Validation. Loss: 0.470 | Accuracy: 71.800 | ROC AUC: 0.565: 100%|██████████| 5/5 [00:06<00:00,  1.22s/it]\n",
      "Epoch: 238. Train. Loss: 0.528 | Accuracy: 67.000 | ROC AUC: 0.784: 100%|██████████| 10/10 [00:17<00:00,  1.79s/it]\n",
      "Epoch: 238. Validation. Loss: 0.550 | Accuracy: 69.600 | ROC AUC: 0.566: 100%|██████████| 5/5 [00:06<00:00,  1.20s/it]\n",
      "Epoch: 239. Train. Loss: 0.535 | Accuracy: 64.000 | ROC AUC: 0.734: 100%|██████████| 10/10 [00:17<00:00,  1.78s/it]\n",
      "Epoch: 239. Validation. Loss: 0.550 | Accuracy: 70.200 | ROC AUC: 0.567: 100%|██████████| 5/5 [00:05<00:00,  1.19s/it]\n",
      "Epoch: 240. Train. Loss: 0.571 | Accuracy: 58.900 | ROC AUC: 0.697: 100%|██████████| 10/10 [00:17<00:00,  1.77s/it]\n",
      "Epoch: 240. Validation. Loss: 0.515 | Accuracy: 70.600 | ROC AUC: 0.564: 100%|██████████| 5/5 [00:05<00:00,  1.19s/it]\n",
      "Epoch: 241. Train. Loss: 0.502 | Accuracy: 63.600 | ROC AUC: 0.725: 100%|██████████| 10/10 [00:17<00:00,  1.77s/it]\n",
      "Epoch: 241. Validation. Loss: 0.534 | Accuracy: 69.800 | ROC AUC: 0.565: 100%|██████████| 5/5 [00:05<00:00,  1.19s/it]\n",
      "Epoch: 242. Train. Loss: 0.554 | Accuracy: 66.700 | ROC AUC: 0.769: 100%|██████████| 10/10 [00:17<00:00,  1.77s/it]\n",
      "Epoch: 242. Validation. Loss: 0.479 | Accuracy: 71.800 | ROC AUC: 0.569: 100%|██████████| 5/5 [00:05<00:00,  1.20s/it]\n",
      "Epoch: 243. Train. Loss: 0.505 | Accuracy: 57.700 | ROC AUC: 0.652: 100%|██████████| 10/10 [00:17<00:00,  1.76s/it]\n",
      "Epoch: 243. Validation. Loss: 0.458 | Accuracy: 73.600 | ROC AUC: 0.573: 100%|██████████| 5/5 [00:06<00:00,  1.20s/it]\n",
      "Epoch: 244. Train. Loss: 0.523 | Accuracy: 68.900 | ROC AUC: 0.803: 100%|██████████| 10/10 [00:17<00:00,  1.77s/it]\n",
      "Epoch: 244. Validation. Loss: 0.460 | Accuracy: 74.000 | ROC AUC: 0.573: 100%|██████████| 5/5 [00:06<00:00,  1.20s/it]\n",
      "Epoch: 245. Train. Loss: 0.520 | Accuracy: 55.600 | ROC AUC: 0.614: 100%|██████████| 10/10 [00:17<00:00,  1.77s/it]\n",
      "Epoch: 245. Validation. Loss: 0.511 | Accuracy: 71.800 | ROC AUC: 0.570: 100%|██████████| 5/5 [00:06<00:00,  1.21s/it]\n",
      "Epoch: 246. Train. Loss: 0.567 | Accuracy: 58.500 | ROC AUC: 0.646: 100%|██████████| 10/10 [00:17<00:00,  1.77s/it]\n",
      "Epoch: 246. Validation. Loss: 0.488 | Accuracy: 71.600 | ROC AUC: 0.568: 100%|██████████| 5/5 [00:06<00:00,  1.22s/it]\n",
      "Epoch: 247. Train. Loss: 0.461 | Accuracy: 71.800 | ROC AUC: 0.802: 100%|██████████| 10/10 [00:17<00:00,  1.77s/it]\n",
      "Epoch: 247. Validation. Loss: 0.489 | Accuracy: 72.200 | ROC AUC: 0.564: 100%|██████████| 5/5 [00:05<00:00,  1.19s/it]\n",
      "Epoch: 248. Train. Loss: 0.465 | Accuracy: 59.000 | ROC AUC: 0.657: 100%|██████████| 10/10 [00:17<00:00,  1.78s/it]\n",
      "Epoch: 248. Validation. Loss: 0.499 | Accuracy: 73.000 | ROC AUC: 0.566: 100%|██████████| 5/5 [00:06<00:00,  1.22s/it]\n",
      "Epoch: 249. Train. Loss: 0.514 | Accuracy: 61.000 | ROC AUC: 0.688: 100%|██████████| 10/10 [00:17<00:00,  1.77s/it]\n",
      "Epoch: 249. Validation. Loss: 0.510 | Accuracy: 72.200 | ROC AUC: 0.566: 100%|██████████| 5/5 [00:06<00:00,  1.20s/it]\n",
      "Epoch: 250. Train. Loss: 0.464 | Accuracy: 70.400 | ROC AUC: 0.806: 100%|██████████| 10/10 [00:17<00:00,  1.77s/it]\n",
      "Epoch: 250. Validation. Loss: 0.512 | Accuracy: 72.400 | ROC AUC: 0.566: 100%|██████████| 5/5 [00:06<00:00,  1.21s/it]\n",
      "Epoch: 251. Train. Loss: 0.484 | Accuracy: 70.800 | ROC AUC: 0.799: 100%|██████████| 10/10 [00:17<00:00,  1.77s/it]\n",
      "Epoch: 251. Validation. Loss: 0.512 | Accuracy: 72.400 | ROC AUC: 0.566: 100%|██████████| 5/5 [00:06<00:00,  1.21s/it]\n",
      "Epoch: 252. Train. Loss: 0.522 | Accuracy: 70.900 | ROC AUC: 0.822: 100%|██████████| 10/10 [00:17<00:00,  1.79s/it]\n",
      "Epoch: 252. Validation. Loss: 0.510 | Accuracy: 72.400 | ROC AUC: 0.566: 100%|██████████| 5/5 [00:06<00:00,  1.21s/it]\n",
      "Epoch: 253. Train. Loss: 0.493 | Accuracy: 63.700 | ROC AUC: 0.747: 100%|██████████| 10/10 [00:17<00:00,  1.77s/it]\n",
      "Epoch: 253. Validation. Loss: 0.501 | Accuracy: 71.800 | ROC AUC: 0.567: 100%|██████████| 5/5 [00:05<00:00,  1.19s/it]\n",
      "Epoch: 254. Train. Loss: 0.516 | Accuracy: 66.800 | ROC AUC: 0.787: 100%|██████████| 10/10 [00:18<00:00,  1.80s/it]\n",
      "Epoch: 254. Validation. Loss: 0.497 | Accuracy: 71.200 | ROC AUC: 0.566: 100%|██████████| 5/5 [00:06<00:00,  1.21s/it]\n",
      "Epoch: 255. Train. Loss: 0.417 | Accuracy: 64.800 | ROC AUC: 0.746: 100%|██████████| 10/10 [00:17<00:00,  1.77s/it]\n",
      "Epoch: 255. Validation. Loss: 0.539 | Accuracy: 70.800 | ROC AUC: 0.568: 100%|██████████| 5/5 [00:06<00:00,  1.20s/it]\n",
      "Epoch: 256. Train. Loss: 0.470 | Accuracy: 68.100 | ROC AUC: 0.811: 100%|██████████| 10/10 [00:17<00:00,  1.78s/it]\n",
      "Epoch: 256. Validation. Loss: 0.511 | Accuracy: 71.600 | ROC AUC: 0.566: 100%|██████████| 5/5 [00:05<00:00,  1.19s/it]\n",
      "Epoch: 257. Train. Loss: 0.510 | Accuracy: 62.700 | ROC AUC: 0.695: 100%|██████████| 10/10 [00:17<00:00,  1.77s/it]\n",
      "Epoch: 257. Validation. Loss: 0.520 | Accuracy: 69.400 | ROC AUC: 0.569: 100%|██████████| 5/5 [00:05<00:00,  1.20s/it]\n",
      "Epoch: 258. Train. Loss: 0.480 | Accuracy: 60.100 | ROC AUC: 0.670: 100%|██████████| 10/10 [00:17<00:00,  1.77s/it]\n",
      "Epoch: 258. Validation. Loss: 0.524 | Accuracy: 71.600 | ROC AUC: 0.570: 100%|██████████| 5/5 [00:06<00:00,  1.22s/it]\n",
      "Epoch: 259. Train. Loss: 0.493 | Accuracy: 62.600 | ROC AUC: 0.723: 100%|██████████| 10/10 [00:17<00:00,  1.79s/it]\n",
      "Epoch: 259. Validation. Loss: 0.500 | Accuracy: 73.800 | ROC AUC: 0.566: 100%|██████████| 5/5 [00:05<00:00,  1.20s/it]\n",
      "Epoch: 260. Train. Loss: 0.493 | Accuracy: 67.500 | ROC AUC: 0.778: 100%|██████████| 10/10 [00:17<00:00,  1.78s/it]\n",
      "Epoch: 260. Validation. Loss: 0.550 | Accuracy: 70.200 | ROC AUC: 0.566: 100%|██████████| 5/5 [00:06<00:00,  1.20s/it]\n",
      "Epoch: 261. Train. Loss: 0.507 | Accuracy: 64.700 | ROC AUC: 0.751: 100%|██████████| 10/10 [00:17<00:00,  1.77s/it]\n",
      "Epoch: 261. Validation. Loss: 0.519 | Accuracy: 71.000 | ROC AUC: 0.561: 100%|██████████| 5/5 [00:06<00:00,  1.20s/it]\n",
      "Epoch: 262. Train. Loss: 0.538 | Accuracy: 62.300 | ROC AUC: 0.705: 100%|██████████| 10/10 [00:17<00:00,  1.77s/it]\n",
      "Epoch: 262. Validation. Loss: 0.505 | Accuracy: 70.800 | ROC AUC: 0.568: 100%|██████████| 5/5 [00:06<00:00,  1.21s/it]\n",
      "Epoch: 263. Train. Loss: 0.479 | Accuracy: 72.700 | ROC AUC: 0.887: 100%|██████████| 10/10 [00:17<00:00,  1.77s/it]\n",
      "Epoch: 263. Validation. Loss: 0.491 | Accuracy: 71.400 | ROC AUC: 0.573: 100%|██████████| 5/5 [00:05<00:00,  1.20s/it]\n",
      "Epoch: 264. Train. Loss: 0.526 | Accuracy: 62.800 | ROC AUC: 0.705: 100%|██████████| 10/10 [00:17<00:00,  1.76s/it]\n",
      "Epoch: 264. Validation. Loss: 0.535 | Accuracy: 69.600 | ROC AUC: 0.564: 100%|██████████| 5/5 [00:06<00:00,  1.20s/it]\n",
      "Epoch: 265. Train. Loss: 0.506 | Accuracy: 64.200 | ROC AUC: 0.704: 100%|██████████| 10/10 [00:17<00:00,  1.78s/it]\n",
      "Epoch: 265. Validation. Loss: 0.549 | Accuracy: 68.200 | ROC AUC: 0.560: 100%|██████████| 5/5 [00:06<00:00,  1.23s/it]\n",
      "Epoch: 266. Train. Loss: 0.531 | Accuracy: 70.200 | ROC AUC: 0.822: 100%|██████████| 10/10 [00:17<00:00,  1.76s/it]\n",
      "Epoch: 266. Validation. Loss: 0.552 | Accuracy: 67.600 | ROC AUC: 0.560: 100%|██████████| 5/5 [00:06<00:00,  1.21s/it]\n",
      "Epoch: 267. Train. Loss: 0.437 | Accuracy: 60.000 | ROC AUC: 0.687: 100%|██████████| 10/10 [00:17<00:00,  1.78s/it]\n",
      "Epoch: 267. Validation. Loss: 0.561 | Accuracy: 68.400 | ROC AUC: 0.567: 100%|██████████| 5/5 [00:05<00:00,  1.20s/it]\n",
      "Epoch: 268. Train. Loss: 0.485 | Accuracy: 67.900 | ROC AUC: 0.776: 100%|██████████| 10/10 [00:17<00:00,  1.79s/it]\n",
      "Epoch: 268. Validation. Loss: 0.544 | Accuracy: 69.200 | ROC AUC: 0.569: 100%|██████████| 5/5 [00:06<00:00,  1.21s/it]\n",
      "Epoch: 269. Train. Loss: 0.527 | Accuracy: 64.900 | ROC AUC: 0.732: 100%|██████████| 10/10 [00:17<00:00,  1.79s/it]\n",
      "Epoch: 269. Validation. Loss: 0.537 | Accuracy: 70.000 | ROC AUC: 0.568: 100%|██████████| 5/5 [00:06<00:00,  1.22s/it]\n",
      "Epoch: 270. Train. Loss: 0.495 | Accuracy: 65.500 | ROC AUC: 0.760: 100%|██████████| 10/10 [00:17<00:00,  1.77s/it]\n",
      "Epoch: 270. Validation. Loss: 0.538 | Accuracy: 70.200 | ROC AUC: 0.568: 100%|██████████| 5/5 [00:06<00:00,  1.22s/it]\n",
      "Epoch: 271. Train. Loss: 0.485 | Accuracy: 65.600 | ROC AUC: 0.731: 100%|██████████| 10/10 [00:18<00:00,  1.81s/it]\n",
      "Epoch: 271. Validation. Loss: 0.539 | Accuracy: 70.200 | ROC AUC: 0.568: 100%|██████████| 5/5 [00:06<00:00,  1.21s/it]\n",
      "Epoch: 272. Train. Loss: 0.520 | Accuracy: 61.200 | ROC AUC: 0.681: 100%|██████████| 10/10 [00:17<00:00,  1.77s/it]\n",
      "Epoch: 272. Validation. Loss: 0.540 | Accuracy: 69.800 | ROC AUC: 0.568: 100%|██████████| 5/5 [00:06<00:00,  1.21s/it]\n",
      "Epoch: 273. Train. Loss: 0.468 | Accuracy: 62.300 | ROC AUC: 0.725: 100%|██████████| 10/10 [00:17<00:00,  1.77s/it]\n",
      "Epoch: 273. Validation. Loss: 0.537 | Accuracy: 69.800 | ROC AUC: 0.569: 100%|██████████| 5/5 [00:05<00:00,  1.18s/it]\n",
      "Epoch: 274. Train. Loss: 0.487 | Accuracy: 66.200 | ROC AUC: 0.748: 100%|██████████| 10/10 [00:17<00:00,  1.78s/it]\n",
      "Epoch: 274. Validation. Loss: 0.536 | Accuracy: 70.200 | ROC AUC: 0.569: 100%|██████████| 5/5 [00:06<00:00,  1.20s/it]\n",
      "Epoch: 275. Train. Loss: 0.503 | Accuracy: 65.300 | ROC AUC: 0.737: 100%|██████████| 10/10 [00:17<00:00,  1.77s/it]\n",
      "Epoch: 275. Validation. Loss: 0.545 | Accuracy: 70.000 | ROC AUC: 0.567: 100%|██████████| 5/5 [00:06<00:00,  1.21s/it]\n",
      "Epoch: 276. Train. Loss: 0.551 | Accuracy: 58.800 | ROC AUC: 0.648: 100%|██████████| 10/10 [00:17<00:00,  1.78s/it]\n",
      "Epoch: 276. Validation. Loss: 0.559 | Accuracy: 68.200 | ROC AUC: 0.566: 100%|██████████| 5/5 [00:05<00:00,  1.20s/it]\n",
      "Epoch: 277. Train. Loss: 0.504 | Accuracy: 63.100 | ROC AUC: 0.707: 100%|██████████| 10/10 [00:17<00:00,  1.77s/it]\n",
      "Epoch: 277. Validation. Loss: 0.537 | Accuracy: 69.400 | ROC AUC: 0.565: 100%|██████████| 5/5 [00:06<00:00,  1.21s/it]\n",
      "Epoch: 278. Train. Loss: 0.519 | Accuracy: 62.300 | ROC AUC: 0.698: 100%|██████████| 10/10 [00:17<00:00,  1.77s/it]\n",
      "Epoch: 278. Validation. Loss: 0.557 | Accuracy: 67.800 | ROC AUC: 0.567: 100%|██████████| 5/5 [00:05<00:00,  1.20s/it]\n",
      "Epoch: 279. Train. Loss: 0.506 | Accuracy: 61.900 | ROC AUC: 0.703: 100%|██████████| 10/10 [00:17<00:00,  1.76s/it]\n",
      "Epoch: 279. Validation. Loss: 0.534 | Accuracy: 70.200 | ROC AUC: 0.566: 100%|██████████| 5/5 [00:05<00:00,  1.19s/it]\n",
      "Epoch: 280. Train. Loss: 0.491 | Accuracy: 59.400 | ROC AUC: 0.704: 100%|██████████| 10/10 [00:17<00:00,  1.76s/it]\n",
      "Epoch: 280. Validation. Loss: 0.552 | Accuracy: 71.400 | ROC AUC: 0.567: 100%|██████████| 5/5 [00:05<00:00,  1.19s/it]\n",
      "Epoch: 281. Train. Loss: 0.542 | Accuracy: 62.200 | ROC AUC: 0.700: 100%|██████████| 10/10 [00:17<00:00,  1.77s/it]\n",
      "Epoch: 281. Validation. Loss: 0.577 | Accuracy: 67.800 | ROC AUC: 0.567: 100%|██████████| 5/5 [00:06<00:00,  1.22s/it]\n",
      "Epoch: 282. Train. Loss: 0.464 | Accuracy: 63.600 | ROC AUC: 0.706: 100%|██████████| 10/10 [00:17<00:00,  1.78s/it]\n",
      "Epoch: 282. Validation. Loss: 0.665 | Accuracy: 68.400 | ROC AUC: 0.572: 100%|██████████| 5/5 [00:06<00:00,  1.22s/it]\n",
      "Epoch: 283. Train. Loss: 0.514 | Accuracy: 66.900 | ROC AUC: 0.779: 100%|██████████| 10/10 [00:17<00:00,  1.77s/it]\n",
      "Epoch: 283. Validation. Loss: 0.598 | Accuracy: 67.400 | ROC AUC: 0.560: 100%|██████████| 5/5 [00:05<00:00,  1.20s/it]\n",
      "Epoch: 284. Train. Loss: 0.515 | Accuracy: 64.700 | ROC AUC: 0.747: 100%|██████████| 10/10 [00:17<00:00,  1.77s/it]\n",
      "Epoch: 284. Validation. Loss: 0.580 | Accuracy: 69.400 | ROC AUC: 0.558: 100%|██████████| 5/5 [00:06<00:00,  1.22s/it]\n",
      "Epoch: 285. Train. Loss: 0.534 | Accuracy: 55.500 | ROC AUC: 0.599: 100%|██████████| 10/10 [00:17<00:00,  1.78s/it]\n",
      "Epoch: 285. Validation. Loss: 0.587 | Accuracy: 68.400 | ROC AUC: 0.561: 100%|██████████| 5/5 [00:06<00:00,  1.21s/it]\n",
      "Epoch: 286. Train. Loss: 0.529 | Accuracy: 64.500 | ROC AUC: 0.734: 100%|██████████| 10/10 [00:17<00:00,  1.78s/it]\n",
      "Epoch: 286. Validation. Loss: 0.579 | Accuracy: 67.600 | ROC AUC: 0.564: 100%|██████████| 5/5 [00:06<00:00,  1.20s/it]\n",
      "Epoch: 287. Train. Loss: 0.512 | Accuracy: 59.300 | ROC AUC: 0.681: 100%|██████████| 10/10 [00:17<00:00,  1.77s/it]\n",
      "Epoch: 287. Validation. Loss: 0.554 | Accuracy: 69.400 | ROC AUC: 0.567: 100%|██████████| 5/5 [00:05<00:00,  1.19s/it]\n",
      "Epoch: 288. Train. Loss: 0.519 | Accuracy: 67.700 | ROC AUC: 0.783: 100%|██████████| 10/10 [00:17<00:00,  1.77s/it]\n",
      "Epoch: 288. Validation. Loss: 0.545 | Accuracy: 70.600 | ROC AUC: 0.567: 100%|██████████| 5/5 [00:06<00:00,  1.20s/it]\n",
      "Epoch: 289. Train. Loss: 0.540 | Accuracy: 63.100 | ROC AUC: 0.726: 100%|██████████| 10/10 [00:17<00:00,  1.77s/it]\n",
      "Epoch: 289. Validation. Loss: 0.540 | Accuracy: 70.200 | ROC AUC: 0.568: 100%|██████████| 5/5 [00:06<00:00,  1.20s/it]\n",
      "Epoch: 290. Train. Loss: 0.482 | Accuracy: 66.800 | ROC AUC: 0.783: 100%|██████████| 10/10 [00:17<00:00,  1.78s/it]\n",
      "Epoch: 290. Validation. Loss: 0.538 | Accuracy: 70.000 | ROC AUC: 0.568: 100%|██████████| 5/5 [00:06<00:00,  1.23s/it]\n",
      "Epoch: 291. Train. Loss: 0.493 | Accuracy: 62.900 | ROC AUC: 0.688: 100%|██████████| 10/10 [00:17<00:00,  1.79s/it]\n",
      "Epoch: 291. Validation. Loss: 0.538 | Accuracy: 70.200 | ROC AUC: 0.568: 100%|██████████| 5/5 [00:05<00:00,  1.20s/it]\n",
      "Epoch: 292. Train. Loss: 0.497 | Accuracy: 66.500 | ROC AUC: 0.772: 100%|██████████| 10/10 [00:17<00:00,  1.78s/it]\n",
      "Epoch: 292. Validation. Loss: 0.538 | Accuracy: 70.400 | ROC AUC: 0.569: 100%|██████████| 5/5 [00:06<00:00,  1.22s/it]\n",
      "Epoch: 293. Train. Loss: 0.468 | Accuracy: 67.400 | ROC AUC: 0.784: 100%|██████████| 10/10 [00:17<00:00,  1.78s/it]\n",
      "Epoch: 293. Validation. Loss: 0.542 | Accuracy: 68.800 | ROC AUC: 0.570: 100%|██████████| 5/5 [00:06<00:00,  1.21s/it]\n",
      "Epoch: 294. Train. Loss: 0.522 | Accuracy: 66.500 | ROC AUC: 0.767: 100%|██████████| 10/10 [00:17<00:00,  1.77s/it]\n",
      "Epoch: 294. Validation. Loss: 0.559 | Accuracy: 69.400 | ROC AUC: 0.570: 100%|██████████| 5/5 [00:06<00:00,  1.22s/it]\n",
      "Epoch: 295. Train. Loss: 0.515 | Accuracy: 61.100 | ROC AUC: 0.683: 100%|██████████| 10/10 [00:17<00:00,  1.78s/it]\n",
      "Epoch: 295. Validation. Loss: 0.588 | Accuracy: 68.200 | ROC AUC: 0.570: 100%|██████████| 5/5 [00:06<00:00,  1.22s/it]\n",
      "Epoch: 296. Train. Loss: 0.478 | Accuracy: 60.200 | ROC AUC: 0.689: 100%|██████████| 10/10 [00:17<00:00,  1.77s/it]\n",
      "Epoch: 296. Validation. Loss: 0.605 | Accuracy: 69.600 | ROC AUC: 0.569: 100%|██████████| 5/5 [00:06<00:00,  1.21s/it]\n",
      "Epoch: 297. Train. Loss: 0.523 | Accuracy: 66.600 | ROC AUC: 0.749: 100%|██████████| 10/10 [00:17<00:00,  1.78s/it]\n",
      "Epoch: 297. Validation. Loss: 0.558 | Accuracy: 68.800 | ROC AUC: 0.566: 100%|██████████| 5/5 [00:06<00:00,  1.21s/it]\n",
      "Epoch: 298. Train. Loss: 0.421 | Accuracy: 66.600 | ROC AUC: 0.771: 100%|██████████| 10/10 [00:17<00:00,  1.77s/it]\n",
      "Epoch: 298. Validation. Loss: 0.535 | Accuracy: 71.000 | ROC AUC: 0.570: 100%|██████████| 5/5 [00:05<00:00,  1.19s/it]\n",
      "Epoch: 299. Train. Loss: 0.547 | Accuracy: 63.400 | ROC AUC: 0.724: 100%|██████████| 10/10 [00:17<00:00,  1.78s/it]\n",
      "Epoch: 299. Validation. Loss: 0.509 | Accuracy: 71.000 | ROC AUC: 0.574: 100%|██████████| 5/5 [00:05<00:00,  1.19s/it]\n",
      "Epoch: 300. Train. Loss: 0.552 | Accuracy: 69.100 | ROC AUC: 0.822: 100%|██████████| 10/10 [00:17<00:00,  1.76s/it]\n",
      "Epoch: 300. Validation. Loss: 0.489 | Accuracy: 71.000 | ROC AUC: 0.579: 100%|██████████| 5/5 [00:05<00:00,  1.19s/it]\n"
     ]
    },
    {
     "name": "stdout",
     "output_type": "stream",
     "text": [
      "Best ROC-AUC in fold 1 was 0.9820\n",
      "Final ROC-AUC in fold 1 was 0.8510\n",
      "Best model name in fold 1 was eca_nfnet_l0_fold_1_epoch_15_roc_auc_0.982.pth\n"
     ]
    },
    {
     "data": {
      "text/html": [
       "Finishing last run (ID:3mgm5aek) before initializing another..."
      ],
      "text/plain": [
       "<IPython.core.display.HTML object>"
      ]
     },
     "metadata": {},
     "output_type": "display_data"
    },
    {
     "data": {
      "text/html": [
       "Waiting for W&B process to finish... <strong style=\"color:green\">(success).</strong>"
      ],
      "text/plain": [
       "<IPython.core.display.HTML object>"
      ]
     },
     "metadata": {},
     "output_type": "display_data"
    },
    {
     "data": {
      "application/vnd.jupyter.widget-view+json": {
       "model_id": "7b6888536f87423389b70a2cac323d9e",
       "version_major": 2,
       "version_minor": 0
      },
      "text/plain": [
       "VBox(children=(Label(value='0.001 MB of 0.001 MB uploaded (0.000 MB deduped)\\r'), FloatProgress(value=1.0, max…"
      ]
     },
     "metadata": {},
     "output_type": "display_data"
    },
    {
     "data": {
      "text/html": [
       "<style>\n",
       "    table.wandb td:nth-child(1) { padding: 0 10px; text-align: left ; width: auto;} td:nth-child(2) {text-align: left ; width: 100%}\n",
       "    .wandb-row { display: flex; flex-direction: row; flex-wrap: wrap; justify-content: flex-start; width: 100% }\n",
       "    .wandb-col { display: flex; flex-direction: column; flex-basis: 100%; flex: 1; padding: 10px; }\n",
       "    </style>\n",
       "<div class=\"wandb-row\"><div class=\"wandb-col\"><h3>Run history:</h3><br/><table class=\"wandb\"><tr><td>Train Accuracy</td><td>▅▆▁▅▁▇▁▅▅▅▆▇▄▅▆▄▇▅▇▂▇▁▇▂▆▇▅▆█▇█▇█▇█▇▁▅▂▇</td></tr><tr><td>Train Epoch</td><td>▁▁▁▂▂▂▂▂▂▃▃▃▃▃▃▄▄▄▄▄▅▅▅▅▅▅▆▆▆▆▆▇▇▇▇▇▇███</td></tr><tr><td>Train Loss</td><td>▇▆▆▅▇▅▆▆█▇▆▅▃▅▆▅▃▆▂▆▂▁▄▅▅▃▇▆▄▄▁▆▂▂▂▆▇▅▃▃</td></tr><tr><td>Train ROC AUC</td><td>▅▆▃▅▃▆▄▄▅▅▇▇▄▄▆▂▇▄▇▆█▄▇▇▇█▄▆███▇███▇▁▄██</td></tr><tr><td>Validation Accuracy</td><td>█▆▃▇▃█▃▇▇▆▆▅▆▅▅▅▅▅▆▂▅▂▆▁▆▅▆▅▆▃▅▆▄▅▅▄▁▅▁▅</td></tr><tr><td>Validation Epoch</td><td>▁▁▁▂▂▂▂▂▂▃▃▃▃▃▃▄▄▄▄▄▅▅▅▅▅▅▆▆▆▆▆▇▇▇▇▇▇███</td></tr><tr><td>Validation Loss</td><td>▂▃▁▂▂▂▂▂▂▃▄▃▃▄▅▅▄▆▄▂▅▃▃▄▄▅▄▆▃█▆▅▆▅▄▆▅▆▄▅</td></tr><tr><td>Validation ROC AUC</td><td>▁█▁█▁▁▁▁▁▁▁▁▁▁▁▁▇▁▇▁▆▁▁▁▁▁▁▁▁▁▁▁▁▆▁▅▁▆▁▆</td></tr></table><br/></div><div class=\"wandb-col\"><h3>Run summary:</h3><br/><table class=\"wandb\"><tr><td>Train Accuracy</td><td>24</td></tr><tr><td>Train Epoch</td><td>300</td></tr><tr><td>Train Loss</td><td>0.67578</td></tr><tr><td>Train ROC AUC</td><td>0.73529</td></tr><tr><td>Validation Accuracy</td><td>54</td></tr><tr><td>Validation Epoch</td><td>300</td></tr><tr><td>Validation Loss</td><td>0.4294</td></tr><tr><td>Validation ROC AUC</td><td>0.5</td></tr></table><br/></div></div>"
      ],
      "text/plain": [
       "<IPython.core.display.HTML object>"
      ]
     },
     "metadata": {},
     "output_type": "display_data"
    },
    {
     "data": {
      "text/html": [
       "Synced <strong style=\"color:#cdcd00\">eca_nfnet_l0</strong>: <a href=\"https://wandb.ai/mllm3/SETI%20-%20300%20epochs%20-%20transform%20-%202/runs/3mgm5aek\" target=\"_blank\">https://wandb.ai/mllm3/SETI%20-%20300%20epochs%20-%20transform%20-%202/runs/3mgm5aek</a><br/>Synced 5 W&B file(s), 0 media file(s), 0 artifact file(s) and 0 other file(s)"
      ],
      "text/plain": [
       "<IPython.core.display.HTML object>"
      ]
     },
     "metadata": {},
     "output_type": "display_data"
    },
    {
     "data": {
      "text/html": [
       "Find logs at: <code>./wandb/run-20220904_002921-3mgm5aek/logs</code>"
      ],
      "text/plain": [
       "<IPython.core.display.HTML object>"
      ]
     },
     "metadata": {},
     "output_type": "display_data"
    },
    {
     "data": {
      "text/html": [
       "Successfully finished last run (ID:3mgm5aek). Initializing new run:<br/>"
      ],
      "text/plain": [
       "<IPython.core.display.HTML object>"
      ]
     },
     "metadata": {},
     "output_type": "display_data"
    },
    {
     "data": {
      "text/html": [
       "Tracking run with wandb version 0.13.2"
      ],
      "text/plain": [
       "<IPython.core.display.HTML object>"
      ]
     },
     "metadata": {},
     "output_type": "display_data"
    },
    {
     "data": {
      "text/html": [
       "Run data is saved locally in <code>/notebooks/wandb/run-20220904_022819-r9ltwga7</code>"
      ],
      "text/plain": [
       "<IPython.core.display.HTML object>"
      ]
     },
     "metadata": {},
     "output_type": "display_data"
    },
    {
     "data": {
      "text/html": [
       "Syncing run <strong><a href=\"https://wandb.ai/mllm3/SETI%20-%20300%20epochs%20-%20transform%20-%202/runs/r9ltwga7\" target=\"_blank\">eca_nfnet_l0</a></strong> to <a href=\"https://wandb.ai/mllm3/SETI%20-%20300%20epochs%20-%20transform%20-%202\" target=\"_blank\">Weights & Biases</a> (<a href=\"https://wandb.me/run\" target=\"_blank\">docs</a>)<br/>"
      ],
      "text/plain": [
       "<IPython.core.display.HTML object>"
      ]
     },
     "metadata": {},
     "output_type": "display_data"
    },
    {
     "name": "stdout",
     "output_type": "stream",
     "text": [
      "======================================== Fold: 2 ========================================\n"
     ]
    },
    {
     "name": "stderr",
     "output_type": "stream",
     "text": [
      "Epoch: 1. Train. Loss: 0.579 | Accuracy: 62.200 | ROC AUC: 0.706: 100%|██████████| 10/10 [00:17<00:00,  1.78s/it]\n",
      "Epoch: 1. Validation. Loss: 0.130 | Accuracy: 91.200 | ROC AUC: 0.599: 100%|██████████| 5/5 [00:06<00:00,  1.21s/it]\n",
      "Epoch: 2. Train. Loss: 0.546 | Accuracy: 50.600 | ROC AUC: 0.579: 100%|██████████| 10/10 [00:17<00:00,  1.77s/it]\n",
      "Epoch: 2. Validation. Loss: 0.153 | Accuracy: 91.800 | ROC AUC: 0.599: 100%|██████████| 5/5 [00:06<00:00,  1.22s/it]\n",
      "Epoch: 3. Train. Loss: 0.608 | Accuracy: 60.400 | ROC AUC: 0.712: 100%|██████████| 10/10 [00:17<00:00,  1.78s/it]\n",
      "Epoch: 3. Validation. Loss: 0.222 | Accuracy: 89.600 | ROC AUC: 0.599: 100%|██████████| 5/5 [00:06<00:00,  1.24s/it]\n",
      "Epoch: 4. Train. Loss: 0.575 | Accuracy: 57.400 | ROC AUC: 0.671: 100%|██████████| 10/10 [00:17<00:00,  1.77s/it]\n",
      "Epoch: 4. Validation. Loss: 0.158 | Accuracy: 91.600 | ROC AUC: 0.599: 100%|██████████| 5/5 [00:06<00:00,  1.22s/it]\n",
      "Epoch: 5. Train. Loss: 0.566 | Accuracy: 67.100 | ROC AUC: 0.778: 100%|██████████| 10/10 [00:17<00:00,  1.77s/it]\n",
      "Epoch: 5. Validation. Loss: 0.155 | Accuracy: 90.600 | ROC AUC: 0.599: 100%|██████████| 5/5 [00:06<00:00,  1.22s/it]\n",
      "Epoch: 6. Train. Loss: 0.587 | Accuracy: 64.700 | ROC AUC: 0.756: 100%|██████████| 10/10 [00:17<00:00,  1.78s/it]\n",
      "Epoch: 6. Validation. Loss: 0.145 | Accuracy: 91.400 | ROC AUC: 0.599: 100%|██████████| 5/5 [00:06<00:00,  1.20s/it]\n",
      "Epoch: 7. Train. Loss: 0.531 | Accuracy: 61.500 | ROC AUC: 0.712: 100%|██████████| 10/10 [00:17<00:00,  1.78s/it]\n",
      "Epoch: 7. Validation. Loss: 0.138 | Accuracy: 91.000 | ROC AUC: 0.599: 100%|██████████| 5/5 [00:05<00:00,  1.20s/it]\n",
      "Epoch: 8. Train. Loss: 0.553 | Accuracy: 62.300 | ROC AUC: 0.729: 100%|██████████| 10/10 [00:17<00:00,  1.77s/it]\n",
      "Epoch: 8. Validation. Loss: 0.131 | Accuracy: 91.000 | ROC AUC: 0.599: 100%|██████████| 5/5 [00:06<00:00,  1.20s/it]\n",
      "Epoch: 9. Train. Loss: 0.503 | Accuracy: 59.100 | ROC AUC: 0.653: 100%|██████████| 10/10 [00:17<00:00,  1.76s/it]\n",
      "Epoch: 9. Validation. Loss: 0.126 | Accuracy: 91.000 | ROC AUC: 0.599: 100%|██████████| 5/5 [00:06<00:00,  1.20s/it]\n",
      "Epoch: 10. Train. Loss: 0.521 | Accuracy: 58.400 | ROC AUC: 0.633: 100%|██████████| 10/10 [00:17<00:00,  1.77s/it]\n",
      "Epoch: 10. Validation. Loss: 0.124 | Accuracy: 91.000 | ROC AUC: 0.599: 100%|██████████| 5/5 [00:06<00:00,  1.21s/it]\n",
      "Epoch: 11. Train. Loss: 0.479 | Accuracy: 64.300 | ROC AUC: 0.787: 100%|██████████| 10/10 [00:17<00:00,  1.76s/it]\n",
      "Epoch: 11. Validation. Loss: 0.124 | Accuracy: 91.000 | ROC AUC: 0.599: 100%|██████████| 5/5 [00:05<00:00,  1.20s/it]\n",
      "Epoch: 12. Train. Loss: 0.561 | Accuracy: 66.200 | ROC AUC: 0.788: 100%|██████████| 10/10 [00:17<00:00,  1.76s/it]\n",
      "Epoch: 12. Validation. Loss: 0.122 | Accuracy: 91.000 | ROC AUC: 0.599: 100%|██████████| 5/5 [00:05<00:00,  1.19s/it]\n",
      "Epoch: 13. Train. Loss: 0.492 | Accuracy: 62.900 | ROC AUC: 0.741: 100%|██████████| 10/10 [00:17<00:00,  1.76s/it]\n",
      "Epoch: 13. Validation. Loss: 0.117 | Accuracy: 91.000 | ROC AUC: 0.599: 100%|██████████| 5/5 [00:05<00:00,  1.20s/it]\n",
      "Epoch: 14. Train. Loss: 0.540 | Accuracy: 63.100 | ROC AUC: 0.704: 100%|██████████| 10/10 [00:17<00:00,  1.77s/it]\n",
      "Epoch: 14. Validation. Loss: 0.114 | Accuracy: 91.200 | ROC AUC: 0.599: 100%|██████████| 5/5 [00:05<00:00,  1.19s/it]\n",
      "Epoch: 15. Train. Loss: 0.569 | Accuracy: 61.500 | ROC AUC: 0.712: 100%|██████████| 10/10 [00:17<00:00,  1.76s/it]\n",
      "Epoch: 15. Validation. Loss: 0.120 | Accuracy: 91.400 | ROC AUC: 0.599: 100%|██████████| 5/5 [00:05<00:00,  1.19s/it]\n",
      "Epoch: 16. Train. Loss: 0.495 | Accuracy: 64.600 | ROC AUC: 0.728: 100%|██████████| 10/10 [00:17<00:00,  1.76s/it]\n",
      "Epoch: 16. Validation. Loss: 0.118 | Accuracy: 91.400 | ROC AUC: 0.599: 100%|██████████| 5/5 [00:05<00:00,  1.20s/it]\n",
      "Epoch: 17. Train. Loss: 0.508 | Accuracy: 67.000 | ROC AUC: 0.791: 100%|██████████| 10/10 [00:17<00:00,  1.78s/it]\n",
      "Epoch: 17. Validation. Loss: 0.099 | Accuracy: 91.600 | ROC AUC: 0.599: 100%|██████████| 5/5 [00:05<00:00,  1.18s/it]\n",
      "Epoch: 18. Train. Loss: 0.505 | Accuracy: 63.500 | ROC AUC: 0.742: 100%|██████████| 10/10 [00:17<00:00,  1.77s/it]\n",
      "Epoch: 18. Validation. Loss: 0.093 | Accuracy: 91.800 | ROC AUC: 0.599: 100%|██████████| 5/5 [00:05<00:00,  1.19s/it]\n",
      "Epoch: 19. Train. Loss: 0.563 | Accuracy: 62.000 | ROC AUC: 0.715: 100%|██████████| 10/10 [00:17<00:00,  1.78s/it]\n",
      "Epoch: 19. Validation. Loss: 0.175 | Accuracy: 88.600 | ROC AUC: 0.598: 100%|██████████| 5/5 [00:06<00:00,  1.24s/it]\n",
      "Epoch: 20. Train. Loss: 0.534 | Accuracy: 64.300 | ROC AUC: 0.738: 100%|██████████| 10/10 [00:17<00:00,  1.77s/it]\n",
      "Epoch: 20. Validation. Loss: 0.165 | Accuracy: 89.400 | ROC AUC: 0.598: 100%|██████████| 5/5 [00:06<00:00,  1.21s/it]\n",
      "Epoch: 21. Train. Loss: 0.518 | Accuracy: 57.000 | ROC AUC: 0.636: 100%|██████████| 10/10 [00:17<00:00,  1.78s/it]\n",
      "Epoch: 21. Validation. Loss: 0.158 | Accuracy: 90.000 | ROC AUC: 0.597: 100%|██████████| 5/5 [00:06<00:00,  1.22s/it] \n",
      "Epoch: 22. Train. Loss: 0.517 | Accuracy: 66.600 | ROC AUC: 0.788: 100%|██████████| 10/10 [00:17<00:00,  1.76s/it]\n",
      "Epoch: 22. Validation. Loss: 0.132 | Accuracy: 90.800 | ROC AUC: 0.599: 100%|██████████| 5/5 [00:05<00:00,  1.19s/it]\n",
      "Epoch: 23. Train. Loss: 0.550 | Accuracy: 62.300 | ROC AUC: 0.732: 100%|██████████| 10/10 [00:17<00:00,  1.77s/it]\n",
      "Epoch: 23. Validation. Loss: 0.155 | Accuracy: 90.400 | ROC AUC: 0.598: 100%|██████████| 5/5 [00:06<00:00,  1.21s/it]\n",
      "Epoch: 24. Train. Loss: 0.563 | Accuracy: 57.700 | ROC AUC: 0.651: 100%|██████████| 10/10 [00:17<00:00,  1.77s/it]\n",
      "Epoch: 24. Validation. Loss: 0.175 | Accuracy: 90.400 | ROC AUC: 0.598: 100%|██████████| 5/5 [00:06<00:00,  1.20s/it]\n",
      "Epoch: 25. Train. Loss: 0.574 | Accuracy: 65.300 | ROC AUC: 0.742: 100%|██████████| 10/10 [00:17<00:00,  1.78s/it]\n",
      "Epoch: 25. Validation. Loss: 0.152 | Accuracy: 90.200 | ROC AUC: 0.598: 100%|██████████| 5/5 [00:05<00:00,  1.20s/it]\n",
      "Epoch: 26. Train. Loss: 0.484 | Accuracy: 58.700 | ROC AUC: 0.670: 100%|██████████| 10/10 [00:17<00:00,  1.76s/it]\n",
      "Epoch: 26. Validation. Loss: 0.136 | Accuracy: 90.400 | ROC AUC: 0.598: 100%|██████████| 5/5 [00:06<00:00,  1.21s/it]\n",
      "Epoch: 27. Train. Loss: 0.509 | Accuracy: 64.500 | ROC AUC: 0.734: 100%|██████████| 10/10 [00:17<00:00,  1.77s/it]\n",
      "Epoch: 27. Validation. Loss: 0.123 | Accuracy: 91.000 | ROC AUC: 0.598: 100%|██████████| 5/5 [00:06<00:00,  1.21s/it]\n",
      "Epoch: 28. Train. Loss: 0.507 | Accuracy: 62.600 | ROC AUC: 0.732: 100%|██████████| 10/10 [00:17<00:00,  1.76s/it]\n",
      "Epoch: 28. Validation. Loss: 0.117 | Accuracy: 91.200 | ROC AUC: 0.599: 100%|██████████| 5/5 [00:06<00:00,  1.21s/it]\n",
      "Epoch: 29. Train. Loss: 0.480 | Accuracy: 60.300 | ROC AUC: 0.665: 100%|██████████| 10/10 [00:17<00:00,  1.80s/it]\n",
      "Epoch: 29. Validation. Loss: 0.118 | Accuracy: 91.000 | ROC AUC: 0.599: 100%|██████████| 5/5 [00:05<00:00,  1.20s/it]\n",
      "Epoch: 30. Train. Loss: 0.527 | Accuracy: 66.500 | ROC AUC: 0.768: 100%|██████████| 10/10 [00:17<00:00,  1.77s/it]\n",
      "Epoch: 30. Validation. Loss: 0.118 | Accuracy: 91.200 | ROC AUC: 0.598: 100%|██████████| 5/5 [00:05<00:00,  1.18s/it]\n",
      "Epoch: 31. Train. Loss: 0.493 | Accuracy: 61.300 | ROC AUC: 0.688: 100%|██████████| 10/10 [00:17<00:00,  1.77s/it]\n",
      "Epoch: 31. Validation. Loss: 0.117 | Accuracy: 91.200 | ROC AUC: 0.598: 100%|██████████| 5/5 [00:05<00:00,  1.19s/it]\n",
      "Epoch: 32. Train. Loss: 0.507 | Accuracy: 65.900 | ROC AUC: 0.739: 100%|██████████| 10/10 [00:17<00:00,  1.76s/it]\n",
      "Epoch: 32. Validation. Loss: 0.116 | Accuracy: 91.200 | ROC AUC: 0.598: 100%|██████████| 5/5 [00:05<00:00,  1.19s/it]\n",
      "Epoch: 33. Train. Loss: 0.486 | Accuracy: 59.600 | ROC AUC: 0.673: 100%|██████████| 10/10 [00:17<00:00,  1.78s/it]\n",
      "Epoch: 33. Validation. Loss: 0.114 | Accuracy: 91.200 | ROC AUC: 0.598: 100%|██████████| 5/5 [00:06<00:00,  1.23s/it]\n",
      "Epoch: 34. Train. Loss: 0.533 | Accuracy: 59.800 | ROC AUC: 0.688: 100%|██████████| 10/10 [00:17<00:00,  1.78s/it]\n",
      "Epoch: 34. Validation. Loss: 0.112 | Accuracy: 91.600 | ROC AUC: 0.598: 100%|██████████| 5/5 [00:06<00:00,  1.20s/it] \n",
      "Epoch: 35. Train. Loss: 0.531 | Accuracy: 57.900 | ROC AUC: 0.634: 100%|██████████| 10/10 [00:17<00:00,  1.78s/it]\n",
      "Epoch: 35. Validation. Loss: 0.116 | Accuracy: 91.600 | ROC AUC: 0.598: 100%|██████████| 5/5 [00:06<00:00,  1.22s/it] \n",
      "Epoch: 36. Train. Loss: 0.511 | Accuracy: 64.700 | ROC AUC: 0.748: 100%|██████████| 10/10 [00:17<00:00,  1.78s/it]\n",
      "Epoch: 36. Validation. Loss: 0.125 | Accuracy: 91.800 | ROC AUC: 0.598: 100%|██████████| 5/5 [00:06<00:00,  1.21s/it] \n",
      "Epoch: 37. Train. Loss: 0.518 | Accuracy: 60.300 | ROC AUC: 0.685: 100%|██████████| 10/10 [00:17<00:00,  1.79s/it]\n",
      "Epoch: 37. Validation. Loss: 0.109 | Accuracy: 91.400 | ROC AUC: 0.599: 100%|██████████| 5/5 [00:06<00:00,  1.20s/it]\n",
      "Epoch: 38. Train. Loss: 0.533 | Accuracy: 61.500 | ROC AUC: 0.697: 100%|██████████| 10/10 [00:17<00:00,  1.78s/it]\n",
      "Epoch: 38. Validation. Loss: 0.129 | Accuracy: 90.600 | ROC AUC: 0.599: 100%|██████████| 5/5 [00:06<00:00,  1.22s/it]\n",
      "Epoch: 39. Train. Loss: 0.525 | Accuracy: 64.900 | ROC AUC: 0.751: 100%|██████████| 10/10 [00:17<00:00,  1.78s/it]\n",
      "Epoch: 39. Validation. Loss: 0.128 | Accuracy: 91.000 | ROC AUC: 0.597: 100%|██████████| 5/5 [00:05<00:00,  1.19s/it]\n",
      "Epoch: 40. Train. Loss: 0.480 | Accuracy: 67.400 | ROC AUC: 0.793: 100%|██████████| 10/10 [00:17<00:00,  1.77s/it]\n",
      "Epoch: 40. Validation. Loss: 0.105 | Accuracy: 90.600 | ROC AUC: 0.597: 100%|██████████| 5/5 [00:05<00:00,  1.20s/it] \n",
      "Epoch: 41. Train. Loss: 0.529 | Accuracy: 66.900 | ROC AUC: 0.745: 100%|██████████| 10/10 [00:17<00:00,  1.77s/it]\n",
      "Epoch: 41. Validation. Loss: 0.139 | Accuracy: 89.400 | ROC AUC: 0.598: 100%|██████████| 5/5 [00:05<00:00,  1.19s/it]\n",
      "Epoch: 42. Train. Loss: 0.514 | Accuracy: 61.500 | ROC AUC: 0.726: 100%|██████████| 10/10 [00:17<00:00,  1.77s/it]\n",
      "Epoch: 42. Validation. Loss: 0.192 | Accuracy: 88.000 | ROC AUC: 0.596: 100%|██████████| 5/5 [00:06<00:00,  1.21s/it]\n",
      "Epoch: 43. Train. Loss: 0.543 | Accuracy: 60.500 | ROC AUC: 0.678: 100%|██████████| 10/10 [00:17<00:00,  1.77s/it]\n",
      "Epoch: 43. Validation. Loss: 0.141 | Accuracy: 90.200 | ROC AUC: 0.598: 100%|██████████| 5/5 [00:06<00:00,  1.25s/it]\n",
      "Epoch: 44. Train. Loss: 0.514 | Accuracy: 55.100 | ROC AUC: 0.617: 100%|██████████| 10/10 [00:17<00:00,  1.77s/it]\n",
      "Epoch: 44. Validation. Loss: 0.135 | Accuracy: 91.000 | ROC AUC: 0.597: 100%|██████████| 5/5 [00:05<00:00,  1.19s/it]\n",
      "Epoch: 45. Train. Loss: 0.567 | Accuracy: 58.000 | ROC AUC: 0.650: 100%|██████████| 10/10 [00:17<00:00,  1.77s/it]\n",
      "Epoch: 45. Validation. Loss: 0.159 | Accuracy: 90.600 | ROC AUC: 0.597: 100%|██████████| 5/5 [00:05<00:00,  1.19s/it]\n",
      "Epoch: 46. Train. Loss: 0.509 | Accuracy: 63.500 | ROC AUC: 0.751: 100%|██████████| 10/10 [00:17<00:00,  1.76s/it]\n",
      "Epoch: 46. Validation. Loss: 0.143 | Accuracy: 91.000 | ROC AUC: 0.598: 100%|██████████| 5/5 [00:05<00:00,  1.18s/it]\n",
      "Epoch: 47. Train. Loss: 0.565 | Accuracy: 60.800 | ROC AUC: 0.697: 100%|██████████| 10/10 [00:17<00:00,  1.77s/it]\n",
      "Epoch: 47. Validation. Loss: 0.135 | Accuracy: 91.000 | ROC AUC: 0.598: 100%|██████████| 5/5 [00:05<00:00,  1.19s/it]\n",
      "Epoch: 48. Train. Loss: 0.505 | Accuracy: 59.200 | ROC AUC: 0.633: 100%|██████████| 10/10 [00:17<00:00,  1.78s/it]\n",
      "Epoch: 48. Validation. Loss: 0.128 | Accuracy: 91.200 | ROC AUC: 0.598: 100%|██████████| 5/5 [00:05<00:00,  1.20s/it]\n",
      "Epoch: 49. Train. Loss: 0.505 | Accuracy: 60.600 | ROC AUC: 0.688: 100%|██████████| 10/10 [00:17<00:00,  1.76s/it]\n",
      "Epoch: 49. Validation. Loss: 0.125 | Accuracy: 91.200 | ROC AUC: 0.598: 100%|██████████| 5/5 [00:05<00:00,  1.20s/it]\n",
      "Epoch: 50. Train. Loss: 0.505 | Accuracy: 66.800 | ROC AUC: 0.743: 100%|██████████| 10/10 [00:17<00:00,  1.77s/it]\n",
      "Epoch: 50. Validation. Loss: 0.124 | Accuracy: 91.400 | ROC AUC: 0.598: 100%|██████████| 5/5 [00:05<00:00,  1.18s/it]\n",
      "Epoch: 51. Train. Loss: 0.515 | Accuracy: 63.600 | ROC AUC: 0.720: 100%|██████████| 10/10 [00:17<00:00,  1.77s/it]\n",
      "Epoch: 51. Validation. Loss: 0.124 | Accuracy: 91.200 | ROC AUC: 0.598: 100%|██████████| 5/5 [00:06<00:00,  1.22s/it]\n",
      "Epoch: 52. Train. Loss: 0.502 | Accuracy: 70.100 | ROC AUC: 0.781: 100%|██████████| 10/10 [00:17<00:00,  1.77s/it]\n",
      "Epoch: 52. Validation. Loss: 0.123 | Accuracy: 91.200 | ROC AUC: 0.598: 100%|██████████| 5/5 [00:05<00:00,  1.19s/it]\n",
      "Epoch: 53. Train. Loss: 0.492 | Accuracy: 58.100 | ROC AUC: 0.641: 100%|██████████| 10/10 [00:17<00:00,  1.77s/it]\n",
      "Epoch: 53. Validation. Loss: 0.122 | Accuracy: 91.200 | ROC AUC: 0.598: 100%|██████████| 5/5 [00:06<00:00,  1.22s/it]\n",
      "Epoch: 54. Train. Loss: 0.519 | Accuracy: 65.100 | ROC AUC: 0.751: 100%|██████████| 10/10 [00:17<00:00,  1.77s/it]\n",
      "Epoch: 54. Validation. Loss: 0.120 | Accuracy: 91.400 | ROC AUC: 0.598: 100%|██████████| 5/5 [00:05<00:00,  1.19s/it]\n",
      "Epoch: 55. Train. Loss: 0.543 | Accuracy: 70.600 | ROC AUC: 0.864: 100%|██████████| 10/10 [00:17<00:00,  1.77s/it]\n",
      "Epoch: 55. Validation. Loss: 0.130 | Accuracy: 91.000 | ROC AUC: 0.598: 100%|██████████| 5/5 [00:05<00:00,  1.19s/it]\n",
      "Epoch: 56. Train. Loss: 0.530 | Accuracy: 66.900 | ROC AUC: 0.779: 100%|██████████| 10/10 [00:17<00:00,  1.78s/it]\n",
      "Epoch: 56. Validation. Loss: 0.141 | Accuracy: 91.200 | ROC AUC: 0.598: 100%|██████████| 5/5 [00:06<00:00,  1.20s/it]\n",
      "Epoch: 57. Train. Loss: 0.484 | Accuracy: 63.100 | ROC AUC: 0.687: 100%|██████████| 10/10 [00:17<00:00,  1.77s/it]\n",
      "Epoch: 57. Validation. Loss: 0.131 | Accuracy: 90.400 | ROC AUC: 0.598: 100%|██████████| 5/5 [00:05<00:00,  1.19s/it]\n",
      "Epoch: 58. Train. Loss: 0.552 | Accuracy: 63.000 | ROC AUC: 0.747: 100%|██████████| 10/10 [00:17<00:00,  1.78s/it]\n",
      "Epoch: 58. Validation. Loss: 0.139 | Accuracy: 90.600 | ROC AUC: 0.598: 100%|██████████| 5/5 [00:06<00:00,  1.21s/it]\n",
      "Epoch: 59. Train. Loss: 0.543 | Accuracy: 67.200 | ROC AUC: 0.813: 100%|██████████| 10/10 [00:17<00:00,  1.78s/it]\n",
      "Epoch: 59. Validation. Loss: 0.153 | Accuracy: 90.800 | ROC AUC: 0.598: 100%|██████████| 5/5 [00:05<00:00,  1.19s/it]\n",
      "Epoch: 60. Train. Loss: 0.555 | Accuracy: 63.900 | ROC AUC: 0.744: 100%|██████████| 10/10 [00:17<00:00,  1.76s/it]\n",
      "Epoch: 60. Validation. Loss: 0.147 | Accuracy: 90.200 | ROC AUC: 0.598: 100%|██████████| 5/5 [00:06<00:00,  1.20s/it]\n",
      "Epoch: 61. Train. Loss: 0.526 | Accuracy: 67.100 | ROC AUC: 0.795: 100%|██████████| 10/10 [00:17<00:00,  1.77s/it]\n",
      "Epoch: 61. Validation. Loss: 0.152 | Accuracy: 89.400 | ROC AUC: 0.597: 100%|██████████| 5/5 [00:05<00:00,  1.18s/it]\n",
      "Epoch: 62. Train. Loss: 0.559 | Accuracy: 59.600 | ROC AUC: 0.691: 100%|██████████| 10/10 [00:17<00:00,  1.77s/it]\n",
      "Epoch: 62. Validation. Loss: 0.182 | Accuracy: 89.000 | ROC AUC: 0.595: 100%|██████████| 5/5 [00:05<00:00,  1.19s/it]\n",
      "Epoch: 63. Train. Loss: 0.528 | Accuracy: 59.300 | ROC AUC: 0.672: 100%|██████████| 10/10 [00:17<00:00,  1.76s/it]\n",
      "Epoch: 63. Validation. Loss: 0.168 | Accuracy: 90.200 | ROC AUC: 0.598: 100%|██████████| 5/5 [00:05<00:00,  1.19s/it]\n",
      "Epoch: 64. Train. Loss: 0.508 | Accuracy: 64.500 | ROC AUC: 0.756: 100%|██████████| 10/10 [00:17<00:00,  1.77s/it]\n",
      "Epoch: 64. Validation. Loss: 0.148 | Accuracy: 90.200 | ROC AUC: 0.598: 100%|██████████| 5/5 [00:05<00:00,  1.19s/it]\n",
      "Epoch: 65. Train. Loss: 0.488 | Accuracy: 63.600 | ROC AUC: 0.723: 100%|██████████| 10/10 [00:17<00:00,  1.77s/it]\n",
      "Epoch: 65. Validation. Loss: 0.138 | Accuracy: 90.400 | ROC AUC: 0.599: 100%|██████████| 5/5 [00:05<00:00,  1.19s/it]\n",
      "Epoch: 66. Train. Loss: 0.492 | Accuracy: 71.400 | ROC AUC: 0.846: 100%|██████████| 10/10 [00:17<00:00,  1.77s/it]\n",
      "Epoch: 66. Validation. Loss: 0.151 | Accuracy: 89.400 | ROC AUC: 0.599: 100%|██████████| 5/5 [00:06<00:00,  1.20s/it]\n",
      "Epoch: 67. Train. Loss: 0.543 | Accuracy: 61.900 | ROC AUC: 0.691: 100%|██████████| 10/10 [00:17<00:00,  1.77s/it]\n",
      "Epoch: 67. Validation. Loss: 0.145 | Accuracy: 90.200 | ROC AUC: 0.599: 100%|██████████| 5/5 [00:05<00:00,  1.19s/it]\n",
      "Epoch: 68. Train. Loss: 0.572 | Accuracy: 66.800 | ROC AUC: 0.778: 100%|██████████| 10/10 [00:17<00:00,  1.76s/it]\n",
      "Epoch: 68. Validation. Loss: 0.149 | Accuracy: 90.000 | ROC AUC: 0.599: 100%|██████████| 5/5 [00:05<00:00,  1.19s/it]\n",
      "Epoch: 69. Train. Loss: 0.526 | Accuracy: 63.900 | ROC AUC: 0.699: 100%|██████████| 10/10 [00:17<00:00,  1.76s/it]\n",
      "Epoch: 69. Validation. Loss: 0.148 | Accuracy: 90.000 | ROC AUC: 0.599: 100%|██████████| 5/5 [00:05<00:00,  1.20s/it]\n",
      "Epoch: 70. Train. Loss: 0.519 | Accuracy: 64.200 | ROC AUC: 0.731: 100%|██████████| 10/10 [00:17<00:00,  1.76s/it]\n",
      "Epoch: 70. Validation. Loss: 0.146 | Accuracy: 90.400 | ROC AUC: 0.599: 100%|██████████| 5/5 [00:05<00:00,  1.19s/it]\n",
      "Epoch: 71. Train. Loss: 0.493 | Accuracy: 64.200 | ROC AUC: 0.740: 100%|██████████| 10/10 [00:17<00:00,  1.77s/it]\n",
      "Epoch: 71. Validation. Loss: 0.146 | Accuracy: 90.400 | ROC AUC: 0.599: 100%|██████████| 5/5 [00:05<00:00,  1.18s/it]\n",
      "Epoch: 72. Train. Loss: 0.511 | Accuracy: 64.800 | ROC AUC: 0.748: 100%|██████████| 10/10 [00:17<00:00,  1.78s/it]\n",
      "Epoch: 72. Validation. Loss: 0.141 | Accuracy: 90.600 | ROC AUC: 0.599: 100%|██████████| 5/5 [00:05<00:00,  1.19s/it]\n",
      "Epoch: 73. Train. Loss: 0.465 | Accuracy: 60.100 | ROC AUC: 0.671: 100%|██████████| 10/10 [00:17<00:00,  1.78s/it]\n",
      "Epoch: 73. Validation. Loss: 0.129 | Accuracy: 91.000 | ROC AUC: 0.599: 100%|██████████| 5/5 [00:06<00:00,  1.20s/it]\n",
      "Epoch: 74. Train. Loss: 0.526 | Accuracy: 65.600 | ROC AUC: 0.778: 100%|██████████| 10/10 [00:17<00:00,  1.78s/it]\n",
      "Epoch: 74. Validation. Loss: 0.121 | Accuracy: 91.400 | ROC AUC: 0.599: 100%|██████████| 5/5 [00:05<00:00,  1.19s/it]\n",
      "Epoch: 75. Train. Loss: 0.523 | Accuracy: 70.400 | ROC AUC: 0.814: 100%|██████████| 10/10 [00:17<00:00,  1.80s/it]\n",
      "Epoch: 75. Validation. Loss: 0.129 | Accuracy: 91.000 | ROC AUC: 0.599: 100%|██████████| 5/5 [00:06<00:00,  1.22s/it]\n",
      "Epoch: 76. Train. Loss: 0.534 | Accuracy: 63.900 | ROC AUC: 0.723: 100%|██████████| 10/10 [00:17<00:00,  1.77s/it]\n",
      "Epoch: 76. Validation. Loss: 0.139 | Accuracy: 90.400 | ROC AUC: 0.598: 100%|██████████| 5/5 [00:05<00:00,  1.19s/it]\n",
      "Epoch: 77. Train. Loss: 0.486 | Accuracy: 63.600 | ROC AUC: 0.718: 100%|██████████| 10/10 [00:17<00:00,  1.77s/it]\n",
      "Epoch: 77. Validation. Loss: 0.144 | Accuracy: 90.000 | ROC AUC: 0.598: 100%|██████████| 5/5 [00:05<00:00,  1.19s/it]\n",
      "Epoch: 78. Train. Loss: 0.531 | Accuracy: 61.100 | ROC AUC: 0.675: 100%|██████████| 10/10 [00:17<00:00,  1.76s/it]\n",
      "Epoch: 78. Validation. Loss: 0.154 | Accuracy: 89.400 | ROC AUC: 0.597: 100%|██████████| 5/5 [00:06<00:00,  1.22s/it]\n",
      "Epoch: 79. Train. Loss: 0.508 | Accuracy: 60.300 | ROC AUC: 0.669: 100%|██████████| 10/10 [00:17<00:00,  1.79s/it]\n",
      "Epoch: 79. Validation. Loss: 0.173 | Accuracy: 89.200 | ROC AUC: 0.593: 100%|██████████| 5/5 [00:05<00:00,  1.19s/it]\n",
      "Epoch: 80. Train. Loss: 0.514 | Accuracy: 63.200 | ROC AUC: 0.753: 100%|██████████| 10/10 [00:17<00:00,  1.78s/it]\n",
      "Epoch: 80. Validation. Loss: 0.171 | Accuracy: 89.000 | ROC AUC: 0.594: 100%|██████████| 5/5 [00:06<00:00,  1.21s/it]\n",
      "Epoch: 81. Train. Loss: 0.485 | Accuracy: 57.800 | ROC AUC: 0.641: 100%|██████████| 10/10 [00:17<00:00,  1.77s/it]\n",
      "Epoch: 81. Validation. Loss: 0.185 | Accuracy: 88.000 | ROC AUC: 0.594: 100%|██████████| 5/5 [00:05<00:00,  1.20s/it]\n",
      "Epoch: 82. Train. Loss: 0.497 | Accuracy: 62.100 | ROC AUC: 0.711: 100%|██████████| 10/10 [00:17<00:00,  1.80s/it]\n",
      "Epoch: 82. Validation. Loss: 0.153 | Accuracy: 89.400 | ROC AUC: 0.596: 100%|██████████| 5/5 [00:06<00:00,  1.21s/it]\n",
      "Epoch: 83. Train. Loss: 0.553 | Accuracy: 62.700 | ROC AUC: 0.699: 100%|██████████| 10/10 [00:17<00:00,  1.77s/it]\n",
      "Epoch: 83. Validation. Loss: 0.173 | Accuracy: 89.000 | ROC AUC: 0.595: 100%|██████████| 5/5 [00:06<00:00,  1.20s/it]\n",
      "Epoch: 84. Train. Loss: 0.539 | Accuracy: 59.500 | ROC AUC: 0.682: 100%|██████████| 10/10 [00:17<00:00,  1.78s/it]\n",
      "Epoch: 84. Validation. Loss: 0.180 | Accuracy: 87.800 | ROC AUC: 0.596: 100%|██████████| 5/5 [00:05<00:00,  1.19s/it]\n",
      "Epoch: 85. Train. Loss: 0.513 | Accuracy: 58.300 | ROC AUC: 0.638: 100%|██████████| 10/10 [00:17<00:00,  1.78s/it]\n",
      "Epoch: 85. Validation. Loss: 0.148 | Accuracy: 88.400 | ROC AUC: 0.596: 100%|██████████| 5/5 [00:05<00:00,  1.19s/it]\n",
      "Epoch: 86. Train. Loss: 0.513 | Accuracy: 61.100 | ROC AUC: 0.706: 100%|██████████| 10/10 [00:17<00:00,  1.77s/it]\n",
      "Epoch: 86. Validation. Loss: 0.150 | Accuracy: 89.400 | ROC AUC: 0.597: 100%|██████████| 5/5 [00:05<00:00,  1.20s/it]\n",
      "Epoch: 87. Train. Loss: 0.492 | Accuracy: 59.400 | ROC AUC: 0.673: 100%|██████████| 10/10 [00:17<00:00,  1.77s/it]\n",
      "Epoch: 87. Validation. Loss: 0.139 | Accuracy: 90.000 | ROC AUC: 0.597: 100%|██████████| 5/5 [00:05<00:00,  1.20s/it]\n",
      "Epoch: 88. Train. Loss: 0.550 | Accuracy: 66.800 | ROC AUC: 0.773: 100%|██████████| 10/10 [00:17<00:00,  1.78s/it]\n",
      "Epoch: 88. Validation. Loss: 0.136 | Accuracy: 90.200 | ROC AUC: 0.598: 100%|██████████| 5/5 [00:05<00:00,  1.19s/it]\n",
      "Epoch: 89. Train. Loss: 0.536 | Accuracy: 60.900 | ROC AUC: 0.674: 100%|██████████| 10/10 [00:17<00:00,  1.77s/it]\n",
      "Epoch: 89. Validation. Loss: 0.136 | Accuracy: 90.200 | ROC AUC: 0.598: 100%|██████████| 5/5 [00:05<00:00,  1.19s/it]\n",
      "Epoch: 90. Train. Loss: 0.533 | Accuracy: 67.500 | ROC AUC: 0.752: 100%|██████████| 10/10 [00:17<00:00,  1.77s/it]\n",
      "Epoch: 90. Validation. Loss: 0.135 | Accuracy: 90.200 | ROC AUC: 0.598: 100%|██████████| 5/5 [00:05<00:00,  1.20s/it]\n",
      "Epoch: 91. Train. Loss: 0.513 | Accuracy: 60.300 | ROC AUC: 0.706: 100%|██████████| 10/10 [00:17<00:00,  1.77s/it]\n",
      "Epoch: 91. Validation. Loss: 0.135 | Accuracy: 90.200 | ROC AUC: 0.598: 100%|██████████| 5/5 [00:05<00:00,  1.20s/it]\n",
      "Epoch: 92. Train. Loss: 0.510 | Accuracy: 63.400 | ROC AUC: 0.745: 100%|██████████| 10/10 [00:17<00:00,  1.78s/it]\n",
      "Epoch: 92. Validation. Loss: 0.135 | Accuracy: 90.200 | ROC AUC: 0.598: 100%|██████████| 5/5 [00:05<00:00,  1.18s/it]\n",
      "Epoch: 93. Train. Loss: 0.505 | Accuracy: 66.600 | ROC AUC: 0.789: 100%|██████████| 10/10 [00:17<00:00,  1.78s/it]\n",
      "Epoch: 93. Validation. Loss: 0.130 | Accuracy: 90.400 | ROC AUC: 0.597: 100%|██████████| 5/5 [00:05<00:00,  1.19s/it]\n",
      "Epoch: 94. Train. Loss: 0.504 | Accuracy: 61.100 | ROC AUC: 0.713: 100%|██████████| 10/10 [00:17<00:00,  1.77s/it]\n",
      "Epoch: 94. Validation. Loss: 0.120 | Accuracy: 90.200 | ROC AUC: 0.598: 100%|██████████| 5/5 [00:05<00:00,  1.19s/it]\n",
      "Epoch: 95. Train. Loss: 0.542 | Accuracy: 63.200 | ROC AUC: 0.730: 100%|██████████| 10/10 [00:17<00:00,  1.79s/it]\n",
      "Epoch: 95. Validation. Loss: 0.123 | Accuracy: 90.400 | ROC AUC: 0.597: 100%|██████████| 5/5 [00:06<00:00,  1.21s/it]\n",
      "Epoch: 96. Train. Loss: 0.475 | Accuracy: 64.600 | ROC AUC: 0.727: 100%|██████████| 10/10 [00:17<00:00,  1.79s/it]\n",
      "Epoch: 96. Validation. Loss: 0.137 | Accuracy: 90.200 | ROC AUC: 0.597: 100%|██████████| 5/5 [00:05<00:00,  1.19s/it]\n",
      "Epoch: 97. Train. Loss: 0.538 | Accuracy: 67.800 | ROC AUC: 0.789: 100%|██████████| 10/10 [00:17<00:00,  1.77s/it]\n",
      "Epoch: 97. Validation. Loss: 0.147 | Accuracy: 90.000 | ROC AUC: 0.597: 100%|██████████| 5/5 [00:05<00:00,  1.19s/it]\n",
      "Epoch: 98. Train. Loss: 0.492 | Accuracy: 58.500 | ROC AUC: 0.638: 100%|██████████| 10/10 [00:17<00:00,  1.76s/it]\n",
      "Epoch: 98. Validation. Loss: 0.167 | Accuracy: 88.600 | ROC AUC: 0.595: 100%|██████████| 5/5 [00:06<00:00,  1.20s/it]\n",
      "Epoch: 99. Train. Loss: 0.524 | Accuracy: 65.000 | ROC AUC: 0.749: 100%|██████████| 10/10 [00:17<00:00,  1.78s/it]\n",
      "Epoch: 99. Validation. Loss: 0.208 | Accuracy: 87.600 | ROC AUC: 0.589: 100%|██████████| 5/5 [00:06<00:00,  1.21s/it]\n",
      "Epoch: 100. Train. Loss: 0.548 | Accuracy: 64.300 | ROC AUC: 0.736: 100%|██████████| 10/10 [00:17<00:00,  1.79s/it]\n",
      "Epoch: 100. Validation. Loss: 0.196 | Accuracy: 87.800 | ROC AUC: 0.593: 100%|██████████| 5/5 [00:05<00:00,  1.20s/it]\n",
      "Epoch: 101. Train. Loss: 0.499 | Accuracy: 69.600 | ROC AUC: 0.796: 100%|██████████| 10/10 [00:17<00:00,  1.78s/it]\n",
      "Epoch: 101. Validation. Loss: 0.190 | Accuracy: 87.400 | ROC AUC: 0.595: 100%|██████████| 5/5 [00:06<00:00,  1.20s/it]\n",
      "Epoch: 102. Train. Loss: 0.502 | Accuracy: 65.100 | ROC AUC: 0.787: 100%|██████████| 10/10 [00:17<00:00,  1.77s/it]\n",
      "Epoch: 102. Validation. Loss: 0.194 | Accuracy: 88.200 | ROC AUC: 0.596: 100%|██████████| 5/5 [00:05<00:00,  1.19s/it]\n",
      "Epoch: 103. Train. Loss: 0.535 | Accuracy: 69.900 | ROC AUC: 0.800: 100%|██████████| 10/10 [00:17<00:00,  1.77s/it]\n",
      "Epoch: 103. Validation. Loss: 0.166 | Accuracy: 89.000 | ROC AUC: 0.596: 100%|██████████| 5/5 [00:06<00:00,  1.21s/it]\n",
      "Epoch: 104. Train. Loss: 0.530 | Accuracy: 62.200 | ROC AUC: 0.715: 100%|██████████| 10/10 [00:17<00:00,  1.78s/it]\n",
      "Epoch: 104. Validation. Loss: 0.171 | Accuracy: 88.600 | ROC AUC: 0.597: 100%|██████████| 5/5 [00:06<00:00,  1.21s/it]\n",
      "Epoch: 105. Train. Loss: 0.479 | Accuracy: 70.500 | ROC AUC: 0.831: 100%|██████████| 10/10 [00:17<00:00,  1.77s/it]\n",
      "Epoch: 105. Validation. Loss: 0.179 | Accuracy: 88.000 | ROC AUC: 0.597: 100%|██████████| 5/5 [00:05<00:00,  1.20s/it]\n",
      "Epoch: 106. Train. Loss: 0.515 | Accuracy: 61.800 | ROC AUC: 0.669: 100%|██████████| 10/10 [00:17<00:00,  1.77s/it]\n",
      "Epoch: 106. Validation. Loss: 0.169 | Accuracy: 88.800 | ROC AUC: 0.597: 100%|██████████| 5/5 [00:05<00:00,  1.19s/it]\n",
      "Epoch: 107. Train. Loss: 0.536 | Accuracy: 61.300 | ROC AUC: 0.672: 100%|██████████| 10/10 [00:17<00:00,  1.77s/it]\n",
      "Epoch: 107. Validation. Loss: 0.164 | Accuracy: 89.000 | ROC AUC: 0.597: 100%|██████████| 5/5 [00:06<00:00,  1.22s/it]\n",
      "Epoch: 108. Train. Loss: 0.517 | Accuracy: 65.400 | ROC AUC: 0.736: 100%|██████████| 10/10 [00:17<00:00,  1.77s/it]\n",
      "Epoch: 108. Validation. Loss: 0.149 | Accuracy: 89.800 | ROC AUC: 0.597: 100%|██████████| 5/5 [00:06<00:00,  1.20s/it]\n",
      "Epoch: 109. Train. Loss: 0.536 | Accuracy: 64.000 | ROC AUC: 0.728: 100%|██████████| 10/10 [00:17<00:00,  1.76s/it]\n",
      "Epoch: 109. Validation. Loss: 0.145 | Accuracy: 90.400 | ROC AUC: 0.598: 100%|██████████| 5/5 [00:05<00:00,  1.19s/it]\n",
      "Epoch: 110. Train. Loss: 0.447 | Accuracy: 56.900 | ROC AUC: 0.623: 100%|██████████| 10/10 [00:17<00:00,  1.78s/it]\n",
      "Epoch: 110. Validation. Loss: 0.144 | Accuracy: 90.600 | ROC AUC: 0.598: 100%|██████████| 5/5 [00:05<00:00,  1.19s/it]\n",
      "Epoch: 111. Train. Loss: 0.508 | Accuracy: 64.400 | ROC AUC: 0.729: 100%|██████████| 10/10 [00:17<00:00,  1.79s/it]\n",
      "Epoch: 111. Validation. Loss: 0.144 | Accuracy: 90.600 | ROC AUC: 0.598: 100%|██████████| 5/5 [00:05<00:00,  1.20s/it]\n",
      "Epoch: 112. Train. Loss: 0.506 | Accuracy: 62.300 | ROC AUC: 0.719: 100%|██████████| 10/10 [00:17<00:00,  1.78s/it]\n",
      "Epoch: 112. Validation. Loss: 0.142 | Accuracy: 90.400 | ROC AUC: 0.598: 100%|██████████| 5/5 [00:06<00:00,  1.21s/it]\n",
      "Epoch: 113. Train. Loss: 0.473 | Accuracy: 67.500 | ROC AUC: 0.755: 100%|██████████| 10/10 [00:17<00:00,  1.77s/it]\n",
      "Epoch: 113. Validation. Loss: 0.138 | Accuracy: 90.400 | ROC AUC: 0.598: 100%|██████████| 5/5 [00:05<00:00,  1.19s/it]\n",
      "Epoch: 114. Train. Loss: 0.446 | Accuracy: 67.300 | ROC AUC: 0.804: 100%|██████████| 10/10 [00:17<00:00,  1.77s/it]\n",
      "Epoch: 114. Validation. Loss: 0.128 | Accuracy: 90.600 | ROC AUC: 0.598: 100%|██████████| 5/5 [00:06<00:00,  1.23s/it]\n",
      "Epoch: 115. Train. Loss: 0.533 | Accuracy: 64.600 | ROC AUC: 0.734: 100%|██████████| 10/10 [00:17<00:00,  1.77s/it]\n",
      "Epoch: 115. Validation. Loss: 0.126 | Accuracy: 90.200 | ROC AUC: 0.598: 100%|██████████| 5/5 [00:05<00:00,  1.19s/it]\n",
      "Epoch: 116. Train. Loss: 0.497 | Accuracy: 63.800 | ROC AUC: 0.705: 100%|██████████| 10/10 [00:17<00:00,  1.76s/it]\n",
      "Epoch: 116. Validation. Loss: 0.132 | Accuracy: 91.000 | ROC AUC: 0.598: 100%|██████████| 5/5 [00:05<00:00,  1.19s/it]\n",
      "Epoch: 117. Train. Loss: 0.500 | Accuracy: 62.900 | ROC AUC: 0.713: 100%|██████████| 10/10 [00:17<00:00,  1.76s/it]\n",
      "Epoch: 117. Validation. Loss: 0.139 | Accuracy: 91.600 | ROC AUC: 0.599: 100%|██████████| 5/5 [00:05<00:00,  1.19s/it]\n",
      "Epoch: 118. Train. Loss: 0.482 | Accuracy: 71.300 | ROC AUC: 0.812: 100%|██████████| 10/10 [00:17<00:00,  1.77s/it]\n",
      "Epoch: 118. Validation. Loss: 0.124 | Accuracy: 90.600 | ROC AUC: 0.598: 100%|██████████| 5/5 [00:06<00:00,  1.20s/it]\n",
      "Epoch: 119. Train. Loss: 0.513 | Accuracy: 60.900 | ROC AUC: 0.662: 100%|██████████| 10/10 [00:17<00:00,  1.77s/it]\n",
      "Epoch: 119. Validation. Loss: 0.183 | Accuracy: 88.800 | ROC AUC: 0.594: 100%|██████████| 5/5 [00:05<00:00,  1.20s/it] \n",
      "Epoch: 120. Train. Loss: 0.499 | Accuracy: 63.200 | ROC AUC: 0.734: 100%|██████████| 10/10 [00:17<00:00,  1.76s/it]\n",
      "Epoch: 120. Validation. Loss: 0.158 | Accuracy: 89.800 | ROC AUC: 0.596: 100%|██████████| 5/5 [00:06<00:00,  1.20s/it]\n",
      "Epoch: 121. Train. Loss: 0.497 | Accuracy: 65.900 | ROC AUC: 0.787: 100%|██████████| 10/10 [00:17<00:00,  1.78s/it]\n",
      "Epoch: 121. Validation. Loss: 0.164 | Accuracy: 89.400 | ROC AUC: 0.596: 100%|██████████| 5/5 [00:05<00:00,  1.19s/it] \n",
      "Epoch: 122. Train. Loss: 0.514 | Accuracy: 68.700 | ROC AUC: 0.795: 100%|██████████| 10/10 [00:17<00:00,  1.77s/it]\n",
      "Epoch: 122. Validation. Loss: 0.188 | Accuracy: 87.200 | ROC AUC: 0.595: 100%|██████████| 5/5 [00:05<00:00,  1.18s/it]\n",
      "Epoch: 123. Train. Loss: 0.493 | Accuracy: 59.300 | ROC AUC: 0.683: 100%|██████████| 10/10 [00:17<00:00,  1.77s/it]\n",
      "Epoch: 123. Validation. Loss: 0.158 | Accuracy: 88.800 | ROC AUC: 0.596: 100%|██████████| 5/5 [00:05<00:00,  1.19s/it]\n",
      "Epoch: 124. Train. Loss: 0.543 | Accuracy: 63.500 | ROC AUC: 0.719: 100%|██████████| 10/10 [00:17<00:00,  1.78s/it]\n",
      "Epoch: 124. Validation. Loss: 0.210 | Accuracy: 87.200 | ROC AUC: 0.596: 100%|██████████| 5/5 [00:06<00:00,  1.23s/it]\n",
      "Epoch: 125. Train. Loss: 0.499 | Accuracy: 66.800 | ROC AUC: 0.774: 100%|██████████| 10/10 [00:17<00:00,  1.78s/it]\n",
      "Epoch: 125. Validation. Loss: 0.204 | Accuracy: 86.800 | ROC AUC: 0.593: 100%|██████████| 5/5 [00:05<00:00,  1.19s/it]\n",
      "Epoch: 126. Train. Loss: 0.531 | Accuracy: 61.500 | ROC AUC: 0.652: 100%|██████████| 10/10 [00:17<00:00,  1.78s/it]\n",
      "Epoch: 126. Validation. Loss: 0.207 | Accuracy: 86.600 | ROC AUC: 0.593: 100%|██████████| 5/5 [00:05<00:00,  1.19s/it]\n",
      "Epoch: 127. Train. Loss: 0.520 | Accuracy: 59.500 | ROC AUC: 0.687: 100%|██████████| 10/10 [00:17<00:00,  1.77s/it]\n",
      "Epoch: 127. Validation. Loss: 0.198 | Accuracy: 87.200 | ROC AUC: 0.595: 100%|██████████| 5/5 [00:05<00:00,  1.19s/it]\n",
      "Epoch: 128. Train. Loss: 0.466 | Accuracy: 70.000 | ROC AUC: 0.836: 100%|██████████| 10/10 [00:17<00:00,  1.77s/it]\n",
      "Epoch: 128. Validation. Loss: 0.190 | Accuracy: 87.400 | ROC AUC: 0.595: 100%|██████████| 5/5 [00:05<00:00,  1.20s/it]\n",
      "Epoch: 129. Train. Loss: 0.504 | Accuracy: 60.400 | ROC AUC: 0.668: 100%|██████████| 10/10 [00:17<00:00,  1.77s/it]\n",
      "Epoch: 129. Validation. Loss: 0.183 | Accuracy: 87.400 | ROC AUC: 0.596: 100%|██████████| 5/5 [00:06<00:00,  1.20s/it]\n",
      "Epoch: 130. Train. Loss: 0.526 | Accuracy: 63.500 | ROC AUC: 0.746: 100%|██████████| 10/10 [00:17<00:00,  1.78s/it]\n",
      "Epoch: 130. Validation. Loss: 0.181 | Accuracy: 87.600 | ROC AUC: 0.596: 100%|██████████| 5/5 [00:06<00:00,  1.21s/it]\n",
      "Epoch: 131. Train. Loss: 0.494 | Accuracy: 62.500 | ROC AUC: 0.706: 100%|██████████| 10/10 [00:17<00:00,  1.78s/it]\n",
      "Epoch: 131. Validation. Loss: 0.181 | Accuracy: 87.600 | ROC AUC: 0.596: 100%|██████████| 5/5 [00:06<00:00,  1.21s/it]\n",
      "Epoch: 132. Train. Loss: 0.540 | Accuracy: 64.000 | ROC AUC: 0.736: 100%|██████████| 10/10 [00:17<00:00,  1.77s/it]\n",
      "Epoch: 132. Validation. Loss: 0.179 | Accuracy: 87.200 | ROC AUC: 0.596: 100%|██████████| 5/5 [00:05<00:00,  1.19s/it]\n",
      "Epoch: 133. Train. Loss: 0.542 | Accuracy: 68.700 | ROC AUC: 0.800: 100%|██████████| 10/10 [00:17<00:00,  1.78s/it]\n",
      "Epoch: 133. Validation. Loss: 0.178 | Accuracy: 87.600 | ROC AUC: 0.596: 100%|██████████| 5/5 [00:05<00:00,  1.20s/it]\n",
      "Epoch: 134. Train. Loss: 0.523 | Accuracy: 60.600 | ROC AUC: 0.684: 100%|██████████| 10/10 [00:17<00:00,  1.77s/it]\n",
      "Epoch: 134. Validation. Loss: 0.177 | Accuracy: 88.200 | ROC AUC: 0.597: 100%|██████████| 5/5 [00:05<00:00,  1.19s/it]\n",
      "Epoch: 135. Train. Loss: 0.448 | Accuracy: 64.200 | ROC AUC: 0.733: 100%|██████████| 10/10 [00:17<00:00,  1.76s/it]\n",
      "Epoch: 135. Validation. Loss: 0.168 | Accuracy: 88.000 | ROC AUC: 0.597: 100%|██████████| 5/5 [00:05<00:00,  1.19s/it]\n",
      "Epoch: 136. Train. Loss: 0.532 | Accuracy: 65.300 | ROC AUC: 0.732: 100%|██████████| 10/10 [00:17<00:00,  1.77s/it]\n",
      "Epoch: 136. Validation. Loss: 0.166 | Accuracy: 88.200 | ROC AUC: 0.596: 100%|██████████| 5/5 [00:05<00:00,  1.20s/it]\n",
      "Epoch: 137. Train. Loss: 0.509 | Accuracy: 64.000 | ROC AUC: 0.737: 100%|██████████| 10/10 [00:17<00:00,  1.78s/it]\n",
      "Epoch: 137. Validation. Loss: 0.199 | Accuracy: 87.600 | ROC AUC: 0.595: 100%|██████████| 5/5 [00:06<00:00,  1.21s/it]\n",
      "Epoch: 138. Train. Loss: 0.498 | Accuracy: 70.500 | ROC AUC: 0.818: 100%|██████████| 10/10 [00:17<00:00,  1.78s/it]\n",
      "Epoch: 138. Validation. Loss: 0.222 | Accuracy: 86.000 | ROC AUC: 0.595: 100%|██████████| 5/5 [00:06<00:00,  1.21s/it]\n",
      "Epoch: 139. Train. Loss: 0.496 | Accuracy: 61.200 | ROC AUC: 0.698: 100%|██████████| 10/10 [00:17<00:00,  1.78s/it]\n",
      "Epoch: 139. Validation. Loss: 0.220 | Accuracy: 86.400 | ROC AUC: 0.595: 100%|██████████| 5/5 [00:06<00:00,  1.21s/it]\n",
      "Epoch: 140. Train. Loss: 0.519 | Accuracy: 65.100 | ROC AUC: 0.708: 100%|██████████| 10/10 [00:17<00:00,  1.78s/it]\n",
      "Epoch: 140. Validation. Loss: 0.184 | Accuracy: 89.000 | ROC AUC: 0.596: 100%|██████████| 5/5 [00:06<00:00,  1.21s/it]\n",
      "Epoch: 141. Train. Loss: 0.455 | Accuracy: 61.200 | ROC AUC: 0.668: 100%|██████████| 10/10 [00:17<00:00,  1.79s/it]\n",
      "Epoch: 141. Validation. Loss: 0.223 | Accuracy: 85.200 | ROC AUC: 0.592: 100%|██████████| 5/5 [00:06<00:00,  1.23s/it]\n",
      "Epoch: 142. Train. Loss: 0.543 | Accuracy: 55.000 | ROC AUC: 0.594: 100%|██████████| 10/10 [00:17<00:00,  1.77s/it]\n",
      "Epoch: 142. Validation. Loss: 0.197 | Accuracy: 88.000 | ROC AUC: 0.592: 100%|██████████| 5/5 [00:06<00:00,  1.21s/it]\n",
      "Epoch: 143. Train. Loss: 0.523 | Accuracy: 61.300 | ROC AUC: 0.716: 100%|██████████| 10/10 [00:17<00:00,  1.78s/it]\n",
      "Epoch: 143. Validation. Loss: 0.191 | Accuracy: 88.000 | ROC AUC: 0.592: 100%|██████████| 5/5 [00:06<00:00,  1.22s/it]\n",
      "Epoch: 144. Train. Loss: 0.480 | Accuracy: 72.100 | ROC AUC: 0.839: 100%|██████████| 10/10 [00:17<00:00,  1.77s/it]\n",
      "Epoch: 144. Validation. Loss: 0.174 | Accuracy: 89.200 | ROC AUC: 0.593: 100%|██████████| 5/5 [00:05<00:00,  1.19s/it]\n",
      "Epoch: 145. Train. Loss: 0.578 | Accuracy: 60.400 | ROC AUC: 0.670: 100%|██████████| 10/10 [00:17<00:00,  1.77s/it]\n",
      "Epoch: 145. Validation. Loss: 0.254 | Accuracy: 87.400 | ROC AUC: 0.593: 100%|██████████| 5/5 [00:06<00:00,  1.22s/it]\n",
      "Epoch: 146. Train. Loss: 0.496 | Accuracy: 61.875 | ROC AUC: 0.634:  80%|████████  | 8/10 [00:15<00:03,  1.89s/it]\n"
     ]
    },
    {
     "ename": "KeyboardInterrupt",
     "evalue": "",
     "output_type": "error",
     "traceback": [
      "\u001B[0;31m---------------------------------------------------------------------------\u001B[0m",
      "\u001B[0;31mKeyboardInterrupt\u001B[0m                         Traceback (most recent call last)",
      "Input \u001B[0;32mIn [22]\u001B[0m, in \u001B[0;36m<cell line: 13>\u001B[0;34m()\u001B[0m\n\u001B[1;32m     35\u001B[0m \u001B[38;5;66;03m# iterater through each training epoch\u001B[39;00m\n\u001B[1;32m     36\u001B[0m \u001B[38;5;28;01mfor\u001B[39;00m epoch \u001B[38;5;129;01min\u001B[39;00m \u001B[38;5;28mrange\u001B[39m(\u001B[38;5;241m1\u001B[39m, config[\u001B[38;5;124m'\u001B[39m\u001B[38;5;124mepochs\u001B[39m\u001B[38;5;124m'\u001B[39m] \u001B[38;5;241m+\u001B[39m \u001B[38;5;241m1\u001B[39m):\n\u001B[1;32m     37\u001B[0m     \u001B[38;5;66;03m# perform the model training and validation\u001B[39;00m\n\u001B[0;32m---> 38\u001B[0m     \u001B[43mtrain\u001B[49m\u001B[43m(\u001B[49m\u001B[43mtrain_loader\u001B[49m\u001B[43m,\u001B[49m\u001B[43m \u001B[49m\u001B[43mmodel\u001B[49m\u001B[43m,\u001B[49m\u001B[43m \u001B[49m\u001B[43mcriterion\u001B[49m\u001B[43m,\u001B[49m\u001B[43m \u001B[49m\u001B[43moptimizer\u001B[49m\u001B[43m,\u001B[49m\u001B[43m \u001B[49m\u001B[43mepoch\u001B[49m\u001B[43m,\u001B[49m\u001B[43m \u001B[49m\u001B[43mscheduler\u001B[49m\u001B[43m)\u001B[49m\n\u001B[1;32m     39\u001B[0m     valid_predictions, valid_targets \u001B[38;5;241m=\u001B[39m validate(valid_loader, model, criterion, epoch)\n\u001B[1;32m     41\u001B[0m     \u001B[38;5;66;03m# calculate the validation ROC AUC\u001B[39;00m\n",
      "Input \u001B[0;32mIn [19]\u001B[0m, in \u001B[0;36mtrain\u001B[0;34m(train_loader, model, criterion, optimizer, epoch, scheduler)\u001B[0m\n\u001B[1;32m      7\u001B[0m stream \u001B[38;5;241m=\u001B[39m tqdm(\u001B[38;5;28menumerate\u001B[39m(train_loader), total\u001B[38;5;241m=\u001B[39m\u001B[38;5;28mlen\u001B[39m(train_loader)) \u001B[38;5;66;03m# Create a stream for processing the data in batches\u001B[39;00m\n\u001B[1;32m      9\u001B[0m \u001B[38;5;66;03m# iterate over each batch\u001B[39;00m\n\u001B[0;32m---> 10\u001B[0m \u001B[38;5;28;01mfor\u001B[39;00m i, (images, target) \u001B[38;5;129;01min\u001B[39;00m stream:\n\u001B[1;32m     11\u001B[0m     images \u001B[38;5;241m=\u001B[39m images\u001B[38;5;241m.\u001B[39mto(config[\u001B[38;5;124m'\u001B[39m\u001B[38;5;124mdevice\u001B[39m\u001B[38;5;124m'\u001B[39m])\n\u001B[1;32m     12\u001B[0m     target \u001B[38;5;241m=\u001B[39m target\u001B[38;5;241m.\u001B[39mto(config[\u001B[38;5;124m'\u001B[39m\u001B[38;5;124mdevice\u001B[39m\u001B[38;5;124m'\u001B[39m])\u001B[38;5;241m.\u001B[39mfloat()\u001B[38;5;241m.\u001B[39mview(\u001B[38;5;241m-\u001B[39m\u001B[38;5;241m1\u001B[39m, \u001B[38;5;241m1\u001B[39m) \u001B[38;5;66;03m# place the images in landscape view\u001B[39;00m\n",
      "File \u001B[0;32m/usr/local/lib/python3.9/dist-packages/tqdm/std.py:1195\u001B[0m, in \u001B[0;36mtqdm.__iter__\u001B[0;34m(self)\u001B[0m\n\u001B[1;32m   1192\u001B[0m time \u001B[38;5;241m=\u001B[39m \u001B[38;5;28mself\u001B[39m\u001B[38;5;241m.\u001B[39m_time\n\u001B[1;32m   1194\u001B[0m \u001B[38;5;28;01mtry\u001B[39;00m:\n\u001B[0;32m-> 1195\u001B[0m     \u001B[38;5;28;01mfor\u001B[39;00m obj \u001B[38;5;129;01min\u001B[39;00m iterable:\n\u001B[1;32m   1196\u001B[0m         \u001B[38;5;28;01myield\u001B[39;00m obj\n\u001B[1;32m   1197\u001B[0m         \u001B[38;5;66;03m# Update and possibly print the progressbar.\u001B[39;00m\n\u001B[1;32m   1198\u001B[0m         \u001B[38;5;66;03m# Note: does not call self.update(1) for speed optimisation.\u001B[39;00m\n",
      "File \u001B[0;32m/usr/local/lib/python3.9/dist-packages/torch/utils/data/dataloader.py:652\u001B[0m, in \u001B[0;36m_BaseDataLoaderIter.__next__\u001B[0;34m(self)\u001B[0m\n\u001B[1;32m    649\u001B[0m \u001B[38;5;28;01mif\u001B[39;00m \u001B[38;5;28mself\u001B[39m\u001B[38;5;241m.\u001B[39m_sampler_iter \u001B[38;5;129;01mis\u001B[39;00m \u001B[38;5;28;01mNone\u001B[39;00m:\n\u001B[1;32m    650\u001B[0m     \u001B[38;5;66;03m# TODO(https://github.com/pytorch/pytorch/issues/76750)\u001B[39;00m\n\u001B[1;32m    651\u001B[0m     \u001B[38;5;28mself\u001B[39m\u001B[38;5;241m.\u001B[39m_reset()  \u001B[38;5;66;03m# type: ignore[call-arg]\u001B[39;00m\n\u001B[0;32m--> 652\u001B[0m data \u001B[38;5;241m=\u001B[39m \u001B[38;5;28;43mself\u001B[39;49m\u001B[38;5;241;43m.\u001B[39;49m\u001B[43m_next_data\u001B[49m\u001B[43m(\u001B[49m\u001B[43m)\u001B[49m\n\u001B[1;32m    653\u001B[0m \u001B[38;5;28mself\u001B[39m\u001B[38;5;241m.\u001B[39m_num_yielded \u001B[38;5;241m+\u001B[39m\u001B[38;5;241m=\u001B[39m \u001B[38;5;241m1\u001B[39m\n\u001B[1;32m    654\u001B[0m \u001B[38;5;28;01mif\u001B[39;00m \u001B[38;5;28mself\u001B[39m\u001B[38;5;241m.\u001B[39m_dataset_kind \u001B[38;5;241m==\u001B[39m _DatasetKind\u001B[38;5;241m.\u001B[39mIterable \u001B[38;5;129;01mand\u001B[39;00m \\\n\u001B[1;32m    655\u001B[0m         \u001B[38;5;28mself\u001B[39m\u001B[38;5;241m.\u001B[39m_IterableDataset_len_called \u001B[38;5;129;01mis\u001B[39;00m \u001B[38;5;129;01mnot\u001B[39;00m \u001B[38;5;28;01mNone\u001B[39;00m \u001B[38;5;129;01mand\u001B[39;00m \\\n\u001B[1;32m    656\u001B[0m         \u001B[38;5;28mself\u001B[39m\u001B[38;5;241m.\u001B[39m_num_yielded \u001B[38;5;241m>\u001B[39m \u001B[38;5;28mself\u001B[39m\u001B[38;5;241m.\u001B[39m_IterableDataset_len_called:\n",
      "File \u001B[0;32m/usr/local/lib/python3.9/dist-packages/torch/utils/data/dataloader.py:692\u001B[0m, in \u001B[0;36m_SingleProcessDataLoaderIter._next_data\u001B[0;34m(self)\u001B[0m\n\u001B[1;32m    690\u001B[0m \u001B[38;5;28;01mdef\u001B[39;00m \u001B[38;5;21m_next_data\u001B[39m(\u001B[38;5;28mself\u001B[39m):\n\u001B[1;32m    691\u001B[0m     index \u001B[38;5;241m=\u001B[39m \u001B[38;5;28mself\u001B[39m\u001B[38;5;241m.\u001B[39m_next_index()  \u001B[38;5;66;03m# may raise StopIteration\u001B[39;00m\n\u001B[0;32m--> 692\u001B[0m     data \u001B[38;5;241m=\u001B[39m \u001B[38;5;28;43mself\u001B[39;49m\u001B[38;5;241;43m.\u001B[39;49m\u001B[43m_dataset_fetcher\u001B[49m\u001B[38;5;241;43m.\u001B[39;49m\u001B[43mfetch\u001B[49m\u001B[43m(\u001B[49m\u001B[43mindex\u001B[49m\u001B[43m)\u001B[49m  \u001B[38;5;66;03m# may raise StopIteration\u001B[39;00m\n\u001B[1;32m    693\u001B[0m     \u001B[38;5;28;01mif\u001B[39;00m \u001B[38;5;28mself\u001B[39m\u001B[38;5;241m.\u001B[39m_pin_memory:\n\u001B[1;32m    694\u001B[0m         data \u001B[38;5;241m=\u001B[39m _utils\u001B[38;5;241m.\u001B[39mpin_memory\u001B[38;5;241m.\u001B[39mpin_memory(data, \u001B[38;5;28mself\u001B[39m\u001B[38;5;241m.\u001B[39m_pin_memory_device)\n",
      "File \u001B[0;32m/usr/local/lib/python3.9/dist-packages/torch/utils/data/_utils/fetch.py:49\u001B[0m, in \u001B[0;36m_MapDatasetFetcher.fetch\u001B[0;34m(self, possibly_batched_index)\u001B[0m\n\u001B[1;32m     47\u001B[0m \u001B[38;5;28;01mdef\u001B[39;00m \u001B[38;5;21mfetch\u001B[39m(\u001B[38;5;28mself\u001B[39m, possibly_batched_index):\n\u001B[1;32m     48\u001B[0m     \u001B[38;5;28;01mif\u001B[39;00m \u001B[38;5;28mself\u001B[39m\u001B[38;5;241m.\u001B[39mauto_collation:\n\u001B[0;32m---> 49\u001B[0m         data \u001B[38;5;241m=\u001B[39m [\u001B[38;5;28mself\u001B[39m\u001B[38;5;241m.\u001B[39mdataset[idx] \u001B[38;5;28;01mfor\u001B[39;00m idx \u001B[38;5;129;01min\u001B[39;00m possibly_batched_index]\n\u001B[1;32m     50\u001B[0m     \u001B[38;5;28;01melse\u001B[39;00m:\n\u001B[1;32m     51\u001B[0m         data \u001B[38;5;241m=\u001B[39m \u001B[38;5;28mself\u001B[39m\u001B[38;5;241m.\u001B[39mdataset[possibly_batched_index]\n",
      "File \u001B[0;32m/usr/local/lib/python3.9/dist-packages/torch/utils/data/_utils/fetch.py:49\u001B[0m, in \u001B[0;36m<listcomp>\u001B[0;34m(.0)\u001B[0m\n\u001B[1;32m     47\u001B[0m \u001B[38;5;28;01mdef\u001B[39;00m \u001B[38;5;21mfetch\u001B[39m(\u001B[38;5;28mself\u001B[39m, possibly_batched_index):\n\u001B[1;32m     48\u001B[0m     \u001B[38;5;28;01mif\u001B[39;00m \u001B[38;5;28mself\u001B[39m\u001B[38;5;241m.\u001B[39mauto_collation:\n\u001B[0;32m---> 49\u001B[0m         data \u001B[38;5;241m=\u001B[39m [\u001B[38;5;28;43mself\u001B[39;49m\u001B[38;5;241;43m.\u001B[39;49m\u001B[43mdataset\u001B[49m\u001B[43m[\u001B[49m\u001B[43midx\u001B[49m\u001B[43m]\u001B[49m \u001B[38;5;28;01mfor\u001B[39;00m idx \u001B[38;5;129;01min\u001B[39;00m possibly_batched_index]\n\u001B[1;32m     50\u001B[0m     \u001B[38;5;28;01melse\u001B[39;00m:\n\u001B[1;32m     51\u001B[0m         data \u001B[38;5;241m=\u001B[39m \u001B[38;5;28mself\u001B[39m\u001B[38;5;241m.\u001B[39mdataset[possibly_batched_index]\n",
      "Input \u001B[0;32mIn [9]\u001B[0m, in \u001B[0;36mCustomDataset.__getitem__\u001B[0;34m(self, idx)\u001B[0m\n\u001B[1;32m     16\u001B[0m images \u001B[38;5;241m=\u001B[39m np\u001B[38;5;241m.\u001B[39mload(BytesIO(dataset[images_filepath]), allow_pickle\u001B[38;5;241m=\u001B[39m\u001B[38;5;28;01mTrue\u001B[39;00m)\u001B[38;5;241m.\u001B[39mastype(np\u001B[38;5;241m.\u001B[39mfloat32)\n\u001B[1;32m     17\u001B[0m \u001B[38;5;66;03m# images = np.load(images_filepath).astype(np.float32)\u001B[39;00m\n\u001B[0;32m---> 18\u001B[0m image \u001B[38;5;241m=\u001B[39m \u001B[43mget_denoised_image\u001B[49m\u001B[43m(\u001B[49m\u001B[43mimages\u001B[49m\u001B[43m)\u001B[49m\n\u001B[1;32m     20\u001B[0m \u001B[38;5;28;01mif\u001B[39;00m \u001B[38;5;28mself\u001B[39m\u001B[38;5;241m.\u001B[39mtransform \u001B[38;5;129;01mis\u001B[39;00m \u001B[38;5;129;01mnot\u001B[39;00m \u001B[38;5;28;01mNone\u001B[39;00m:\n\u001B[1;32m     21\u001B[0m     image \u001B[38;5;241m=\u001B[39m \u001B[38;5;28mself\u001B[39m\u001B[38;5;241m.\u001B[39mtransform(image\u001B[38;5;241m=\u001B[39mimage)[\u001B[38;5;124m'\u001B[39m\u001B[38;5;124mimage\u001B[39m\u001B[38;5;124m'\u001B[39m]\n",
      "Input \u001B[0;32mIn [8]\u001B[0m, in \u001B[0;36mget_denoised_image\u001B[0;34m(sample_images)\u001B[0m\n\u001B[1;32m     56\u001B[0m off_target_image \u001B[38;5;241m=\u001B[39m sample_images[i\u001B[38;5;241m+\u001B[39m\u001B[38;5;241m1\u001B[39m] \u001B[38;5;66;03m# Get off target image\u001B[39;00m\n\u001B[1;32m     58\u001B[0m on_W, on_H \u001B[38;5;241m=\u001B[39m get_decomposition_matrices(on_target_image) \u001B[38;5;66;03m# Decompose on target images into factor matrices\u001B[39;00m\n\u001B[0;32m---> 59\u001B[0m off_W, off_H \u001B[38;5;241m=\u001B[39m \u001B[43mget_decomposition_matrices\u001B[49m\u001B[43m(\u001B[49m\u001B[43moff_target_image\u001B[49m\u001B[43m)\u001B[49m \u001B[38;5;66;03m# Decomponse off target images into factor matrices\u001B[39;00m\n\u001B[1;32m     61\u001B[0m \u001B[38;5;66;03m# Get noise approximation by multiplying a factor matrix from each of the on target, and off target images.\u001B[39;00m\n\u001B[1;32m     62\u001B[0m \u001B[38;5;66;03m# Then subtract the approximated noise from the on target images\u001B[39;00m\n\u001B[1;32m     63\u001B[0m denoised_image \u001B[38;5;241m=\u001B[39m normalise_image(on_target_image \u001B[38;5;241m-\u001B[39m np\u001B[38;5;241m.\u001B[39mmatmul(on_W, off_H))\n",
      "Input \u001B[0;32mIn [8]\u001B[0m, in \u001B[0;36mget_decomposition_matrices\u001B[0;34m(image)\u001B[0m\n\u001B[1;32m     35\u001B[0m \u001B[38;5;28;01mdef\u001B[39;00m \u001B[38;5;21mget_decomposition_matrices\u001B[39m(image):\n\u001B[1;32m     36\u001B[0m     model \u001B[38;5;241m=\u001B[39m NMF(n_components\u001B[38;5;241m=\u001B[39m\u001B[38;5;241m2\u001B[39m, init\u001B[38;5;241m=\u001B[39m\u001B[38;5;124m'\u001B[39m\u001B[38;5;124mrandom\u001B[39m\u001B[38;5;124m'\u001B[39m, random_state\u001B[38;5;241m=\u001B[39m\u001B[38;5;241m0\u001B[39m)\n\u001B[0;32m---> 37\u001B[0m     W \u001B[38;5;241m=\u001B[39m \u001B[43mmodel\u001B[49m\u001B[38;5;241;43m.\u001B[39;49m\u001B[43mfit_transform\u001B[49m\u001B[43m(\u001B[49m\u001B[43mimage\u001B[49m\u001B[43m \u001B[49m\u001B[38;5;241;43m+\u001B[39;49m\u001B[43m \u001B[49m\u001B[38;5;241;43m100\u001B[39;49m\u001B[43m)\u001B[49m \u001B[38;5;66;03m# add 100 to ensure no negative values\u001B[39;00m\n\u001B[1;32m     38\u001B[0m     H \u001B[38;5;241m=\u001B[39m model\u001B[38;5;241m.\u001B[39mcomponents_\n\u001B[1;32m     40\u001B[0m     \u001B[38;5;28;01mreturn\u001B[39;00m (W, H)\n",
      "File \u001B[0;32m/usr/local/lib/python3.9/dist-packages/sklearn/decomposition/_nmf.py:1593\u001B[0m, in \u001B[0;36mNMF.fit_transform\u001B[0;34m(self, X, y, W, H)\u001B[0m\n\u001B[1;32m   1588\u001B[0m X \u001B[38;5;241m=\u001B[39m \u001B[38;5;28mself\u001B[39m\u001B[38;5;241m.\u001B[39m_validate_data(\n\u001B[1;32m   1589\u001B[0m     X, accept_sparse\u001B[38;5;241m=\u001B[39m(\u001B[38;5;124m\"\u001B[39m\u001B[38;5;124mcsr\u001B[39m\u001B[38;5;124m\"\u001B[39m, \u001B[38;5;124m\"\u001B[39m\u001B[38;5;124mcsc\u001B[39m\u001B[38;5;124m\"\u001B[39m), dtype\u001B[38;5;241m=\u001B[39m[np\u001B[38;5;241m.\u001B[39mfloat64, np\u001B[38;5;241m.\u001B[39mfloat32]\n\u001B[1;32m   1590\u001B[0m )\n\u001B[1;32m   1592\u001B[0m \u001B[38;5;28;01mwith\u001B[39;00m config_context(assume_finite\u001B[38;5;241m=\u001B[39m\u001B[38;5;28;01mTrue\u001B[39;00m):\n\u001B[0;32m-> 1593\u001B[0m     W, H, n_iter \u001B[38;5;241m=\u001B[39m \u001B[38;5;28;43mself\u001B[39;49m\u001B[38;5;241;43m.\u001B[39;49m\u001B[43m_fit_transform\u001B[49m\u001B[43m(\u001B[49m\u001B[43mX\u001B[49m\u001B[43m,\u001B[49m\u001B[43m \u001B[49m\u001B[43mW\u001B[49m\u001B[38;5;241;43m=\u001B[39;49m\u001B[43mW\u001B[49m\u001B[43m,\u001B[49m\u001B[43m \u001B[49m\u001B[43mH\u001B[49m\u001B[38;5;241;43m=\u001B[39;49m\u001B[43mH\u001B[49m\u001B[43m)\u001B[49m\n\u001B[1;32m   1595\u001B[0m \u001B[38;5;28mself\u001B[39m\u001B[38;5;241m.\u001B[39mreconstruction_err_ \u001B[38;5;241m=\u001B[39m _beta_divergence(\n\u001B[1;32m   1596\u001B[0m     X, W, H, \u001B[38;5;28mself\u001B[39m\u001B[38;5;241m.\u001B[39m_beta_loss, square_root\u001B[38;5;241m=\u001B[39m\u001B[38;5;28;01mTrue\u001B[39;00m\n\u001B[1;32m   1597\u001B[0m )\n\u001B[1;32m   1599\u001B[0m \u001B[38;5;28mself\u001B[39m\u001B[38;5;241m.\u001B[39mn_components_ \u001B[38;5;241m=\u001B[39m H\u001B[38;5;241m.\u001B[39mshape[\u001B[38;5;241m0\u001B[39m]\n",
      "File \u001B[0;32m/usr/local/lib/python3.9/dist-packages/sklearn/decomposition/_nmf.py:1658\u001B[0m, in \u001B[0;36mNMF._fit_transform\u001B[0;34m(self, X, y, W, H, update_H)\u001B[0m\n\u001B[1;32m   1655\u001B[0m l1_reg_W, l1_reg_H, l2_reg_W, l2_reg_H \u001B[38;5;241m=\u001B[39m \u001B[38;5;28mself\u001B[39m\u001B[38;5;241m.\u001B[39m_scale_regularization(X)\n\u001B[1;32m   1657\u001B[0m \u001B[38;5;28;01mif\u001B[39;00m \u001B[38;5;28mself\u001B[39m\u001B[38;5;241m.\u001B[39msolver \u001B[38;5;241m==\u001B[39m \u001B[38;5;124m\"\u001B[39m\u001B[38;5;124mcd\u001B[39m\u001B[38;5;124m\"\u001B[39m:\n\u001B[0;32m-> 1658\u001B[0m     W, H, n_iter \u001B[38;5;241m=\u001B[39m \u001B[43m_fit_coordinate_descent\u001B[49m\u001B[43m(\u001B[49m\n\u001B[1;32m   1659\u001B[0m \u001B[43m        \u001B[49m\u001B[43mX\u001B[49m\u001B[43m,\u001B[49m\n\u001B[1;32m   1660\u001B[0m \u001B[43m        \u001B[49m\u001B[43mW\u001B[49m\u001B[43m,\u001B[49m\n\u001B[1;32m   1661\u001B[0m \u001B[43m        \u001B[49m\u001B[43mH\u001B[49m\u001B[43m,\u001B[49m\n\u001B[1;32m   1662\u001B[0m \u001B[43m        \u001B[49m\u001B[38;5;28;43mself\u001B[39;49m\u001B[38;5;241;43m.\u001B[39;49m\u001B[43mtol\u001B[49m\u001B[43m,\u001B[49m\n\u001B[1;32m   1663\u001B[0m \u001B[43m        \u001B[49m\u001B[38;5;28;43mself\u001B[39;49m\u001B[38;5;241;43m.\u001B[39;49m\u001B[43mmax_iter\u001B[49m\u001B[43m,\u001B[49m\n\u001B[1;32m   1664\u001B[0m \u001B[43m        \u001B[49m\u001B[43ml1_reg_W\u001B[49m\u001B[43m,\u001B[49m\n\u001B[1;32m   1665\u001B[0m \u001B[43m        \u001B[49m\u001B[43ml1_reg_H\u001B[49m\u001B[43m,\u001B[49m\n\u001B[1;32m   1666\u001B[0m \u001B[43m        \u001B[49m\u001B[43ml2_reg_W\u001B[49m\u001B[43m,\u001B[49m\n\u001B[1;32m   1667\u001B[0m \u001B[43m        \u001B[49m\u001B[43ml2_reg_H\u001B[49m\u001B[43m,\u001B[49m\n\u001B[1;32m   1668\u001B[0m \u001B[43m        \u001B[49m\u001B[43mupdate_H\u001B[49m\u001B[38;5;241;43m=\u001B[39;49m\u001B[43mupdate_H\u001B[49m\u001B[43m,\u001B[49m\n\u001B[1;32m   1669\u001B[0m \u001B[43m        \u001B[49m\u001B[43mverbose\u001B[49m\u001B[38;5;241;43m=\u001B[39;49m\u001B[38;5;28;43mself\u001B[39;49m\u001B[38;5;241;43m.\u001B[39;49m\u001B[43mverbose\u001B[49m\u001B[43m,\u001B[49m\n\u001B[1;32m   1670\u001B[0m \u001B[43m        \u001B[49m\u001B[43mshuffle\u001B[49m\u001B[38;5;241;43m=\u001B[39;49m\u001B[38;5;28;43mself\u001B[39;49m\u001B[38;5;241;43m.\u001B[39;49m\u001B[43mshuffle\u001B[49m\u001B[43m,\u001B[49m\n\u001B[1;32m   1671\u001B[0m \u001B[43m        \u001B[49m\u001B[43mrandom_state\u001B[49m\u001B[38;5;241;43m=\u001B[39;49m\u001B[38;5;28;43mself\u001B[39;49m\u001B[38;5;241;43m.\u001B[39;49m\u001B[43mrandom_state\u001B[49m\u001B[43m,\u001B[49m\n\u001B[1;32m   1672\u001B[0m \u001B[43m    \u001B[49m\u001B[43m)\u001B[49m\n\u001B[1;32m   1673\u001B[0m \u001B[38;5;28;01melif\u001B[39;00m \u001B[38;5;28mself\u001B[39m\u001B[38;5;241m.\u001B[39msolver \u001B[38;5;241m==\u001B[39m \u001B[38;5;124m\"\u001B[39m\u001B[38;5;124mmu\u001B[39m\u001B[38;5;124m\"\u001B[39m:\n\u001B[1;32m   1674\u001B[0m     W, H, n_iter, \u001B[38;5;241m*\u001B[39m_ \u001B[38;5;241m=\u001B[39m _fit_multiplicative_update(\n\u001B[1;32m   1675\u001B[0m         X,\n\u001B[1;32m   1676\u001B[0m         W,\n\u001B[0;32m   (...)\u001B[0m\n\u001B[1;32m   1686\u001B[0m         \u001B[38;5;28mself\u001B[39m\u001B[38;5;241m.\u001B[39mverbose,\n\u001B[1;32m   1687\u001B[0m     )\n",
      "File \u001B[0;32m/usr/local/lib/python3.9/dist-packages/sklearn/decomposition/_nmf.py:519\u001B[0m, in \u001B[0;36m_fit_coordinate_descent\u001B[0;34m(X, W, H, tol, max_iter, l1_reg_W, l1_reg_H, l2_reg_W, l2_reg_H, update_H, verbose, shuffle, random_state)\u001B[0m\n\u001B[1;32m    517\u001B[0m \u001B[38;5;66;03m# Update H\u001B[39;00m\n\u001B[1;32m    518\u001B[0m \u001B[38;5;28;01mif\u001B[39;00m update_H:\n\u001B[0;32m--> 519\u001B[0m     violation \u001B[38;5;241m+\u001B[39m\u001B[38;5;241m=\u001B[39m \u001B[43m_update_coordinate_descent\u001B[49m\u001B[43m(\u001B[49m\n\u001B[1;32m    520\u001B[0m \u001B[43m        \u001B[49m\u001B[43mX\u001B[49m\u001B[38;5;241;43m.\u001B[39;49m\u001B[43mT\u001B[49m\u001B[43m,\u001B[49m\u001B[43m \u001B[49m\u001B[43mHt\u001B[49m\u001B[43m,\u001B[49m\u001B[43m \u001B[49m\u001B[43mW\u001B[49m\u001B[43m,\u001B[49m\u001B[43m \u001B[49m\u001B[43ml1_reg_H\u001B[49m\u001B[43m,\u001B[49m\u001B[43m \u001B[49m\u001B[43ml2_reg_H\u001B[49m\u001B[43m,\u001B[49m\u001B[43m \u001B[49m\u001B[43mshuffle\u001B[49m\u001B[43m,\u001B[49m\u001B[43m \u001B[49m\u001B[43mrng\u001B[49m\n\u001B[1;32m    521\u001B[0m \u001B[43m    \u001B[49m\u001B[43m)\u001B[49m\n\u001B[1;32m    523\u001B[0m \u001B[38;5;28;01mif\u001B[39;00m n_iter \u001B[38;5;241m==\u001B[39m \u001B[38;5;241m1\u001B[39m:\n\u001B[1;32m    524\u001B[0m     violation_init \u001B[38;5;241m=\u001B[39m violation\n",
      "File \u001B[0;32m/usr/local/lib/python3.9/dist-packages/sklearn/decomposition/_nmf.py:401\u001B[0m, in \u001B[0;36m_update_coordinate_descent\u001B[0;34m(X, W, Ht, l1_reg, l2_reg, shuffle, random_state)\u001B[0m\n\u001B[1;32m    398\u001B[0m n_components \u001B[38;5;241m=\u001B[39m Ht\u001B[38;5;241m.\u001B[39mshape[\u001B[38;5;241m1\u001B[39m]\n\u001B[1;32m    400\u001B[0m HHt \u001B[38;5;241m=\u001B[39m np\u001B[38;5;241m.\u001B[39mdot(Ht\u001B[38;5;241m.\u001B[39mT, Ht)\n\u001B[0;32m--> 401\u001B[0m XHt \u001B[38;5;241m=\u001B[39m \u001B[43msafe_sparse_dot\u001B[49m\u001B[43m(\u001B[49m\u001B[43mX\u001B[49m\u001B[43m,\u001B[49m\u001B[43m \u001B[49m\u001B[43mHt\u001B[49m\u001B[43m)\u001B[49m\n\u001B[1;32m    403\u001B[0m \u001B[38;5;66;03m# L2 regularization corresponds to increase of the diagonal of HHt\u001B[39;00m\n\u001B[1;32m    404\u001B[0m \u001B[38;5;28;01mif\u001B[39;00m l2_reg \u001B[38;5;241m!=\u001B[39m \u001B[38;5;241m0.0\u001B[39m:\n\u001B[1;32m    405\u001B[0m     \u001B[38;5;66;03m# adds l2_reg only on the diagonal\u001B[39;00m\n",
      "File \u001B[0;32m/usr/local/lib/python3.9/dist-packages/sklearn/utils/extmath.py:152\u001B[0m, in \u001B[0;36msafe_sparse_dot\u001B[0;34m(a, b, dense_output)\u001B[0m\n\u001B[1;32m    150\u001B[0m         ret \u001B[38;5;241m=\u001B[39m np\u001B[38;5;241m.\u001B[39mdot(a, b)\n\u001B[1;32m    151\u001B[0m \u001B[38;5;28;01melse\u001B[39;00m:\n\u001B[0;32m--> 152\u001B[0m     ret \u001B[38;5;241m=\u001B[39m \u001B[43ma\u001B[49m\u001B[43m \u001B[49m\u001B[38;5;241;43m@\u001B[39;49m\u001B[43m \u001B[49m\u001B[43mb\u001B[49m\n\u001B[1;32m    154\u001B[0m \u001B[38;5;28;01mif\u001B[39;00m (\n\u001B[1;32m    155\u001B[0m     sparse\u001B[38;5;241m.\u001B[39missparse(a)\n\u001B[1;32m    156\u001B[0m     \u001B[38;5;129;01mand\u001B[39;00m sparse\u001B[38;5;241m.\u001B[39missparse(b)\n\u001B[1;32m    157\u001B[0m     \u001B[38;5;129;01mand\u001B[39;00m dense_output\n\u001B[1;32m    158\u001B[0m     \u001B[38;5;129;01mand\u001B[39;00m \u001B[38;5;28mhasattr\u001B[39m(ret, \u001B[38;5;124m\"\u001B[39m\u001B[38;5;124mtoarray\u001B[39m\u001B[38;5;124m\"\u001B[39m)\n\u001B[1;32m    159\u001B[0m ):\n\u001B[1;32m    160\u001B[0m     \u001B[38;5;28;01mreturn\u001B[39;00m ret\u001B[38;5;241m.\u001B[39mtoarray()\n",
      "\u001B[0;31mKeyboardInterrupt\u001B[0m: "
     ]
    }
   ],
   "source": [
    "# keep track of best metrics and best model state\n",
    "best_roc_auc = -np.inf\n",
    "best_epoch = -np.inf\n",
    "best_model_name = None\n",
    "best_model_state = None\n",
    "\n",
    "# create the folds for k-folds cross validation\n",
    "k_fold = StratifiedKFold(n_splits=config['num_folds'], shuffle=True, random_state=config['seed'])\n",
    "\n",
    "\n",
    "\n",
    "# iterate through each fold\n",
    "for fold, (trn_idx, val_idx) in enumerate(k_fold.split(train_df, train_df['target'])):\n",
    "    # initialise W&B for storing the metrics in\n",
    "    wandb.init(\n",
    "        project=config['wandb_project'],\n",
    "        config=config,\n",
    "        job_type='train',\n",
    "        name=config['wandb_run_name']\n",
    "    )\n",
    "\n",
    "    # print the current fold\n",
    "    print(f\"{'='*40} Fold: {fold} {'='*40}\")\n",
    "\n",
    "    # get the training and validation samples\n",
    "    train_data = train_df.iloc[trn_idx]\n",
    "    valid_data = train_df.iloc[val_idx]\n",
    "\n",
    "    # initialise the data sampler on the training data\n",
    "    sampler = get_sampler(train_data)\n",
    "\n",
    "    # get the training and validation data loaders\n",
    "    train_loader, valid_loader = get_loaders(train_data, valid_data, sampler)\n",
    "\n",
    "    # iterater through each training epoch\n",
    "    for epoch in range(1, config['epochs'] + 1):\n",
    "        # perform the model training and validation\n",
    "        train(train_loader, model, criterion, optimizer, epoch, scheduler)\n",
    "        valid_predictions, valid_targets = validate(valid_loader, model, criterion, epoch)\n",
    "\n",
    "        # calculate the validation ROC AUC\n",
    "        valid_roc_auc = round(roc_auc_score(valid_targets, valid_predictions), 3)\n",
    "\n",
    "        # keep the metrics and model state for the predictions with the best validation ROC AUC \n",
    "        if valid_roc_auc > best_roc_auc:\n",
    "            best_roc_auc = valid_roc_auc\n",
    "            best_epoch = epoch\n",
    "            best_model_name = f\"{config['model']}_fold_{fold}_epoch_{epoch}_roc_auc_{valid_roc_auc}.pth\"\n",
    "            best_model_state = model.state_dict()\n",
    "\n",
    "    # save the best performing model state\n",
    "    torch.save(best_model_state, os.path.join(models_dir, best_model_name))\n",
    "\n",
    "    # print the best ROC AUC scores and model state for the fold\n",
    "    print(f'Best ROC-AUC in fold {fold} was {best_roc_auc:.4f}')\n",
    "    print(f'Final ROC-AUC in fold {fold} was {valid_roc_auc:.4f}')\n",
    "    print(f'Best model name in fold {fold} was {best_model_name}')"
   ]
  },
  {
   "cell_type": "markdown",
   "id": "11edcb5e",
   "metadata": {
    "pycharm": {
     "name": "#%% md\n"
    }
   },
   "source": [
    "## Model Evaluation\n",
    "\n",
    "Now the best performing model will run against the test data.\n",
    "\n",
    "This gives a good indication of real life model performance, because the model has not seen the test data at this point."
   ]
  },
  {
   "cell_type": "code",
   "execution_count": 28,
   "id": "5e0cc82f-6bf3-42ae-8655-0c249a7f6e3b",
   "metadata": {
    "execution": {
     "iopub.execute_input": "2022-09-04T10:29:34.778322Z",
     "iopub.status.busy": "2022-09-04T10:29:34.778031Z",
     "iopub.status.idle": "2022-09-04T10:29:34.894184Z",
     "shell.execute_reply": "2022-09-04T10:29:34.893551Z",
     "shell.execute_reply.started": "2022-09-04T10:29:34.778304Z"
    },
    "pycharm": {
     "name": "#%%\n"
    }
   },
   "outputs": [],
   "source": [
    "# manually load best model as training run was interrupted\n",
    "best_model_name = 'eca_nfnet_l0_fold_2_epoch_1_roc_auc_0.999.pth'\n",
    "best_model_state = torch.load(os.path.join('models/22-09-03_22-29-37', best_model_name))"
   ]
  },
  {
   "cell_type": "code",
   "execution_count": 24,
   "id": "5eb43510",
   "metadata": {
    "collapsed": false,
    "execution": {
     "iopub.execute_input": "2022-09-04T10:28:24.338254Z",
     "iopub.status.busy": "2022-09-04T10:28:24.337383Z",
     "iopub.status.idle": "2022-09-04T10:28:24.342574Z",
     "shell.execute_reply": "2022-09-04T10:28:24.341799Z",
     "shell.execute_reply.started": "2022-09-04T10:28:24.338223Z"
    },
    "jupyter": {
     "outputs_hidden": false
    },
    "pycharm": {
     "name": "#%%\n"
    }
   },
   "outputs": [],
   "source": [
    "'''\n",
    "Data loader for the test data.\n",
    "'''\n",
    "\n",
    "def get_test_loader(test_data):\n",
    "    test_set = CustomDataset(\n",
    "        images_filepaths=test_data['image_filepath'].values,\n",
    "        targets=test_data['target'].values\n",
    "    )\n",
    "\n",
    "    return DataLoader(\n",
    "        test_set,\n",
    "        batch_size=config['batch_size'],\n",
    "        shuffle=False,\n",
    "        # num_workers=config['num_workers'],\n",
    "        pin_memory=True\n",
    "    )\n",
    "\n",
    "    return test_loader"
   ]
  },
  {
   "cell_type": "markdown",
   "id": "516573e8-3f3c-4b7b-a14e-d9d5f7306277",
   "metadata": {
    "pycharm": {
     "name": "#%% md\n"
    }
   },
   "source": [
    "Run the model agains the test data and log the metrics:"
   ]
  },
  {
   "cell_type": "code",
   "execution_count": 22,
   "id": "6ebd57b3",
   "metadata": {
    "execution": {
     "iopub.execute_input": "2022-09-04T10:19:43.752003Z",
     "iopub.status.busy": "2022-09-04T10:19:43.751443Z",
     "iopub.status.idle": "2022-09-04T10:19:43.758995Z",
     "shell.execute_reply": "2022-09-04T10:19:43.758078Z",
     "shell.execute_reply.started": "2022-09-04T10:19:43.751983Z"
    },
    "pycharm": {
     "name": "#%%\n"
    }
   },
   "outputs": [],
   "source": [
    "'''\n",
    "Function for testing a model against the test dataset.\n",
    "\n",
    "It returns the model predictions for the ground truth labels.\n",
    "'''\n",
    "def test_model(model_state):\n",
    "    # keep track of the predictions and ground truth labels\n",
    "    final_targets = []\n",
    "    final_outputs = []\n",
    "\n",
    "    # initialise the model and place it in evaluation mode\n",
    "    model = EcaNFNet()\n",
    "    model.load_state_dict(model_state)\n",
    "    model.eval()\n",
    "\n",
    "    # initialise the metric monitor for reporting progress\n",
    "    metric_monitor = MetricMonitor()\n",
    "    \n",
    "    # initialise the test data loader with the test data\n",
    "    test_loader = get_test_loader(test_df)\n",
    "    \n",
    "    # create the stream for iterating through the test data batch\n",
    "    stream = tqdm(enumerate(test_loader), total=len(test_loader))\n",
    "\n",
    "    with torch.no_grad(): # don't perform any back propogation as we only want to evaluate\n",
    "        for i, (images, target) in stream: # iterate through each test data batch\n",
    "            images = images.to('cpu', non_blocking=True)\n",
    "            target = target.to('cpu', non_blocking=True).float().view(-1, 1)\n",
    "\n",
    "            # make predictions\n",
    "            output = model(images)\n",
    "\n",
    "            # calculate metric performance metrics\n",
    "            loss = criterion(output, target)\n",
    "            accuracy = accuracy_score(target.cpu(), (output.cpu().detach().numpy() > 0), normalize=False)\n",
    "            roc_auc = get_roc_auc(output, target)\n",
    "\n",
    "            # report the metrics to the monitor for displaying model progress\n",
    "            metric_monitor.update('Loss', loss.item())\n",
    "            metric_monitor.update('ROC AUC', roc_auc)\n",
    "\n",
    "            # report the metrics the W&B web API\n",
    "            wandb.log({'Test Loss': loss.item(), 'Test Accuracy': accuracy, 'Test ROC AUC': roc_auc})\n",
    "\n",
    "            # print the current model progress\n",
    "            stream.set_description('Test {metric_monitor}'.format(metric_monitor=metric_monitor))\n",
    "\n",
    "            # get the ground truth labels and predictions so they can be returned\n",
    "            targets = target.detach().cpu().numpy().tolist()\n",
    "            outputs = output.detach().cpu().numpy().tolist()\n",
    "\n",
    "            final_targets.extend(targets)\n",
    "            final_outputs.extend(outputs)\n",
    "\n",
    "    # return predictions and ground truth labels\n",
    "    return final_outputs, final_targets"
   ]
  },
  {
   "cell_type": "markdown",
   "id": "cb2a414c-88d6-421b-9bc4-69e5a8abc6ce",
   "metadata": {
    "pycharm": {
     "name": "#%% md\n"
    }
   },
   "source": [
    "Run the model against the test set:"
   ]
  },
  {
   "cell_type": "code",
   "execution_count": 31,
   "id": "7bc2aced",
   "metadata": {
    "execution": {
     "iopub.execute_input": "2022-09-04T10:31:33.129445Z",
     "iopub.status.busy": "2022-09-04T10:31:33.128689Z",
     "iopub.status.idle": "2022-09-04T10:32:11.283229Z",
     "shell.execute_reply": "2022-09-04T10:32:11.282789Z",
     "shell.execute_reply.started": "2022-09-04T10:31:33.129415Z"
    },
    "pycharm": {
     "name": "#%%\n"
    }
   },
   "outputs": [
    {
     "name": "stderr",
     "output_type": "stream",
     "text": [
      "Test Loss: 0.945 | ROC AUC: 0.506: 100%|██████████| 6/6 [00:37<00:00,  6.29s/it]\n"
     ]
    }
   ],
   "source": [
    "test_outputs, test_targets = test_model(best_model_state)"
   ]
  },
  {
   "cell_type": "markdown",
   "id": "79be979a-bf3b-470d-ac48-e4d797317963",
   "metadata": {
    "pycharm": {
     "name": "#%% md\n"
    }
   },
   "source": [
    "Create a dataframe with the predictions and ground truch labels to help make the result evaluation easier:"
   ]
  },
  {
   "cell_type": "code",
   "execution_count": 32,
   "id": "a44d0365",
   "metadata": {
    "collapsed": false,
    "execution": {
     "iopub.execute_input": "2022-09-04T10:32:16.711292Z",
     "iopub.status.busy": "2022-09-04T10:32:16.710460Z",
     "iopub.status.idle": "2022-09-04T10:32:16.729691Z",
     "shell.execute_reply": "2022-09-04T10:32:16.729057Z",
     "shell.execute_reply.started": "2022-09-04T10:32:16.711231Z"
    },
    "jupyter": {
     "outputs_hidden": false
    },
    "pycharm": {
     "name": "#%%\n"
    }
   },
   "outputs": [],
   "source": [
    "test_results_df = pd.DataFrame([test_targets, test_outputs])\n",
    "test_results_df = test_results_df.transpose()\n",
    "test_results_df.columns = ['label', 'prediction']\n",
    "\n",
    "test_results_df['label'] = test_results_df['label'].apply(lambda x: x[0])\n",
    "test_results_df['prediction'] = test_results_df['prediction'].apply(lambda x: x[0])\n",
    "\n",
    "# Use threshold of > 0.5 for a positive prediction, else it is a negative prediction\n",
    "test_results_df['prediction'] = test_results_df['prediction'].apply(lambda x: 1.0 if x > 0.5 else 0)"
   ]
  },
  {
   "cell_type": "markdown",
   "id": "ce5d59e3-df6b-46aa-b78f-a8f8a7ed3656",
   "metadata": {
    "pycharm": {
     "name": "#%% md\n"
    }
   },
   "source": [
    "Display a confusion matrix for an overview of how well the model predicted each class:"
   ]
  },
  {
   "cell_type": "code",
   "execution_count": 33,
   "id": "82b90718",
   "metadata": {
    "collapsed": false,
    "execution": {
     "iopub.execute_input": "2022-09-04T10:32:19.542736Z",
     "iopub.status.busy": "2022-09-04T10:32:19.541961Z",
     "iopub.status.idle": "2022-09-04T10:32:19.561561Z",
     "shell.execute_reply": "2022-09-04T10:32:19.561191Z",
     "shell.execute_reply.started": "2022-09-04T10:32:19.542714Z"
    },
    "jupyter": {
     "outputs_hidden": false
    },
    "pycharm": {
     "name": "#%%\n"
    }
   },
   "outputs": [
    {
     "data": {
      "text/html": [
       "<div>\n",
       "<style scoped>\n",
       "    .dataframe tbody tr th:only-of-type {\n",
       "        vertical-align: middle;\n",
       "    }\n",
       "\n",
       "    .dataframe tbody tr th {\n",
       "        vertical-align: top;\n",
       "    }\n",
       "\n",
       "    .dataframe thead th {\n",
       "        text-align: right;\n",
       "    }\n",
       "</style>\n",
       "<table border=\"1\" class=\"dataframe\">\n",
       "  <thead>\n",
       "    <tr style=\"text-align: right;\">\n",
       "      <th>label</th>\n",
       "      <th>0.0</th>\n",
       "      <th>1.0</th>\n",
       "    </tr>\n",
       "    <tr>\n",
       "      <th>prediction</th>\n",
       "      <th></th>\n",
       "      <th></th>\n",
       "    </tr>\n",
       "  </thead>\n",
       "  <tbody>\n",
       "    <tr>\n",
       "      <th>0.0</th>\n",
       "      <td>189</td>\n",
       "      <td>176</td>\n",
       "    </tr>\n",
       "    <tr>\n",
       "      <th>1.0</th>\n",
       "      <td>99</td>\n",
       "      <td>131</td>\n",
       "    </tr>\n",
       "  </tbody>\n",
       "</table>\n",
       "</div>"
      ],
      "text/plain": [
       "label       0.0  1.0\n",
       "prediction          \n",
       "0.0         189  176\n",
       "1.0          99  131"
      ]
     },
     "execution_count": 33,
     "metadata": {},
     "output_type": "execute_result"
    }
   ],
   "source": [
    "pd.crosstab(test_results_df['prediction'], test_results_df['label'])"
   ]
  },
  {
   "cell_type": "markdown",
   "id": "36d8e458-3b23-4204-ad31-5b5aa053f010",
   "metadata": {
    "pycharm": {
     "name": "#%% md\n"
    }
   },
   "source": [
    "Display the standard metrics for the test results:"
   ]
  },
  {
   "cell_type": "code",
   "execution_count": 34,
   "id": "dae8a35d",
   "metadata": {
    "collapsed": false,
    "execution": {
     "iopub.execute_input": "2022-09-04T10:32:33.381168Z",
     "iopub.status.busy": "2022-09-04T10:32:33.380015Z",
     "iopub.status.idle": "2022-09-04T10:32:33.391618Z",
     "shell.execute_reply": "2022-09-04T10:32:33.391074Z",
     "shell.execute_reply.started": "2022-09-04T10:32:33.381108Z"
    },
    "jupyter": {
     "outputs_hidden": false
    },
    "pycharm": {
     "name": "#%%\n"
    }
   },
   "outputs": [
    {
     "name": "stdout",
     "output_type": "stream",
     "text": [
      "              precision    recall  f1-score   support\n",
      "\n",
      "         0.0       0.66      0.52      0.58       365\n",
      "         1.0       0.43      0.57      0.49       230\n",
      "\n",
      "    accuracy                           0.54       595\n",
      "   macro avg       0.54      0.54      0.53       595\n",
      "weighted avg       0.57      0.54      0.54       595\n",
      "\n"
     ]
    }
   ],
   "source": [
    "print(classification_report(test_results_df['prediction'], test_results_df['label']))"
   ]
  }
 ],
 "metadata": {
  "kernelspec": {
   "display_name": "Python 3 (ipykernel)",
   "language": "python",
   "name": "python3"
  },
  "language_info": {
   "codemirror_mode": {
    "name": "ipython",
    "version": 3
   },
   "file_extension": ".py",
   "mimetype": "text/x-python",
   "name": "python",
   "nbconvert_exporter": "python",
   "pygments_lexer": "ipython3",
   "version": "3.9.13"
  }
 },
 "nbformat": 4,
 "nbformat_minor": 5
}