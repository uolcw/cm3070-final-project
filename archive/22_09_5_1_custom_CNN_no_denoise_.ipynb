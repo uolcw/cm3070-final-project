{
  "cells": [
    {
      "cell_type": "markdown",
      "id": "dffa863f-8872-4bf0-b498-2aaad36ba0a0",
      "metadata": {
        "pycharm": {
          "name": "#%% md\n"
        },
        "id": "dffa863f-8872-4bf0-b498-2aaad36ba0a0"
      },
      "source": [
        "# CNN built from scratch to solve SETI Breakthrough Listen Kaggle challenge\n",
        "\n",
        "This notebook aims to use a handcrafted CNN deep learning model to solve the SETI Breakthrough Listen Kaggle challenge:\n",
        "-  https://www.kaggle.com/competitions/seti-breakthrough-listen"
      ]
    },
    {
      "cell_type": "markdown",
      "source": [
        "## Install Python Packages"
      ],
      "metadata": {
        "collapsed": false,
        "pycharm": {
          "name": "#%% md\n"
        },
        "id": "hvbYd3WP9NNk"
      },
      "id": "hvbYd3WP9NNk"
    },
    {
      "cell_type": "code",
      "execution_count": 7,
      "id": "15797265-4be7-4f48-8cbd-861d1b7b9696",
      "metadata": {
        "execution": {
          "iopub.execute_input": "2022-09-02T17:05:30.748587Z",
          "iopub.status.busy": "2022-09-02T17:05:30.747791Z",
          "iopub.status.idle": "2022-09-02T17:05:41.371813Z",
          "shell.execute_reply": "2022-09-02T17:05:41.371140Z",
          "shell.execute_reply.started": "2022-09-02T17:05:30.748524Z"
        },
        "pycharm": {
          "name": "#%%\n"
        },
        "colab": {
          "base_uri": "https://localhost:8080/"
        },
        "id": "15797265-4be7-4f48-8cbd-861d1b7b9696",
        "outputId": "0eea003f-7e5a-441b-f81f-f9120f47069c"
      },
      "outputs": [
        {
          "output_type": "stream",
          "name": "stdout",
          "text": [
            "Looking in indexes: https://pypi.org/simple, https://us-python.pkg.dev/colab-wheels/public/simple/\n",
            "Requirement already satisfied: albumentations in /usr/local/lib/python3.7/dist-packages (1.2.1)\n",
            "Requirement already satisfied: PyYAML in /usr/local/lib/python3.7/dist-packages (from albumentations) (6.0)\n",
            "Requirement already satisfied: opencv-python-headless>=4.1.1 in /usr/local/lib/python3.7/dist-packages (from albumentations) (4.6.0.66)\n",
            "Requirement already satisfied: scipy in /usr/local/lib/python3.7/dist-packages (from albumentations) (1.7.3)\n",
            "Requirement already satisfied: numpy>=1.11.1 in /usr/local/lib/python3.7/dist-packages (from albumentations) (1.21.6)\n",
            "Requirement already satisfied: scikit-image>=0.16.1 in /usr/local/lib/python3.7/dist-packages (from albumentations) (0.18.3)\n",
            "Requirement already satisfied: qudida>=0.0.4 in /usr/local/lib/python3.7/dist-packages (from albumentations) (0.0.4)\n",
            "Requirement already satisfied: typing-extensions in /usr/local/lib/python3.7/dist-packages (from qudida>=0.0.4->albumentations) (4.1.1)\n",
            "Requirement already satisfied: scikit-learn>=0.19.1 in /usr/local/lib/python3.7/dist-packages (from qudida>=0.0.4->albumentations) (1.0.2)\n",
            "Requirement already satisfied: tifffile>=2019.7.26 in /usr/local/lib/python3.7/dist-packages (from scikit-image>=0.16.1->albumentations) (2021.11.2)\n",
            "Requirement already satisfied: PyWavelets>=1.1.1 in /usr/local/lib/python3.7/dist-packages (from scikit-image>=0.16.1->albumentations) (1.3.0)\n",
            "Requirement already satisfied: pillow!=7.1.0,!=7.1.1,>=4.3.0 in /usr/local/lib/python3.7/dist-packages (from scikit-image>=0.16.1->albumentations) (7.1.2)\n",
            "Requirement already satisfied: networkx>=2.0 in /usr/local/lib/python3.7/dist-packages (from scikit-image>=0.16.1->albumentations) (2.6.3)\n",
            "Requirement already satisfied: imageio>=2.3.0 in /usr/local/lib/python3.7/dist-packages (from scikit-image>=0.16.1->albumentations) (2.9.0)\n",
            "Requirement already satisfied: matplotlib!=3.0.0,>=2.0.0 in /usr/local/lib/python3.7/dist-packages (from scikit-image>=0.16.1->albumentations) (3.2.2)\n",
            "Requirement already satisfied: pyparsing!=2.0.4,!=2.1.2,!=2.1.6,>=2.0.1 in /usr/local/lib/python3.7/dist-packages (from matplotlib!=3.0.0,>=2.0.0->scikit-image>=0.16.1->albumentations) (3.0.9)\n",
            "Requirement already satisfied: cycler>=0.10 in /usr/local/lib/python3.7/dist-packages (from matplotlib!=3.0.0,>=2.0.0->scikit-image>=0.16.1->albumentations) (0.11.0)\n",
            "Requirement already satisfied: python-dateutil>=2.1 in /usr/local/lib/python3.7/dist-packages (from matplotlib!=3.0.0,>=2.0.0->scikit-image>=0.16.1->albumentations) (2.8.2)\n",
            "Requirement already satisfied: kiwisolver>=1.0.1 in /usr/local/lib/python3.7/dist-packages (from matplotlib!=3.0.0,>=2.0.0->scikit-image>=0.16.1->albumentations) (1.4.4)\n",
            "Requirement already satisfied: six>=1.5 in /usr/local/lib/python3.7/dist-packages (from python-dateutil>=2.1->matplotlib!=3.0.0,>=2.0.0->scikit-image>=0.16.1->albumentations) (1.15.0)\n",
            "Requirement already satisfied: threadpoolctl>=2.0.0 in /usr/local/lib/python3.7/dist-packages (from scikit-learn>=0.19.1->qudida>=0.0.4->albumentations) (3.1.0)\n",
            "Requirement already satisfied: joblib>=0.11 in /usr/local/lib/python3.7/dist-packages (from scikit-learn>=0.19.1->qudida>=0.0.4->albumentations) (1.1.0)\n",
            "Looking in indexes: https://pypi.org/simple, https://us-python.pkg.dev/colab-wheels/public/simple/\n",
            "Requirement already satisfied: torchsummary in /usr/local/lib/python3.7/dist-packages (1.5.1)\n"
          ]
        }
      ],
      "source": [
        "# Used for transforming images\n",
        "!pip install albumentations\n",
        "\n",
        "# Installs CUDA version of PyTorch, allowing to run on a GPU\n",
        "# !pip install torch==1.11.0+cu113 torchvision==0.12.0+cu113 torchaudio==0.11.0 --extra-index-url https://download.pytorch.org/whl/cu113\n",
        "\n",
        "# Used for displaying model summaries\n",
        "!pip install torchsummary"
      ]
    },
    {
      "cell_type": "markdown",
      "source": [
        "## Import Python Packages"
      ],
      "metadata": {
        "collapsed": false,
        "pycharm": {
          "name": "#%% md\n"
        },
        "id": "iNOfwA3X9NNn"
      },
      "id": "iNOfwA3X9NNn"
    },
    {
      "cell_type": "code",
      "execution_count": 8,
      "id": "25b60974-9c19-42ce-bd33-8f6a6539de7b",
      "metadata": {
        "execution": {
          "iopub.execute_input": "2022-09-02T17:05:41.373237Z",
          "iopub.status.busy": "2022-09-02T17:05:41.373046Z",
          "iopub.status.idle": "2022-09-02T17:05:43.544176Z",
          "shell.execute_reply": "2022-09-02T17:05:43.543642Z",
          "shell.execute_reply.started": "2022-09-02T17:05:41.373219Z"
        },
        "pycharm": {
          "name": "#%%\n"
        },
        "id": "25b60974-9c19-42ce-bd33-8f6a6539de7b"
      },
      "outputs": [],
      "source": [
        "# Utility packages\n",
        "import os\n",
        "import random\n",
        "from datetime import datetime\n",
        "import time\n",
        "import zipfile\n",
        "from io import BytesIO\n",
        "\n",
        "# PyTorch packages for training a model\n",
        "import torch\n",
        "import torch.nn as nn\n",
        "from torch.utils.data import Dataset, DataLoader, WeightedRandomSampler\n",
        "from torch.optim.lr_scheduler import CosineAnnealingLR\n",
        "\n",
        "# Utility package used to visualise CNN filters\n",
        "from torchvision import utils\n",
        "\n",
        "# Scikit learn packages\n",
        "from sklearn.decomposition import NMF # Used to factorise an image into two matrices\n",
        "from sklearn.metrics import roc_auc_score, classification_report # metric reporting\n",
        "\n",
        "# OpenCV package used to transform images\n",
        "import cv2\n",
        "\n",
        "# Packages to help with data wrangling\n",
        "import numpy as np\n",
        "import pandas as pd\n",
        "\n",
        "# Used to plot graphs\n",
        "from matplotlib import pyplot as plt\n",
        "\n",
        "# Used to transform images\n",
        "import albumentations\n",
        "from albumentations.pytorch.transforms import ToTensorV2"
      ]
    },
    {
      "cell_type": "markdown",
      "source": [
        "## Global Configuration\n",
        "\n",
        "A global configuration object, allowing important variables to be easily changed and referenced."
      ],
      "metadata": {
        "collapsed": false,
        "pycharm": {
          "name": "#%% md\n"
        },
        "id": "b8bAtK1S9NNp"
      },
      "id": "b8bAtK1S9NNp"
    },
    {
      "cell_type": "code",
      "execution_count": 9,
      "id": "f7fee657-5f4b-497a-8fe3-df9314d21334",
      "metadata": {
        "execution": {
          "iopub.execute_input": "2022-09-02T17:05:43.545194Z",
          "iopub.status.busy": "2022-09-02T17:05:43.544900Z",
          "iopub.status.idle": "2022-09-02T17:05:43.548601Z",
          "shell.execute_reply": "2022-09-02T17:05:43.548125Z",
          "shell.execute_reply.started": "2022-09-02T17:05:43.545177Z"
        },
        "pycharm": {
          "name": "#%%\n"
        },
        "id": "f7fee657-5f4b-497a-8fe3-df9314d21334"
      },
      "outputs": [],
      "source": [
        "config = {\n",
        "    'num_workers': 4,\n",
        "    'model': 'eca_nfnet_l0',\n",
        "    'device': 'cuda',\n",
        "    'image_size': 224,\n",
        "    'input_channels': 1,\n",
        "    'output_features': 1,\n",
        "    'seed': 42,\n",
        "    'target_size': 1,\n",
        "    'T_max': 10,\n",
        "    'min_lr': 1e-6,\n",
        "    'lr': 1e-6,\n",
        "    'weight_decay': 1e-4,\n",
        "    'batch_size': 50,\n",
        "    'epochs': 50,\n",
        "    'num_folds': 1\n",
        "}"
      ]
    },
    {
      "cell_type": "markdown",
      "source": [
        "## Random Seed Initalisation\n",
        "\n",
        "Sets the seeds for random functions to fixed values.\n",
        "\n",
        "This allows the results in this notebook to be reproducible."
      ],
      "metadata": {
        "collapsed": false,
        "pycharm": {
          "name": "#%% md\n"
        },
        "id": "MByCWuya9NNr"
      },
      "id": "MByCWuya9NNr"
    },
    {
      "cell_type": "code",
      "execution_count": 10,
      "outputs": [],
      "source": [
        "def set_seeds(seed=42):\n",
        "    random.seed(seed)\n",
        "    os.environ['PYTHONHASHSEED'] = str(seed)\n",
        "    np.random.seed(seed)\n",
        "    torch.manual_seed(seed)\n",
        "    torch.cuda.manual_seed(seed)\n",
        "    torch.backends.cudnn.deterministic = True\n",
        "\n",
        "\n",
        "\n",
        "set_seeds(seed=config['seed'])"
      ],
      "metadata": {
        "pycharm": {
          "name": "#%%\n"
        },
        "id": "m0S6fcdH9NNt"
      },
      "id": "m0S6fcdH9NNt"
    },
    {
      "cell_type": "markdown",
      "id": "4e7ab849-07f8-4129-86e5-cd32aeb0da38",
      "metadata": {
        "pycharm": {
          "name": "#%% md\n"
        },
        "id": "4e7ab849-07f8-4129-86e5-cd32aeb0da38"
      },
      "source": [
        "## Data Loading\n",
        "\n",
        "The dataset labels are loaded from file.\n",
        "\n",
        "These are then stored in a Pandas DataFrame for convenience."
      ]
    },
    {
      "cell_type": "code",
      "execution_count": 11,
      "id": "3f714664-3223-4271-a71b-be2d4b5e1ab6",
      "metadata": {
        "execution": {
          "iopub.execute_input": "2022-09-02T17:05:43.554828Z",
          "iopub.status.busy": "2022-09-02T17:05:43.554676Z",
          "iopub.status.idle": "2022-09-02T17:05:58.574584Z",
          "shell.execute_reply": "2022-09-02T17:05:58.573993Z",
          "shell.execute_reply.started": "2022-09-02T17:05:43.554815Z"
        },
        "pycharm": {
          "name": "#%%\n"
        },
        "id": "3f714664-3223-4271-a71b-be2d4b5e1ab6"
      },
      "outputs": [],
      "source": [
        "# # build the path to the labels file\n",
        "# data_dir = r'D:\\UoL\\Level 6\\CM3070 - Final Project\\SETI Signal Detection\\Data\\train'\n",
        "# labels_filepath = os.path.join(data_dir, '500_balanced_labels.npy')\n",
        "\n",
        "# # open as a Numpy pickle file\n",
        "# with open(labels_filepath, 'rb') as f:\n",
        "#     initial_data = np.load(f, allow_pickle=True)\n",
        "\n",
        "# # load into a Pandas dataframe\n",
        "# initial_data_df = pd.DataFrame(initial_data, columns=['id', 'target', 'image_filepath']).convert_dtypes()\n",
        "# initial_data_df['target'] = initial_data_df['target'].astype('int')\n",
        "\n",
        "'''\n",
        "Extract the data samples from a zip file and return in a dictionary object.\n",
        "'''\n",
        "def extract_zip(input_zip):\n",
        "    zip_file = zipfile.ZipFile(input_zip)\n",
        "\n",
        "    return {name: zip_file.read(name) for name in zip_file.namelist()}\n",
        "\n",
        "\n",
        "\n",
        "# Extract the data samples from a zip file.\n",
        "dataset = extract_zip('/content/drive/MyDrive/Final Project/2000 dataset/2000.zip')\n",
        "\n",
        "# Load the data samples labels.\n",
        "data_samples = np.load(BytesIO(dataset['2000/' + '2000_balanced_labels.npy']), allow_pickle=True)\n",
        "\n",
        "# Load the data samples labels in a dataframe for convenience.\n",
        "initial_data_df = pd.DataFrame(data_samples, columns=['id', 'target', 'image_filepath']).convert_dtypes()\n",
        "initial_data_df['target'] = initial_data_df['target'].astype('int')"
      ]
    },
    {
      "cell_type": "code",
      "execution_count": 12,
      "id": "d84af663",
      "metadata": {
        "execution": {
          "iopub.execute_input": "2022-09-02T17:05:58.575712Z",
          "iopub.status.busy": "2022-09-02T17:05:58.575529Z",
          "iopub.status.idle": "2022-09-02T17:05:58.579636Z",
          "shell.execute_reply": "2022-09-02T17:05:58.579180Z",
          "shell.execute_reply.started": "2022-09-02T17:05:58.575697Z"
        },
        "jupyter": {
          "outputs_hidden": false
        },
        "pycharm": {
          "name": "#%%\n"
        },
        "id": "d84af663"
      },
      "outputs": [],
      "source": [
        "initial_data_df = initial_data_df.sample(frac=1).reset_index(drop=True)"
      ]
    },
    {
      "cell_type": "markdown",
      "source": [
        "We can see that the training dataset consists of the following fields:\n",
        "\n",
        "- `id`: The ID of the data sample.\n",
        "- `target`: The ground truth label sample.\n",
        "- `image_filepath`: The location of the image file on disk."
      ],
      "metadata": {
        "collapsed": false,
        "pycharm": {
          "name": "#%% md\n"
        },
        "id": "FRyMgxjC9NNx"
      },
      "id": "FRyMgxjC9NNx"
    },
    {
      "cell_type": "code",
      "execution_count": 13,
      "id": "e7f8ad26-0de7-42c2-8684-c1958d015745",
      "metadata": {
        "execution": {
          "iopub.execute_input": "2022-09-02T17:05:58.580525Z",
          "iopub.status.busy": "2022-09-02T17:05:58.580372Z",
          "iopub.status.idle": "2022-09-02T17:05:58.588217Z",
          "shell.execute_reply": "2022-09-02T17:05:58.587773Z",
          "shell.execute_reply.started": "2022-09-02T17:05:58.580511Z"
        },
        "pycharm": {
          "name": "#%%\n"
        },
        "colab": {
          "base_uri": "https://localhost:8080/"
        },
        "id": "e7f8ad26-0de7-42c2-8684-c1958d015745",
        "outputId": "7aaa863d-0509-4f5b-8af8-1519fd7cb2ac"
      },
      "outputs": [
        {
          "output_type": "stream",
          "name": "stdout",
          "text": [
            "<class 'pandas.core.frame.DataFrame'>\n",
            "RangeIndex: 2000 entries, 0 to 1999\n",
            "Data columns (total 3 columns):\n",
            " #   Column          Non-Null Count  Dtype \n",
            "---  ------          --------------  ----- \n",
            " 0   id              2000 non-null   string\n",
            " 1   target          2000 non-null   int64 \n",
            " 2   image_filepath  2000 non-null   string\n",
            "dtypes: int64(1), string(2)\n",
            "memory usage: 47.0 KB\n"
          ]
        }
      ],
      "source": [
        "initial_data_df.info()"
      ]
    },
    {
      "cell_type": "markdown",
      "id": "cb30f8d7-098a-4035-a6a4-ce4cad9df526",
      "metadata": {
        "pycharm": {
          "name": "#%% md\n"
        },
        "id": "cb30f8d7-098a-4035-a6a4-ce4cad9df526"
      },
      "source": [
        "Split the data into 70% train and 30% test:"
      ]
    },
    {
      "cell_type": "code",
      "execution_count": 14,
      "id": "1a7aee7e-c61c-4864-b44c-ead695da5486",
      "metadata": {
        "execution": {
          "iopub.execute_input": "2022-09-02T17:05:58.589226Z",
          "iopub.status.busy": "2022-09-02T17:05:58.588760Z",
          "iopub.status.idle": "2022-09-02T17:05:58.592631Z",
          "shell.execute_reply": "2022-09-02T17:05:58.592183Z",
          "shell.execute_reply.started": "2022-09-02T17:05:58.589212Z"
        },
        "pycharm": {
          "name": "#%%\n"
        },
        "id": "1a7aee7e-c61c-4864-b44c-ead695da5486"
      },
      "outputs": [],
      "source": [
        "data_split_mask = np.random.rand(len(initial_data_df)) < 0.7\n",
        "\n",
        "train_df = initial_data_df[data_split_mask]\n",
        "test_df = initial_data_df[~data_split_mask]"
      ]
    },
    {
      "cell_type": "markdown",
      "id": "249e10f3-524f-4606-a7d4-1d2604adf3c9",
      "metadata": {
        "pycharm": {
          "name": "#%% md\n"
        },
        "id": "249e10f3-524f-4606-a7d4-1d2604adf3c9"
      },
      "source": [
        "## Image Utility Functions\n",
        "\n",
        "Define a set of utility functions for manipulating images."
      ]
    },
    {
      "cell_type": "code",
      "execution_count": 15,
      "id": "da8574b7",
      "metadata": {
        "execution": {
          "iopub.execute_input": "2022-09-02T17:05:58.593300Z",
          "iopub.status.busy": "2022-09-02T17:05:58.593154Z",
          "iopub.status.idle": "2022-09-02T17:05:58.598868Z",
          "shell.execute_reply": "2022-09-02T17:05:58.598429Z",
          "shell.execute_reply.started": "2022-09-02T17:05:58.593288Z"
        },
        "jupyter": {
          "outputs_hidden": false
        },
        "pycharm": {
          "name": "#%%\n"
        },
        "id": "da8574b7"
      },
      "outputs": [],
      "source": [
        "'''\n",
        "Resizes an image to the specified size.\n",
        "'''\n",
        "def resize_image(image):\n",
        "    return cv2.resize(image, dsize=(config['image_size'], config['image_size']), interpolation=cv2.INTER_CUBIC)\n",
        "\n",
        "\n",
        "\n",
        "'''\n",
        "Plots an image.\n",
        "'''\n",
        "def plot_image(image):\n",
        "    plt.figure(figsize = (20, 6))\n",
        "    plt.imshow(image, aspect='auto')\n",
        "    plt.show()\n",
        "\n",
        "\n",
        "\n",
        "\n",
        "'''\n",
        "Min-max normalises the image pixel values (between 0 and 1).\n",
        "'''\n",
        "def normalise_image(image):\n",
        "    image_min = image.min()\n",
        "    image_max = image.max()\n",
        "\n",
        "    return (image - image_min) / (image_max - image_min)\n",
        "\n",
        "\n",
        "\n",
        "'''\n",
        "Factorises an image into two matrices, and returns them.\n",
        "Used to help remove image background noise.\n",
        "'''\n",
        "def get_decomposition_matrices(image):\n",
        "    model = NMF(n_components=2, init='random', random_state=0)\n",
        "    W = model.fit_transform(image + 100) # add 100 to ensure no negative values\n",
        "    H = model.components_\n",
        "\n",
        "    return (W, H)\n",
        "\n",
        "\n",
        "\n",
        "'''\n",
        "Removes the background noise from a set of sample images.\n",
        "\n",
        "Based on: https://www.kaggle.com/competitions/seti-breakthrough-listen/discussion/245950\n",
        "'''\n",
        "def get_denoised_image(sample_images):\n",
        "    combined_on_images = None\n",
        "    combined_off_images = None\n",
        "    combined_denoised_image = None\n",
        "\n",
        "    for i in range(0, len(sample_images), 2):\n",
        "        on_target_image = sample_images[i] # Get on target image\n",
        "        off_target_image = sample_images[i+1] # Get off target image\n",
        "\n",
        "        on_W, on_H = get_decomposition_matrices(on_target_image) # Decompose on target images into factor matrices\n",
        "        off_W, off_H = get_decomposition_matrices(off_target_image) # Decomponse off target images into factor matrices\n",
        "\n",
        "        # Get noise approximation by multiplying a factor matrix from each of the on target, and off target images.\n",
        "        # Then subtract the approximated noise from the on target images\n",
        "        denoised_image = normalise_image(on_target_image - np.matmul(on_W, off_H))\n",
        "\n",
        "        # Consolidate the on target, off target and denoised images.\n",
        "        combined_on_images = on_target_image if combined_on_images is None else combined_on_images + on_target_image\n",
        "        combined_off_images = off_target_image if combined_off_images is None else combined_off_images + off_target_image\n",
        "        combined_denoised_image = denoised_image if combined_denoised_image is None else combined_denoised_image + denoised_image\n",
        "\n",
        "    # Return the denoised image\n",
        "    return combined_denoised_image\n",
        "\n",
        "\n",
        "\n",
        "'''\n",
        "Combines normalised on target images into a single one and returns it.\n",
        "'''\n",
        "def get_combined_image(sample_images):\n",
        "  combined_image = None\n",
        "\n",
        "  for i in range(0, len(sample_images), 2):\n",
        "    on_target_image = normalise_image(sample_images[i])\n",
        "\n",
        "    combined_image = on_target_image if combined_image is None else combined_image + on_target_image\n",
        "\n",
        "  return combined_image"
      ]
    },
    {
      "cell_type": "markdown",
      "source": [
        "## Custom Dataset\n",
        "\n",
        "An implementation of the PyTorch `Dataset` class.\n",
        "\n",
        "Used by the model to access a data sample."
      ],
      "metadata": {
        "collapsed": false,
        "pycharm": {
          "name": "#%% md\n"
        },
        "id": "cqLrMsq19NN0"
      },
      "id": "cqLrMsq19NN0"
    },
    {
      "cell_type": "code",
      "execution_count": 16,
      "id": "e83f521d-c146-492a-afad-4b13fbf2ce8f",
      "metadata": {
        "execution": {
          "iopub.execute_input": "2022-09-02T17:05:58.601047Z",
          "iopub.status.busy": "2022-09-02T17:05:58.600723Z",
          "iopub.status.idle": "2022-09-02T17:05:58.605262Z",
          "shell.execute_reply": "2022-09-02T17:05:58.604839Z",
          "shell.execute_reply.started": "2022-09-02T17:05:58.601033Z"
        },
        "pycharm": {
          "name": "#%%\n"
        },
        "tags": [],
        "id": "e83f521d-c146-492a-afad-4b13fbf2ce8f"
      },
      "outputs": [],
      "source": [
        "class CustomDataset(Dataset):\n",
        "    def __init__(self, images_filepaths, targets, transform=None):\n",
        "        self.images_filepaths = images_filepaths\n",
        "        self.targets = targets\n",
        "        self.transform = transform\n",
        "\n",
        "    def __len__(self):\n",
        "        return len(self.images_filepaths)\n",
        "\n",
        "    def __getitem__(self, idx):\n",
        "        # the sample image is loaded from a Numpy pickle file on disk\n",
        "        # images_filepath = self.images_filepaths[idx]\n",
        "        # images = np.load(images_filepath).astype(np.float32)\n",
        "        \n",
        "        images_filepath = self.images_filepaths[idx]\n",
        "        images_filepath = images_filepath.replace('\\\\', '/')\n",
        "        file_name = os.path.basename(images_filepath)\n",
        "        images_filepath = '2000/' +  file_name\n",
        "\n",
        "        images = np.load(BytesIO(dataset[images_filepath]), allow_pickle=True).astype(np.float32)\n",
        "\n",
        "        # get on target images as a single normalised image\n",
        "        image = get_combined_image(images)\n",
        "\n",
        "        # apply image transformations if requested\n",
        "        if self.transform is not None:\n",
        "            image = self.transform(image=image)['image']\n",
        "        else:\n",
        "            image = resize_image(image)\n",
        "            image = image[np.newaxis,:,:]\n",
        "            image = torch.from_numpy(image).float()\n",
        "\n",
        "        label = torch.tensor(self.targets[idx]).float()\n",
        "\n",
        "        return image, label"
      ]
    },
    {
      "cell_type": "markdown",
      "id": "30f62240-81da-4110-b0b6-103ab07cf1e4",
      "metadata": {
        "pycharm": {
          "name": "#%% md\n"
        },
        "id": "30f62240-81da-4110-b0b6-103ab07cf1e4"
      },
      "source": [
        "## Image Augmentation\n",
        "\n",
        "Helper functions for transforming images.\n",
        "\n",
        "These can be used to help prevent overfitting on the available data samples."
      ]
    },
    {
      "cell_type": "code",
      "execution_count": 17,
      "id": "ce9cd0bf-9ce7-4159-b2ad-a757c8fe228a",
      "metadata": {
        "execution": {
          "iopub.execute_input": "2022-09-02T17:05:58.607651Z",
          "iopub.status.busy": "2022-09-02T17:05:58.607300Z",
          "iopub.status.idle": "2022-09-02T17:05:58.611609Z",
          "shell.execute_reply": "2022-09-02T17:05:58.611179Z",
          "shell.execute_reply.started": "2022-09-02T17:05:58.607637Z"
        },
        "pycharm": {
          "name": "#%%\n"
        },
        "id": "ce9cd0bf-9ce7-4159-b2ad-a757c8fe228a"
      },
      "outputs": [],
      "source": [
        "'''\n",
        "Returns a set of image transformations using the albumentations library.\n",
        "'''\n",
        "def get_train_transforms():\n",
        "    return albumentations.Compose(\n",
        "        [\n",
        "            albumentations.Resize(config['image_size'], config['image_size']),\n",
        "            albumentations.HorizontalFlip(p=0.5),\n",
        "            albumentations.VerticalFlip(p=0.5),\n",
        "            albumentations.Rotate(limit=180, p=0.7),\n",
        "            albumentations.RandomBrightnessContrast(brightness_limit=0.6, p=0.5),\n",
        "            albumentations.CoarseDropout(max_holes=10, max_height=12, max_width=12, fill_value=0),\n",
        "            albumentations.ShiftScaleRotate(shift_limit=0.25, scale_limit=0.1, rotate_limit=0),\n",
        "            ToTensorV2(p=1.0),\n",
        "        ]\n",
        "    )\n",
        "\n",
        "\n",
        "\n",
        "'''\n",
        "Applies transformations for validation image data.\n",
        "\n",
        "This currently resizes the images.\n",
        "'''\n",
        "def get_valid_transforms():\n",
        "    return albumentations.Compose(\n",
        "        [\n",
        "            albumentations.Resize(config['image_size'],config['image_size']),\n",
        "            ToTensorV2(p=1.0)\n",
        "        ]\n",
        "    )\n",
        "\n",
        "\n",
        "\n",
        "'''\n",
        "Applies transformations for training image data.\n",
        "\n",
        "This currently resizes the images.\n",
        "'''\n",
        "def get_test_transforms():\n",
        "        return albumentations.Compose(\n",
        "            [\n",
        "                albumentations.Resize(config['image_size'], config['image_size']),\n",
        "                ToTensorV2(p=1.0)\n",
        "            ]\n",
        "        )"
      ]
    },
    {
      "cell_type": "markdown",
      "id": "056abd0c-c12a-4a0a-8e73-c7b64aa6432e",
      "metadata": {
        "pycharm": {
          "name": "#%% md\n"
        },
        "id": "056abd0c-c12a-4a0a-8e73-c7b64aa6432e"
      },
      "source": [
        "## Train and Validation Dataloaders\n",
        "\n",
        "Data loaders for the training and validation data.\n",
        "\n",
        "These are used during the model training and validation loop."
      ]
    },
    {
      "cell_type": "code",
      "execution_count": 18,
      "id": "9dd0ba19-0137-4913-bdb2-897ee0a6c52e",
      "metadata": {
        "execution": {
          "iopub.execute_input": "2022-09-02T17:05:58.621258Z",
          "iopub.status.busy": "2022-09-02T17:05:58.620971Z",
          "iopub.status.idle": "2022-09-02T17:05:58.624772Z",
          "shell.execute_reply": "2022-09-02T17:05:58.624375Z",
          "shell.execute_reply.started": "2022-09-02T17:05:58.621245Z"
        },
        "pycharm": {
          "name": "#%%\n"
        },
        "id": "9dd0ba19-0137-4913-bdb2-897ee0a6c52e"
      },
      "outputs": [],
      "source": [
        "def get_loaders(train_data, valid_data, sampler):\n",
        "    training_set = CustomDataset(\n",
        "        images_filepaths=train_data['image_filepath'].values,\n",
        "        targets=train_data['target'].values,\n",
        "        # transform=get_train_transforms()\n",
        "    )\n",
        "\n",
        "    validation_set = CustomDataset(\n",
        "        images_filepaths=valid_data['image_filepath'].values,\n",
        "        targets=valid_data['target'].values,\n",
        "        # transform=get_valid_transforms()\n",
        "    )\n",
        "\n",
        "    train_loader = DataLoader(\n",
        "        training_set,\n",
        "        batch_size=config['batch_size'],\n",
        "        # shuffle=True,\n",
        "        # num_workers=config['num_workers'],\n",
        "        sampler = sampler,\n",
        "        pin_memory=True\n",
        "    )\n",
        "\n",
        "    valid_loader = DataLoader(\n",
        "        validation_set,\n",
        "        batch_size=config['batch_size'],\n",
        "        shuffle=False,\n",
        "        # num_workers=config['num_workers'],\n",
        "        pin_memory=True\n",
        "    )\n",
        "\n",
        "    return train_loader, valid_loader"
      ]
    },
    {
      "cell_type": "markdown",
      "id": "010a10f6",
      "metadata": {
        "pycharm": {
          "name": "#%% md\n"
        },
        "id": "010a10f6"
      },
      "source": [
        "## Model\n",
        "\n",
        "The deep learning model that will be trained.\n",
        "\n",
        "Based on the example from:\n",
        "- https://machinelearningknowledge.ai/pytorch-conv2d-explained-with-examples/#Example_of_PyTorch_Conv2D_in_CNN\n",
        "\n",
        "The layers consist of the following:\n",
        "- Layers 1 - 8:\n",
        "-- 2D convolutional layer\n",
        "-- Batch normalisation layer\n",
        "-- ReLU activation layer\n",
        "-- 2D max pooling layer\n",
        "\n",
        "The final layer is a fully connected layer that connects all of the neurons in the previous layer and outputs a binary classification using a confidence score.\n",
        "\n",
        "The weights for the final layer are randomly initialised."
      ]
    },
    {
      "cell_type": "code",
      "execution_count": 19,
      "id": "5c6edd8d",
      "metadata": {
        "execution": {
          "iopub.execute_input": "2022-09-02T17:05:58.625405Z",
          "iopub.status.busy": "2022-09-02T17:05:58.625261Z",
          "iopub.status.idle": "2022-09-02T17:05:58.633911Z",
          "shell.execute_reply": "2022-09-02T17:05:58.633472Z",
          "shell.execute_reply.started": "2022-09-02T17:05:58.625393Z"
        },
        "jupyter": {
          "outputs_hidden": false
        },
        "pycharm": {
          "name": "#%%\n"
        },
        "id": "5c6edd8d"
      },
      "outputs": [],
      "source": [
        "'''\n",
        "Create a deep convolutional neural network with a binary classification output.\n",
        "'''\n",
        "class CustomModel(nn.Module):\n",
        "    '''\n",
        "    This function is called when setting up the model.\n",
        "    '''\n",
        "    def __init__(self):\n",
        "        super().__init__()\n",
        "\n",
        "        # convolutional layer\n",
        "        self.layer1 = nn.Sequential(\n",
        "            nn.Conv2d(1, 32, kernel_size=3, stride=2, padding=2),\n",
        "            nn.BatchNorm2d(32),\n",
        "            nn.ReLU(),\n",
        "            nn.MaxPool2d(kernel_size=2, stride=2)\n",
        "        )\n",
        "\n",
        "        # convolutional layer\n",
        "        self.layer2 = nn.Sequential(\n",
        "            nn.Conv2d(32, 64, kernel_size=3, stride=2, padding=2),\n",
        "            nn.BatchNorm2d(64),\n",
        "            nn.ReLU(),\n",
        "            nn.MaxPool2d(kernel_size=2, stride=2)\n",
        "        )\n",
        "\n",
        "        # convolutional layer\n",
        "        self.layer3 = nn.Sequential(\n",
        "            nn.Conv2d(64, 128, kernel_size=3, stride=2, padding=2),\n",
        "            nn.BatchNorm2d(128),\n",
        "            nn.ReLU(),\n",
        "            nn.MaxPool2d(kernel_size=2, stride=2)\n",
        "        )\n",
        "\n",
        "        # convolutional layer\n",
        "        self.layer4 = nn.Sequential(\n",
        "            nn.Conv2d(128, 256, kernel_size=3, stride=2, padding=2),\n",
        "            nn.BatchNorm2d(256),\n",
        "            nn.ReLU(),\n",
        "            nn.MaxPool2d(kernel_size=2, stride=2)\n",
        "        )\n",
        "\n",
        "        # convolutional layer\n",
        "        self.layer5 = nn.Sequential(\n",
        "            nn.Conv2d(256, 512, kernel_size=3, stride=2, padding=2),\n",
        "            nn.BatchNorm2d(512),\n",
        "            nn.ReLU(),\n",
        "            nn.MaxPool2d(kernel_size=2, stride=2)\n",
        "        )\n",
        "\n",
        "        # convolutional layer\n",
        "        self.layer6 = nn.Sequential(\n",
        "            nn.Conv2d(512, 1024, kernel_size=3, stride=2, padding=2),\n",
        "            nn.BatchNorm2d(1204),\n",
        "            nn.ReLU(),\n",
        "            nn.MaxPool2d(kernel_size=2, stride=2)\n",
        "        )\n",
        "\n",
        "        # convolutional layer\n",
        "        self.layer7 = nn.Sequential(\n",
        "            nn.Conv2d(1024, 2048, kernel_size=3, stride=2, padding=2),\n",
        "            nn.BatchNorm2d(2048),\n",
        "            nn.ReLU(),\n",
        "            nn.MaxPool2d(kernel_size=2, stride=2)\n",
        "        )\n",
        "\n",
        "        # convolutional layer\n",
        "        self.layer8 = nn.Sequential(\n",
        "            nn.Conv2d(2048, 4096, kernel_size=3, stride=2, padding=2),\n",
        "            nn.BatchNorm2d(4098),\n",
        "            nn.ReLU(),\n",
        "            nn.MaxPool2d(kernel_size=2, stride=2)\n",
        "        )\n",
        "\n",
        "        # classification layer\n",
        "        self.fc1 = nn.Linear(256, 1, bias=True)\n",
        "\n",
        "        nn.init.xavier_uniform_(self.fc1.weight)\n",
        "\n",
        "    '''\n",
        "    This method is called when making a prediction\n",
        "    '''\n",
        "    def forward(self, x):\n",
        "        x = self.layer1(x)\n",
        "        x = self.layer2(x)\n",
        "        x = self.layer3(x)\n",
        "        x = self.layer4(x)\n",
        "        x = x.view(x.size(0), -1) # flatten for FC\n",
        "        x = self.fc1(x)\n",
        "\n",
        "        return x"
      ]
    },
    {
      "cell_type": "markdown",
      "id": "45228b74-1e35-4363-b7f8-ce49d8945286",
      "metadata": {
        "pycharm": {
          "name": "#%% md\n"
        },
        "id": "45228b74-1e35-4363-b7f8-ce49d8945286"
      },
      "source": [
        "## Model Initialisation\n",
        "\n",
        "Initialise model, loss criterion, optimiser and learning rate scheduler."
      ]
    },
    {
      "cell_type": "code",
      "execution_count": 20,
      "id": "94530cde-2cb0-420d-954f-251bf7115d96",
      "metadata": {
        "execution": {
          "iopub.execute_input": "2022-09-02T17:05:58.634651Z",
          "iopub.status.busy": "2022-09-02T17:05:58.634478Z",
          "iopub.status.idle": "2022-09-02T17:06:00.683583Z",
          "shell.execute_reply": "2022-09-02T17:06:00.683043Z",
          "shell.execute_reply.started": "2022-09-02T17:05:58.634617Z"
        },
        "pycharm": {
          "name": "#%%\n"
        },
        "id": "94530cde-2cb0-420d-954f-251bf7115d96"
      },
      "outputs": [],
      "source": [
        "# the model to train\n",
        "model = CustomModel()\n",
        "model = model.to(config['device'])\n",
        "\n",
        "# the loss function used to track loss\n",
        "# this allows loss to be tracked with an aim of reducing it during training\n",
        "criterion = nn.BCEWithLogitsLoss().to(config['device'])\n",
        "\n",
        "# Optimizer used for minimising loss during model training\n",
        "optimizer = torch.optim.Adam(model.parameters(), lr=config['lr'])\n",
        "\n",
        "# learning rate scheduler\n",
        "# starts the learning rate at a high value and reduces by steps over time\n",
        "scheduler = CosineAnnealingLR(optimizer,\n",
        "                              T_max=config['T_max'],\n",
        "                              eta_min=config['min_lr'],\n",
        "                              last_epoch=-1)"
      ]
    },
    {
      "cell_type": "markdown",
      "id": "5f277d9a",
      "metadata": {
        "pycharm": {
          "name": "#%% md\n"
        },
        "id": "5f277d9a"
      },
      "source": [
        "## Classification Utility Functions\n",
        "\n",
        "A set of functions that help get a binary predictions and to measure their accuracy and ROC AUC score."
      ]
    },
    {
      "cell_type": "code",
      "execution_count": 21,
      "id": "769bbe46",
      "metadata": {
        "execution": {
          "iopub.execute_input": "2022-09-02T17:06:00.684584Z",
          "iopub.status.busy": "2022-09-02T17:06:00.684382Z",
          "iopub.status.idle": "2022-09-02T17:06:00.691702Z",
          "shell.execute_reply": "2022-09-02T17:06:00.691173Z",
          "shell.execute_reply.started": "2022-09-02T17:06:00.684567Z"
        },
        "jupyter": {
          "outputs_hidden": false
        },
        "pycharm": {
          "name": "#%%\n"
        },
        "id": "769bbe46"
      },
      "outputs": [],
      "source": [
        "'''\n",
        "Min max normalises prediction values.\n",
        "This places them in the range 0 - 1.\n",
        "'''\n",
        "def get_normalised_predictions(predictions):\n",
        "    predictions_min = min(predictions)\n",
        "    predictions_max = max(predictions)\n",
        "\n",
        "    if predictions_min == predictions_max: # all predictions are the same\n",
        "        return [0] * len(predictions)\n",
        "\n",
        "    return [(x - predictions_min) / (predictions_max - predictions_min) for x in predictions]\n",
        "\n",
        "\n",
        "\n",
        "'''\n",
        "Classifies as false for values below 0.5 and true otherwise.\n",
        "'''\n",
        "def get_binary_classification(value):\n",
        "    return 0 if value < 0.5 else 1\n",
        "\n",
        "\n",
        "\n",
        "'''\n",
        "Returns the binary classifications for a set of raw model predictions.\n",
        "'''\n",
        "def get_binary_classifications(predictions):\n",
        "    norm_predictions = np.array(get_normalised_predictions(predictions))\n",
        "    binary_classification_func = np.vectorize(get_binary_classification)\n",
        "\n",
        "    return binary_classification_func(norm_predictions)\n",
        "\n",
        "\n",
        "\n",
        "'''\n",
        "Returns the accuracy score for a set of predictions.\n",
        "'''\n",
        "def get_accuracy(predictions, labels):\n",
        "    binary_classifications = get_binary_classifications(predictions)\n",
        "    labels_array = labels.cpu().detach().numpy()\n",
        "    correct_predictions = (binary_classifications == labels_array)\n",
        "    correct_predictions_count = np.count_nonzero(correct_predictions)\n",
        "\n",
        "    return np.mean(correct_predictions_count / len(predictions))\n",
        "\n",
        "\n",
        "\n",
        "'''\n",
        "Returns the ROC AUC score for a prediction.\n",
        "'''\n",
        "def get_roc_auc_score(output, target):\n",
        "    try:\n",
        "        return round(roc_auc_score(target, output), 10)\n",
        "    except:\n",
        "        return 0.5 # return 0.5 score if an exception occours, e.g. divide by 0\n",
        "\n",
        "\n",
        "\n",
        "'''\n",
        "Evaluates a model by predicting values for a supplied dataset.\n",
        "\n",
        "Returns loss, accuracy and ROC AUC metrics for the predictions.\n",
        "'''\n",
        "def get_validation_loss_accuracy_rocauc(model, data_loader):\n",
        "    loss = 0\n",
        "    accuracy = 0\n",
        "    roc_auc = 0\n",
        "\n",
        "    # place model in evaluation mode so weights are not updated\n",
        "    model.eval()\n",
        "\n",
        "    for x, y in data_loader:\n",
        "        x, y = x.to(config['device']), y.to(config['device'])\n",
        "\n",
        "        predictions = model(x)\n",
        "\n",
        "        loss += criterion(predictions, y.unsqueeze(1)).item()\n",
        "        accuracy += get_accuracy(predictions.cpu().detach().numpy(), y.unsqueeze(1))\n",
        "        roc_auc += get_roc_auc_score(predictions, y.unsqueeze(1))\n",
        "\n",
        "\n",
        "    num_samples = len(data_loader)\n",
        "\n",
        "    return loss/num_samples, accuracy/num_samples, roc_auc/num_samples"
      ]
    },
    {
      "cell_type": "markdown",
      "source": [
        "## Training and Validation Loop\n",
        "\n",
        "The main loop for training and validating the model."
      ],
      "metadata": {
        "collapsed": false,
        "pycharm": {
          "name": "#%% md\n"
        },
        "id": "vyn5vgkx9NN5"
      },
      "id": "vyn5vgkx9NN5"
    },
    {
      "cell_type": "code",
      "execution_count": 22,
      "id": "2b265ec8",
      "metadata": {
        "execution": {
          "iopub.execute_input": "2022-09-02T17:06:00.692572Z",
          "iopub.status.busy": "2022-09-02T17:06:00.692399Z"
        },
        "jupyter": {
          "outputs_hidden": false
        },
        "pycharm": {
          "name": "#%%\n"
        },
        "colab": {
          "base_uri": "https://localhost:8080/"
        },
        "id": "2b265ec8",
        "outputId": "82d3e94f-d82a-41fa-e6fb-c28c67c22dc9"
      },
      "outputs": [
        {
          "output_type": "stream",
          "name": "stdout",
          "text": [
            "Epoch 001 | Duration (s): 34.91580080986023\n",
            "Train - Loss: 0.81511 | Acc: 0.528 | ROC AUC: 0.500\n",
            "Validation - Loss: 0.69763 | Acc: 0.473 | ROC AUC: 0.500\n",
            "Epoch 002 | Duration (s): 21.017180919647217\n",
            "Train - Loss: 0.79010 | Acc: 0.519 | ROC AUC: 0.500\n",
            "Validation - Loss: 0.73002 | Acc: 0.455 | ROC AUC: 0.500\n",
            "Epoch 003 | Duration (s): 20.149518489837646\n",
            "Train - Loss: 0.77267 | Acc: 0.512 | ROC AUC: 0.500\n",
            "Validation - Loss: 0.77191 | Acc: 0.465 | ROC AUC: 0.500\n",
            "Epoch 004 | Duration (s): 21.937006950378418\n",
            "Train - Loss: 0.76001 | Acc: 0.511 | ROC AUC: 0.500\n",
            "Validation - Loss: 0.77401 | Acc: 0.455 | ROC AUC: 0.500\n",
            "Epoch 005 | Duration (s): 21.111950874328613\n",
            "Train - Loss: 0.75046 | Acc: 0.506 | ROC AUC: 0.500\n",
            "Validation - Loss: 0.76417 | Acc: 0.456 | ROC AUC: 0.500\n",
            "Epoch 006 | Duration (s): 20.781590223312378\n",
            "Train - Loss: 0.74295 | Acc: 0.510 | ROC AUC: 0.500\n",
            "Validation - Loss: 0.75563 | Acc: 0.460 | ROC AUC: 0.500\n",
            "Epoch 007 | Duration (s): 20.917514085769653\n",
            "Train - Loss: 0.73678 | Acc: 0.510 | ROC AUC: 0.500\n",
            "Validation - Loss: 0.74950 | Acc: 0.462 | ROC AUC: 0.500\n",
            "Epoch 008 | Duration (s): 21.030049800872803\n",
            "Train - Loss: 0.73153 | Acc: 0.508 | ROC AUC: 0.500\n",
            "Validation - Loss: 0.74508 | Acc: 0.465 | ROC AUC: 0.500\n",
            "Epoch 009 | Duration (s): 20.854300498962402\n",
            "Train - Loss: 0.72694 | Acc: 0.511 | ROC AUC: 0.500\n",
            "Validation - Loss: 0.74186 | Acc: 0.466 | ROC AUC: 0.500\n",
            "Epoch 010 | Duration (s): 20.874189615249634\n",
            "Train - Loss: 0.72284 | Acc: 0.514 | ROC AUC: 0.500\n",
            "Validation - Loss: 0.73949 | Acc: 0.469 | ROC AUC: 0.500\n",
            "Epoch 011 | Duration (s): 20.81723952293396\n",
            "Train - Loss: 0.71913 | Acc: 0.518 | ROC AUC: 0.500\n",
            "Validation - Loss: 0.73773 | Acc: 0.474 | ROC AUC: 0.500\n",
            "Epoch 012 | Duration (s): 20.91391158103943\n",
            "Train - Loss: 0.71568 | Acc: 0.523 | ROC AUC: 0.500\n",
            "Validation - Loss: 0.73640 | Acc: 0.479 | ROC AUC: 0.500\n",
            "Epoch 013 | Duration (s): 20.496049880981445\n",
            "Train - Loss: 0.71248 | Acc: 0.525 | ROC AUC: 0.500\n",
            "Validation - Loss: 0.73543 | Acc: 0.485 | ROC AUC: 0.500\n",
            "Epoch 014 | Duration (s): 20.46791672706604\n",
            "Train - Loss: 0.70948 | Acc: 0.524 | ROC AUC: 0.500\n",
            "Validation - Loss: 0.73469 | Acc: 0.483 | ROC AUC: 0.500\n",
            "Epoch 015 | Duration (s): 20.602613925933838\n",
            "Train - Loss: 0.70663 | Acc: 0.533 | ROC AUC: 0.500\n",
            "Validation - Loss: 0.73413 | Acc: 0.480 | ROC AUC: 0.500\n",
            "Epoch 016 | Duration (s): 20.739020586013794\n",
            "Train - Loss: 0.70393 | Acc: 0.535 | ROC AUC: 0.500\n",
            "Validation - Loss: 0.73371 | Acc: 0.480 | ROC AUC: 0.500\n",
            "Epoch 017 | Duration (s): 20.28908395767212\n",
            "Train - Loss: 0.70135 | Acc: 0.539 | ROC AUC: 0.500\n",
            "Validation - Loss: 0.73341 | Acc: 0.478 | ROC AUC: 0.500\n",
            "Epoch 018 | Duration (s): 20.37010431289673\n",
            "Train - Loss: 0.69887 | Acc: 0.539 | ROC AUC: 0.500\n",
            "Validation - Loss: 0.73319 | Acc: 0.480 | ROC AUC: 0.500\n",
            "Epoch 019 | Duration (s): 20.49850034713745\n",
            "Train - Loss: 0.69647 | Acc: 0.551 | ROC AUC: 0.500\n",
            "Validation - Loss: 0.73303 | Acc: 0.476 | ROC AUC: 0.500\n",
            "Epoch 020 | Duration (s): 20.464027881622314\n",
            "Train - Loss: 0.69417 | Acc: 0.556 | ROC AUC: 0.500\n",
            "Validation - Loss: 0.73293 | Acc: 0.471 | ROC AUC: 0.500\n",
            "Epoch 021 | Duration (s): 20.394346952438354\n",
            "Train - Loss: 0.69197 | Acc: 0.555 | ROC AUC: 0.500\n",
            "Validation - Loss: 0.73289 | Acc: 0.468 | ROC AUC: 0.500\n",
            "Epoch 022 | Duration (s): 20.383095026016235\n",
            "Train - Loss: 0.68984 | Acc: 0.560 | ROC AUC: 0.500\n",
            "Validation - Loss: 0.73286 | Acc: 0.458 | ROC AUC: 0.500\n",
            "Epoch 023 | Duration (s): 20.403695344924927\n",
            "Train - Loss: 0.68778 | Acc: 0.569 | ROC AUC: 0.500\n",
            "Validation - Loss: 0.73286 | Acc: 0.446 | ROC AUC: 0.500\n",
            "Epoch 024 | Duration (s): 20.39009928703308\n",
            "Train - Loss: 0.68580 | Acc: 0.564 | ROC AUC: 0.500\n",
            "Validation - Loss: 0.73285 | Acc: 0.440 | ROC AUC: 0.500\n",
            "Epoch 025 | Duration (s): 20.15599274635315\n",
            "Train - Loss: 0.68391 | Acc: 0.567 | ROC AUC: 0.500\n",
            "Validation - Loss: 0.73286 | Acc: 0.443 | ROC AUC: 0.500\n",
            "Epoch 026 | Duration (s): 19.953117609024048\n",
            "Train - Loss: 0.68206 | Acc: 0.571 | ROC AUC: 0.500\n",
            "Validation - Loss: 0.73289 | Acc: 0.450 | ROC AUC: 0.500\n",
            "Epoch 027 | Duration (s): 20.231794595718384\n",
            "Train - Loss: 0.68027 | Acc: 0.573 | ROC AUC: 0.500\n",
            "Validation - Loss: 0.73292 | Acc: 0.455 | ROC AUC: 0.500\n",
            "Epoch 028 | Duration (s): 20.213796138763428\n",
            "Train - Loss: 0.67853 | Acc: 0.574 | ROC AUC: 0.500\n",
            "Validation - Loss: 0.73292 | Acc: 0.459 | ROC AUC: 0.500\n",
            "Epoch 029 | Duration (s): 20.095890522003174\n",
            "Train - Loss: 0.67683 | Acc: 0.572 | ROC AUC: 0.500\n",
            "Validation - Loss: 0.73293 | Acc: 0.461 | ROC AUC: 0.500\n",
            "Epoch 030 | Duration (s): 20.226926565170288\n",
            "Train - Loss: 0.67516 | Acc: 0.573 | ROC AUC: 0.500\n",
            "Validation - Loss: 0.73294 | Acc: 0.464 | ROC AUC: 0.500\n",
            "Epoch 031 | Duration (s): 20.27273941040039\n",
            "Train - Loss: 0.67353 | Acc: 0.574 | ROC AUC: 0.500\n",
            "Validation - Loss: 0.73294 | Acc: 0.465 | ROC AUC: 0.500\n",
            "Epoch 032 | Duration (s): 20.56301784515381\n",
            "Train - Loss: 0.67193 | Acc: 0.579 | ROC AUC: 0.500\n",
            "Validation - Loss: 0.73294 | Acc: 0.462 | ROC AUC: 0.500\n",
            "Epoch 033 | Duration (s): 20.751972436904907\n",
            "Train - Loss: 0.67036 | Acc: 0.582 | ROC AUC: 0.500\n",
            "Validation - Loss: 0.73293 | Acc: 0.459 | ROC AUC: 0.500\n",
            "Epoch 034 | Duration (s): 20.625664234161377\n",
            "Train - Loss: 0.66880 | Acc: 0.583 | ROC AUC: 0.500\n",
            "Validation - Loss: 0.73292 | Acc: 0.460 | ROC AUC: 0.500\n",
            "Epoch 035 | Duration (s): 20.542685747146606\n",
            "Train - Loss: 0.66728 | Acc: 0.592 | ROC AUC: 0.500\n",
            "Validation - Loss: 0.73291 | Acc: 0.461 | ROC AUC: 0.500\n",
            "Epoch 036 | Duration (s): 20.581174612045288\n",
            "Train - Loss: 0.66579 | Acc: 0.590 | ROC AUC: 0.500\n",
            "Validation - Loss: 0.73289 | Acc: 0.462 | ROC AUC: 0.500\n",
            "Epoch 037 | Duration (s): 20.481136798858643\n",
            "Train - Loss: 0.66430 | Acc: 0.592 | ROC AUC: 0.500\n",
            "Validation - Loss: 0.73289 | Acc: 0.463 | ROC AUC: 0.500\n",
            "Epoch 038 | Duration (s): 20.47897243499756\n",
            "Train - Loss: 0.66283 | Acc: 0.593 | ROC AUC: 0.500\n",
            "Validation - Loss: 0.73287 | Acc: 0.464 | ROC AUC: 0.500\n",
            "Epoch 039 | Duration (s): 20.906575202941895\n",
            "Train - Loss: 0.66138 | Acc: 0.593 | ROC AUC: 0.500\n",
            "Validation - Loss: 0.73285 | Acc: 0.465 | ROC AUC: 0.500\n",
            "Epoch 040 | Duration (s): 20.63240146636963\n",
            "Train - Loss: 0.65994 | Acc: 0.598 | ROC AUC: 0.500\n",
            "Validation - Loss: 0.73281 | Acc: 0.463 | ROC AUC: 0.500\n",
            "Epoch 041 | Duration (s): 20.905592918395996\n",
            "Train - Loss: 0.65853 | Acc: 0.599 | ROC AUC: 0.500\n",
            "Validation - Loss: 0.73276 | Acc: 0.460 | ROC AUC: 0.500\n",
            "Epoch 042 | Duration (s): 20.852983951568604\n",
            "Train - Loss: 0.65712 | Acc: 0.601 | ROC AUC: 0.500\n",
            "Validation - Loss: 0.73271 | Acc: 0.456 | ROC AUC: 0.500\n",
            "Epoch 043 | Duration (s): 21.023747205734253\n",
            "Train - Loss: 0.65574 | Acc: 0.602 | ROC AUC: 0.500\n",
            "Validation - Loss: 0.73270 | Acc: 0.450 | ROC AUC: 0.500\n",
            "Epoch 044 | Duration (s): 20.928887128829956\n",
            "Train - Loss: 0.65438 | Acc: 0.607 | ROC AUC: 0.500\n",
            "Validation - Loss: 0.73268 | Acc: 0.447 | ROC AUC: 0.500\n",
            "Epoch 045 | Duration (s): 20.620882511138916\n",
            "Train - Loss: 0.65305 | Acc: 0.610 | ROC AUC: 0.500\n",
            "Validation - Loss: 0.73270 | Acc: 0.446 | ROC AUC: 0.500\n",
            "Epoch 046 | Duration (s): 20.16049575805664\n",
            "Train - Loss: 0.65173 | Acc: 0.613 | ROC AUC: 0.500\n",
            "Validation - Loss: 0.73272 | Acc: 0.446 | ROC AUC: 0.500\n",
            "Epoch 047 | Duration (s): 20.2146098613739\n",
            "Train - Loss: 0.65044 | Acc: 0.613 | ROC AUC: 0.500\n",
            "Validation - Loss: 0.73271 | Acc: 0.445 | ROC AUC: 0.500\n",
            "Epoch 048 | Duration (s): 20.14502453804016\n",
            "Train - Loss: 0.64915 | Acc: 0.617 | ROC AUC: 0.500\n",
            "Validation - Loss: 0.73268 | Acc: 0.445 | ROC AUC: 0.500\n",
            "Epoch 049 | Duration (s): 20.15538740158081\n",
            "Train - Loss: 0.64789 | Acc: 0.618 | ROC AUC: 0.500\n",
            "Validation - Loss: 0.73267 | Acc: 0.445 | ROC AUC: 0.500\n",
            "Epoch 050 | Duration (s): 20.23839259147644\n",
            "Train - Loss: 0.64665 | Acc: 0.620 | ROC AUC: 0.500\n",
            "Validation - Loss: 0.73265 | Acc: 0.444 | ROC AUC: 0.500\n"
          ]
        }
      ],
      "source": [
        "# split data into training and validation set with an 80:20 ratio\n",
        "data_split_mask = np.random.rand(len(train_df)) < 0.8\n",
        "\n",
        "train_data = train_df[data_split_mask]\n",
        "valid_data = train_df[~data_split_mask]\n",
        "\n",
        "# data sample loaders\n",
        "train_loader, valid_loader = get_loaders(train_data, valid_data, None)\n",
        "\n",
        "# global variables used to keep track of metrics\n",
        "train_losses = []\n",
        "train_accuracies = []\n",
        "train_roc_auc_scores = []\n",
        "\n",
        "valid_losses = []\n",
        "valid_accuracies = []\n",
        "valid_roc_auc_scores = []\n",
        "\n",
        "\n",
        "\n",
        "# the training & validation loop, that runs for the number of epochs specified\n",
        "for e in range(1, config['epochs']+1):\n",
        "    # variables to track metrics for the epoch\n",
        "    epoch_train_loss = 0\n",
        "    epoch_train_acc = 0\n",
        "    epoch_train_roc_auc = 0\n",
        "\n",
        "    epoch_valid_loss = 0\n",
        "    epoch_valid_acc = 0\n",
        "    epoch_valid_roc_auc = 0\n",
        "\n",
        "    start_time = time.time() # use a timer to track of how long an epoch takes\n",
        "\n",
        "    # train the model using the training data set\n",
        "    for train_x, train_y in train_loader:\n",
        "        # train_x is the batched image samples\n",
        "        # train_y is the batched labels\n",
        "        train_x, train_y = train_x.to(config['device']), train_y.to(config['device'])\n",
        "\n",
        "        # reset the optimizer by zeroing out its gradients\n",
        "        optimizer.zero_grad()\n",
        "\n",
        "\n",
        "        # --------\n",
        "        # Training\n",
        "        # --------\n",
        "        model.train() # put model into training mode so weights can be updated\n",
        "\n",
        "        train_predictions = model(train_x) # get predictions from training set\n",
        "\n",
        "        # calculate training loss\n",
        "        train_loss = criterion(train_predictions, train_y.unsqueeze(1))\n",
        "        epoch_train_loss += train_loss.item()\n",
        "\n",
        "        # calculate training accuracy\n",
        "        train_acc = get_accuracy(train_predictions.cpu().detach().numpy(), train_y.unsqueeze(1))\n",
        "        epoch_train_acc += train_acc.item()\n",
        "\n",
        "        # calculate training ROC AUC score\n",
        "        epoch_train_roc_auc += get_roc_auc_score(train_predictions, train_y)\n",
        "\n",
        "\n",
        "        # ----------\n",
        "        # Validation\n",
        "        # ----------\n",
        "        # run model against validation data and get metrics\n",
        "        valid_loss, valid_acc, valid_roc_auc = get_validation_loss_accuracy_rocauc(model, valid_loader)\n",
        "\n",
        "        epoch_valid_loss += valid_loss\n",
        "        epoch_valid_acc += valid_acc\n",
        "        epoch_valid_roc_auc += valid_roc_auc\n",
        "\n",
        "\n",
        "        # -------------------\n",
        "        # Back propagation\n",
        "        # -------------------\n",
        "        train_loss.backward() # update the model weights using back propagation\n",
        "        optimizer.step() # update the optimizer for reducing loss\n",
        "\n",
        "\n",
        "    end_time = time.time()\n",
        "\n",
        "    num_samples = len(train_loader)\n",
        "\n",
        "    # store the training and validation metrics for the epoch\n",
        "    train_losses.append(epoch_train_loss / num_samples)\n",
        "    train_accuracies.append(epoch_train_acc / num_samples)\n",
        "    train_roc_auc_scores.append(epoch_train_roc_auc / num_samples)\n",
        "\n",
        "    valid_losses.append(epoch_valid_loss / num_samples)\n",
        "    valid_accuracies.append(epoch_valid_acc / num_samples)\n",
        "    valid_roc_auc_scores.append(epoch_valid_roc_auc / num_samples)\n",
        "\n",
        "    # print the metrics for tracking purposes\n",
        "    print(f'Epoch {e+0:03}'\n",
        "          f' | Duration (s): {end_time - start_time}'\n",
        "    )\n",
        "\n",
        "    print(f'Train - Loss: {epoch_train_loss / num_samples:.5f}'\n",
        "          f' | Acc: {epoch_train_acc / num_samples:.3f}'\n",
        "          f' | ROC AUC: {epoch_train_roc_auc / num_samples:.3f}')\n",
        "    \n",
        "    print(f'Validation - Loss: {epoch_valid_loss / num_samples:.5f}'\n",
        "          f' | Acc: {epoch_valid_acc / num_samples:.3f}'\n",
        "          f' | ROC AUC: {epoch_valid_roc_auc / num_samples:.3f}')"
      ]
    },
    {
      "cell_type": "markdown",
      "id": "3d995cba",
      "metadata": {
        "pycharm": {
          "name": "#%% md\n"
        },
        "id": "3d995cba"
      },
      "source": [
        "## Save Model\n",
        "\n",
        "Save the model state to disk for future reference."
      ]
    },
    {
      "cell_type": "code",
      "execution_count": 23,
      "id": "35a573d7",
      "metadata": {
        "jupyter": {
          "outputs_hidden": false
        },
        "pycharm": {
          "name": "#%%\n"
        },
        "colab": {
          "base_uri": "https://localhost:8080/"
        },
        "id": "35a573d7",
        "outputId": "8a681486-0e9d-4c13-ee8a-a8ef1b56cd91"
      },
      "outputs": [
        {
          "output_type": "stream",
          "name": "stdout",
          "text": [
            "model saved to:  /models/22-09-04_23-57-11/cnn_from_scratch.pth\n"
          ]
        }
      ],
      "source": [
        "model_name = 'cnn_from_scratch.pth'\n",
        "current_datetime = datetime.now().strftime(\"%y-%m-%d_%H-%M-%S\")\n",
        "models_dir = os.path.join('/models', current_datetime)\n",
        "\n",
        "os.mkdir(models_dir)\n",
        "\n",
        "torch.save(model.state_dict(), os.path.join(models_dir, model_name))\n",
        "\n",
        "print('model saved to: ', os.path.join(models_dir, model_name))"
      ]
    },
    {
      "cell_type": "markdown",
      "source": [
        "## Plot Metrics\n",
        "\n",
        "Plot the metrics gathered during training and validation."
      ],
      "metadata": {
        "collapsed": false,
        "pycharm": {
          "name": "#%% md\n"
        },
        "id": "tkXnI-rp9NN7"
      },
      "id": "tkXnI-rp9NN7"
    },
    {
      "cell_type": "code",
      "execution_count": 24,
      "id": "4bcebaeb",
      "metadata": {
        "jupyter": {
          "outputs_hidden": false
        },
        "pycharm": {
          "name": "#%%\n"
        },
        "colab": {
          "base_uri": "https://localhost:8080/",
          "height": 298
        },
        "id": "4bcebaeb",
        "outputId": "017f76a4-ead8-48e2-e451-41590aa3c2fa"
      },
      "outputs": [
        {
          "output_type": "execute_result",
          "data": {
            "text/plain": [
              "[<matplotlib.lines.Line2D at 0x7fecce05db90>]"
            ]
          },
          "metadata": {},
          "execution_count": 24
        },
        {
          "output_type": "display_data",
          "data": {
            "text/plain": [
              "<Figure size 432x288 with 1 Axes>"
            ],
            "image/png": "[encoded data removed]"
          },
          "metadata": {
            "needs_background": "light"
          }
        }
      ],
      "source": [
        "# training loss\n",
        "plt.title('Training loss per batch')\n",
        "plt.plot(train_losses[1:])"
      ]
    },
    {
      "cell_type": "code",
      "execution_count": 25,
      "id": "4dc29f04",
      "metadata": {
        "jupyter": {
          "outputs_hidden": false
        },
        "pycharm": {
          "name": "#%%\n"
        },
        "colab": {
          "base_uri": "https://localhost:8080/",
          "height": 298
        },
        "id": "4dc29f04",
        "outputId": "eec1cb91-c688-4876-938c-1b28219229af"
      },
      "outputs": [
        {
          "output_type": "execute_result",
          "data": {
            "text/plain": [
              "[<matplotlib.lines.Line2D at 0x7fecc13374d0>]"
            ]
          },
          "metadata": {},
          "execution_count": 25
        },
        {
          "output_type": "display_data",
          "data": {
            "text/plain": [
              "<Figure size 432x288 with 1 Axes>"
            ],
            "image/png": "[encoded data removed]"
          },
          "metadata": {
            "needs_background": "light"
          }
        }
      ],
      "source": [
        "# validation loss\n",
        "plt.title('Validation loss per batch')\n",
        "plt.plot(valid_losses[1:])"
      ]
    },
    {
      "cell_type": "code",
      "execution_count": 26,
      "id": "fd37a98f",
      "metadata": {
        "jupyter": {
          "outputs_hidden": false
        },
        "pycharm": {
          "name": "#%%\n"
        },
        "colab": {
          "base_uri": "https://localhost:8080/",
          "height": 298
        },
        "id": "fd37a98f",
        "outputId": "c800190d-f2e4-4cbd-fcd2-f64f7a09af70"
      },
      "outputs": [
        {
          "output_type": "execute_result",
          "data": {
            "text/plain": [
              "[<matplotlib.lines.Line2D at 0x7fecc132f090>]"
            ]
          },
          "metadata": {},
          "execution_count": 26
        },
        {
          "output_type": "display_data",
          "data": {
            "text/plain": [
              "<Figure size 432x288 with 1 Axes>"
            ],
            "image/png": "[encoded data removed]"
          },
          "metadata": {
            "needs_background": "light"
          }
        }
      ],
      "source": [
        "# train roc auc\n",
        "plt.title('Train ROC AUC per batch')\n",
        "plt.plot(train_roc_auc_scores[1:])"
      ]
    },
    {
      "cell_type": "code",
      "execution_count": 27,
      "id": "abcf9207",
      "metadata": {
        "jupyter": {
          "outputs_hidden": false
        },
        "pycharm": {
          "name": "#%%\n"
        },
        "colab": {
          "base_uri": "https://localhost:8080/",
          "height": 298
        },
        "id": "abcf9207",
        "outputId": "2f2c66fe-e06e-4c57-b51f-a4ec39a284f7"
      },
      "outputs": [
        {
          "output_type": "execute_result",
          "data": {
            "text/plain": [
              "[<matplotlib.lines.Line2D at 0x7fecc1296390>]"
            ]
          },
          "metadata": {},
          "execution_count": 27
        },
        {
          "output_type": "display_data",
          "data": {
            "text/plain": [
              "<Figure size 432x288 with 1 Axes>"
            ],
            "image/png": "[encoded data removed]"
          },
          "metadata": {
            "needs_background": "light"
          }
        }
      ],
      "source": [
        "# training accuracy\n",
        "plt.title('Training accuracy per batch')\n",
        "plt.plot(train_accuracies[1:])"
      ]
    },
    {
      "cell_type": "code",
      "execution_count": 28,
      "id": "4a03b6f1",
      "metadata": {
        "jupyter": {
          "outputs_hidden": false
        },
        "pycharm": {
          "name": "#%%\n"
        },
        "colab": {
          "base_uri": "https://localhost:8080/",
          "height": 298
        },
        "id": "4a03b6f1",
        "outputId": "010a125a-c3af-4243-e609-6ec0db7c74a6"
      },
      "outputs": [
        {
          "output_type": "execute_result",
          "data": {
            "text/plain": [
              "[<matplotlib.lines.Line2D at 0x7fecc11fd050>]"
            ]
          },
          "metadata": {},
          "execution_count": 28
        },
        {
          "output_type": "display_data",
          "data": {
            "text/plain": [
              "<Figure size 432x288 with 1 Axes>"
            ],
            "image/png": "[encoded data removed]"
          },
          "metadata": {
            "needs_background": "light"
          }
        }
      ],
      "source": [
        "# validation accuracy\n",
        "plt.title('Validation accuracy per batch')\n",
        "plt.plot(valid_accuracies)"
      ]
    },
    {
      "cell_type": "code",
      "execution_count": 29,
      "id": "6a6efbb9",
      "metadata": {
        "jupyter": {
          "outputs_hidden": false
        },
        "pycharm": {
          "name": "#%%\n"
        },
        "colab": {
          "base_uri": "https://localhost:8080/",
          "height": 298
        },
        "id": "6a6efbb9",
        "outputId": "51492916-8382-4d5e-ab7e-e6ea4e4e0a20"
      },
      "outputs": [
        {
          "output_type": "execute_result",
          "data": {
            "text/plain": [
              "[<matplotlib.lines.Line2D at 0x7fecce0557d0>]"
            ]
          },
          "metadata": {},
          "execution_count": 29
        },
        {
          "output_type": "display_data",
          "data": {
            "text/plain": [
              "<Figure size 432x288 with 1 Axes>"
            ],
            "image/png": "[encoded data removed]"
          },
          "metadata": {
            "needs_background": "light"
          }
        }
      ],
      "source": [
        "# validation roc auc\n",
        "plt.title('Validation ROC AUC per batch')\n",
        "plt.plot(valid_roc_auc_scores)"
      ]
    },
    {
      "cell_type": "markdown",
      "id": "9524c160",
      "metadata": {
        "pycharm": {
          "name": "#%% md\n"
        },
        "id": "9524c160"
      },
      "source": [
        "## Evaluation\n",
        "\n",
        "Evaluate the model against the test data set.\n",
        "\n",
        "This is representative of how the model will perform in real life as it has not seen the test data."
      ]
    },
    {
      "cell_type": "code",
      "execution_count": 30,
      "id": "cf291371",
      "metadata": {
        "jupyter": {
          "outputs_hidden": false
        },
        "pycharm": {
          "name": "#%%\n"
        },
        "id": "cf291371"
      },
      "outputs": [],
      "source": [
        "'''\n",
        "Data loader for the test data.\n",
        "'''\n",
        "def get_test_loader(test_data):\n",
        "    test_set = CustomDataset(\n",
        "        images_filepaths=test_data['image_filepath'].values,\n",
        "        targets=test_data['target'].values,\n",
        "        # transform=get_valid_transforms()\n",
        "    )\n",
        "\n",
        "    return DataLoader(\n",
        "        test_set,\n",
        "        batch_size=config['batch_size'],\n",
        "        shuffle=False,\n",
        "        # num_workers=config['num_workers'],\n",
        "        pin_memory=True\n",
        "    )"
      ]
    },
    {
      "cell_type": "markdown",
      "source": [
        "Get the model predictions for the test data set:"
      ],
      "metadata": {
        "collapsed": false,
        "pycharm": {
          "name": "#%% md\n"
        },
        "id": "qoLdI0VZ9NN_"
      },
      "id": "qoLdI0VZ9NN_"
    },
    {
      "cell_type": "code",
      "execution_count": 31,
      "id": "c97ec53b",
      "metadata": {
        "jupyter": {
          "outputs_hidden": false
        },
        "pycharm": {
          "name": "#%%\n"
        },
        "id": "c97ec53b"
      },
      "outputs": [],
      "source": [
        "test_targets = []\n",
        "test_outputs = []\n",
        "\n",
        "model.cuda() # run the model on GPU\n",
        "model.eval() # put model in evaluation mode so weights are not affected\n",
        "\n",
        "# run the model against the test data and gather the predictions\n",
        "for X_batch, y_batch in get_test_loader(test_df):\n",
        "    X_batch, y_batch = X_batch.to(config['device']), y_batch.to(config['device'])\n",
        "\n",
        "    y_pred = model(X_batch)\n",
        "\n",
        "    test_targets.append(y_batch)\n",
        "    test_outputs.extend([t.item() for t in y_pred])"
      ]
    },
    {
      "cell_type": "markdown",
      "id": "1786f279",
      "metadata": {
        "pycharm": {
          "name": "#%% md\n"
        },
        "id": "1786f279"
      },
      "source": [
        "The prediction values are in a range:"
      ]
    },
    {
      "cell_type": "code",
      "execution_count": 32,
      "id": "12f475a8",
      "metadata": {
        "jupyter": {
          "outputs_hidden": false
        },
        "pycharm": {
          "name": "#%%\n"
        },
        "colab": {
          "base_uri": "https://localhost:8080/",
          "height": 282
        },
        "id": "12f475a8",
        "outputId": "8a7daa44-fab4-45d0-ac6c-0178bdaa49e5"
      },
      "outputs": [
        {
          "output_type": "execute_result",
          "data": {
            "text/plain": [
              "[<matplotlib.lines.Line2D at 0x7fecc11a5450>]"
            ]
          },
          "metadata": {},
          "execution_count": 32
        },
        {
          "output_type": "display_data",
          "data": {
            "text/plain": [
              "<Figure size 432x288 with 1 Axes>"
            ],
            "image/png": "[encoded data removed]"
          },
          "metadata": {
            "needs_background": "light"
          }
        }
      ],
      "source": [
        "plt.plot(test_outputs)"
      ]
    },
    {
      "cell_type": "markdown",
      "id": "562bdd4b",
      "metadata": {
        "pycharm": {
          "name": "#%% md\n"
        },
        "id": "562bdd4b"
      },
      "source": [
        "To help convert to a binary classification, normalise between 0 and 1:"
      ]
    },
    {
      "cell_type": "code",
      "execution_count": 33,
      "id": "53e7f94d",
      "metadata": {
        "jupyter": {
          "outputs_hidden": false
        },
        "pycharm": {
          "name": "#%%\n"
        },
        "id": "53e7f94d"
      },
      "outputs": [],
      "source": [
        "normalised_predictions = get_normalised_predictions(test_outputs)"
      ]
    },
    {
      "cell_type": "code",
      "execution_count": 34,
      "id": "1fcf74b8",
      "metadata": {
        "jupyter": {
          "outputs_hidden": false
        },
        "pycharm": {
          "name": "#%%\n"
        },
        "colab": {
          "base_uri": "https://localhost:8080/",
          "height": 282
        },
        "id": "1fcf74b8",
        "outputId": "3fb558bd-1f47-434e-f1cc-ccd6ffe52b99"
      },
      "outputs": [
        {
          "output_type": "execute_result",
          "data": {
            "text/plain": [
              "[<matplotlib.lines.Line2D at 0x7fecc111ea50>]"
            ]
          },
          "metadata": {},
          "execution_count": 34
        },
        {
          "output_type": "display_data",
          "data": {
            "text/plain": [
              "<Figure size 432x288 with 1 Axes>"
            ],
            "image/png": "[encoded data removed]"
          },
          "metadata": {
            "needs_background": "light"
          }
        }
      ],
      "source": [
        "plt.plot(normalised_predictions)"
      ]
    },
    {
      "cell_type": "markdown",
      "id": "d63a1d61",
      "metadata": {
        "pycharm": {
          "name": "#%% md\n"
        },
        "id": "d63a1d61"
      },
      "source": [
        "Use 0.5 as a threshold to map the predictions into binary classifications:"
      ]
    },
    {
      "cell_type": "code",
      "execution_count": 35,
      "id": "9f8cd202",
      "metadata": {
        "jupyter": {
          "outputs_hidden": false
        },
        "pycharm": {
          "name": "#%%\n"
        },
        "id": "9f8cd202"
      },
      "outputs": [],
      "source": [
        "test_targets_float = [x.cpu().numpy() for x in test_targets]\n",
        "test_targets_float = np.concatenate(test_targets_float, axis=0).tolist()\n",
        "test_outputs_binary = [0 if x < 0.5 else 1.0 for x in normalised_predictions]"
      ]
    },
    {
      "cell_type": "markdown",
      "source": [
        "Create and display the test results dataframe for verification:"
      ],
      "metadata": {
        "collapsed": false,
        "pycharm": {
          "name": "#%% md\n"
        },
        "id": "BXGaACIV9NOB"
      },
      "id": "BXGaACIV9NOB"
    },
    {
      "cell_type": "code",
      "execution_count": 36,
      "id": "408ed0a9",
      "metadata": {
        "jupyter": {
          "outputs_hidden": false
        },
        "pycharm": {
          "name": "#%%\n"
        },
        "colab": {
          "base_uri": "https://localhost:8080/",
          "height": 424
        },
        "id": "408ed0a9",
        "outputId": "dda38b32-6c64-48d2-f120-db6154787c36"
      },
      "outputs": [
        {
          "output_type": "execute_result",
          "data": {
            "text/plain": [
              "     label  prediction\n",
              "0      1.0         1.0\n",
              "1      1.0         1.0\n",
              "2      1.0         0.0\n",
              "3      0.0         1.0\n",
              "4      1.0         1.0\n",
              "..     ...         ...\n",
              "585    0.0         0.0\n",
              "586    0.0         1.0\n",
              "587    0.0         1.0\n",
              "588    1.0         0.0\n",
              "589    1.0         0.0\n",
              "\n",
              "[590 rows x 2 columns]"
            ],
            "text/html": [
              "\n",
              "  <div id=\"df-1c1e6cf4-5cb5-4c24-ace5-460c075f4476\">\n",
              "    <div class=\"colab-df-container\">\n",
              "      <div>\n",
              "<style scoped>\n",
              "    .dataframe tbody tr th:only-of-type {\n",
              "        vertical-align: middle;\n",
              "    }\n",
              "\n",
              "    .dataframe tbody tr th {\n",
              "        vertical-align: top;\n",
              "    }\n",
              "\n",
              "    .dataframe thead th {\n",
              "        text-align: right;\n",
              "    }\n",
              "</style>\n",
              "<table border=\"1\" class=\"dataframe\">\n",
              "  <thead>\n",
              "    <tr style=\"text-align: right;\">\n",
              "      <th></th>\n",
              "      <th>label</th>\n",
              "      <th>prediction</th>\n",
              "    </tr>\n",
              "  </thead>\n",
              "  <tbody>\n",
              "    <tr>\n",
              "      <th>0</th>\n",
              "      <td>1.0</td>\n",
              "      <td>1.0</td>\n",
              "    </tr>\n",
              "    <tr>\n",
              "      <th>1</th>\n",
              "      <td>1.0</td>\n",
              "      <td>1.0</td>\n",
              "    </tr>\n",
              "    <tr>\n",
              "      <th>2</th>\n",
              "      <td>1.0</td>\n",
              "      <td>0.0</td>\n",
              "    </tr>\n",
              "    <tr>\n",
              "      <th>3</th>\n",
              "      <td>0.0</td>\n",
              "      <td>1.0</td>\n",
              "    </tr>\n",
              "    <tr>\n",
              "      <th>4</th>\n",
              "      <td>1.0</td>\n",
              "      <td>1.0</td>\n",
              "    </tr>\n",
              "    <tr>\n",
              "      <th>...</th>\n",
              "      <td>...</td>\n",
              "      <td>...</td>\n",
              "    </tr>\n",
              "    <tr>\n",
              "      <th>585</th>\n",
              "      <td>0.0</td>\n",
              "      <td>0.0</td>\n",
              "    </tr>\n",
              "    <tr>\n",
              "      <th>586</th>\n",
              "      <td>0.0</td>\n",
              "      <td>1.0</td>\n",
              "    </tr>\n",
              "    <tr>\n",
              "      <th>587</th>\n",
              "      <td>0.0</td>\n",
              "      <td>1.0</td>\n",
              "    </tr>\n",
              "    <tr>\n",
              "      <th>588</th>\n",
              "      <td>1.0</td>\n",
              "      <td>0.0</td>\n",
              "    </tr>\n",
              "    <tr>\n",
              "      <th>589</th>\n",
              "      <td>1.0</td>\n",
              "      <td>0.0</td>\n",
              "    </tr>\n",
              "  </tbody>\n",
              "</table>\n",
              "<p>590 rows × 2 columns</p>\n",
              "</div>\n",
              "      <button class=\"colab-df-convert\" onclick=\"convertToInteractive('df-1c1e6cf4-5cb5-4c24-ace5-460c075f4476')\"\n",
              "              title=\"Convert this dataframe to an interactive table.\"\n",
              "              style=\"display:none;\">\n",
              "        \n",
              "  <svg xmlns=\"http://www.w3.org/2000/svg\" height=\"24px\"viewBox=\"0 0 24 24\"\n",
              "       width=\"24px\">\n",
              "    <path d=\"M0 0h24v24H0V0z\" fill=\"none\"/>\n",
              "    <path d=\"M18.56 5.44l.94 2.06.94-2.06 2.06-.94-2.06-.94-.94-2.06-.94 2.06-2.06.94zm-11 1L8.5 8.5l.94-2.06 2.06-.94-2.06-.94L8.5 2.5l-.94 2.06-2.06.94zm10 10l.94 2.06.94-2.06 2.06-.94-2.06-.94-.94-2.06-.94 2.06-2.06.94z\"/><path d=\"M17.41 7.96l-1.37-1.37c-.4-.4-.92-.59-1.43-.59-.52 0-1.04.2-1.43.59L10.3 9.45l-7.72 7.72c-.78.78-.78 2.05 0 2.83L4 21.41c.39.39.9.59 1.41.59.51 0 1.02-.2 1.41-.59l7.78-7.78 2.81-2.81c.8-.78.8-2.07 0-2.86zM5.41 20L4 18.59l7.72-7.72 1.47 1.35L5.41 20z\"/>\n",
              "  </svg>\n",
              "      </button>\n",
              "      \n",
              "  <style>\n",
              "    .colab-df-container {\n",
              "      display:flex;\n",
              "      flex-wrap:wrap;\n",
              "      gap: 12px;\n",
              "    }\n",
              "\n",
              "    .colab-df-convert {\n",
              "      background-color: #E8F0FE;\n",
              "      border: none;\n",
              "      border-radius: 50%;\n",
              "      cursor: pointer;\n",
              "      display: none;\n",
              "      fill: #1967D2;\n",
              "      height: 32px;\n",
              "      padding: 0 0 0 0;\n",
              "      width: 32px;\n",
              "    }\n",
              "\n",
              "    .colab-df-convert:hover {\n",
              "      background-color: #E2EBFA;\n",
              "      box-shadow: 0px 1px 2px rgba(60, 64, 67, 0.3), 0px 1px 3px 1px rgba(60, 64, 67, 0.15);\n",
              "      fill: #174EA6;\n",
              "    }\n",
              "\n",
              "    [theme=dark] .colab-df-convert {\n",
              "      background-color: #3B4455;\n",
              "      fill: #D2E3FC;\n",
              "    }\n",
              "\n",
              "    [theme=dark] .colab-df-convert:hover {\n",
              "      background-color: #434B5C;\n",
              "      box-shadow: 0px 1px 3px 1px rgba(0, 0, 0, 0.15);\n",
              "      filter: drop-shadow(0px 1px 2px rgba(0, 0, 0, 0.3));\n",
              "      fill: #FFFFFF;\n",
              "    }\n",
              "  </style>\n",
              "\n",
              "      <script>\n",
              "        const buttonEl =\n",
              "          document.querySelector('#df-1c1e6cf4-5cb5-4c24-ace5-460c075f4476 button.colab-df-convert');\n",
              "        buttonEl.style.display =\n",
              "          google.colab.kernel.accessAllowed ? 'block' : 'none';\n",
              "\n",
              "        async function convertToInteractive(key) {\n",
              "          const element = document.querySelector('#df-1c1e6cf4-5cb5-4c24-ace5-460c075f4476');\n",
              "          const dataTable =\n",
              "            await google.colab.kernel.invokeFunction('convertToInteractive',\n",
              "                                                     [key], {});\n",
              "          if (!dataTable) return;\n",
              "\n",
              "          const docLinkHtml = 'Like what you see? Visit the ' +\n",
              "            '<a target=\"_blank\" href=https://colab.research.google.com/notebooks/data_table.ipynb>data table notebook</a>'\n",
              "            + ' to learn more about interactive tables.';\n",
              "          element.innerHTML = '';\n",
              "          dataTable['output_type'] = 'display_data';\n",
              "          await google.colab.output.renderOutput(dataTable, element);\n",
              "          const docLink = document.createElement('div');\n",
              "          docLink.innerHTML = docLinkHtml;\n",
              "          element.appendChild(docLink);\n",
              "        }\n",
              "      </script>\n",
              "    </div>\n",
              "  </div>\n",
              "  "
            ]
          },
          "metadata": {},
          "execution_count": 36
        }
      ],
      "source": [
        "test_results_df = pd.DataFrame([test_targets_float, test_outputs_binary])\n",
        "\n",
        "test_results_df = test_results_df.transpose()\n",
        "test_results_df.columns = ['label', 'prediction']\n",
        "\n",
        "test_results_df"
      ]
    },
    {
      "cell_type": "markdown",
      "source": [
        "Display a confusion matrix to give an overview of how the model classified the data:"
      ],
      "metadata": {
        "collapsed": false,
        "pycharm": {
          "name": "#%% md\n"
        },
        "id": "oEC4dc_N9NOC"
      },
      "id": "oEC4dc_N9NOC"
    },
    {
      "cell_type": "code",
      "execution_count": 37,
      "id": "f930eede",
      "metadata": {
        "jupyter": {
          "outputs_hidden": false
        },
        "pycharm": {
          "name": "#%%\n"
        },
        "colab": {
          "base_uri": "https://localhost:8080/",
          "height": 143
        },
        "id": "f930eede",
        "outputId": "8e19bbad-3522-4aac-c65e-8f883111779f"
      },
      "outputs": [
        {
          "output_type": "execute_result",
          "data": {
            "text/plain": [
              "label       0.0  1.0\n",
              "prediction          \n",
              "0.0         100  103\n",
              "1.0         191  196"
            ],
            "text/html": [
              "\n",
              "  <div id=\"df-fb4af58c-583e-4ea1-bd68-c5ee4416006f\">\n",
              "    <div class=\"colab-df-container\">\n",
              "      <div>\n",
              "<style scoped>\n",
              "    .dataframe tbody tr th:only-of-type {\n",
              "        vertical-align: middle;\n",
              "    }\n",
              "\n",
              "    .dataframe tbody tr th {\n",
              "        vertical-align: top;\n",
              "    }\n",
              "\n",
              "    .dataframe thead th {\n",
              "        text-align: right;\n",
              "    }\n",
              "</style>\n",
              "<table border=\"1\" class=\"dataframe\">\n",
              "  <thead>\n",
              "    <tr style=\"text-align: right;\">\n",
              "      <th>label</th>\n",
              "      <th>0.0</th>\n",
              "      <th>1.0</th>\n",
              "    </tr>\n",
              "    <tr>\n",
              "      <th>prediction</th>\n",
              "      <th></th>\n",
              "      <th></th>\n",
              "    </tr>\n",
              "  </thead>\n",
              "  <tbody>\n",
              "    <tr>\n",
              "      <th>0.0</th>\n",
              "      <td>100</td>\n",
              "      <td>103</td>\n",
              "    </tr>\n",
              "    <tr>\n",
              "      <th>1.0</th>\n",
              "      <td>191</td>\n",
              "      <td>196</td>\n",
              "    </tr>\n",
              "  </tbody>\n",
              "</table>\n",
              "</div>\n",
              "      <button class=\"colab-df-convert\" onclick=\"convertToInteractive('df-fb4af58c-583e-4ea1-bd68-c5ee4416006f')\"\n",
              "              title=\"Convert this dataframe to an interactive table.\"\n",
              "              style=\"display:none;\">\n",
              "        \n",
              "  <svg xmlns=\"http://www.w3.org/2000/svg\" height=\"24px\"viewBox=\"0 0 24 24\"\n",
              "       width=\"24px\">\n",
              "    <path d=\"M0 0h24v24H0V0z\" fill=\"none\"/>\n",
              "    <path d=\"M18.56 5.44l.94 2.06.94-2.06 2.06-.94-2.06-.94-.94-2.06-.94 2.06-2.06.94zm-11 1L8.5 8.5l.94-2.06 2.06-.94-2.06-.94L8.5 2.5l-.94 2.06-2.06.94zm10 10l.94 2.06.94-2.06 2.06-.94-2.06-.94-.94-2.06-.94 2.06-2.06.94z\"/><path d=\"M17.41 7.96l-1.37-1.37c-.4-.4-.92-.59-1.43-.59-.52 0-1.04.2-1.43.59L10.3 9.45l-7.72 7.72c-.78.78-.78 2.05 0 2.83L4 21.41c.39.39.9.59 1.41.59.51 0 1.02-.2 1.41-.59l7.78-7.78 2.81-2.81c.8-.78.8-2.07 0-2.86zM5.41 20L4 18.59l7.72-7.72 1.47 1.35L5.41 20z\"/>\n",
              "  </svg>\n",
              "      </button>\n",
              "      \n",
              "  <style>\n",
              "    .colab-df-container {\n",
              "      display:flex;\n",
              "      flex-wrap:wrap;\n",
              "      gap: 12px;\n",
              "    }\n",
              "\n",
              "    .colab-df-convert {\n",
              "      background-color: #E8F0FE;\n",
              "      border: none;\n",
              "      border-radius: 50%;\n",
              "      cursor: pointer;\n",
              "      display: none;\n",
              "      fill: #1967D2;\n",
              "      height: 32px;\n",
              "      padding: 0 0 0 0;\n",
              "      width: 32px;\n",
              "    }\n",
              "\n",
              "    .colab-df-convert:hover {\n",
              "      background-color: #E2EBFA;\n",
              "      box-shadow: 0px 1px 2px rgba(60, 64, 67, 0.3), 0px 1px 3px 1px rgba(60, 64, 67, 0.15);\n",
              "      fill: #174EA6;\n",
              "    }\n",
              "\n",
              "    [theme=dark] .colab-df-convert {\n",
              "      background-color: #3B4455;\n",
              "      fill: #D2E3FC;\n",
              "    }\n",
              "\n",
              "    [theme=dark] .colab-df-convert:hover {\n",
              "      background-color: #434B5C;\n",
              "      box-shadow: 0px 1px 3px 1px rgba(0, 0, 0, 0.15);\n",
              "      filter: drop-shadow(0px 1px 2px rgba(0, 0, 0, 0.3));\n",
              "      fill: #FFFFFF;\n",
              "    }\n",
              "  </style>\n",
              "\n",
              "      <script>\n",
              "        const buttonEl =\n",
              "          document.querySelector('#df-fb4af58c-583e-4ea1-bd68-c5ee4416006f button.colab-df-convert');\n",
              "        buttonEl.style.display =\n",
              "          google.colab.kernel.accessAllowed ? 'block' : 'none';\n",
              "\n",
              "        async function convertToInteractive(key) {\n",
              "          const element = document.querySelector('#df-fb4af58c-583e-4ea1-bd68-c5ee4416006f');\n",
              "          const dataTable =\n",
              "            await google.colab.kernel.invokeFunction('convertToInteractive',\n",
              "                                                     [key], {});\n",
              "          if (!dataTable) return;\n",
              "\n",
              "          const docLinkHtml = 'Like what you see? Visit the ' +\n",
              "            '<a target=\"_blank\" href=https://colab.research.google.com/notebooks/data_table.ipynb>data table notebook</a>'\n",
              "            + ' to learn more about interactive tables.';\n",
              "          element.innerHTML = '';\n",
              "          dataTable['output_type'] = 'display_data';\n",
              "          await google.colab.output.renderOutput(dataTable, element);\n",
              "          const docLink = document.createElement('div');\n",
              "          docLink.innerHTML = docLinkHtml;\n",
              "          element.appendChild(docLink);\n",
              "        }\n",
              "      </script>\n",
              "    </div>\n",
              "  </div>\n",
              "  "
            ]
          },
          "metadata": {},
          "execution_count": 37
        }
      ],
      "source": [
        "pd.crosstab(test_results_df['prediction'], test_results_df['label'])"
      ]
    },
    {
      "cell_type": "markdown",
      "source": [
        "Print classification metrics:"
      ],
      "metadata": {
        "collapsed": false,
        "pycharm": {
          "name": "#%% md\n"
        },
        "id": "uHQGMP799NOC"
      },
      "id": "uHQGMP799NOC"
    },
    {
      "cell_type": "code",
      "execution_count": 38,
      "id": "048a9b5e",
      "metadata": {
        "jupyter": {
          "outputs_hidden": false
        },
        "pycharm": {
          "name": "#%%\n"
        },
        "colab": {
          "base_uri": "https://localhost:8080/"
        },
        "id": "048a9b5e",
        "outputId": "c847ad24-f382-44e9-d870-658c701bc9ff"
      },
      "outputs": [
        {
          "output_type": "stream",
          "name": "stdout",
          "text": [
            "              precision    recall  f1-score   support\n",
            "\n",
            "         0.0       0.34      0.49      0.40       203\n",
            "         1.0       0.66      0.51      0.57       387\n",
            "\n",
            "    accuracy                           0.50       590\n",
            "   macro avg       0.50      0.50      0.49       590\n",
            "weighted avg       0.55      0.50      0.51       590\n",
            "\n"
          ]
        }
      ],
      "source": [
        "print(classification_report(test_results_df['prediction'], test_results_df['label']))"
      ]
    },
    {
      "cell_type": "markdown",
      "id": "56bf8806",
      "metadata": {
        "pycharm": {
          "name": "#%% md\n"
        },
        "id": "56bf8806"
      },
      "source": [
        "## Visualise Filters\n",
        "\n",
        "To help understand how the model works, the convolutional filters for the first layer are plotted."
      ]
    },
    {
      "cell_type": "code",
      "execution_count": 39,
      "id": "3fcb2990",
      "metadata": {
        "jupyter": {
          "outputs_hidden": false
        },
        "pycharm": {
          "name": "#%%\n"
        },
        "colab": {
          "base_uri": "https://localhost:8080/"
        },
        "id": "3fcb2990",
        "outputId": "99d8f843-e1cf-43f9-acd3-67a8bbbf346c"
      },
      "outputs": [
        {
          "output_type": "execute_result",
          "data": {
            "text/plain": [
              "CustomModel(\n",
              "  (layer1): Sequential(\n",
              "    (0): Conv2d(1, 32, kernel_size=(3, 3), stride=(2, 2), padding=(2, 2))\n",
              "    (1): BatchNorm2d(32, eps=1e-05, momentum=0.1, affine=True, track_running_stats=True)\n",
              "    (2): ReLU()\n",
              "    (3): MaxPool2d(kernel_size=2, stride=2, padding=0, dilation=1, ceil_mode=False)\n",
              "  )\n",
              "  (layer2): Sequential(\n",
              "    (0): Conv2d(32, 64, kernel_size=(3, 3), stride=(2, 2), padding=(2, 2))\n",
              "    (1): BatchNorm2d(64, eps=1e-05, momentum=0.1, affine=True, track_running_stats=True)\n",
              "    (2): ReLU()\n",
              "    (3): MaxPool2d(kernel_size=2, stride=2, padding=0, dilation=1, ceil_mode=False)\n",
              "  )\n",
              "  (layer3): Sequential(\n",
              "    (0): Conv2d(64, 128, kernel_size=(3, 3), stride=(2, 2), padding=(2, 2))\n",
              "    (1): BatchNorm2d(128, eps=1e-05, momentum=0.1, affine=True, track_running_stats=True)\n",
              "    (2): ReLU()\n",
              "    (3): MaxPool2d(kernel_size=2, stride=2, padding=0, dilation=1, ceil_mode=False)\n",
              "  )\n",
              "  (layer4): Sequential(\n",
              "    (0): Conv2d(128, 256, kernel_size=(3, 3), stride=(2, 2), padding=(2, 2))\n",
              "    (1): BatchNorm2d(256, eps=1e-05, momentum=0.1, affine=True, track_running_stats=True)\n",
              "    (2): ReLU()\n",
              "    (3): MaxPool2d(kernel_size=2, stride=2, padding=0, dilation=1, ceil_mode=False)\n",
              "  )\n",
              "  (layer5): Sequential(\n",
              "    (0): Conv2d(256, 512, kernel_size=(3, 3), stride=(2, 2), padding=(2, 2))\n",
              "    (1): BatchNorm2d(512, eps=1e-05, momentum=0.1, affine=True, track_running_stats=True)\n",
              "    (2): ReLU()\n",
              "    (3): MaxPool2d(kernel_size=2, stride=2, padding=0, dilation=1, ceil_mode=False)\n",
              "  )\n",
              "  (layer6): Sequential(\n",
              "    (0): Conv2d(512, 1024, kernel_size=(3, 3), stride=(2, 2), padding=(2, 2))\n",
              "    (1): BatchNorm2d(1204, eps=1e-05, momentum=0.1, affine=True, track_running_stats=True)\n",
              "    (2): ReLU()\n",
              "    (3): MaxPool2d(kernel_size=2, stride=2, padding=0, dilation=1, ceil_mode=False)\n",
              "  )\n",
              "  (layer7): Sequential(\n",
              "    (0): Conv2d(1024, 2048, kernel_size=(3, 3), stride=(2, 2), padding=(2, 2))\n",
              "    (1): BatchNorm2d(2048, eps=1e-05, momentum=0.1, affine=True, track_running_stats=True)\n",
              "    (2): ReLU()\n",
              "    (3): MaxPool2d(kernel_size=2, stride=2, padding=0, dilation=1, ceil_mode=False)\n",
              "  )\n",
              "  (layer8): Sequential(\n",
              "    (0): Conv2d(2048, 4096, kernel_size=(3, 3), stride=(2, 2), padding=(2, 2))\n",
              "    (1): BatchNorm2d(4098, eps=1e-05, momentum=0.1, affine=True, track_running_stats=True)\n",
              "    (2): ReLU()\n",
              "    (3): MaxPool2d(kernel_size=2, stride=2, padding=0, dilation=1, ceil_mode=False)\n",
              "  )\n",
              "  (fc1): Linear(in_features=256, out_features=1, bias=True)\n",
              ")"
            ]
          },
          "metadata": {},
          "execution_count": 39
        }
      ],
      "source": [
        "# load the model on the CPU\n",
        "model = CustomModel()\n",
        "model.load_state_dict(torch.load(os.path.join(models_dir, model_name)))\n",
        "model.eval()"
      ]
    },
    {
      "cell_type": "code",
      "execution_count": 40,
      "id": "5f11bae7",
      "metadata": {
        "jupyter": {
          "outputs_hidden": false
        },
        "pycharm": {
          "name": "#%%\n"
        },
        "id": "5f11bae7"
      },
      "outputs": [],
      "source": [
        "'''\n",
        "Plots the filter for a convolutional kernel.\n",
        "'''\n",
        "def plot_filter(kernel):\n",
        "    # normalise between 0 and 1\n",
        "    normalised_kernel = kernel - kernel.min()\n",
        "    normalised_kernel = normalised_kernel / normalised_kernel.max()\n",
        "\n",
        "    # make a grid of images\n",
        "    filter = utils.make_grid(normalised_kernel, nrow = 12)\n",
        "\n",
        "    # matplotlib uses (height x width x channels) format\n",
        "    # pytorch uses (batch index x channel x height x width) format\n",
        "    plt.imshow(filter.permute(1, 2, 0))"
      ]
    },
    {
      "cell_type": "code",
      "execution_count": 41,
      "id": "6bd90ea8",
      "metadata": {
        "jupyter": {
          "outputs_hidden": false
        },
        "pycharm": {
          "name": "#%%\n"
        },
        "colab": {
          "base_uri": "https://localhost:8080/",
          "height": 158
        },
        "id": "6bd90ea8",
        "outputId": "6992ac3c-484d-4c66-bd8f-f4af743e03fc"
      },
      "outputs": [
        {
          "output_type": "stream",
          "name": "stdout",
          "text": [
            "torch.Size([32, 1, 3, 3])\n"
          ]
        },
        {
          "output_type": "display_data",
          "data": {
            "text/plain": [
              "<Figure size 432x288 with 1 Axes>"
            ],
            "image/png": "[encoded data removed]"
          },
          "metadata": {
            "needs_background": "light"
          }
        }
      ],
      "source": [
        "# get the kernel for the first layer\n",
        "kernel = model.layer1[0].weight.detach().clone()\n",
        "\n",
        "# print its size and plot its filters\n",
        "print(kernel.size())\n",
        "plot_filter(kernel)"
      ]
    }
  ],
  "metadata": {
    "kernelspec": {
      "display_name": "Python 3 (ipykernel)",
      "language": "python",
      "name": "python3"
    },
    "language_info": {
      "codemirror_mode": {
        "name": "ipython",
        "version": 3
      },
      "file_extension": ".py",
      "mimetype": "text/x-python",
      "name": "python",
      "nbconvert_exporter": "python",
      "pygments_lexer": "ipython3",
      "version": "3.9.13"
    },
    "colab": {
      "provenance": [],
      "collapsed_sections": [
        "056abd0c-c12a-4a0a-8e73-c7b64aa6432e"
      ]
    },
    "accelerator": "GPU",
    "gpuClass": "standard"
  },
  "nbformat": 4,
  "nbformat_minor": 5
}