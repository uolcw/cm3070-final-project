{
 "cells": [
  {
   "cell_type": "code",
   "execution_count": 3,
   "outputs": [
    {
     "data": {
      "text/plain": "0      D:\\UoL\\Level 6\\CM3070 - Final Project\\SETI Sig...\n1      D:\\UoL\\Level 6\\CM3070 - Final Project\\SETI Sig...\n2      D:\\UoL\\Level 6\\CM3070 - Final Project\\SETI Sig...\n3      D:\\UoL\\Level 6\\CM3070 - Final Project\\SETI Sig...\n4      D:\\UoL\\Level 6\\CM3070 - Final Project\\SETI Sig...\n                             ...                        \n995    D:\\UoL\\Level 6\\CM3070 - Final Project\\SETI Sig...\n996    D:\\UoL\\Level 6\\CM3070 - Final Project\\SETI Sig...\n997    D:\\UoL\\Level 6\\CM3070 - Final Project\\SETI Sig...\n998    D:\\UoL\\Level 6\\CM3070 - Final Project\\SETI Sig...\n999    D:\\UoL\\Level 6\\CM3070 - Final Project\\SETI Sig...\nLength: 1000, dtype: object"
     },
     "execution_count": 3,
     "metadata": {},
     "output_type": "execute_result"
    }
   ],
   "source": [
    "import os\n",
    "import numpy as np\n",
    "import pandas as pd\n",
    "import shutil\n",
    "\n",
    "\n",
    "data_dir = r'D:\\UoL\\Level 6\\CM3070 - Final Project\\SETI Signal Detection\\Data'\n",
    "train_data_dir = os.path.join(data_dir, 'train')\n",
    "micro_data_dir = os.path.join(data_dir, '500 dataset')\n",
    "\n",
    "labels_filepath = os.path.join(train_data_dir, '500_balanced_labels.npy')\n",
    "\n",
    "\n",
    "with open(labels_filepath, 'rb') as f:\n",
    "    raw_data = np.load(f, allow_pickle=True)\n",
    "\n",
    "data_df = pd.DataFrame(raw_data, columns=['id', 'target', 'image_filepath']).convert_dtypes()\n",
    "\n",
    "data_df.apply(lambda x: shutil.copy(x.image_filepath, micro_data_dir), axis=1)"
   ],
   "metadata": {
    "collapsed": false,
    "pycharm": {
     "name": "#%%\n"
    }
   }
  }
 ],
 "metadata": {
  "kernelspec": {
   "display_name": "Python 3 (ipykernel)",
   "language": "python",
   "name": "python3"
  },
  "language_info": {
   "codemirror_mode": {
    "name": "ipython",
    "version": 3
   },
   "file_extension": ".py",
   "mimetype": "text/x-python",
   "name": "python",
   "nbconvert_exporter": "python",
   "pygments_lexer": "ipython3",
   "version": "3.8.12"
  },
  "toc-autonumbering": true,
  "toc-showtags": false
 },
 "nbformat": 4,
 "nbformat_minor": 5
}