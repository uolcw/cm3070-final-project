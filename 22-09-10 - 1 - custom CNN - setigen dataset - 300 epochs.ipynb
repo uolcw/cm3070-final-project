{
 "cells": [
  {
   "cell_type": "markdown",
   "id": "dffa863f-8872-4bf0-b498-2aaad36ba0a0",
   "metadata": {
    "pycharm": {
     "name": "#%% md\n"
    }
   },
   "source": [
    "# CNN built from scratch to solve SETI Breakthrough Listen Kaggle challenge\n",
    "\n",
    "This notebook aims to use a handcrafted CNN deep learning model to solve the SETI Breakthrough Listen Kaggle challenge:\n",
    "-  https://www.kaggle.com/competitions/seti-breakthrough-listen"
   ]
  },
  {
   "cell_type": "markdown",
   "id": "4108ff72",
   "metadata": {
    "pycharm": {
     "name": "#%% md\n"
    }
   },
   "source": [
    "## Install Python Packages"
   ]
  },
  {
   "cell_type": "code",
   "execution_count": 1,
   "id": "15797265-4be7-4f48-8cbd-861d1b7b9696",
   "metadata": {
    "execution": {
     "iopub.execute_input": "2022-09-10T01:20:40.245764Z",
     "iopub.status.busy": "2022-09-10T01:20:40.245207Z",
     "iopub.status.idle": "2022-09-10T01:20:49.256323Z",
     "shell.execute_reply": "2022-09-10T01:20:49.254853Z",
     "shell.execute_reply.started": "2022-09-10T01:20:40.245693Z"
    },
    "pycharm": {
     "name": "#%%\n"
    }
   },
   "outputs": [
    {
     "name": "stdout",
     "output_type": "stream",
     "text": [
      "Collecting albumentations\n",
      "  Downloading albumentations-1.2.1-py3-none-any.whl (116 kB)\n",
      "\u001B[2K     \u001B[90m━━━━━━━━━━━━━━━━━━━━━━━━━━━━━━━━━━━━━━━\u001B[0m \u001B[32m116.7/116.7 kB\u001B[0m \u001B[31m8.4 MB/s\u001B[0m eta \u001B[36m0:00:00\u001B[0m\n",
      "\u001B[?25hCollecting qudida>=0.0.4\n",
      "  Downloading qudida-0.0.4-py3-none-any.whl (3.5 kB)\n",
      "Requirement already satisfied: scipy in /usr/local/lib/python3.9/dist-packages (from albumentations) (1.8.1)\n",
      "Requirement already satisfied: numpy>=1.11.1 in /usr/local/lib/python3.9/dist-packages (from albumentations) (1.23.1)\n",
      "Requirement already satisfied: PyYAML in /usr/local/lib/python3.9/dist-packages (from albumentations) (5.4.1)\n",
      "Requirement already satisfied: scikit-image>=0.16.1 in /usr/local/lib/python3.9/dist-packages (from albumentations) (0.19.3)\n",
      "Collecting opencv-python-headless>=4.1.1\n",
      "  Downloading opencv_python_headless-4.6.0.66-cp36-abi3-manylinux_2_17_x86_64.manylinux2014_x86_64.whl (48.3 MB)\n",
      "\u001B[2K     \u001B[90m━━━━━━━━━━━━━━━━━━━━━━━━━━━━━━━━━━━━━━━━\u001B[0m \u001B[32m48.3/48.3 MB\u001B[0m \u001B[31m31.2 MB/s\u001B[0m eta \u001B[36m0:00:00\u001B[0m00:01\u001B[0m00:01\u001B[0m\n",
      "\u001B[?25hRequirement already satisfied: typing-extensions in /usr/local/lib/python3.9/dist-packages (from qudida>=0.0.4->albumentations) (4.3.0)\n",
      "Requirement already satisfied: scikit-learn>=0.19.1 in /usr/local/lib/python3.9/dist-packages (from qudida>=0.0.4->albumentations) (1.1.1)\n",
      "Requirement already satisfied: tifffile>=2019.7.26 in /usr/local/lib/python3.9/dist-packages (from scikit-image>=0.16.1->albumentations) (2022.5.4)\n",
      "Requirement already satisfied: PyWavelets>=1.1.1 in /usr/local/lib/python3.9/dist-packages (from scikit-image>=0.16.1->albumentations) (1.3.0)\n",
      "Requirement already satisfied: networkx>=2.2 in /usr/local/lib/python3.9/dist-packages (from scikit-image>=0.16.1->albumentations) (2.8.4)\n",
      "Requirement already satisfied: pillow!=7.1.0,!=7.1.1,!=8.3.0,>=6.1.0 in /usr/local/lib/python3.9/dist-packages (from scikit-image>=0.16.1->albumentations) (9.2.0)\n",
      "Requirement already satisfied: packaging>=20.0 in /usr/local/lib/python3.9/dist-packages (from scikit-image>=0.16.1->albumentations) (21.3)\n",
      "Requirement already satisfied: imageio>=2.4.1 in /usr/local/lib/python3.9/dist-packages (from scikit-image>=0.16.1->albumentations) (2.19.3)\n",
      "Requirement already satisfied: pyparsing!=3.0.5,>=2.0.2 in /usr/local/lib/python3.9/dist-packages (from packaging>=20.0->scikit-image>=0.16.1->albumentations) (3.0.9)\n",
      "Requirement already satisfied: joblib>=1.0.0 in /usr/local/lib/python3.9/dist-packages (from scikit-learn>=0.19.1->qudida>=0.0.4->albumentations) (1.1.0)\n",
      "Requirement already satisfied: threadpoolctl>=2.0.0 in /usr/local/lib/python3.9/dist-packages (from scikit-learn>=0.19.1->qudida>=0.0.4->albumentations) (3.1.0)\n",
      "Installing collected packages: opencv-python-headless, qudida, albumentations\n",
      "Successfully installed albumentations-1.2.1 opencv-python-headless-4.6.0.66 qudida-0.0.4\n",
      "\u001B[33mWARNING: Running pip as the 'root' user can result in broken permissions and conflicting behaviour with the system package manager. It is recommended to use a virtual environment instead: https://pip.pypa.io/warnings/venv\u001B[0m\u001B[33m\n",
      "\u001B[0mCollecting torchsummary\n",
      "  Downloading torchsummary-1.5.1-py3-none-any.whl (2.8 kB)\n",
      "Installing collected packages: torchsummary\n",
      "Successfully installed torchsummary-1.5.1\n",
      "\u001B[33mWARNING: Running pip as the 'root' user can result in broken permissions and conflicting behaviour with the system package manager. It is recommended to use a virtual environment instead: https://pip.pypa.io/warnings/venv\u001B[0m\u001B[33m\n",
      "\u001B[0m"
     ]
    }
   ],
   "source": [
    "# Used for transforming images\n",
    "!pip install albumentations\n",
    "\n",
    "# Installs CUDA version of PyTorch, allowing to run on a GPU\n",
    "# !pip install torch==1.11.0+cu113 torchvision==0.12.0+cu113 torchaudio==0.11.0 --extra-index-url https://download.pytorch.org/whl/cu113\n",
    "\n",
    "# Used for displaying model summaries\n",
    "!pip install torchsummary"
   ]
  },
  {
   "cell_type": "markdown",
   "id": "a0fada0c",
   "metadata": {
    "pycharm": {
     "name": "#%% md\n"
    }
   },
   "source": [
    "## Import Python Packages"
   ]
  },
  {
   "cell_type": "code",
   "execution_count": 2,
   "id": "25b60974-9c19-42ce-bd33-8f6a6539de7b",
   "metadata": {
    "execution": {
     "iopub.execute_input": "2022-09-10T01:20:49.259575Z",
     "iopub.status.busy": "2022-09-10T01:20:49.259270Z",
     "iopub.status.idle": "2022-09-10T01:20:53.039287Z",
     "shell.execute_reply": "2022-09-10T01:20:53.038397Z",
     "shell.execute_reply.started": "2022-09-10T01:20:49.259546Z"
    },
    "pycharm": {
     "name": "#%%\n"
    }
   },
   "outputs": [],
   "source": [
    "# Utility packages\n",
    "import os\n",
    "import random\n",
    "from datetime import datetime\n",
    "import time\n",
    "import zipfile\n",
    "from io import BytesIO\n",
    "\n",
    "# PyTorch packages for training a model\n",
    "import torch\n",
    "import torch.nn as nn\n",
    "from torch.utils.data import Dataset, DataLoader, WeightedRandomSampler\n",
    "from torch.optim.lr_scheduler import CosineAnnealingLR\n",
    "\n",
    "# Utility package used to visualise CNN filters\n",
    "from torchvision import utils\n",
    "\n",
    "# Scikit learn packages\n",
    "from sklearn.decomposition import NMF # Used to factorise an image into two matrices\n",
    "from sklearn.metrics import roc_curve, roc_auc_score, classification_report # metric reporting\n",
    "\n",
    "# OpenCV package used to transform images\n",
    "import cv2\n",
    "\n",
    "# Packages to help with data wrangling\n",
    "import numpy as np\n",
    "import pandas as pd\n",
    "\n",
    "# Used to plot graphs\n",
    "from matplotlib import pyplot as plt\n",
    "\n",
    "# Used to transform images\n",
    "import albumentations\n",
    "from albumentations.pytorch.transforms import ToTensorV2"
   ]
  },
  {
   "cell_type": "markdown",
   "id": "c2e882ed",
   "metadata": {
    "pycharm": {
     "name": "#%% md\n"
    }
   },
   "source": [
    "## Global Configuration\n",
    "\n",
    "A global configuration object, allowing important variables to be easily changed and referenced."
   ]
  },
  {
   "cell_type": "code",
   "execution_count": 3,
   "id": "f7fee657-5f4b-497a-8fe3-df9314d21334",
   "metadata": {
    "execution": {
     "iopub.execute_input": "2022-09-10T01:20:53.040955Z",
     "iopub.status.busy": "2022-09-10T01:20:53.040546Z",
     "iopub.status.idle": "2022-09-10T01:20:53.048536Z",
     "shell.execute_reply": "2022-09-10T01:20:53.047522Z",
     "shell.execute_reply.started": "2022-09-10T01:20:53.040903Z"
    },
    "pycharm": {
     "name": "#%%\n"
    }
   },
   "outputs": [],
   "source": [
    "config = {\n",
    "    'num_workers': 4,\n",
    "    'model': 'eca_nfnet_l0',\n",
    "    'device': 'cuda',\n",
    "    'image_size': 224,\n",
    "    'input_channels': 1,\n",
    "    'output_features': 1,\n",
    "    'seed': 42,\n",
    "    'target_size': 1,\n",
    "    'T_max': 10,\n",
    "    'min_lr': 1e-4,\n",
    "    'lr': 1e-4,\n",
    "    'weight_decay': 1e-4,\n",
    "    'batch_size': 50,\n",
    "    'epochs': 300,\n",
    "    'num_folds': 1\n",
    "}"
   ]
  },
  {
   "cell_type": "markdown",
   "id": "f1c8616f",
   "metadata": {
    "pycharm": {
     "name": "#%% md\n"
    }
   },
   "source": [
    "## Random Seed Initalisation\n",
    "\n",
    "Sets the seeds for random functions to fixed values.\n",
    "\n",
    "This allows the results in this notebook to be reproducible."
   ]
  },
  {
   "cell_type": "code",
   "execution_count": 4,
   "id": "aca47f0e",
   "metadata": {
    "collapsed": false,
    "execution": {
     "iopub.execute_input": "2022-09-10T01:20:53.050677Z",
     "iopub.status.busy": "2022-09-10T01:20:53.050443Z",
     "iopub.status.idle": "2022-09-10T01:20:53.061647Z",
     "shell.execute_reply": "2022-09-10T01:20:53.060688Z",
     "shell.execute_reply.started": "2022-09-10T01:20:53.050654Z"
    },
    "jupyter": {
     "outputs_hidden": false
    },
    "pycharm": {
     "name": "#%%\n"
    }
   },
   "outputs": [],
   "source": [
    "def set_seeds(seed=42):\n",
    "    random.seed(seed)\n",
    "    os.environ['PYTHONHASHSEED'] = str(seed)\n",
    "    np.random.seed(seed)\n",
    "    torch.manual_seed(seed)\n",
    "    torch.cuda.manual_seed(seed)\n",
    "    torch.backends.cudnn.deterministic = True\n",
    "\n",
    "\n",
    "\n",
    "set_seeds(seed=config['seed'])"
   ]
  },
  {
   "cell_type": "markdown",
   "id": "4e7ab849-07f8-4129-86e5-cd32aeb0da38",
   "metadata": {
    "pycharm": {
     "name": "#%% md\n"
    }
   },
   "source": [
    "## Data Loading\n",
    "\n",
    "The dataset labels are loaded from file.\n",
    "\n",
    "These are then stored in a Pandas DataFrame for convenience."
   ]
  },
  {
   "cell_type": "code",
   "execution_count": 5,
   "id": "3f714664-3223-4271-a71b-be2d4b5e1ab6",
   "metadata": {
    "execution": {
     "iopub.execute_input": "2022-09-10T01:20:53.063044Z",
     "iopub.status.busy": "2022-09-10T01:20:53.062787Z",
     "iopub.status.idle": "2022-09-10T01:21:03.736633Z",
     "shell.execute_reply": "2022-09-10T01:21:03.735561Z",
     "shell.execute_reply.started": "2022-09-10T01:20:53.063019Z"
    },
    "pycharm": {
     "name": "#%%\n"
    }
   },
   "outputs": [],
   "source": [
    "data_dir = r'D:\\UoL\\Level 6\\CM3070 - Final Project\\SETI Signal Detection\\Data\\train'\n",
    "\n",
    "\n",
    "'''\n",
    "Extract the data samples from a zip file and return in a dictionary object.\n",
    "'''\n",
    "def extract_zip(input_zip):\n",
    "    zip_file = zipfile.ZipFile(input_zip)\n",
    "\n",
    "    return {name: zip_file.read(name) for name in zip_file.namelist()}\n",
    "\n",
    "\n",
    "\n",
    "# Extract the data samples from a zip file.\n",
    "dataset = extract_zip('/datasets/setigen_1000/1000 setigen dataset.zip')\n",
    "\n",
    "# Load the data samples labels.\n",
    "# data_samples = np.load(BytesIO(dataset['1000/' + 'labels.npy']), allow_pickle=True)\n",
    "\n",
    "# Load the data samples labels in a dataframe for convenience.\n",
    "# initial_data_df = pd.DataFrame(data_samples, columns=['id', 'target', 'image_filepath']).convert_dtypes()\n",
    "# initial_data_df['target'] = initial_data_df['target'].astype('int')\n",
    "initial_data_df = pd.read_pickle('/datasets/setigen_1000_labels/setigen_1000_dataset.pkl')"
   ]
  },
  {
   "cell_type": "markdown",
   "id": "cc517db8",
   "metadata": {
    "pycharm": {
     "name": "#%% md\n"
    }
   },
   "source": [
    "## Shuffle data\n",
    "\n",
    "The entire dataset is shuffled.\n",
    "\n",
    "This ensures that there is an equal distribution of classes in the training, validation and test datasets"
   ]
  },
  {
   "cell_type": "code",
   "execution_count": 6,
   "id": "d84af663",
   "metadata": {
    "collapsed": false,
    "execution": {
     "iopub.execute_input": "2022-09-10T01:21:03.738845Z",
     "iopub.status.busy": "2022-09-10T01:21:03.737954Z",
     "iopub.status.idle": "2022-09-10T01:21:03.749891Z",
     "shell.execute_reply": "2022-09-10T01:21:03.748957Z",
     "shell.execute_reply.started": "2022-09-10T01:21:03.738818Z"
    },
    "jupyter": {
     "outputs_hidden": false
    },
    "pycharm": {
     "name": "#%%\n"
    }
   },
   "outputs": [],
   "source": [
    "initial_data_df = initial_data_df.sample(frac=1).reset_index(drop=True)"
   ]
  },
  {
   "cell_type": "markdown",
   "id": "1f94c4ee",
   "metadata": {
    "pycharm": {
     "name": "#%% md\n"
    }
   },
   "source": [
    "We can see that the training dataset consists of the following fields:\n",
    "\n",
    "- `id`: The ID of the data sample.\n",
    "- `target`: The ground truth label sample.\n",
    "- `image_filepath`: The location of the image file on disk."
   ]
  },
  {
   "cell_type": "code",
   "execution_count": 7,
   "id": "e7f8ad26-0de7-42c2-8684-c1958d015745",
   "metadata": {
    "execution": {
     "iopub.execute_input": "2022-09-10T01:21:03.751825Z",
     "iopub.status.busy": "2022-09-10T01:21:03.751581Z",
     "iopub.status.idle": "2022-09-10T01:21:03.777365Z",
     "shell.execute_reply": "2022-09-10T01:21:03.776337Z",
     "shell.execute_reply.started": "2022-09-10T01:21:03.751801Z"
    },
    "pycharm": {
     "name": "#%%\n"
    }
   },
   "outputs": [
    {
     "name": "stdout",
     "output_type": "stream",
     "text": [
      "<class 'pandas.core.frame.DataFrame'>\n",
      "RangeIndex: 1000 entries, 0 to 999\n",
      "Data columns (total 3 columns):\n",
      " #   Column          Non-Null Count  Dtype \n",
      "---  ------          --------------  ----- \n",
      " 0   id              1000 non-null   object\n",
      " 1   target          1000 non-null   int64 \n",
      " 2   image_filepath  1000 non-null   object\n",
      "dtypes: int64(1), object(2)\n",
      "memory usage: 23.6+ KB\n"
     ]
    }
   ],
   "source": [
    "initial_data_df.info()"
   ]
  },
  {
   "cell_type": "markdown",
   "id": "cb30f8d7-098a-4035-a6a4-ce4cad9df526",
   "metadata": {
    "pycharm": {
     "name": "#%% md\n"
    }
   },
   "source": [
    "Split the data into 70% train and 30% test:"
   ]
  },
  {
   "cell_type": "code",
   "execution_count": 8,
   "id": "1a7aee7e-c61c-4864-b44c-ead695da5486",
   "metadata": {
    "execution": {
     "iopub.execute_input": "2022-09-10T01:21:03.779039Z",
     "iopub.status.busy": "2022-09-10T01:21:03.778737Z",
     "iopub.status.idle": "2022-09-10T01:21:03.786511Z",
     "shell.execute_reply": "2022-09-10T01:21:03.785313Z",
     "shell.execute_reply.started": "2022-09-10T01:21:03.779013Z"
    },
    "pycharm": {
     "name": "#%%\n"
    }
   },
   "outputs": [],
   "source": [
    "data_split_mask = np.random.rand(len(initial_data_df)) < 0.7\n",
    "\n",
    "train_df = initial_data_df[data_split_mask]\n",
    "test_df = initial_data_df[~data_split_mask]"
   ]
  },
  {
   "cell_type": "markdown",
   "id": "249e10f3-524f-4606-a7d4-1d2604adf3c9",
   "metadata": {
    "pycharm": {
     "name": "#%% md\n"
    }
   },
   "source": [
    "## Image Utility Functions\n",
    "\n",
    "Define a set of utility functions for manipulating images."
   ]
  },
  {
   "cell_type": "code",
   "execution_count": 9,
   "id": "da8574b7",
   "metadata": {
    "collapsed": false,
    "execution": {
     "iopub.execute_input": "2022-09-10T01:21:03.788132Z",
     "iopub.status.busy": "2022-09-10T01:21:03.787841Z",
     "iopub.status.idle": "2022-09-10T01:21:03.799218Z",
     "shell.execute_reply": "2022-09-10T01:21:03.798181Z",
     "shell.execute_reply.started": "2022-09-10T01:21:03.788106Z"
    },
    "jupyter": {
     "outputs_hidden": false
    },
    "pycharm": {
     "name": "#%%\n"
    }
   },
   "outputs": [],
   "source": [
    "'''\n",
    "Resizes an image to the specified size.\n",
    "'''\n",
    "def resize_image(image):\n",
    "    return cv2.resize(image, dsize=(config['image_size'], config['image_size']), interpolation=cv2.INTER_CUBIC)\n",
    "\n",
    "\n",
    "\n",
    "'''\n",
    "Plots an image.\n",
    "'''\n",
    "def plot_image(image):\n",
    "    plt.figure(figsize = (20, 6))\n",
    "    plt.imshow(image, aspect='auto')\n",
    "    plt.show()\n",
    "\n",
    "\n",
    "\n",
    "\n",
    "'''\n",
    "Min-max normalises the image pixel values (between 0 and 1).\n",
    "'''\n",
    "def normalise_image(image):\n",
    "    image_min = image.min()\n",
    "    image_max = image.max()\n",
    "\n",
    "    return (image - image_min) / (image_max - image_min)\n",
    "\n",
    "\n",
    "\n",
    "'''\n",
    "Factorises an image into two matrices, and returns them.\n",
    "Used to help remove image background noise.\n",
    "'''\n",
    "def get_decomposition_matrices(image):\n",
    "    norm_image = normalise_image(image)\n",
    "\n",
    "    model = NMF(n_components=2, init='random', random_state=0)\n",
    "    W = model.fit_transform(norm_image + 100) # add 100 to ensure no negative values\n",
    "    H = model.components_\n",
    "\n",
    "    return (W, H)\n",
    "\n",
    "\n",
    "\n",
    "'''\n",
    "Removes the background noise from a set of sample images.\n",
    "\n",
    "Based on: https://www.kaggle.com/competitions/seti-breakthrough-listen/discussion/245950\n",
    "\n",
    "This is the second version of this function.\n",
    "The changes are to stack the 3 de-noised on target images horizontally, rather than add them in a single image.\n",
    "'''\n",
    "def get_denoised_image_2(sample_images):\n",
    "    denoised_images = []\n",
    "\n",
    "    for i in range(0, len(sample_images), 2):\n",
    "        on_target_image = sample_images[i] # Get on target image\n",
    "        off_target_image = sample_images[i+1] # Get off target image\n",
    "\n",
    "        on_W, on_H = get_decomposition_matrices(on_target_image) # Decompose on target images into factor matrices\n",
    "        off_W, off_H = get_decomposition_matrices(off_target_image) # Decompose off target images into factor matrices\n",
    "\n",
    "        # Get noise approximation by multiplying a factor matrix from each of the on target, and off target images.\n",
    "        # Then subtract the approximated noise from the on target image\n",
    "        denoised_image = normalise_image(on_target_image - np.matmul(on_W, off_H))\n",
    "        denoised_images.append(denoised_image)\n",
    "\n",
    "    # combine the 3 de-noised on target images by appending them horizontally\n",
    "    denoised_images = np.array(denoised_images)\n",
    "    combined_image = np.hstack(denoised_images.reshape(3, 273, 256))\n",
    "\n",
    "    return combined_image"
   ]
  },
  {
   "cell_type": "markdown",
   "id": "1a97049d",
   "metadata": {
    "pycharm": {
     "name": "#%% md\n"
    }
   },
   "source": [
    "## Custom Dataset\n",
    "\n",
    "An implementation of the PyTorch `Dataset` class.\n",
    "\n",
    "Used by the model to access a data sample."
   ]
  },
  {
   "cell_type": "code",
   "execution_count": 10,
   "id": "e83f521d-c146-492a-afad-4b13fbf2ce8f",
   "metadata": {
    "execution": {
     "iopub.execute_input": "2022-09-10T01:21:03.801658Z",
     "iopub.status.busy": "2022-09-10T01:21:03.800995Z",
     "iopub.status.idle": "2022-09-10T01:21:03.812009Z",
     "shell.execute_reply": "2022-09-10T01:21:03.811131Z",
     "shell.execute_reply.started": "2022-09-10T01:21:03.801618Z"
    },
    "pycharm": {
     "name": "#%%\n"
    },
    "tags": []
   },
   "outputs": [],
   "source": [
    "class CustomDataset(Dataset):\n",
    "    def __init__(self, images_filepaths, targets, transform=None):\n",
    "        self.images_filepaths = images_filepaths\n",
    "        self.targets = targets\n",
    "        self.transform = transform\n",
    "\n",
    "    def __len__(self):\n",
    "        return len(self.images_filepaths)\n",
    "\n",
    "    def __getitem__(self, idx):\n",
    "        images_filepath = self.images_filepaths[idx]\n",
    "        images_filepath = images_filepath.replace('\\\\', '/')\n",
    "        file_name = os.path.basename(images_filepath)\n",
    "        images_filepath = '1000 setigen dataset/' +  file_name\n",
    "        \n",
    "        images = np.load(BytesIO(dataset[images_filepath]), allow_pickle=True).astype(np.float32)\n",
    "\n",
    "        # after the image is loaded into memory, it is de-noised\n",
    "        image = get_denoised_image_2(images)\n",
    "\n",
    "        # apply image transformations if requested\n",
    "        if self.transform is not None:\n",
    "            image = self.transform(image=image)['image']\n",
    "        else:\n",
    "            image = resize_image(image)\n",
    "            image = image[np.newaxis,:,:]\n",
    "            image = torch.from_numpy(image).float()\n",
    "\n",
    "        label = torch.tensor(self.targets[idx]).float()\n",
    "\n",
    "        return image, label"
   ]
  },
  {
   "cell_type": "markdown",
   "id": "30f62240-81da-4110-b0b6-103ab07cf1e4",
   "metadata": {
    "pycharm": {
     "name": "#%% md\n"
    }
   },
   "source": [
    "## Image Augmentation\n",
    "\n",
    "Helper functions for transforming images.\n",
    "\n",
    "These can be used to help prevent overfitting on the available data samples."
   ]
  },
  {
   "cell_type": "code",
   "execution_count": 11,
   "id": "ce9cd0bf-9ce7-4159-b2ad-a757c8fe228a",
   "metadata": {
    "execution": {
     "iopub.execute_input": "2022-09-10T01:21:03.816740Z",
     "iopub.status.busy": "2022-09-10T01:21:03.815849Z",
     "iopub.status.idle": "2022-09-10T01:21:03.824348Z",
     "shell.execute_reply": "2022-09-10T01:21:03.823162Z",
     "shell.execute_reply.started": "2022-09-10T01:21:03.816714Z"
    },
    "pycharm": {
     "name": "#%%\n"
    }
   },
   "outputs": [],
   "source": [
    "'''\n",
    "Returns a set of image transformations using the albumentations library.\n",
    "'''\n",
    "def get_train_transforms():\n",
    "    return albumentations.Compose(\n",
    "        [\n",
    "            albumentations.Resize(config['image_size'], config['image_size']),\n",
    "            albumentations.HorizontalFlip(p=0.5),\n",
    "            albumentations.VerticalFlip(p=0.5),\n",
    "            albumentations.Rotate(limit=180, p=0.7),\n",
    "            albumentations.RandomBrightnessContrast(brightness_limit=0.6, p=0.5),\n",
    "            albumentations.CoarseDropout(max_holes=10, max_height=12, max_width=12, fill_value=0),\n",
    "            albumentations.ShiftScaleRotate(shift_limit=0.25, scale_limit=0.1, rotate_limit=0),\n",
    "            ToTensorV2(p=1.0),\n",
    "        ]\n",
    "    )\n",
    "\n",
    "\n",
    "\n",
    "'''\n",
    "Applies transformations for validation image data.\n",
    "\n",
    "This currently resizes the images.\n",
    "'''\n",
    "def get_valid_transforms():\n",
    "    return albumentations.Compose(\n",
    "        [\n",
    "            albumentations.Resize(config['image_size'],config['image_size']),\n",
    "            ToTensorV2(p=1.0)\n",
    "        ]\n",
    "    )\n",
    "\n",
    "\n",
    "\n",
    "'''\n",
    "Applies transformations for training image data.\n",
    "\n",
    "This currently resizes the images.\n",
    "'''\n",
    "def get_test_transforms():\n",
    "        return albumentations.Compose(\n",
    "            [\n",
    "                albumentations.Resize(config['image_size'], config['image_size']),\n",
    "                ToTensorV2(p=1.0)\n",
    "            ]\n",
    "        )"
   ]
  },
  {
   "cell_type": "markdown",
   "id": "056abd0c-c12a-4a0a-8e73-c7b64aa6432e",
   "metadata": {
    "pycharm": {
     "name": "#%% md\n"
    }
   },
   "source": [
    "## Train and Validation Dataloaders\n",
    "\n",
    "Data loaders for the training and validation data.\n",
    "\n",
    "These are used during the model training and validation loop."
   ]
  },
  {
   "cell_type": "code",
   "execution_count": 12,
   "id": "9dd0ba19-0137-4913-bdb2-897ee0a6c52e",
   "metadata": {
    "execution": {
     "iopub.execute_input": "2022-09-10T01:21:03.828279Z",
     "iopub.status.busy": "2022-09-10T01:21:03.828049Z",
     "iopub.status.idle": "2022-09-10T01:21:03.834972Z",
     "shell.execute_reply": "2022-09-10T01:21:03.833803Z",
     "shell.execute_reply.started": "2022-09-10T01:21:03.828279Z"
    },
    "pycharm": {
     "name": "#%%\n"
    }
   },
   "outputs": [],
   "source": [
    "def get_loaders(train_data, valid_data, sampler):\n",
    "    training_set = CustomDataset(\n",
    "        images_filepaths=train_data['image_filepath'].values,\n",
    "        targets=train_data['target'].values,\n",
    "        # transform=get_train_transforms()\n",
    "    )\n",
    "\n",
    "    validation_set = CustomDataset(\n",
    "        images_filepaths=valid_data['image_filepath'].values,\n",
    "        targets=valid_data['target'].values,\n",
    "        # transform=get_valid_transforms()\n",
    "    )\n",
    "\n",
    "    train_loader = DataLoader(\n",
    "        training_set,\n",
    "        batch_size=config['batch_size'],\n",
    "        # shuffle=True,\n",
    "        # num_workers=config['num_workers'],\n",
    "        sampler = sampler,\n",
    "        pin_memory=True\n",
    "    )\n",
    "\n",
    "    valid_loader = DataLoader(\n",
    "        validation_set,\n",
    "        batch_size=config['batch_size'],\n",
    "        shuffle=False,\n",
    "        # num_workers=config['num_workers'],\n",
    "        pin_memory=True\n",
    "    )\n",
    "\n",
    "    return train_loader, valid_loader"
   ]
  },
  {
   "cell_type": "markdown",
   "id": "010a10f6",
   "metadata": {
    "pycharm": {
     "name": "#%% md\n"
    }
   },
   "source": [
    "## Model\n",
    "\n",
    "The deep learning model that will be trained.\n",
    "\n",
    "Based on the example from:\n",
    "- https://machinelearningknowledge.ai/pytorch-conv2d-explained-with-examples/#Example_of_PyTorch_Conv2D_in_CNN\n",
    "\n",
    "The layers consist of the following:\n",
    "- Layers 1 - 8:\n",
    "-- 2D convolutional layer\n",
    "-- Batch normalisation layer\n",
    "-- ReLU activation layer\n",
    "-- 2D max pooling layer\n",
    "\n",
    "The final layer is a fully connected layer that connects all of the neurons in the previous layer and outputs a binary classification using a confidence score.\n",
    "\n",
    "The weights for the final layer are randomly initialised."
   ]
  },
  {
   "cell_type": "code",
   "execution_count": 13,
   "id": "5c6edd8d",
   "metadata": {
    "collapsed": false,
    "execution": {
     "iopub.execute_input": "2022-09-10T01:21:03.836345Z",
     "iopub.status.busy": "2022-09-10T01:21:03.836109Z",
     "iopub.status.idle": "2022-09-10T01:21:03.849603Z",
     "shell.execute_reply": "2022-09-10T01:21:03.848410Z",
     "shell.execute_reply.started": "2022-09-10T01:21:03.836323Z"
    },
    "jupyter": {
     "outputs_hidden": false
    },
    "pycharm": {
     "name": "#%%\n"
    }
   },
   "outputs": [],
   "source": [
    "'''\n",
    "Create a deep convolutional neural network with a binary classification output.\n",
    "'''\n",
    "class CustomModel(nn.Module):\n",
    "    '''\n",
    "    This function is called when setting up the model.\n",
    "    '''\n",
    "    def __init__(self):\n",
    "        super().__init__()\n",
    "\n",
    "        # convolutional layer\n",
    "        self.layer1 = nn.Sequential(\n",
    "            nn.Conv2d(1, 32, kernel_size=3, stride=2, padding=2),\n",
    "            nn.BatchNorm2d(32),\n",
    "            nn.ReLU(),\n",
    "            nn.MaxPool2d(kernel_size=2, stride=2)\n",
    "        )\n",
    "\n",
    "        # convolutional layer\n",
    "        self.layer2 = nn.Sequential(\n",
    "            nn.Conv2d(32, 64, kernel_size=3, stride=2, padding=2),\n",
    "            nn.BatchNorm2d(64),\n",
    "            nn.ReLU(),\n",
    "            nn.MaxPool2d(kernel_size=2, stride=2)\n",
    "        )\n",
    "\n",
    "        # convolutional layer\n",
    "        self.layer3 = nn.Sequential(\n",
    "            nn.Conv2d(64, 128, kernel_size=3, stride=2, padding=2),\n",
    "            nn.BatchNorm2d(128),\n",
    "            nn.ReLU(),\n",
    "            nn.MaxPool2d(kernel_size=2, stride=2)\n",
    "        )\n",
    "\n",
    "        # convolutional layer\n",
    "        self.layer4 = nn.Sequential(\n",
    "            nn.Conv2d(128, 256, kernel_size=3, stride=2, padding=2),\n",
    "            nn.BatchNorm2d(256),\n",
    "            nn.ReLU(),\n",
    "            nn.MaxPool2d(kernel_size=2, stride=2)\n",
    "        )\n",
    "\n",
    "        # convolutional layer\n",
    "        self.layer5 = nn.Sequential(\n",
    "            nn.Conv2d(256, 512, kernel_size=3, stride=2, padding=2),\n",
    "            nn.BatchNorm2d(512),\n",
    "            nn.ReLU(),\n",
    "            nn.MaxPool2d(kernel_size=2, stride=2)\n",
    "        )\n",
    "\n",
    "        # convolutional layer\n",
    "        self.layer6 = nn.Sequential(\n",
    "            nn.Conv2d(512, 1024, kernel_size=3, stride=2, padding=2),\n",
    "            nn.BatchNorm2d(1204),\n",
    "            nn.ReLU(),\n",
    "            nn.MaxPool2d(kernel_size=2, stride=2)\n",
    "        )\n",
    "\n",
    "        # convolutional layer\n",
    "        self.layer7 = nn.Sequential(\n",
    "            nn.Conv2d(1024, 2048, kernel_size=3, stride=2, padding=2),\n",
    "            nn.BatchNorm2d(2048),\n",
    "            nn.ReLU(),\n",
    "            nn.MaxPool2d(kernel_size=2, stride=2)\n",
    "        )\n",
    "\n",
    "        # convolutional layer\n",
    "        self.layer8 = nn.Sequential(\n",
    "            nn.Conv2d(2048, 4096, kernel_size=3, stride=2, padding=2),\n",
    "            nn.BatchNorm2d(4098),\n",
    "            nn.ReLU(),\n",
    "            nn.MaxPool2d(kernel_size=2, stride=2)\n",
    "        )\n",
    "\n",
    "        # classification layer\n",
    "        self.fc1 = nn.Linear(256, 1, bias=True)\n",
    "\n",
    "        nn.init.xavier_uniform_(self.fc1.weight)\n",
    "\n",
    "    '''\n",
    "    This method is called when making a prediction\n",
    "    '''\n",
    "    def forward(self, x):\n",
    "        x = self.layer1(x)\n",
    "        x = self.layer2(x)\n",
    "        x = self.layer3(x)\n",
    "        x = self.layer4(x)\n",
    "        x = x.view(x.size(0), -1) # flatten for FC\n",
    "        x = self.fc1(x)\n",
    "\n",
    "        return x"
   ]
  },
  {
   "cell_type": "markdown",
   "id": "45228b74-1e35-4363-b7f8-ce49d8945286",
   "metadata": {
    "pycharm": {
     "name": "#%% md\n"
    }
   },
   "source": [
    "## Model Initialisation\n",
    "\n",
    "Initialise model, loss criterion, optimiser and learning rate scheduler."
   ]
  },
  {
   "cell_type": "code",
   "execution_count": 14,
   "id": "94530cde-2cb0-420d-954f-251bf7115d96",
   "metadata": {
    "execution": {
     "iopub.execute_input": "2022-09-10T01:21:03.850667Z",
     "iopub.status.busy": "2022-09-10T01:21:03.850428Z",
     "iopub.status.idle": "2022-09-10T01:21:06.661971Z",
     "shell.execute_reply": "2022-09-10T01:21:06.660730Z",
     "shell.execute_reply.started": "2022-09-10T01:21:03.850645Z"
    },
    "pycharm": {
     "name": "#%%\n"
    }
   },
   "outputs": [],
   "source": [
    "# the model to train\n",
    "model = CustomModel()\n",
    "model = model.to(config['device'])\n",
    "\n",
    "# the loss function used to track loss\n",
    "# this allows loss to be tracked with an aim of reducing it during training\n",
    "criterion = nn.BCEWithLogitsLoss().to(config['device'])\n",
    "\n",
    "# Optimizer used for minimising loss during model training\n",
    "optimizer = torch.optim.Adam(model.parameters(), lr=config['lr'])\n",
    "\n",
    "# learning rate scheduler\n",
    "# starts the learning rate at a high value and reduces by steps over time\n",
    "scheduler = CosineAnnealingLR(optimizer,\n",
    "                              T_max=config['T_max'],\n",
    "                              eta_min=config['min_lr'],\n",
    "                              last_epoch=-1)"
   ]
  },
  {
   "cell_type": "markdown",
   "id": "5f277d9a",
   "metadata": {
    "pycharm": {
     "name": "#%% md\n"
    }
   },
   "source": [
    "## Classification Utility Functions\n",
    "\n",
    "A set of functions that help get a binary predictions and to measure their accuracy and ROC AUC score."
   ]
  },
  {
   "cell_type": "code",
   "execution_count": 15,
   "id": "769bbe46",
   "metadata": {
    "collapsed": false,
    "execution": {
     "iopub.execute_input": "2022-09-10T01:21:06.663647Z",
     "iopub.status.busy": "2022-09-10T01:21:06.663428Z",
     "iopub.status.idle": "2022-09-10T01:21:06.676503Z",
     "shell.execute_reply": "2022-09-10T01:21:06.675508Z",
     "shell.execute_reply.started": "2022-09-10T01:21:06.663626Z"
    },
    "jupyter": {
     "outputs_hidden": false
    },
    "pycharm": {
     "name": "#%%\n"
    }
   },
   "outputs": [],
   "source": [
    "'''\n",
    "Min max normalises prediction values.\n",
    "This places them in the range 0 - 1.\n",
    "'''\n",
    "def get_normalised_predictions(predictions):\n",
    "    predictions_min = min(predictions)\n",
    "    predictions_max = max(predictions)\n",
    "\n",
    "    if predictions_min == predictions_max: # all predictions are the same\n",
    "        return [0] * len(predictions)\n",
    "\n",
    "    return [(x - predictions_min) / (predictions_max - predictions_min) for x in predictions]\n",
    "\n",
    "\n",
    "\n",
    "'''\n",
    "Classifies as false for values below 0.5 and true otherwise.\n",
    "'''\n",
    "def get_binary_classification(value):\n",
    "    return 0 if value < 0.5 else 1\n",
    "\n",
    "\n",
    "\n",
    "'''\n",
    "Returns the binary classifications for a set of raw model predictions.\n",
    "'''\n",
    "def get_binary_classifications(predictions):\n",
    "    norm_predictions = np.array(get_normalised_predictions(predictions))\n",
    "    binary_classification_func = np.vectorize(get_binary_classification)\n",
    "\n",
    "    return binary_classification_func(norm_predictions)\n",
    "\n",
    "\n",
    "\n",
    "'''\n",
    "Returns the accuracy score for a set of predictions.\n",
    "'''\n",
    "def get_accuracy(predictions, labels):\n",
    "    binary_classifications = get_binary_classifications(predictions)\n",
    "    labels_array = labels.cpu().detach().numpy()\n",
    "    correct_predictions = (binary_classifications == labels_array)\n",
    "    correct_predictions_count = np.count_nonzero(correct_predictions)\n",
    "\n",
    "    return np.mean(correct_predictions_count / len(predictions))\n",
    "\n",
    "\n",
    "\n",
    "'''\n",
    "Returns the ROC AUC score for a prediction.\n",
    "'''\n",
    "def get_roc_auc_score(output, target):\n",
    "    try:\n",
    "        return round(roc_auc_score(target, output), 10)\n",
    "    except:\n",
    "        return 0.5 # return 0.5 score if an exception occours, e.g. divide by 0\n",
    "\n",
    "\n",
    "\n",
    "'''\n",
    "Evaluates a model by predicting values for a supplied dataset.\n",
    "\n",
    "Returns loss, accuracy and ROC AUC metrics for the predictions.\n",
    "'''\n",
    "def get_validation_metrics(model, data_loader):\n",
    "    loss = 0\n",
    "    accuracy = 0\n",
    "    roc_auc = 0\n",
    "\n",
    "    # place model in evaluation mode so weights are not updated\n",
    "    model.eval()\n",
    "\n",
    "    for x, y in data_loader:\n",
    "        x, y = x.to(config['device']), y.to(config['device'])\n",
    "\n",
    "        predictions = model(x)\n",
    "\n",
    "        loss += criterion(predictions, y.unsqueeze(1)).item()\n",
    "        accuracy += get_accuracy(predictions.cpu().detach().numpy(), y.unsqueeze(1))\n",
    "        roc_auc += get_roc_auc_score(predictions, y.unsqueeze(1))\n",
    "\n",
    "\n",
    "    num_samples = len(data_loader)\n",
    "\n",
    "    return loss/num_samples, accuracy/num_samples, roc_auc/num_samples"
   ]
  },
  {
   "cell_type": "markdown",
   "id": "fafe9779",
   "metadata": {
    "pycharm": {
     "name": "#%% md\n"
    }
   },
   "source": [
    "## Training and Validation Loop\n",
    "\n",
    "The main loop for training and validating the model."
   ]
  },
  {
   "cell_type": "code",
   "execution_count": 16,
   "id": "2b265ec8",
   "metadata": {
    "collapsed": false,
    "execution": {
     "iopub.execute_input": "2022-09-10T01:21:06.679256Z",
     "iopub.status.busy": "2022-09-10T01:21:06.678081Z",
     "iopub.status.idle": "2022-09-10T10:31:29.069199Z",
     "shell.execute_reply": "2022-09-10T10:31:29.068119Z",
     "shell.execute_reply.started": "2022-09-10T01:21:06.679206Z"
    },
    "jupyter": {
     "outputs_hidden": false
    },
    "pycharm": {
     "is_executing": true,
     "name": "#%%\n"
    }
   },
   "outputs": [
    {
     "name": "stdout",
     "output_type": "stream",
     "text": [
      "Epoch 001: | Train - Loss: 0.76176 | Acc: 0.585 | ROC AUC: 0.500 | Duration (s): 116.66766142845154\n",
      "Epoch 002: | Train - Loss: 0.59603 | Acc: 0.652 | ROC AUC: 0.500 | Duration (s): 110.29470229148865\n",
      "Epoch 003: | Train - Loss: 0.54465 | Acc: 0.662 | ROC AUC: 0.500 | Duration (s): 110.95832777023315\n",
      "Epoch 004: | Train - Loss: 0.45981 | Acc: 0.665 | ROC AUC: 0.500 | Duration (s): 111.9320981502533\n",
      "Epoch 005: | Train - Loss: 0.40542 | Acc: 0.703 | ROC AUC: 0.500 | Duration (s): 110.68494296073914\n",
      "Epoch 006: | Train - Loss: 0.34906 | Acc: 0.723 | ROC AUC: 0.500 | Duration (s): 109.79096817970276\n",
      "Epoch 007: | Train - Loss: 0.29984 | Acc: 0.759 | ROC AUC: 0.500 | Duration (s): 109.82098507881165\n",
      "Epoch 008: | Train - Loss: 0.26562 | Acc: 0.789 | ROC AUC: 0.500 | Duration (s): 109.60324573516846\n",
      "Epoch 009: | Train - Loss: 0.23915 | Acc: 0.821 | ROC AUC: 0.500 | Duration (s): 111.05651211738586\n",
      "Epoch 010: | Train - Loss: 0.21489 | Acc: 0.848 | ROC AUC: 0.500 | Duration (s): 109.94482469558716\n",
      "Epoch 011: | Train - Loss: 0.19144 | Acc: 0.872 | ROC AUC: 0.500 | Duration (s): 110.5728702545166\n",
      "Epoch 012: | Train - Loss: 0.17193 | Acc: 0.888 | ROC AUC: 0.500 | Duration (s): 109.93373012542725\n",
      "Epoch 013: | Train - Loss: 0.15529 | Acc: 0.907 | ROC AUC: 0.500 | Duration (s): 110.52046704292297\n",
      "Epoch 014: | Train - Loss: 0.14297 | Acc: 0.923 | ROC AUC: 0.500 | Duration (s): 109.55615401268005\n",
      "Epoch 015: | Train - Loss: 0.13334 | Acc: 0.930 | ROC AUC: 0.500 | Duration (s): 112.27963471412659\n",
      "Epoch 016: | Train - Loss: 0.12454 | Acc: 0.928 | ROC AUC: 0.500 | Duration (s): 111.26027917861938\n",
      "Epoch 017: | Train - Loss: 0.11832 | Acc: 0.931 | ROC AUC: 0.500 | Duration (s): 110.27580332756042\n",
      "Epoch 018: | Train - Loss: 0.11454 | Acc: 0.933 | ROC AUC: 0.500 | Duration (s): 109.71795964241028\n",
      "Epoch 019: | Train - Loss: 0.10273 | Acc: 0.934 | ROC AUC: 0.500 | Duration (s): 109.27847599983215\n",
      "Epoch 020: | Train - Loss: 0.08906 | Acc: 0.947 | ROC AUC: 0.500 | Duration (s): 109.80738091468811\n",
      "Epoch 021: | Train - Loss: 0.08935 | Acc: 0.956 | ROC AUC: 0.500 | Duration (s): 109.66066670417786\n",
      "Epoch 022: | Train - Loss: 0.07960 | Acc: 0.953 | ROC AUC: 0.500 | Duration (s): 110.00678396224976\n",
      "Epoch 023: | Train - Loss: 0.06748 | Acc: 0.954 | ROC AUC: 0.500 | Duration (s): 109.80222725868225\n",
      "Epoch 024: | Train - Loss: 0.05885 | Acc: 0.963 | ROC AUC: 0.500 | Duration (s): 109.63629150390625\n",
      "Epoch 025: | Train - Loss: 0.04991 | Acc: 0.971 | ROC AUC: 0.500 | Duration (s): 113.27894902229309\n",
      "Epoch 026: | Train - Loss: 0.04372 | Acc: 0.983 | ROC AUC: 0.500 | Duration (s): 109.87089419364929\n",
      "Epoch 027: | Train - Loss: 0.04188 | Acc: 0.980 | ROC AUC: 0.500 | Duration (s): 112.03759860992432\n",
      "Epoch 028: | Train - Loss: 0.03908 | Acc: 0.979 | ROC AUC: 0.500 | Duration (s): 110.80166125297546\n",
      "Epoch 029: | Train - Loss: 0.03675 | Acc: 0.977 | ROC AUC: 0.500 | Duration (s): 108.69834280014038\n",
      "Epoch 030: | Train - Loss: 0.03498 | Acc: 0.977 | ROC AUC: 0.500 | Duration (s): 110.73262858390808\n",
      "Epoch 031: | Train - Loss: 0.03186 | Acc: 0.984 | ROC AUC: 0.500 | Duration (s): 110.74870800971985\n",
      "Epoch 032: | Train - Loss: 0.03043 | Acc: 0.989 | ROC AUC: 0.500 | Duration (s): 110.79397559165955\n",
      "Epoch 033: | Train - Loss: 0.02793 | Acc: 0.989 | ROC AUC: 0.500 | Duration (s): 112.12743330001831\n",
      "Epoch 034: | Train - Loss: 0.02646 | Acc: 0.990 | ROC AUC: 0.500 | Duration (s): 109.88373589515686\n",
      "Epoch 035: | Train - Loss: 0.02499 | Acc: 0.990 | ROC AUC: 0.500 | Duration (s): 110.9287040233612\n",
      "Epoch 036: | Train - Loss: 0.02347 | Acc: 0.993 | ROC AUC: 0.500 | Duration (s): 108.93763470649719\n",
      "Epoch 037: | Train - Loss: 0.02192 | Acc: 0.993 | ROC AUC: 0.500 | Duration (s): 109.38279175758362\n",
      "Epoch 038: | Train - Loss: 0.02094 | Acc: 0.991 | ROC AUC: 0.500 | Duration (s): 110.93150568008423\n",
      "Epoch 039: | Train - Loss: 0.01908 | Acc: 0.991 | ROC AUC: 0.500 | Duration (s): 109.41018676757812\n",
      "Epoch 040: | Train - Loss: 0.01805 | Acc: 0.996 | ROC AUC: 0.500 | Duration (s): 109.21345973014832\n",
      "Epoch 041: | Train - Loss: 0.01654 | Acc: 0.994 | ROC AUC: 0.500 | Duration (s): 110.51349020004272\n",
      "Epoch 042: | Train - Loss: 0.01550 | Acc: 0.996 | ROC AUC: 0.500 | Duration (s): 110.01601123809814\n",
      "Epoch 043: | Train - Loss: 0.01460 | Acc: 0.994 | ROC AUC: 0.500 | Duration (s): 110.75904107093811\n",
      "Epoch 044: | Train - Loss: 0.01373 | Acc: 0.996 | ROC AUC: 0.500 | Duration (s): 110.27726149559021\n",
      "Epoch 045: | Train - Loss: 0.01304 | Acc: 0.994 | ROC AUC: 0.500 | Duration (s): 109.75495862960815\n",
      "Epoch 046: | Train - Loss: 0.01241 | Acc: 0.996 | ROC AUC: 0.500 | Duration (s): 109.42106747627258\n",
      "Epoch 047: | Train - Loss: 0.01175 | Acc: 0.996 | ROC AUC: 0.500 | Duration (s): 110.7739770412445\n",
      "Epoch 048: | Train - Loss: 0.01117 | Acc: 0.997 | ROC AUC: 0.500 | Duration (s): 110.16506791114807\n",
      "Epoch 049: | Train - Loss: 0.01056 | Acc: 0.997 | ROC AUC: 0.500 | Duration (s): 109.3334813117981\n",
      "Epoch 050: | Train - Loss: 0.01003 | Acc: 0.997 | ROC AUC: 0.500 | Duration (s): 108.21171355247498\n",
      "Epoch 051: | Train - Loss: 0.00956 | Acc: 0.997 | ROC AUC: 0.500 | Duration (s): 110.01549053192139\n",
      "Epoch 052: | Train - Loss: 0.00917 | Acc: 0.997 | ROC AUC: 0.500 | Duration (s): 109.98552465438843\n",
      "Epoch 053: | Train - Loss: 0.00879 | Acc: 0.997 | ROC AUC: 0.500 | Duration (s): 109.74022793769836\n",
      "Epoch 054: | Train - Loss: 0.00844 | Acc: 0.997 | ROC AUC: 0.500 | Duration (s): 109.04003381729126\n",
      "Epoch 055: | Train - Loss: 0.00806 | Acc: 0.997 | ROC AUC: 0.500 | Duration (s): 109.44339418411255\n",
      "Epoch 056: | Train - Loss: 0.00769 | Acc: 0.997 | ROC AUC: 0.500 | Duration (s): 109.61691308021545\n",
      "Epoch 057: | Train - Loss: 0.00734 | Acc: 0.997 | ROC AUC: 0.500 | Duration (s): 109.51001811027527\n",
      "Epoch 058: | Train - Loss: 0.00701 | Acc: 0.997 | ROC AUC: 0.500 | Duration (s): 110.53093767166138\n",
      "Epoch 059: | Train - Loss: 0.00673 | Acc: 0.997 | ROC AUC: 0.500 | Duration (s): 110.72471308708191\n",
      "Epoch 060: | Train - Loss: 0.00648 | Acc: 0.997 | ROC AUC: 0.500 | Duration (s): 110.32587099075317\n",
      "Epoch 061: | Train - Loss: 0.00623 | Acc: 0.997 | ROC AUC: 0.500 | Duration (s): 110.1199312210083\n",
      "Epoch 062: | Train - Loss: 0.00600 | Acc: 0.997 | ROC AUC: 0.500 | Duration (s): 108.82854866981506\n",
      "Epoch 063: | Train - Loss: 0.00575 | Acc: 0.997 | ROC AUC: 0.500 | Duration (s): 109.66092729568481\n",
      "Epoch 064: | Train - Loss: 0.00554 | Acc: 0.997 | ROC AUC: 0.500 | Duration (s): 108.61960482597351\n",
      "Epoch 065: | Train - Loss: 0.00529 | Acc: 0.997 | ROC AUC: 0.500 | Duration (s): 111.20563650131226\n",
      "Epoch 066: | Train - Loss: 0.00511 | Acc: 0.999 | ROC AUC: 0.500 | Duration (s): 110.29306364059448\n",
      "Epoch 067: | Train - Loss: 0.00493 | Acc: 0.999 | ROC AUC: 0.500 | Duration (s): 111.16032147407532\n",
      "Epoch 068: | Train - Loss: 0.00478 | Acc: 0.999 | ROC AUC: 0.500 | Duration (s): 108.93792915344238\n",
      "Epoch 069: | Train - Loss: 0.00461 | Acc: 0.999 | ROC AUC: 0.500 | Duration (s): 109.06208491325378\n",
      "Epoch 070: | Train - Loss: 0.00444 | Acc: 0.999 | ROC AUC: 0.500 | Duration (s): 110.36564326286316\n",
      "Epoch 071: | Train - Loss: 0.00427 | Acc: 0.999 | ROC AUC: 0.500 | Duration (s): 110.4378035068512\n",
      "Epoch 072: | Train - Loss: 0.00412 | Acc: 0.999 | ROC AUC: 0.500 | Duration (s): 110.83651208877563\n",
      "Epoch 073: | Train - Loss: 0.00398 | Acc: 0.999 | ROC AUC: 0.500 | Duration (s): 109.18635106086731\n",
      "Epoch 074: | Train - Loss: 0.00386 | Acc: 0.999 | ROC AUC: 0.500 | Duration (s): 109.42835545539856\n",
      "Epoch 075: | Train - Loss: 0.00373 | Acc: 0.999 | ROC AUC: 0.500 | Duration (s): 109.7591450214386\n",
      "Epoch 076: | Train - Loss: 0.00361 | Acc: 0.999 | ROC AUC: 0.500 | Duration (s): 109.59221577644348\n",
      "Epoch 077: | Train - Loss: 0.00349 | Acc: 0.999 | ROC AUC: 0.500 | Duration (s): 111.09917759895325\n",
      "Epoch 078: | Train - Loss: 0.00337 | Acc: 0.999 | ROC AUC: 0.500 | Duration (s): 109.18970918655396\n",
      "Epoch 079: | Train - Loss: 0.00326 | Acc: 0.999 | ROC AUC: 0.500 | Duration (s): 108.82393980026245\n",
      "Epoch 080: | Train - Loss: 0.00317 | Acc: 0.999 | ROC AUC: 0.500 | Duration (s): 108.63505172729492\n",
      "Epoch 081: | Train - Loss: 0.00307 | Acc: 0.999 | ROC AUC: 0.500 | Duration (s): 109.54150462150574\n",
      "Epoch 082: | Train - Loss: 0.00298 | Acc: 0.999 | ROC AUC: 0.500 | Duration (s): 109.24413728713989\n",
      "Epoch 083: | Train - Loss: 0.00289 | Acc: 0.999 | ROC AUC: 0.500 | Duration (s): 110.31405520439148\n",
      "Epoch 084: | Train - Loss: 0.00280 | Acc: 0.999 | ROC AUC: 0.500 | Duration (s): 109.55796384811401\n",
      "Epoch 085: | Train - Loss: 0.00272 | Acc: 0.999 | ROC AUC: 0.500 | Duration (s): 109.26382279396057\n",
      "Epoch 086: | Train - Loss: 0.00264 | Acc: 0.999 | ROC AUC: 0.500 | Duration (s): 109.47513699531555\n",
      "Epoch 087: | Train - Loss: 0.00257 | Acc: 0.999 | ROC AUC: 0.500 | Duration (s): 109.00565147399902\n",
      "Epoch 088: | Train - Loss: 0.00250 | Acc: 0.999 | ROC AUC: 0.500 | Duration (s): 111.50672602653503\n",
      "Epoch 089: | Train - Loss: 0.00242 | Acc: 1.000 | ROC AUC: 0.500 | Duration (s): 111.90252804756165\n",
      "Epoch 090: | Train - Loss: 0.00235 | Acc: 1.000 | ROC AUC: 0.500 | Duration (s): 110.12661075592041\n",
      "Epoch 091: | Train - Loss: 0.00229 | Acc: 1.000 | ROC AUC: 0.500 | Duration (s): 109.74392414093018\n",
      "Epoch 092: | Train - Loss: 0.00223 | Acc: 1.000 | ROC AUC: 0.500 | Duration (s): 111.38321375846863\n",
      "Epoch 093: | Train - Loss: 0.00217 | Acc: 1.000 | ROC AUC: 0.500 | Duration (s): 109.32265710830688\n",
      "Epoch 094: | Train - Loss: 0.00211 | Acc: 1.000 | ROC AUC: 0.500 | Duration (s): 109.71428918838501\n",
      "Epoch 095: | Train - Loss: 0.00205 | Acc: 1.000 | ROC AUC: 0.500 | Duration (s): 109.32804536819458\n",
      "Epoch 096: | Train - Loss: 0.00200 | Acc: 1.000 | ROC AUC: 0.500 | Duration (s): 109.73430228233337\n",
      "Epoch 097: | Train - Loss: 0.00195 | Acc: 1.000 | ROC AUC: 0.500 | Duration (s): 110.23806571960449\n",
      "Epoch 098: | Train - Loss: 0.00189 | Acc: 1.000 | ROC AUC: 0.500 | Duration (s): 110.64821791648865\n",
      "Epoch 099: | Train - Loss: 0.00185 | Acc: 1.000 | ROC AUC: 0.500 | Duration (s): 108.32411909103394\n",
      "Epoch 100: | Train - Loss: 0.00180 | Acc: 1.000 | ROC AUC: 0.500 | Duration (s): 108.96364378929138\n",
      "Epoch 101: | Train - Loss: 0.00175 | Acc: 1.000 | ROC AUC: 0.500 | Duration (s): 109.39844512939453\n",
      "Epoch 102: | Train - Loss: 0.00171 | Acc: 1.000 | ROC AUC: 0.500 | Duration (s): 108.73618698120117\n",
      "Epoch 103: | Train - Loss: 0.00167 | Acc: 1.000 | ROC AUC: 0.500 | Duration (s): 109.5915994644165\n",
      "Epoch 104: | Train - Loss: 0.00162 | Acc: 1.000 | ROC AUC: 0.500 | Duration (s): 109.6069347858429\n",
      "Epoch 105: | Train - Loss: 0.00158 | Acc: 1.000 | ROC AUC: 0.500 | Duration (s): 111.76413559913635\n",
      "Epoch 106: | Train - Loss: 0.00155 | Acc: 1.000 | ROC AUC: 0.500 | Duration (s): 108.79644775390625\n",
      "Epoch 107: | Train - Loss: 0.00151 | Acc: 1.000 | ROC AUC: 0.500 | Duration (s): 109.09274744987488\n",
      "Epoch 108: | Train - Loss: 0.00148 | Acc: 1.000 | ROC AUC: 0.500 | Duration (s): 109.70005393028259\n",
      "Epoch 109: | Train - Loss: 0.00144 | Acc: 1.000 | ROC AUC: 0.500 | Duration (s): 109.4669976234436\n",
      "Epoch 110: | Train - Loss: 0.00141 | Acc: 1.000 | ROC AUC: 0.500 | Duration (s): 110.49312925338745\n",
      "Epoch 111: | Train - Loss: 0.00137 | Acc: 1.000 | ROC AUC: 0.500 | Duration (s): 110.83821821212769\n",
      "Epoch 112: | Train - Loss: 0.00134 | Acc: 1.000 | ROC AUC: 0.500 | Duration (s): 109.24262714385986\n",
      "Epoch 113: | Train - Loss: 0.00131 | Acc: 1.000 | ROC AUC: 0.500 | Duration (s): 109.70035004615784\n",
      "Epoch 114: | Train - Loss: 0.00128 | Acc: 1.000 | ROC AUC: 0.500 | Duration (s): 110.54712510108948\n",
      "Epoch 115: | Train - Loss: 0.00125 | Acc: 1.000 | ROC AUC: 0.500 | Duration (s): 109.28097939491272\n",
      "Epoch 116: | Train - Loss: 0.00122 | Acc: 1.000 | ROC AUC: 0.500 | Duration (s): 111.11189818382263\n",
      "Epoch 117: | Train - Loss: 0.00120 | Acc: 1.000 | ROC AUC: 0.500 | Duration (s): 110.18734669685364\n",
      "Epoch 118: | Train - Loss: 0.00117 | Acc: 1.000 | ROC AUC: 0.500 | Duration (s): 110.0000855922699\n",
      "Epoch 119: | Train - Loss: 0.00115 | Acc: 1.000 | ROC AUC: 0.500 | Duration (s): 108.91973972320557\n",
      "Epoch 120: | Train - Loss: 0.00112 | Acc: 1.000 | ROC AUC: 0.500 | Duration (s): 108.86047530174255\n",
      "Epoch 121: | Train - Loss: 0.00110 | Acc: 1.000 | ROC AUC: 0.500 | Duration (s): 111.37888813018799\n",
      "Epoch 122: | Train - Loss: 0.00107 | Acc: 1.000 | ROC AUC: 0.500 | Duration (s): 110.32886743545532\n",
      "Epoch 123: | Train - Loss: 0.00105 | Acc: 1.000 | ROC AUC: 0.500 | Duration (s): 110.06381368637085\n",
      "Epoch 124: | Train - Loss: 0.00103 | Acc: 1.000 | ROC AUC: 0.500 | Duration (s): 109.67488098144531\n",
      "Epoch 125: | Train - Loss: 0.00101 | Acc: 1.000 | ROC AUC: 0.500 | Duration (s): 109.90183162689209\n",
      "Epoch 126: | Train - Loss: 0.00099 | Acc: 1.000 | ROC AUC: 0.500 | Duration (s): 108.88972878456116\n",
      "Epoch 127: | Train - Loss: 0.00097 | Acc: 1.000 | ROC AUC: 0.500 | Duration (s): 108.6433961391449\n",
      "Epoch 128: | Train - Loss: 0.00095 | Acc: 1.000 | ROC AUC: 0.500 | Duration (s): 109.32868671417236\n",
      "Epoch 129: | Train - Loss: 0.00093 | Acc: 1.000 | ROC AUC: 0.500 | Duration (s): 109.47714233398438\n",
      "Epoch 130: | Train - Loss: 0.00091 | Acc: 1.000 | ROC AUC: 0.500 | Duration (s): 109.26645684242249\n",
      "Epoch 131: | Train - Loss: 0.00089 | Acc: 1.000 | ROC AUC: 0.500 | Duration (s): 110.90841460227966\n",
      "Epoch 132: | Train - Loss: 0.00088 | Acc: 1.000 | ROC AUC: 0.500 | Duration (s): 110.6967465877533\n",
      "Epoch 133: | Train - Loss: 0.00086 | Acc: 1.000 | ROC AUC: 0.500 | Duration (s): 110.67866849899292\n",
      "Epoch 134: | Train - Loss: 0.00084 | Acc: 1.000 | ROC AUC: 0.500 | Duration (s): 108.7136161327362\n",
      "Epoch 135: | Train - Loss: 0.00083 | Acc: 1.000 | ROC AUC: 0.500 | Duration (s): 110.26692390441895\n",
      "Epoch 136: | Train - Loss: 0.00081 | Acc: 1.000 | ROC AUC: 0.500 | Duration (s): 109.0210223197937\n",
      "Epoch 137: | Train - Loss: 0.00080 | Acc: 1.000 | ROC AUC: 0.500 | Duration (s): 109.03362703323364\n",
      "Epoch 138: | Train - Loss: 0.00078 | Acc: 1.000 | ROC AUC: 0.500 | Duration (s): 109.65572905540466\n",
      "Epoch 139: | Train - Loss: 0.00077 | Acc: 1.000 | ROC AUC: 0.500 | Duration (s): 108.94428706169128\n",
      "Epoch 140: | Train - Loss: 0.00075 | Acc: 1.000 | ROC AUC: 0.500 | Duration (s): 109.06017303466797\n",
      "Epoch 141: | Train - Loss: 0.00074 | Acc: 1.000 | ROC AUC: 0.500 | Duration (s): 109.94942307472229\n",
      "Epoch 142: | Train - Loss: 0.00072 | Acc: 1.000 | ROC AUC: 0.500 | Duration (s): 110.87609601020813\n",
      "Epoch 143: | Train - Loss: 0.00071 | Acc: 1.000 | ROC AUC: 0.500 | Duration (s): 110.8410234451294\n",
      "Epoch 144: | Train - Loss: 0.00070 | Acc: 1.000 | ROC AUC: 0.500 | Duration (s): 109.73337197303772\n",
      "Epoch 145: | Train - Loss: 0.00068 | Acc: 1.000 | ROC AUC: 0.500 | Duration (s): 109.48758149147034\n",
      "Epoch 146: | Train - Loss: 0.00067 | Acc: 1.000 | ROC AUC: 0.500 | Duration (s): 110.99415230751038\n",
      "Epoch 147: | Train - Loss: 0.00066 | Acc: 1.000 | ROC AUC: 0.500 | Duration (s): 110.5840413570404\n",
      "Epoch 148: | Train - Loss: 0.00065 | Acc: 1.000 | ROC AUC: 0.500 | Duration (s): 109.14886951446533\n",
      "Epoch 149: | Train - Loss: 0.00064 | Acc: 1.000 | ROC AUC: 0.500 | Duration (s): 109.50639986991882\n",
      "Epoch 150: | Train - Loss: 0.00063 | Acc: 1.000 | ROC AUC: 0.500 | Duration (s): 109.97286605834961\n",
      "Epoch 151: | Train - Loss: 0.00062 | Acc: 1.000 | ROC AUC: 0.500 | Duration (s): 108.8929443359375\n",
      "Epoch 152: | Train - Loss: 0.00061 | Acc: 1.000 | ROC AUC: 0.500 | Duration (s): 109.37275123596191\n",
      "Epoch 153: | Train - Loss: 0.00059 | Acc: 1.000 | ROC AUC: 0.500 | Duration (s): 110.49918675422668\n",
      "Epoch 154: | Train - Loss: 0.00058 | Acc: 1.000 | ROC AUC: 0.500 | Duration (s): 109.56758403778076\n",
      "Epoch 155: | Train - Loss: 0.00057 | Acc: 1.000 | ROC AUC: 0.500 | Duration (s): 108.83046889305115\n",
      "Epoch 156: | Train - Loss: 0.00056 | Acc: 1.000 | ROC AUC: 0.500 | Duration (s): 108.83814477920532\n",
      "Epoch 157: | Train - Loss: 0.00055 | Acc: 1.000 | ROC AUC: 0.500 | Duration (s): 108.54952907562256\n",
      "Epoch 158: | Train - Loss: 0.00055 | Acc: 1.000 | ROC AUC: 0.500 | Duration (s): 109.81169080734253\n",
      "Epoch 159: | Train - Loss: 0.00054 | Acc: 1.000 | ROC AUC: 0.500 | Duration (s): 109.93520927429199\n",
      "Epoch 160: | Train - Loss: 0.00053 | Acc: 1.000 | ROC AUC: 0.500 | Duration (s): 109.45039820671082\n",
      "Epoch 161: | Train - Loss: 0.00052 | Acc: 1.000 | ROC AUC: 0.500 | Duration (s): 110.31354475021362\n",
      "Epoch 162: | Train - Loss: 0.00051 | Acc: 1.000 | ROC AUC: 0.500 | Duration (s): 109.2891993522644\n",
      "Epoch 163: | Train - Loss: 0.00050 | Acc: 1.000 | ROC AUC: 0.500 | Duration (s): 110.06648564338684\n",
      "Epoch 164: | Train - Loss: 0.00049 | Acc: 1.000 | ROC AUC: 0.500 | Duration (s): 111.5999584197998\n",
      "Epoch 165: | Train - Loss: 0.00049 | Acc: 1.000 | ROC AUC: 0.500 | Duration (s): 110.10721015930176\n",
      "Epoch 166: | Train - Loss: 0.00048 | Acc: 1.000 | ROC AUC: 0.500 | Duration (s): 109.57813048362732\n",
      "Epoch 167: | Train - Loss: 0.00047 | Acc: 1.000 | ROC AUC: 0.500 | Duration (s): 109.63030648231506\n",
      "Epoch 168: | Train - Loss: 0.00046 | Acc: 1.000 | ROC AUC: 0.500 | Duration (s): 109.34476399421692\n",
      "Epoch 169: | Train - Loss: 0.00046 | Acc: 1.000 | ROC AUC: 0.500 | Duration (s): 110.46301078796387\n",
      "Epoch 170: | Train - Loss: 0.00045 | Acc: 1.000 | ROC AUC: 0.500 | Duration (s): 110.2324709892273\n",
      "Epoch 171: | Train - Loss: 0.00044 | Acc: 1.000 | ROC AUC: 0.500 | Duration (s): 110.38753890991211\n",
      "Epoch 172: | Train - Loss: 0.00043 | Acc: 1.000 | ROC AUC: 0.500 | Duration (s): 108.82515549659729\n",
      "Epoch 173: | Train - Loss: 0.00043 | Acc: 1.000 | ROC AUC: 0.500 | Duration (s): 109.10980415344238\n",
      "Epoch 174: | Train - Loss: 0.00042 | Acc: 1.000 | ROC AUC: 0.500 | Duration (s): 110.19986510276794\n",
      "Epoch 175: | Train - Loss: 0.00042 | Acc: 1.000 | ROC AUC: 0.500 | Duration (s): 110.47575807571411\n",
      "Epoch 176: | Train - Loss: 0.00041 | Acc: 1.000 | ROC AUC: 0.500 | Duration (s): 110.22347211837769\n",
      "Epoch 177: | Train - Loss: 0.00040 | Acc: 1.000 | ROC AUC: 0.500 | Duration (s): 109.43874144554138\n",
      "Epoch 178: | Train - Loss: 0.00040 | Acc: 1.000 | ROC AUC: 0.500 | Duration (s): 110.37277293205261\n",
      "Epoch 179: | Train - Loss: 0.00039 | Acc: 1.000 | ROC AUC: 0.500 | Duration (s): 110.91500043869019\n",
      "Epoch 180: | Train - Loss: 0.00038 | Acc: 1.000 | ROC AUC: 0.500 | Duration (s): 110.26944756507874\n",
      "Epoch 181: | Train - Loss: 0.00038 | Acc: 1.000 | ROC AUC: 0.500 | Duration (s): 109.222989320755\n",
      "Epoch 182: | Train - Loss: 0.00037 | Acc: 1.000 | ROC AUC: 0.500 | Duration (s): 108.70540761947632\n",
      "Epoch 183: | Train - Loss: 0.00037 | Acc: 1.000 | ROC AUC: 0.500 | Duration (s): 111.74953532218933\n",
      "Epoch 184: | Train - Loss: 0.00036 | Acc: 1.000 | ROC AUC: 0.500 | Duration (s): 109.54408669471741\n",
      "Epoch 185: | Train - Loss: 0.00036 | Acc: 1.000 | ROC AUC: 0.500 | Duration (s): 108.63994860649109\n",
      "Epoch 186: | Train - Loss: 0.00035 | Acc: 1.000 | ROC AUC: 0.500 | Duration (s): 109.18413949012756\n",
      "Epoch 187: | Train - Loss: 0.00035 | Acc: 1.000 | ROC AUC: 0.500 | Duration (s): 110.02695941925049\n",
      "Epoch 188: | Train - Loss: 0.00034 | Acc: 1.000 | ROC AUC: 0.500 | Duration (s): 109.16305303573608\n",
      "Epoch 189: | Train - Loss: 0.00034 | Acc: 1.000 | ROC AUC: 0.500 | Duration (s): 109.76972985267639\n",
      "Epoch 190: | Train - Loss: 0.00033 | Acc: 1.000 | ROC AUC: 0.500 | Duration (s): 109.15292119979858\n",
      "Epoch 191: | Train - Loss: 0.00033 | Acc: 1.000 | ROC AUC: 0.500 | Duration (s): 108.82328176498413\n",
      "Epoch 192: | Train - Loss: 0.00032 | Acc: 1.000 | ROC AUC: 0.500 | Duration (s): 110.45337462425232\n",
      "Epoch 193: | Train - Loss: 0.00032 | Acc: 1.000 | ROC AUC: 0.500 | Duration (s): 109.01910281181335\n",
      "Epoch 194: | Train - Loss: 0.00031 | Acc: 1.000 | ROC AUC: 0.500 | Duration (s): 109.82957220077515\n",
      "Epoch 195: | Train - Loss: 0.00031 | Acc: 1.000 | ROC AUC: 0.500 | Duration (s): 109.37565684318542\n",
      "Epoch 196: | Train - Loss: 0.00030 | Acc: 1.000 | ROC AUC: 0.500 | Duration (s): 112.88001012802124\n",
      "Epoch 197: | Train - Loss: 0.00030 | Acc: 1.000 | ROC AUC: 0.500 | Duration (s): 111.27475428581238\n",
      "Epoch 198: | Train - Loss: 0.00030 | Acc: 1.000 | ROC AUC: 0.500 | Duration (s): 110.81589245796204\n",
      "Epoch 199: | Train - Loss: 0.00029 | Acc: 1.000 | ROC AUC: 0.500 | Duration (s): 110.05140089988708\n",
      "Epoch 200: | Train - Loss: 0.00029 | Acc: 1.000 | ROC AUC: 0.500 | Duration (s): 111.45981979370117\n",
      "Epoch 201: | Train - Loss: 0.00028 | Acc: 1.000 | ROC AUC: 0.500 | Duration (s): 109.60140013694763\n",
      "Epoch 202: | Train - Loss: 0.00028 | Acc: 1.000 | ROC AUC: 0.500 | Duration (s): 109.71908330917358\n",
      "Epoch 203: | Train - Loss: 0.00028 | Acc: 1.000 | ROC AUC: 0.500 | Duration (s): 110.35298657417297\n",
      "Epoch 204: | Train - Loss: 0.00027 | Acc: 1.000 | ROC AUC: 0.500 | Duration (s): 110.08949518203735\n",
      "Epoch 205: | Train - Loss: 0.00027 | Acc: 1.000 | ROC AUC: 0.500 | Duration (s): 110.57678985595703\n",
      "Epoch 206: | Train - Loss: 0.00026 | Acc: 1.000 | ROC AUC: 0.500 | Duration (s): 110.59228897094727\n",
      "Epoch 207: | Train - Loss: 0.00026 | Acc: 1.000 | ROC AUC: 0.500 | Duration (s): 109.53302693367004\n",
      "Epoch 208: | Train - Loss: 0.00026 | Acc: 1.000 | ROC AUC: 0.500 | Duration (s): 110.5687608718872\n",
      "Epoch 209: | Train - Loss: 0.00025 | Acc: 1.000 | ROC AUC: 0.500 | Duration (s): 109.98734474182129\n",
      "Epoch 210: | Train - Loss: 0.00025 | Acc: 1.000 | ROC AUC: 0.500 | Duration (s): 108.8640398979187\n",
      "Epoch 211: | Train - Loss: 0.00025 | Acc: 1.000 | ROC AUC: 0.500 | Duration (s): 109.77991509437561\n",
      "Epoch 212: | Train - Loss: 0.00024 | Acc: 1.000 | ROC AUC: 0.500 | Duration (s): 111.0058183670044\n",
      "Epoch 213: | Train - Loss: 0.00024 | Acc: 1.000 | ROC AUC: 0.500 | Duration (s): 110.64845895767212\n",
      "Epoch 214: | Train - Loss: 0.00024 | Acc: 1.000 | ROC AUC: 0.500 | Duration (s): 111.26208400726318\n",
      "Epoch 215: | Train - Loss: 0.00023 | Acc: 1.000 | ROC AUC: 0.500 | Duration (s): 110.50810074806213\n",
      "Epoch 216: | Train - Loss: 0.00023 | Acc: 1.000 | ROC AUC: 0.500 | Duration (s): 109.74702978134155\n",
      "Epoch 217: | Train - Loss: 0.00023 | Acc: 1.000 | ROC AUC: 0.500 | Duration (s): 110.80427122116089\n",
      "Epoch 218: | Train - Loss: 0.00023 | Acc: 1.000 | ROC AUC: 0.500 | Duration (s): 110.62020301818848\n",
      "Epoch 219: | Train - Loss: 0.00022 | Acc: 1.000 | ROC AUC: 0.500 | Duration (s): 108.74026393890381\n",
      "Epoch 220: | Train - Loss: 0.00022 | Acc: 1.000 | ROC AUC: 0.500 | Duration (s): 110.13895988464355\n",
      "Epoch 221: | Train - Loss: 0.00022 | Acc: 1.000 | ROC AUC: 0.500 | Duration (s): 109.8227026462555\n",
      "Epoch 222: | Train - Loss: 0.00021 | Acc: 1.000 | ROC AUC: 0.500 | Duration (s): 109.19508862495422\n",
      "Epoch 223: | Train - Loss: 0.00021 | Acc: 1.000 | ROC AUC: 0.500 | Duration (s): 111.16176962852478\n",
      "Epoch 224: | Train - Loss: 0.00021 | Acc: 1.000 | ROC AUC: 0.500 | Duration (s): 109.00466704368591\n",
      "Epoch 225: | Train - Loss: 0.00021 | Acc: 1.000 | ROC AUC: 0.500 | Duration (s): 110.74195003509521\n",
      "Epoch 226: | Train - Loss: 0.00020 | Acc: 1.000 | ROC AUC: 0.500 | Duration (s): 110.18201041221619\n",
      "Epoch 227: | Train - Loss: 0.00020 | Acc: 1.000 | ROC AUC: 0.500 | Duration (s): 109.57966160774231\n",
      "Epoch 228: | Train - Loss: 0.00020 | Acc: 1.000 | ROC AUC: 0.500 | Duration (s): 109.73200416564941\n",
      "Epoch 229: | Train - Loss: 0.00020 | Acc: 1.000 | ROC AUC: 0.500 | Duration (s): 110.32914137840271\n",
      "Epoch 230: | Train - Loss: 0.00019 | Acc: 1.000 | ROC AUC: 0.500 | Duration (s): 109.66731190681458\n",
      "Epoch 231: | Train - Loss: 0.00019 | Acc: 1.000 | ROC AUC: 0.500 | Duration (s): 110.98848819732666\n",
      "Epoch 232: | Train - Loss: 0.00019 | Acc: 1.000 | ROC AUC: 0.500 | Duration (s): 110.76460027694702\n",
      "Epoch 233: | Train - Loss: 0.00019 | Acc: 1.000 | ROC AUC: 0.500 | Duration (s): 110.46669507026672\n",
      "Epoch 234: | Train - Loss: 0.00018 | Acc: 1.000 | ROC AUC: 0.500 | Duration (s): 110.82603049278259\n",
      "Epoch 235: | Train - Loss: 0.00018 | Acc: 1.000 | ROC AUC: 0.500 | Duration (s): 110.13031315803528\n",
      "Epoch 236: | Train - Loss: 0.00018 | Acc: 1.000 | ROC AUC: 0.500 | Duration (s): 109.44435429573059\n",
      "Epoch 237: | Train - Loss: 0.00018 | Acc: 1.000 | ROC AUC: 0.500 | Duration (s): 110.3047194480896\n",
      "Epoch 238: | Train - Loss: 0.00017 | Acc: 1.000 | ROC AUC: 0.500 | Duration (s): 110.19520878791809\n",
      "Epoch 239: | Train - Loss: 0.00017 | Acc: 1.000 | ROC AUC: 0.500 | Duration (s): 111.30636143684387\n",
      "Epoch 240: | Train - Loss: 0.00017 | Acc: 1.000 | ROC AUC: 0.500 | Duration (s): 113.05809473991394\n",
      "Epoch 241: | Train - Loss: 0.00017 | Acc: 1.000 | ROC AUC: 0.500 | Duration (s): 111.46735262870789\n",
      "Epoch 242: | Train - Loss: 0.00017 | Acc: 1.000 | ROC AUC: 0.500 | Duration (s): 111.33965039253235\n",
      "Epoch 243: | Train - Loss: 0.00016 | Acc: 1.000 | ROC AUC: 0.500 | Duration (s): 111.14928865432739\n",
      "Epoch 244: | Train - Loss: 0.00016 | Acc: 1.000 | ROC AUC: 0.500 | Duration (s): 110.63134837150574\n",
      "Epoch 245: | Train - Loss: 0.00016 | Acc: 1.000 | ROC AUC: 0.500 | Duration (s): 110.95360064506531\n",
      "Epoch 246: | Train - Loss: 0.00016 | Acc: 1.000 | ROC AUC: 0.500 | Duration (s): 110.67560601234436\n",
      "Epoch 247: | Train - Loss: 0.00016 | Acc: 1.000 | ROC AUC: 0.500 | Duration (s): 109.81692743301392\n",
      "Epoch 248: | Train - Loss: 0.00015 | Acc: 1.000 | ROC AUC: 0.500 | Duration (s): 108.656001329422\n",
      "Epoch 249: | Train - Loss: 0.00015 | Acc: 1.000 | ROC AUC: 0.500 | Duration (s): 110.00664234161377\n",
      "Epoch 250: | Train - Loss: 0.00015 | Acc: 1.000 | ROC AUC: 0.500 | Duration (s): 110.4463152885437\n",
      "Epoch 251: | Train - Loss: 0.00015 | Acc: 1.000 | ROC AUC: 0.500 | Duration (s): 110.41950941085815\n",
      "Epoch 252: | Train - Loss: 0.00015 | Acc: 1.000 | ROC AUC: 0.500 | Duration (s): 109.39926409721375\n",
      "Epoch 253: | Train - Loss: 0.00015 | Acc: 1.000 | ROC AUC: 0.500 | Duration (s): 109.99931001663208\n",
      "Epoch 254: | Train - Loss: 0.00014 | Acc: 1.000 | ROC AUC: 0.500 | Duration (s): 109.90655875205994\n",
      "Epoch 255: | Train - Loss: 0.00014 | Acc: 1.000 | ROC AUC: 0.500 | Duration (s): 110.17405366897583\n",
      "Epoch 256: | Train - Loss: 0.00014 | Acc: 1.000 | ROC AUC: 0.500 | Duration (s): 110.60047769546509\n",
      "Epoch 257: | Train - Loss: 0.00014 | Acc: 1.000 | ROC AUC: 0.500 | Duration (s): 110.21781158447266\n",
      "Epoch 258: | Train - Loss: 0.00014 | Acc: 1.000 | ROC AUC: 0.500 | Duration (s): 109.34484696388245\n",
      "Epoch 259: | Train - Loss: 0.00014 | Acc: 1.000 | ROC AUC: 0.500 | Duration (s): 110.8238832950592\n",
      "Epoch 260: | Train - Loss: 0.00013 | Acc: 1.000 | ROC AUC: 0.500 | Duration (s): 110.99585223197937\n",
      "Epoch 262: | Train - Loss: 0.00013 | Acc: 1.000 | ROC AUC: 0.500 | Duration (s): 111.74694895744324\n",
      "Epoch 263: | Train - Loss: 0.00013 | Acc: 1.000 | ROC AUC: 0.500 | Duration (s): 110.76148414611816\n",
      "Epoch 264: | Train - Loss: 0.00013 | Acc: 1.000 | ROC AUC: 0.500 | Duration (s): 111.56887149810791\n",
      "Epoch 265: | Train - Loss: 0.00013 | Acc: 1.000 | ROC AUC: 0.500 | Duration (s): 111.18536829948425\n",
      "Epoch 266: | Train - Loss: 0.00012 | Acc: 1.000 | ROC AUC: 0.500 | Duration (s): 109.7782506942749\n",
      "Epoch 267: | Train - Loss: 0.00012 | Acc: 1.000 | ROC AUC: 0.500 | Duration (s): 111.48048615455627\n",
      "Epoch 268: | Train - Loss: 0.00012 | Acc: 1.000 | ROC AUC: 0.500 | Duration (s): 111.71949577331543\n",
      "Epoch 269: | Train - Loss: 0.00012 | Acc: 1.000 | ROC AUC: 0.500 | Duration (s): 109.3794755935669\n",
      "Epoch 270: | Train - Loss: 0.00012 | Acc: 1.000 | ROC AUC: 0.500 | Duration (s): 109.98083138465881\n",
      "Epoch 271: | Train - Loss: 0.00012 | Acc: 1.000 | ROC AUC: 0.500 | Duration (s): 109.36573481559753\n",
      "Epoch 272: | Train - Loss: 0.00012 | Acc: 1.000 | ROC AUC: 0.500 | Duration (s): 109.97791361808777\n",
      "Epoch 273: | Train - Loss: 0.00012 | Acc: 1.000 | ROC AUC: 0.500 | Duration (s): 109.28011059761047\n",
      "Epoch 274: | Train - Loss: 0.00011 | Acc: 1.000 | ROC AUC: 0.500 | Duration (s): 109.01993322372437\n",
      "Epoch 275: | Train - Loss: 0.00011 | Acc: 1.000 | ROC AUC: 0.500 | Duration (s): 109.7595808506012\n",
      "Epoch 276: | Train - Loss: 0.00011 | Acc: 1.000 | ROC AUC: 0.500 | Duration (s): 110.90576028823853\n",
      "Epoch 277: | Train - Loss: 0.00011 | Acc: 1.000 | ROC AUC: 0.500 | Duration (s): 109.49819469451904\n",
      "Epoch 278: | Train - Loss: 0.00011 | Acc: 1.000 | ROC AUC: 0.500 | Duration (s): 109.52785611152649\n",
      "Epoch 279: | Train - Loss: 0.00011 | Acc: 1.000 | ROC AUC: 0.500 | Duration (s): 109.8840000629425\n",
      "Epoch 280: | Train - Loss: 0.00011 | Acc: 1.000 | ROC AUC: 0.500 | Duration (s): 109.49447774887085\n",
      "Epoch 281: | Train - Loss: 0.00011 | Acc: 1.000 | ROC AUC: 0.500 | Duration (s): 109.90788340568542\n",
      "Epoch 282: | Train - Loss: 0.00010 | Acc: 1.000 | ROC AUC: 0.500 | Duration (s): 109.39913582801819\n",
      "Epoch 283: | Train - Loss: 0.00010 | Acc: 1.000 | ROC AUC: 0.500 | Duration (s): 109.33837246894836\n",
      "Epoch 284: | Train - Loss: 0.00010 | Acc: 1.000 | ROC AUC: 0.500 | Duration (s): 109.91207003593445\n",
      "Epoch 285: | Train - Loss: 0.00010 | Acc: 1.000 | ROC AUC: 0.500 | Duration (s): 109.69144821166992\n",
      "Epoch 286: | Train - Loss: 0.00010 | Acc: 1.000 | ROC AUC: 0.500 | Duration (s): 111.24896812438965\n",
      "Epoch 287: | Train - Loss: 0.00010 | Acc: 1.000 | ROC AUC: 0.500 | Duration (s): 111.03932857513428\n",
      "Epoch 288: | Train - Loss: 0.00010 | Acc: 1.000 | ROC AUC: 0.500 | Duration (s): 110.3604986667633\n",
      "Epoch 289: | Train - Loss: 0.00010 | Acc: 1.000 | ROC AUC: 0.500 | Duration (s): 109.34602451324463\n",
      "Epoch 290: | Train - Loss: 0.00010 | Acc: 1.000 | ROC AUC: 0.500 | Duration (s): 109.00039076805115\n",
      "Epoch 291: | Train - Loss: 0.00009 | Acc: 1.000 | ROC AUC: 0.500 | Duration (s): 109.64424920082092\n",
      "Epoch 292: | Train - Loss: 0.00009 | Acc: 1.000 | ROC AUC: 0.500 | Duration (s): 109.39414834976196\n",
      "Epoch 293: | Train - Loss: 0.00009 | Acc: 1.000 | ROC AUC: 0.500 | Duration (s): 110.69335579872131\n",
      "Epoch 294: | Train - Loss: 0.00009 | Acc: 1.000 | ROC AUC: 0.500 | Duration (s): 109.96841096878052\n",
      "Epoch 295: | Train - Loss: 0.00009 | Acc: 1.000 | ROC AUC: 0.500 | Duration (s): 111.24763345718384\n",
      "Epoch 296: | Train - Loss: 0.00009 | Acc: 1.000 | ROC AUC: 0.500 | Duration (s): 108.24872422218323\n",
      "Epoch 297: | Train - Loss: 0.00009 | Acc: 1.000 | ROC AUC: 0.500 | Duration (s): 110.46491503715515\n",
      "Epoch 298: | Train - Loss: 0.00009 | Acc: 1.000 | ROC AUC: 0.500 | Duration (s): 110.96975564956665\n",
      "Epoch 299: | Train - Loss: 0.00009 | Acc: 1.000 | ROC AUC: 0.500 | Duration (s): 111.23894572257996\n",
      "Epoch 300: | Train - Loss: 0.00009 | Acc: 1.000 | ROC AUC: 0.500 | Duration (s): 111.17780542373657\n"
     ]
    }
   ],
   "source": [
    "# split data into training and validation set with an 80:20 ratio\n",
    "train_data = train_df.iloc[:400,:]\n",
    "valid_data = train_df.iloc[400:,:]\n",
    "\n",
    "# data sample loaders\n",
    "train_loader, valid_loader = get_loaders(train_df, valid_data, None)\n",
    "\n",
    "# global variables used to keep track of metrics\n",
    "train_losses = []\n",
    "train_accuracies = []\n",
    "train_roc_auc_scores = []\n",
    "\n",
    "valid_losses = []\n",
    "valid_accuracies = []\n",
    "valid_roc_auc_scores = []\n",
    "\n",
    "\n",
    "\n",
    "# the training & validation loop, that runs for the number of epochs specified\n",
    "for e in range(1, config['epochs']+1):\n",
    "    # variables to track metrics for the epoch\n",
    "    epoch_train_loss = 0\n",
    "    epoch_train_acc = 0\n",
    "    epoch_train_roc_auc = 0\n",
    "\n",
    "    epoch_valid_loss = 0\n",
    "    epoch_valid_acc = 0\n",
    "    epoch_valid_roc_auc = 0\n",
    "\n",
    "    start_time = time.time() # use a timer to track of how long an epoch takes\n",
    "\n",
    "    # train the model using the training data set\n",
    "    for train_x, train_y in train_loader:\n",
    "        # train_x is the batched image samples\n",
    "        # train_y is the batched labels\n",
    "        train_x, train_y = train_x.to(config['device']), train_y.to(config['device'])\n",
    "\n",
    "        # reset the optimizer by zeroing out its gradients\n",
    "        optimizer.zero_grad()\n",
    "\n",
    "\n",
    "        # --------\n",
    "        # Training\n",
    "        # --------\n",
    "        model.train() # put model into training mode so weights can be updated\n",
    "\n",
    "        train_predictions = model(train_x) # get predictions from training set\n",
    "\n",
    "        # calculate training loss\n",
    "        train_loss = criterion(train_predictions, train_y.unsqueeze(1))\n",
    "        epoch_train_loss += train_loss.item()\n",
    "\n",
    "        # calculate training accuracy\n",
    "        train_acc = get_accuracy(train_predictions.cpu().detach().numpy(), train_y.unsqueeze(1))\n",
    "        epoch_train_acc += train_acc.item()\n",
    "\n",
    "        # calculate training ROC AUC score\n",
    "        epoch_train_roc_auc += get_roc_auc_score(train_predictions, train_y)\n",
    "\n",
    "\n",
    "        # ----------\n",
    "        # Validation\n",
    "        # ----------\n",
    "        # run model against validation data and get metrics\n",
    "        valid_loss, valid_acc, valid_roc_auc = get_validation_metrics(model, valid_loader)\n",
    "\n",
    "        epoch_valid_loss += valid_loss\n",
    "        epoch_valid_acc += valid_acc\n",
    "        epoch_valid_roc_auc += valid_roc_auc\n",
    "\n",
    "\n",
    "        # -------------------\n",
    "        # Back propagation\n",
    "        # -------------------\n",
    "        train_loss.backward() # update the model weights using back propagation\n",
    "        optimizer.step() # update the optimizer for reducing loss\n",
    "\n",
    "\n",
    "    end_time = time.time()\n",
    "\n",
    "    num_samples = len(train_loader)\n",
    "\n",
    "    # store the training and validation metrics for the epoch\n",
    "    train_losses.append(epoch_train_loss / num_samples)\n",
    "    train_accuracies.append(epoch_train_acc / num_samples)\n",
    "    train_roc_auc_scores.append(epoch_train_roc_auc / num_samples)\n",
    "\n",
    "    valid_losses.append(epoch_valid_loss / num_samples)\n",
    "    valid_accuracies.append(epoch_valid_acc / num_samples)\n",
    "    valid_roc_auc_scores.append(epoch_valid_roc_auc / num_samples)\n",
    "\n",
    "    # print the metrics for tracking purposes\n",
    "    print(f'Epoch {e+0:03}:'\n",
    "          f' | Train - Loss: {epoch_train_loss / num_samples:.5f}'\n",
    "          f' | Acc: {epoch_train_acc / num_samples:.3f}'\n",
    "          f' | ROC AUC: {epoch_valid_roc_auc / num_samples:.3f}'\n",
    "          f' | Duration (s): {end_time - start_time}')"
   ]
  },
  {
   "cell_type": "markdown",
   "id": "3d995cba",
   "metadata": {
    "pycharm": {
     "name": "#%% md\n"
    }
   },
   "source": [
    "## Save Model\n",
    "\n",
    "Save the model state to disk for future reference."
   ]
  },
  {
   "cell_type": "code",
   "execution_count": 17,
   "id": "35a573d7",
   "metadata": {
    "collapsed": false,
    "execution": {
     "iopub.execute_input": "2022-09-10T10:31:29.070734Z",
     "iopub.status.busy": "2022-09-10T10:31:29.070447Z",
     "iopub.status.idle": "2022-09-10T10:32:03.306301Z",
     "shell.execute_reply": "2022-09-10T10:32:03.305296Z",
     "shell.execute_reply.started": "2022-09-10T10:31:29.070709Z"
    },
    "jupyter": {
     "outputs_hidden": false
    },
    "pycharm": {
     "is_executing": true,
     "name": "#%%\n"
    }
   },
   "outputs": [
    {
     "name": "stdout",
     "output_type": "stream",
     "text": [
      "model saved to:  models/22-09-10_10-31-29/cnn_from_scratch.pth\n"
     ]
    }
   ],
   "source": [
    "model_name = 'cnn_from_scratch.pth'\n",
    "current_datetime = datetime.now().strftime(\"%y-%m-%d_%H-%M-%S\")\n",
    "models_dir = os.path.join('models', current_datetime)\n",
    "\n",
    "os.mkdir(models_dir)\n",
    "\n",
    "torch.save(model.state_dict(), os.path.join(models_dir, model_name))\n",
    "\n",
    "print('model saved to: ', os.path.join(models_dir, model_name))"
   ]
  },
  {
   "cell_type": "markdown",
   "id": "a62f5f56",
   "metadata": {
    "pycharm": {
     "name": "#%% md\n"
    }
   },
   "source": [
    "## Plot Metrics\n",
    "\n",
    "Plot the metrics gathered during training and validation."
   ]
  },
  {
   "cell_type": "code",
   "execution_count": 18,
   "id": "4bcebaeb",
   "metadata": {
    "collapsed": false,
    "execution": {
     "iopub.execute_input": "2022-09-10T10:32:03.307507Z",
     "iopub.status.busy": "2022-09-10T10:32:03.307256Z",
     "iopub.status.idle": "2022-09-10T10:32:03.482970Z",
     "shell.execute_reply": "2022-09-10T10:32:03.482039Z",
     "shell.execute_reply.started": "2022-09-10T10:32:03.307482Z"
    },
    "jupyter": {
     "outputs_hidden": false
    },
    "pycharm": {
     "is_executing": true,
     "name": "#%%\n"
    }
   },
   "outputs": [
    {
     "data": {
      "text/plain": [
       "[<matplotlib.lines.Line2D at 0x7f7502436400>]"
      ]
     },
     "execution_count": 18,
     "metadata": {},
     "output_type": "execute_result"
    },
    {
     "data": {
      "image/png": "[encoded data removed]",
      "text/plain": [
       "<Figure size 432x288 with 1 Axes>"
      ]
     },
     "metadata": {
      "needs_background": "light"
     },
     "output_type": "display_data"
    }
   ],
   "source": [
    "# training loss\n",
    "plt.title('Training loss per batch')\n",
    "plt.plot(train_losses[1:])"
   ]
  },
  {
   "cell_type": "code",
   "execution_count": 19,
   "id": "4dc29f04",
   "metadata": {
    "collapsed": false,
    "execution": {
     "iopub.execute_input": "2022-09-10T10:32:03.484901Z",
     "iopub.status.busy": "2022-09-10T10:32:03.484527Z",
     "iopub.status.idle": "2022-09-10T10:32:03.609571Z",
     "shell.execute_reply": "2022-09-10T10:32:03.608844Z",
     "shell.execute_reply.started": "2022-09-10T10:32:03.484867Z"
    },
    "jupyter": {
     "outputs_hidden": false
    },
    "pycharm": {
     "is_executing": true,
     "name": "#%%\n"
    }
   },
   "outputs": [
    {
     "data": {
      "text/plain": [
       "[<matplotlib.lines.Line2D at 0x7f75023a5580>]"
      ]
     },
     "execution_count": 19,
     "metadata": {},
     "output_type": "execute_result"
    },
    {
     "data": {
      "image/png": "[encoded data removed]",
      "text/plain": [
       "<Figure size 432x288 with 1 Axes>"
      ]
     },
     "metadata": {
      "needs_background": "light"
     },
     "output_type": "display_data"
    }
   ],
   "source": [
    "# validation loss\n",
    "plt.title('Validation loss per batch')\n",
    "plt.plot(valid_losses[1:])"
   ]
  },
  {
   "cell_type": "code",
   "execution_count": 20,
   "id": "fd37a98f",
   "metadata": {
    "collapsed": false,
    "execution": {
     "iopub.execute_input": "2022-09-10T10:32:03.611091Z",
     "iopub.status.busy": "2022-09-10T10:32:03.610791Z",
     "iopub.status.idle": "2022-09-10T10:32:03.727418Z",
     "shell.execute_reply": "2022-09-10T10:32:03.726573Z",
     "shell.execute_reply.started": "2022-09-10T10:32:03.611058Z"
    },
    "jupyter": {
     "outputs_hidden": false
    },
    "pycharm": {
     "is_executing": true,
     "name": "#%%\n"
    }
   },
   "outputs": [
    {
     "data": {
      "text/plain": [
       "[<matplotlib.lines.Line2D at 0x7f750231c430>]"
      ]
     },
     "execution_count": 20,
     "metadata": {},
     "output_type": "execute_result"
    },
    {
     "data": {
      "image/png": "[encoded data removed]",
      "text/plain": [
       "<Figure size 432x288 with 1 Axes>"
      ]
     },
     "metadata": {
      "needs_background": "light"
     },
     "output_type": "display_data"
    }
   ],
   "source": [
    "# train roc auc\n",
    "plt.title('Train ROC AUC per batch')\n",
    "plt.plot(train_roc_auc_scores[1:])"
   ]
  },
  {
   "cell_type": "code",
   "execution_count": 21,
   "id": "abcf9207",
   "metadata": {
    "collapsed": false,
    "execution": {
     "iopub.execute_input": "2022-09-10T10:32:03.728797Z",
     "iopub.status.busy": "2022-09-10T10:32:03.728493Z",
     "iopub.status.idle": "2022-09-10T10:32:03.873647Z",
     "shell.execute_reply": "2022-09-10T10:32:03.872531Z",
     "shell.execute_reply.started": "2022-09-10T10:32:03.728797Z"
    },
    "jupyter": {
     "outputs_hidden": false
    },
    "pycharm": {
     "is_executing": true,
     "name": "#%%\n"
    }
   },
   "outputs": [
    {
     "data": {
      "text/plain": [
       "[<matplotlib.lines.Line2D at 0x7f74fe255730>]"
      ]
     },
     "execution_count": 21,
     "metadata": {},
     "output_type": "execute_result"
    },
    {
     "data": {
      "image/png": "[encoded data removed]",
      "text/plain": [
       "<Figure size 432x288 with 1 Axes>"
      ]
     },
     "metadata": {
      "needs_background": "light"
     },
     "output_type": "display_data"
    }
   ],
   "source": [
    "# training accuracy\n",
    "plt.title('Training accuracy per batch')\n",
    "plt.plot(train_accuracies[1:])"
   ]
  },
  {
   "cell_type": "code",
   "execution_count": 22,
   "id": "4a03b6f1",
   "metadata": {
    "collapsed": false,
    "execution": {
     "iopub.execute_input": "2022-09-10T10:32:03.875053Z",
     "iopub.status.busy": "2022-09-10T10:32:03.874789Z",
     "iopub.status.idle": "2022-09-10T10:32:04.007156Z",
     "shell.execute_reply": "2022-09-10T10:32:04.006268Z",
     "shell.execute_reply.started": "2022-09-10T10:32:03.875025Z"
    },
    "jupyter": {
     "outputs_hidden": false
    },
    "pycharm": {
     "is_executing": true,
     "name": "#%%\n"
    }
   },
   "outputs": [
    {
     "data": {
      "text/plain": [
       "[<matplotlib.lines.Line2D at 0x7f74fe23c940>]"
      ]
     },
     "execution_count": 22,
     "metadata": {},
     "output_type": "execute_result"
    },
    {
     "data": {
      "image/png": "[encoded data removed]",
      "text/plain": [
       "<Figure size 432x288 with 1 Axes>"
      ]
     },
     "metadata": {
      "needs_background": "light"
     },
     "output_type": "display_data"
    }
   ],
   "source": [
    "# validation accuracy\n",
    "plt.title('Validation accuracy per batch')\n",
    "plt.plot(valid_accuracies)"
   ]
  },
  {
   "cell_type": "code",
   "execution_count": 23,
   "id": "6a6efbb9",
   "metadata": {
    "collapsed": false,
    "execution": {
     "iopub.execute_input": "2022-09-10T10:32:04.008522Z",
     "iopub.status.busy": "2022-09-10T10:32:04.008275Z",
     "iopub.status.idle": "2022-09-10T10:32:04.121502Z",
     "shell.execute_reply": "2022-09-10T10:32:04.120747Z",
     "shell.execute_reply.started": "2022-09-10T10:32:04.008498Z"
    },
    "jupyter": {
     "outputs_hidden": false
    },
    "pycharm": {
     "is_executing": true,
     "name": "#%%\n"
    }
   },
   "outputs": [
    {
     "data": {
      "text/plain": [
       "[<matplotlib.lines.Line2D at 0x7f74fdc6a250>]"
      ]
     },
     "execution_count": 23,
     "metadata": {},
     "output_type": "execute_result"
    },
    {
     "data": {
      "image/png": "[encoded data removed]",
      "text/plain": [
       "<Figure size 432x288 with 1 Axes>"
      ]
     },
     "metadata": {
      "needs_background": "light"
     },
     "output_type": "display_data"
    }
   ],
   "source": [
    "# validation roc auc\n",
    "plt.title('Validation ROC AUC per batch')\n",
    "plt.plot(valid_roc_auc_scores)"
   ]
  },
  {
   "cell_type": "markdown",
   "id": "9524c160",
   "metadata": {
    "pycharm": {
     "name": "#%% md\n"
    }
   },
   "source": [
    "## Evaluation\n",
    "\n",
    "Evaluate the model against the test data set.\n",
    "\n",
    "This is representative of how the model will perform in real life as it has not seen the test data."
   ]
  },
  {
   "cell_type": "code",
   "execution_count": 24,
   "id": "cf291371",
   "metadata": {
    "collapsed": false,
    "execution": {
     "iopub.execute_input": "2022-09-10T10:32:04.122979Z",
     "iopub.status.busy": "2022-09-10T10:32:04.122713Z",
     "iopub.status.idle": "2022-09-10T10:32:04.128846Z",
     "shell.execute_reply": "2022-09-10T10:32:04.127587Z",
     "shell.execute_reply.started": "2022-09-10T10:32:04.122954Z"
    },
    "jupyter": {
     "outputs_hidden": false
    },
    "pycharm": {
     "is_executing": true,
     "name": "#%%\n"
    }
   },
   "outputs": [],
   "source": [
    "'''\n",
    "Data loader for the test data.\n",
    "'''\n",
    "def get_test_loader(test_data):\n",
    "    test_set = CustomDataset(\n",
    "        images_filepaths=test_data['image_filepath'].values,\n",
    "        targets=test_data['target'].values,\n",
    "        # transform=get_valid_transforms()\n",
    "    )\n",
    "\n",
    "    return DataLoader(\n",
    "        test_set,\n",
    "        batch_size=config['batch_size'],\n",
    "        shuffle=False,\n",
    "        # num_workers=config['num_workers'],\n",
    "        pin_memory=True\n",
    "    )"
   ]
  },
  {
   "cell_type": "markdown",
   "id": "dfe2da0c",
   "metadata": {
    "pycharm": {
     "name": "#%% md\n"
    }
   },
   "source": [
    "Get the model predictions for the test data set:"
   ]
  },
  {
   "cell_type": "code",
   "execution_count": 28,
   "id": "c97ec53b",
   "metadata": {
    "collapsed": false,
    "execution": {
     "iopub.execute_input": "2022-09-10T10:51:27.164230Z",
     "iopub.status.busy": "2022-09-10T10:51:27.163875Z",
     "iopub.status.idle": "2022-09-10T10:51:34.773883Z",
     "shell.execute_reply": "2022-09-10T10:51:34.772990Z",
     "shell.execute_reply.started": "2022-09-10T10:51:27.164205Z"
    },
    "jupyter": {
     "outputs_hidden": false
    },
    "pycharm": {
     "is_executing": true,
     "name": "#%%\n"
    }
   },
   "outputs": [],
   "source": [
    "test_targets = []\n",
    "test_outputs = []\n",
    "\n",
    "model.cpu() # run the model on CPU\n",
    "model.eval() # put model in evaluation mode so weights are not affected\n",
    "\n",
    "# run the model against the test data and gather the predictions\n",
    "for X_batch, y_batch in get_test_loader(test_df):\n",
    "    # X_batch, y_batch = X_batch.to(config['device']), y_batch.to(config['device'])\n",
    "\n",
    "    y_pred = model(X_batch)\n",
    "\n",
    "    test_targets.extend([t.item() for t in y_batch])\n",
    "    test_outputs.extend([t.item() for t in y_pred])"
   ]
  },
  {
   "cell_type": "code",
   "execution_count": 29,
   "id": "9f8cd202",
   "metadata": {
    "collapsed": false,
    "execution": {
     "iopub.execute_input": "2022-09-10T10:51:36.393904Z",
     "iopub.status.busy": "2022-09-10T10:51:36.393505Z",
     "iopub.status.idle": "2022-09-10T10:51:36.531070Z",
     "shell.execute_reply": "2022-09-10T10:51:36.530438Z",
     "shell.execute_reply.started": "2022-09-10T10:51:36.393877Z"
    },
    "jupyter": {
     "outputs_hidden": false
    },
    "pycharm": {
     "is_executing": true,
     "name": "#%%\n"
    }
   },
   "outputs": [
    {
     "data": {
      "image/png": "[encoded data removed]",
      "text/plain": [
       "<Figure size 432x288 with 1 Axes>"
      ]
     },
     "metadata": {
      "needs_background": "light"
     },
     "output_type": "display_data"
    }
   ],
   "source": [
    "'''\n",
    "Plot ROC curve, with a label for ROC AUC.\n",
    "'''\n",
    "def plot_roc_curve(targets, predictions):\n",
    "    fpr, tpr, thresholds = roc_curve(targets, predictions)\n",
    "    roc_auc = roc_auc_score(targets, predictions)\n",
    "    \n",
    "    plt.plot(fpr,tpr)\n",
    "\n",
    "    plt.plot(fpr, tpr, label=\"ROC AUC = \" + str(roc_auc))\n",
    "    plt.ylabel('True Positive Rate')\n",
    "    plt.xlabel('False Positive Rate')\n",
    "    plt.legend(loc=4)\n",
    "\n",
    "    plt.show()\n",
    "    \n",
    "    \n",
    "    \n",
    "plot_roc_curve(test_targets, test_outputs)"
   ]
  },
  {
   "cell_type": "code",
   "execution_count": 30,
   "id": "4f7ea884-249b-4da0-8edb-ba2a6b28417a",
   "metadata": {
    "execution": {
     "iopub.execute_input": "2022-09-10T10:51:42.342845Z",
     "iopub.status.busy": "2022-09-10T10:51:42.342444Z",
     "iopub.status.idle": "2022-09-10T10:51:42.354624Z",
     "shell.execute_reply": "2022-09-10T10:51:42.353084Z",
     "shell.execute_reply.started": "2022-09-10T10:51:42.342818Z"
    },
    "pycharm": {
     "name": "#%%\n"
    }
   },
   "outputs": [
    {
     "name": "stdout",
     "output_type": "stream",
     "text": [
      "Optimal threshold: -0.9994977116584778\n"
     ]
    }
   ],
   "source": [
    "'''\n",
    "Returns optimal threshold from ROC curve\n",
    "'''\n",
    "def get_optimal_threshold(targets, predictions):\n",
    "    fpr, tpr, thresholds = roc_curve(targets, predictions)\n",
    "    i = np.arange(len(tpr))\n",
    "    roc = pd.DataFrame({'tf' : pd.Series(tpr-(1-fpr), index=i), 'threshold' : pd.Series(thresholds, index=i)})\n",
    "    roc_t = roc.iloc[(roc.tf-0).abs().argsort()[:1]]\n",
    "    \n",
    "    return list(roc_t['threshold'])[0]\n",
    "\n",
    "\n",
    "\n",
    "optimal_threshold = get_optimal_threshold(test_targets, test_outputs)\n",
    "print('Optimal threshold:', optimal_threshold)"
   ]
  },
  {
   "cell_type": "markdown",
   "id": "a566ff50-9646-44d9-ab2d-10c23a7e98e6",
   "metadata": {
    "pycharm": {
     "name": "#%% md\n"
    }
   },
   "source": [
    "Use the optimal threshold to map the predictions into binary classifications:"
   ]
  },
  {
   "cell_type": "code",
   "execution_count": 31,
   "id": "9ae05a49-2781-434c-9820-909b14fdcec8",
   "metadata": {
    "execution": {
     "iopub.execute_input": "2022-09-10T10:51:46.227872Z",
     "iopub.status.busy": "2022-09-10T10:51:46.227531Z",
     "iopub.status.idle": "2022-09-10T10:51:46.233177Z",
     "shell.execute_reply": "2022-09-10T10:51:46.231730Z",
     "shell.execute_reply.started": "2022-09-10T10:51:46.227848Z"
    },
    "pycharm": {
     "name": "#%%\n"
    }
   },
   "outputs": [],
   "source": [
    "test_outputs_binary = [0 if x < optimal_threshold else 1.0 for x in test_outputs]"
   ]
  },
  {
   "cell_type": "markdown",
   "id": "6b45d6d3",
   "metadata": {
    "pycharm": {
     "name": "#%% md\n"
    }
   },
   "source": [
    "Create and display the test results dataframe for verification:"
   ]
  },
  {
   "cell_type": "code",
   "execution_count": 33,
   "id": "408ed0a9",
   "metadata": {
    "collapsed": false,
    "execution": {
     "iopub.execute_input": "2022-09-10T10:52:45.950501Z",
     "iopub.status.busy": "2022-09-10T10:52:45.949192Z",
     "iopub.status.idle": "2022-09-10T10:52:45.974745Z",
     "shell.execute_reply": "2022-09-10T10:52:45.973708Z",
     "shell.execute_reply.started": "2022-09-10T10:52:45.950457Z"
    },
    "jupyter": {
     "outputs_hidden": false
    },
    "pycharm": {
     "is_executing": true,
     "name": "#%%\n"
    }
   },
   "outputs": [
    {
     "data": {
      "text/html": [
       "<div>\n",
       "<style scoped>\n",
       "    .dataframe tbody tr th:only-of-type {\n",
       "        vertical-align: middle;\n",
       "    }\n",
       "\n",
       "    .dataframe tbody tr th {\n",
       "        vertical-align: top;\n",
       "    }\n",
       "\n",
       "    .dataframe thead th {\n",
       "        text-align: right;\n",
       "    }\n",
       "</style>\n",
       "<table border=\"1\" class=\"dataframe\">\n",
       "  <thead>\n",
       "    <tr style=\"text-align: right;\">\n",
       "      <th></th>\n",
       "      <th>label</th>\n",
       "      <th>prediction</th>\n",
       "    </tr>\n",
       "  </thead>\n",
       "  <tbody>\n",
       "    <tr>\n",
       "      <th>0</th>\n",
       "      <td>1.0</td>\n",
       "      <td>1.0</td>\n",
       "    </tr>\n",
       "    <tr>\n",
       "      <th>1</th>\n",
       "      <td>1.0</td>\n",
       "      <td>1.0</td>\n",
       "    </tr>\n",
       "    <tr>\n",
       "      <th>2</th>\n",
       "      <td>1.0</td>\n",
       "      <td>0.0</td>\n",
       "    </tr>\n",
       "    <tr>\n",
       "      <th>3</th>\n",
       "      <td>1.0</td>\n",
       "      <td>1.0</td>\n",
       "    </tr>\n",
       "    <tr>\n",
       "      <th>4</th>\n",
       "      <td>0.0</td>\n",
       "      <td>1.0</td>\n",
       "    </tr>\n",
       "    <tr>\n",
       "      <th>...</th>\n",
       "      <td>...</td>\n",
       "      <td>...</td>\n",
       "    </tr>\n",
       "    <tr>\n",
       "      <th>297</th>\n",
       "      <td>0.0</td>\n",
       "      <td>0.0</td>\n",
       "    </tr>\n",
       "    <tr>\n",
       "      <th>298</th>\n",
       "      <td>1.0</td>\n",
       "      <td>0.0</td>\n",
       "    </tr>\n",
       "    <tr>\n",
       "      <th>299</th>\n",
       "      <td>0.0</td>\n",
       "      <td>0.0</td>\n",
       "    </tr>\n",
       "    <tr>\n",
       "      <th>300</th>\n",
       "      <td>1.0</td>\n",
       "      <td>0.0</td>\n",
       "    </tr>\n",
       "    <tr>\n",
       "      <th>301</th>\n",
       "      <td>0.0</td>\n",
       "      <td>0.0</td>\n",
       "    </tr>\n",
       "  </tbody>\n",
       "</table>\n",
       "<p>302 rows × 2 columns</p>\n",
       "</div>"
      ],
      "text/plain": [
       "     label  prediction\n",
       "0      1.0         1.0\n",
       "1      1.0         1.0\n",
       "2      1.0         0.0\n",
       "3      1.0         1.0\n",
       "4      0.0         1.0\n",
       "..     ...         ...\n",
       "297    0.0         0.0\n",
       "298    1.0         0.0\n",
       "299    0.0         0.0\n",
       "300    1.0         0.0\n",
       "301    0.0         0.0\n",
       "\n",
       "[302 rows x 2 columns]"
      ]
     },
     "execution_count": 33,
     "metadata": {},
     "output_type": "execute_result"
    }
   ],
   "source": [
    "test_results_df = pd.DataFrame([test_targets, test_outputs_binary])\n",
    "\n",
    "test_results_df = test_results_df.transpose()\n",
    "test_results_df.columns = ['label', 'prediction']\n",
    "\n",
    "test_results_df"
   ]
  },
  {
   "cell_type": "markdown",
   "id": "da9d6e20",
   "metadata": {
    "pycharm": {
     "name": "#%% md\n"
    }
   },
   "source": [
    "Display a confusion matrix to give an overview of how the model classified the data:"
   ]
  },
  {
   "cell_type": "code",
   "execution_count": 34,
   "id": "f930eede",
   "metadata": {
    "collapsed": false,
    "execution": {
     "iopub.execute_input": "2022-09-10T10:53:09.500220Z",
     "iopub.status.busy": "2022-09-10T10:53:09.499444Z",
     "iopub.status.idle": "2022-09-10T10:53:09.525032Z",
     "shell.execute_reply": "2022-09-10T10:53:09.523946Z",
     "shell.execute_reply.started": "2022-09-10T10:53:09.500181Z"
    },
    "jupyter": {
     "outputs_hidden": false
    },
    "pycharm": {
     "is_executing": true,
     "name": "#%%\n"
    }
   },
   "outputs": [
    {
     "data": {
      "text/html": [
       "<div>\n",
       "<style scoped>\n",
       "    .dataframe tbody tr th:only-of-type {\n",
       "        vertical-align: middle;\n",
       "    }\n",
       "\n",
       "    .dataframe tbody tr th {\n",
       "        vertical-align: top;\n",
       "    }\n",
       "\n",
       "    .dataframe thead th {\n",
       "        text-align: right;\n",
       "    }\n",
       "</style>\n",
       "<table border=\"1\" class=\"dataframe\">\n",
       "  <thead>\n",
       "    <tr style=\"text-align: right;\">\n",
       "      <th>label</th>\n",
       "      <th>0.0</th>\n",
       "      <th>1.0</th>\n",
       "    </tr>\n",
       "    <tr>\n",
       "      <th>prediction</th>\n",
       "      <th></th>\n",
       "      <th></th>\n",
       "    </tr>\n",
       "  </thead>\n",
       "  <tbody>\n",
       "    <tr>\n",
       "      <th>0.0</th>\n",
       "      <td>74</td>\n",
       "      <td>73</td>\n",
       "    </tr>\n",
       "    <tr>\n",
       "      <th>1.0</th>\n",
       "      <td>62</td>\n",
       "      <td>93</td>\n",
       "    </tr>\n",
       "  </tbody>\n",
       "</table>\n",
       "</div>"
      ],
      "text/plain": [
       "label       0.0  1.0\n",
       "prediction          \n",
       "0.0          74   73\n",
       "1.0          62   93"
      ]
     },
     "execution_count": 34,
     "metadata": {},
     "output_type": "execute_result"
    }
   ],
   "source": [
    "pd.crosstab(test_results_df['prediction'], test_results_df['label'])"
   ]
  },
  {
   "cell_type": "markdown",
   "id": "370df90c",
   "metadata": {
    "pycharm": {
     "name": "#%% md\n"
    }
   },
   "source": [
    "Print classification metrics:"
   ]
  },
  {
   "cell_type": "code",
   "execution_count": 35,
   "id": "048a9b5e",
   "metadata": {
    "collapsed": false,
    "execution": {
     "iopub.execute_input": "2022-09-10T10:53:20.021040Z",
     "iopub.status.busy": "2022-09-10T10:53:20.020611Z",
     "iopub.status.idle": "2022-09-10T10:53:20.033833Z",
     "shell.execute_reply": "2022-09-10T10:53:20.032814Z",
     "shell.execute_reply.started": "2022-09-10T10:53:20.021012Z"
    },
    "jupyter": {
     "outputs_hidden": false
    },
    "pycharm": {
     "is_executing": true,
     "name": "#%%\n"
    }
   },
   "outputs": [
    {
     "name": "stdout",
     "output_type": "stream",
     "text": [
      "              precision    recall  f1-score   support\n",
      "\n",
      "         0.0       0.54      0.50      0.52       147\n",
      "         1.0       0.56      0.60      0.58       155\n",
      "\n",
      "    accuracy                           0.55       302\n",
      "   macro avg       0.55      0.55      0.55       302\n",
      "weighted avg       0.55      0.55      0.55       302\n",
      "\n"
     ]
    }
   ],
   "source": [
    "print(classification_report(test_results_df['prediction'], test_results_df['label']))"
   ]
  },
  {
   "cell_type": "markdown",
   "id": "56bf8806",
   "metadata": {
    "pycharm": {
     "name": "#%% md\n"
    }
   },
   "source": [
    "## Visualise Filters\n",
    "\n",
    "To help understand how the model works, the convolutional filters for the first layer are plotted."
   ]
  },
  {
   "cell_type": "code",
   "execution_count": 37,
   "id": "5f11bae7",
   "metadata": {
    "collapsed": false,
    "execution": {
     "iopub.execute_input": "2022-09-10T10:53:47.161706Z",
     "iopub.status.busy": "2022-09-10T10:53:47.160607Z",
     "iopub.status.idle": "2022-09-10T10:53:47.167225Z",
     "shell.execute_reply": "2022-09-10T10:53:47.166096Z",
     "shell.execute_reply.started": "2022-09-10T10:53:47.161661Z"
    },
    "jupyter": {
     "outputs_hidden": false
    },
    "pycharm": {
     "is_executing": true,
     "name": "#%%\n"
    }
   },
   "outputs": [],
   "source": [
    "'''\n",
    "Plots the filter for a convolutional kernel.\n",
    "'''\n",
    "def plot_filter(kernel):\n",
    "    # normalise between 0 and 1\n",
    "    normalised_kernel = kernel - kernel.min()\n",
    "    normalised_kernel = normalised_kernel / normalised_kernel.max()\n",
    "\n",
    "    # make a grid of images\n",
    "    filter = utils.make_grid(normalised_kernel, nrow = 12)\n",
    "\n",
    "    # matplotlib uses (height x width x channels) format\n",
    "    # pytorch uses (batch index x channel x height x width) format\n",
    "    plt.imshow(filter.permute(1, 2, 0))"
   ]
  },
  {
   "cell_type": "code",
   "execution_count": null,
   "id": "6bd90ea8",
   "metadata": {
    "collapsed": false,
    "execution": {
     "iopub.status.busy": "2022-09-10T10:32:06.402910Z",
     "iopub.status.idle": "2022-09-10T10:32:06.403203Z"
    },
    "jupyter": {
     "outputs_hidden": false
    },
    "pycharm": {
     "is_executing": true,
     "name": "#%%\n"
    }
   },
   "outputs": [],
   "source": [
    "# get the kernel for the first layer\n",
    "kernel = model.layer1[0].weight.detach().clone()\n",
    "\n",
    "# print its size and plot its filters\n",
    "print(kernel.size())\n",
    "plot_filter(kernel)"
   ]
  }
 ],
 "metadata": {
  "kernelspec": {
   "display_name": "Python 3 (ipykernel)",
   "language": "python",
   "name": "python3"
  },
  "language_info": {
   "codemirror_mode": {
    "name": "ipython",
    "version": 3
   },
   "file_extension": ".py",
   "mimetype": "text/x-python",
   "name": "python",
   "nbconvert_exporter": "python",
   "pygments_lexer": "ipython3",
   "version": "3.9.13"
  }
 },
 "nbformat": 4,
 "nbformat_minor": 5
}